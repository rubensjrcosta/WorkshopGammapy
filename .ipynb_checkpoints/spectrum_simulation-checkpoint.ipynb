{
 "cells": [
  {
   "cell_type": "markdown",
   "metadata": {},
   "source": [
    "[![gammapy](https://img.shields.io/badge/powered%20by-gammapy-orange.svg?style=flat)](https://gammapy.org/)\n",
    "\n",
<<<<<<< HEAD
    "# 1D spectrum simulation\n",
    "**Tutors:** Rubens Costa Jr and M Felipe Sousa.\n",
    "\n",
    "This hands-on tutorial gives an introduction of how to simulate a number of spectral on-off observations of a source with a exponential cutoff power law spectral model using the CTA 1DC response and fit them with the assumed spectral model.\n",
=======
    "# Gammapy Part I: Overview\n",
    "**Tutors:** Rubens Costa Jr and M Felipe Sousa.\n",
    "\n",
    "This hands-on tutorial gives an introduction of how to simulate a number of spectral on-off observations of a source with a power-law spectral model using the CTA 1DC response and fit them with the assumed spectral model.\n",
>>>>>>> 33063223db20f9cdd32518b84a0b9f8df0b48b89
    "\n",
    "\n",
    "## Preface\n",
    "We recommend to follow this tutorial by **executing the code cells on your local machine**, along with the tutor. The estimated time for this part of the tutorial is ~60 minutes.\n",
    "\n",
    "We're happy to receive any **feedback or questions** on the tutorial via mail to *rubensjrcosta@gmail.com* or *manoelfelipesousa@gmail.com*."
   ]
  },
  {
   "cell_type": "markdown",
   "metadata": {},
   "source": [
    "<a id='intro'></a>\n",
    "## Indice\n",
<<<<<<< HEAD
    "* [**1. 1D spectrum simulation**](#simu)\n",
    "\n",
    "* [**2. Setup**](#setup)\n",
    "\n",
    "* [**3. Source Information**](#step3)\n",
    "    \n",
    "* [**4. Observational parameters**](#step4)\n",
    "\n",
    "* [**5. Creates the Observation**](#step5)\n",
    "\n",
    "* [**6. Simulating the Spectrum**](#step6)\n",
    "    * Defines the geometry\n",
    "    * Set the Model on the Dataset\n",
    "    \n",
    "* [**7. On-Off analysis**](#step7)\n",
    "\n",
    "* [**8. Computing the Flux Points**](#step8)"
=======
    "* [**1. What is Gammapy?**](#gammapy)\n",
    "\n",
    "* [**2. Setup**](#setup)\n",
    "\n",
    "* [**3. Event lists**](#elists)\n",
    "  * We will learn how to handle event lists with Gammapy. Important for this are the following classes:\n",
    "    - `~gammapy.data.EventList`\n",
    "    - [astropy.table.Table](http://docs.astropy.org/en/stable/api/astropy.table.Table.html)\n",
    "    \n",
    "* [**4. Sky maps**](#smaps)\n",
    "  * We will learn how to handle image based data with gammapy using a Fermi-LAT 3FHL example image. We will work with the following classes:\n",
    "    - `~gammapy.maps.WcsNDMap`\n",
    "    - [astropy.coordinates.SkyCoord](http://astropy.readthedocs.io/en/latest/coordinates/index.html)\n",
    "    - [numpy.ndarray](https://docs.scipy.org/doc/numpy/reference/generated/numpy.ndarray.html)\n",
    "\n",
    "* [**5. Source catalogs**](#scatalogs)\n",
    "  * We will show how to load source catalogs with Gammapy and explore the data using the following classes:\n",
    "    - `~gammapy.catalog.SourceCatalog`, specifically `~gammapy.catalog.SourceCatalog3FHL`\n",
    "    - [astropy.table.Table](http://docs.astropy.org/en/stable/api/astropy.table.Table.html)\n",
    "\n",
    "\n"
>>>>>>> 33063223db20f9cdd32518b84a0b9f8df0b48b89
   ]
  },
  {
   "cell_type": "code",
   "execution_count": null,
   "metadata": {},
   "outputs": [],
   "source": [
    "%matplotlib inline"
   ]
  },
  {
   "cell_type": "markdown",
   "metadata": {},
   "source": [
<<<<<<< HEAD
    "<a id='simu'></a>\n",
    "🔝 [Back to Top](#intro)<br>\n",
    "## 1.  1D spectrum simulation\n",
    "\n",
    "Simulate a number of spectral on-off observations of a source with a exponential cutoff power law spectral model using the CTA 1DC response and fit them with the assumed spectral model.\n",
=======
    "\n",
    "# 1D spectrum simulation\n",
    "\n",
    "Simulate a number of spectral on-off observations of a source with a power-law spectral\n",
    "model using the CTA 1DC response and fit them with the assumed spectral model.\n",
>>>>>>> 33063223db20f9cdd32518b84a0b9f8df0b48b89
    "\n",
    "## Prerequisites\n",
    "\n",
    "-  Knowledge of spectral extraction and datasets used in gammapy, see\n",
    "   for instance the :doc:`spectral analysis\n",
    "   tutorial </tutorials/analysis-1d/spectral_analysis>`\n",
    "\n",
    "## Context\n",
    "\n",
    "To simulate a specific observation, it is not always necessary to\n",
    "simulate the full photon list. For many uses cases, simulating directly\n",
    "a reduced binned dataset is enough: the IRFs reduced in the correct\n",
    "geometry are combined with a source model to predict an actual number of\n",
    "counts per bin. The latter is then used to simulate a reduced dataset\n",
    "using Poisson probability distribution.\n",
    "\n",
    "This can be done to check the feasibility of a measurement, to test\n",
    "whether fitted parameters really provide a good fit to the data etc.\n",
    "\n",
    "Here we will see how to perform a 1D spectral simulation of a CTA\n",
    "observation, in particular, we will generate OFF observations following\n",
    "the template background stored in the CTA IRFs.\n",
    "\n",
    "**Objective: simulate a number of spectral ON-OFF observations of a\n",
    "source with a power-law spectral model with CTA using the CTA 1DC\n",
    "response, fit them with the assumed spectral model and check that the\n",
    "distribution of fitted parameters is consistent with the input values.**\n",
    "\n",
    "## Proposed approach\n",
    "\n",
    "We will use the following classes and functions:\n",
    "\n",
    "-  `~gammapy.datasets.SpectrumDatasetOnOff`\n",
    "-  `~gammapy.datasets.SpectrumDataset`\n",
    "-  `~gammapy.irf.load_irf_dict_from_file`\n",
<<<<<<< HEAD
    "-  `~gammapy.modeling.models.ExpCutoffPowerLawSpectralModel`"
=======
    "-  `~gammapy.modeling.models.PowerLawSpectralModel`\n"
>>>>>>> 33063223db20f9cdd32518b84a0b9f8df0b48b89
   ]
  },
  {
   "cell_type": "code",
   "execution_count": null,
   "metadata": {},
   "outputs": [],
<<<<<<< HEAD
   "source": []
=======
   "source": [
    "import numpy as np\n",
    "import astropy.units as u\n",
    "from astropy.coordinates import Angle, SkyCoord\n",
    "from regions import CircleSkyRegion\n",
    "\n",
    "# %matplotlib inline\n",
    "import matplotlib.pyplot as plt"
   ]
>>>>>>> 33063223db20f9cdd32518b84a0b9f8df0b48b89
  },
  {
   "cell_type": "markdown",
   "metadata": {},
   "source": [
<<<<<<< HEAD
    "<a id='setup'></a>\n",
    "🔝 [Back to Top](#intro)<br>\n",
    "## 2. Setup"
=======
    "## Setup\n",
    "\n",
    "\n"
>>>>>>> 33063223db20f9cdd32518b84a0b9f8df0b48b89
   ]
  },
  {
   "cell_type": "code",
   "execution_count": null,
   "metadata": {},
   "outputs": [],
   "source": [
<<<<<<< HEAD
    "!pip install gammapy"
=======
    "from IPython.display import display\n",
    "from gammapy.data import FixedPointingInfo, Observation, observatory_locations\n",
    "from gammapy.datasets import Datasets, SpectrumDataset, SpectrumDatasetOnOff\n",
    "from gammapy.irf import load_irf_dict_from_file\n",
    "from gammapy.makers import SpectrumDatasetMaker\n",
    "from gammapy.maps import MapAxis, RegionGeom\n",
    "from gammapy.modeling import Fit\n",
    "from gammapy.modeling.models import PowerLawSpectralModel, SkyModel"
   ]
  },
  {
   "cell_type": "markdown",
   "metadata": {},
   "source": [
    "## Check setup\n",
    "\n"
>>>>>>> 33063223db20f9cdd32518b84a0b9f8df0b48b89
   ]
  },
  {
   "cell_type": "code",
   "execution_count": null,
   "metadata": {},
   "outputs": [],
   "source": [
    "from gammapy.utils.check import check_tutorials_setup\n",
    "\n",
    "check_tutorials_setup()"
   ]
  },
  {
   "cell_type": "markdown",
   "metadata": {},
   "source": [
<<<<<<< HEAD
    "**Important**: to run this tutorial the environment variable `GAMMAPY_DATA` must be defined and point to the directory on your machine where the datasets needed are placed. To check whether your setup is correct you can execute the following cell:"
   ]
  },
  {
   "cell_type": "code",
   "execution_count": null,
   "metadata": {},
   "outputs": [],
   "source": [
    "import os # Miscellaneous operating system interfaces\n",
    "os.environ['GAMMAPY_DATA'] = os.path.join(os.getcwd(), '/content/gammapy-data/1.2')"
   ]
  },
  {
   "cell_type": "code",
   "execution_count": null,
   "metadata": {},
   "outputs": [],
   "source": [
    "try:\n",
    "    from gammapy.data import DataStore\n",
    "    DataStore.from_dir(\"$GAMMAPY_DATA/hess-dl3-dr1\")\n",
    "    print(\"Check setup: OK\")\n",
    "except: print(\"Error\")"
   ]
  },
  {
   "cell_type": "markdown",
   "metadata": {},
   "source": [
    "Tell us about any errors you come across!"
   ]
  },
  {
   "cell_type": "markdown",
   "metadata": {},
   "source": [
    "Now we can continue with the usual IPython notebooks and Python imports:"
   ]
  },
  {
   "cell_type": "code",
   "execution_count": null,
   "metadata": {},
   "outputs": [],
   "source": [
    "# Display figures directly inline\n",
    "%matplotlib inline\n",
    "\n",
    "import matplotlib.pyplot as plt # A collection of command style functions\n",
    "from IPython.display import display"
   ]
  },
  {
   "cell_type": "code",
   "execution_count": null,
   "metadata": {},
   "outputs": [],
   "source": [
    "import numpy as np\n",
    "import astropy.units as u\n",
    "from astropy.coordinates import Angle, SkyCoord\n",
    "from regions import CircleSkyRegion"
   ]
  },
  {
   "cell_type": "code",
   "execution_count": null,
   "metadata": {},
   "outputs": [],
   "source": [
    "from IPython.display import display\n",
    "\n",
    "from astropy.table import Table\n",
    "\n",
    "from gammapy.data import FixedPointingInfo, Observation, observatory_locations\n",
    "from gammapy.datasets import Datasets, SpectrumDataset, SpectrumDatasetOnOff\n",
    "from gammapy.irf import load_irf_dict_from_file\n",
    "from gammapy.makers import SpectrumDatasetMaker\n",
    "from gammapy.maps import MapAxis, RegionGeom\n",
    "from gammapy.modeling import Fit\n",
    "from gammapy.modeling.models import PowerLawSpectralModel, SkyModel, ExpCutoffPowerLawSpectralModel\n",
    "from gammapy.data import Observation, observatory_locations, FixedPointingInfo, PointingMode\n",
    "\n",
    "\n",
    "from gammapy.estimators import FluxPointsEstimator\n",
    "from gammapy.estimators import FluxPoints\n",
    "from gammapy.datasets import FluxPointsDataset"
   ]
  },
  {
   "cell_type": "code",
   "execution_count": null,
   "metadata": {},
   "outputs": [],
   "source": []
  },
  {
   "cell_type": "markdown",
   "metadata": {},
   "source": [
    "<a id='step3'></a>\n",
    "🔝 [Back to Top](#intro)<br>\n",
    "## Step 3: Source Information"
   ]
  },
  {
   "cell_type": "code",
   "execution_count": null,
   "metadata": {},
   "outputs": [],
   "source": [
    "source_pos = SkyCoord(0, 0, unit=\"deg\", frame=\"galactic\").icrs # Target position\n",
    "print(source_pos)"
   ]
  },
  {
   "cell_type": "code",
   "execution_count": null,
   "metadata": {},
   "outputs": [],
   "source": [
    "model_simu = ExpCutoffPowerLawSpectralModel(\n",
    "    amplitude=1e-12 * u.Unit(\"cm-2 s-1 TeV-1\"),\n",
    "    index=2,\n",
    "    lambda_=0.1 * u.Unit(\"TeV-1\"),\n",
    "    reference=1 * u.TeV,\n",
    ")\n",
    "\n",
    "print(model_simu)\n",
    "# we set the sky model used in the dataset\n",
    "model = SkyModel(spectral_model=model_simu, name=\"source\")"
   ]
  },
  {
   "cell_type": "code",
   "execution_count": null,
   "metadata": {},
   "outputs": [],
   "source": []
  },
  {
   "cell_type": "markdown",
   "metadata": {},
   "source": [
    "<a id='step4'></a>\n",
    "🔝 [Back to Top](#intro)<br>\n",
    "## Step 4: Observational parameters\n",
=======
    "## Simulation of a single spectrum\n",
>>>>>>> 33063223db20f9cdd32518b84a0b9f8df0b48b89
    "\n",
    "To do a simulation, we need to define the observational parameters like\n",
    "the livetime, the offset, the assumed integration radius, the energy\n",
    "range to perform the simulation for and the choice of spectral model. We\n",
    "then use an in-memory observation which is convolved with the IRFs to\n",
    "get the predicted number of counts. This is Poisson fluctuated using\n",
    "the `fake()` to get the simulated counts for each observation.\n",
    "\n",
    "\n"
   ]
  },
  {
   "cell_type": "code",
   "execution_count": null,
<<<<<<< HEAD
   "metadata": {
    "scrolled": true
   },
   "outputs": [],
   "source": [
    "livetime = 1 * u.h # Time of the simulated observation"
   ]
  },
  {
   "cell_type": "code",
   "execution_count": null,
   "metadata": {},
   "outputs": [],
   "source": [
    "offset = 1.0 * u.deg  # Pointing position offset"
   ]
  },
  {
   "cell_type": "code",
   "execution_count": null,
   "metadata": {},
   "outputs": [],
   "source": [
    "e_edges_min = 0.1 * u.TeV  # Minimum energy\n",
    "e_edges_max = 100. * u.TeV # Maximum energy"
   ]
  },
  {
   "cell_type": "code",
   "execution_count": null,
   "metadata": {},
   "outputs": [],
   "source": []
  },
  {
   "cell_type": "markdown",
   "metadata": {},
   "source": [
    "<a id='step5'></a>\n",
    "🔝 [Back to Top](#intro)<br>\n",
    "## Step 5:  Creates the Observation"
   ]
  },
  {
   "cell_type": "markdown",
   "metadata": {},
   "source": [
    "In this simulation, we use the CTA-1DC IRFs shipped with Gammapy."
   ]
  },
  {
   "cell_type": "code",
   "execution_count": null,
   "metadata": {},
   "outputs": [],
   "source": [
    "# Load the IRFs\n",
    "irfs = load_irf_dict_from_file(\n",
    "    \"$GAMMAPY_DATA/cta-1dc/caldb/data/cta/1dc/bcf/South_z20_50h/irf_file.fits\"\n",
    ")"
   ]
  },
  {
   "cell_type": "markdown",
   "metadata": {},
   "source": [
    "See: [CTAO Instrument Response Functions](https://zenodo.org/records/5499840).  This data repository provides access to performance evaluation and instrument response functions (IRFs) for CTA."
   ]
  },
  {
   "cell_type": "code",
   "execution_count": null,
   "metadata": {},
   "outputs": [],
   "source": [
    "# Defines the pointing position\n",
    "pointing_position = source_pos.directional_offset_by(position_angle=90*u.deg, separation=offset)\n",
    "print(pointing_position)"
   ]
  },
  {
   "cell_type": "code",
   "execution_count": null,
   "metadata": {},
   "outputs": [],
   "source": [
    "# We want to simulate an observation pointing at a fixed position in the sky.\n",
    "# For this, we use the `FixedPointingInfo` class\n",
    "pointing = FixedPointingInfo(\n",
    "    mode=PointingMode.POINTING,\n",
    "    fixed_icrs=pointing_position,\n",
    ")\n",
    "print(pointing)"
   ]
  },
  {
   "cell_type": "code",
   "execution_count": null,
   "metadata": {},
   "outputs": [],
   "source": [
    "location = observatory_locations[\"cta_south\"]"
=======
   "metadata": {},
   "outputs": [],
   "source": [
    "# Define simulation parameters parameters\n",
    "livetime = 1 * u.h\n",
    "\n",
    "pointing_position = SkyCoord(0, 0, unit=\"deg\", frame=\"galactic\")\n",
    "# We want to simulate an observation pointing at a fixed position in the sky.\n",
    "# For this, we use the `FixedPointingInfo` class\n",
    "pointing = FixedPointingInfo(\n",
    "    fixed_icrs=pointing_position.icrs,\n",
    ")\n",
    "offset = 0.5 * u.deg\n",
    "\n",
    "# Reconstructed and true energy axis\n",
    "energy_axis = MapAxis.from_edges(\n",
    "    np.logspace(-0.5, 1.0, 10), unit=\"TeV\", name=\"energy\", interp=\"log\"\n",
    ")\n",
    "energy_axis_true = MapAxis.from_edges(\n",
    "    np.logspace(-1.2, 2.0, 31), unit=\"TeV\", name=\"energy_true\", interp=\"log\"\n",
    ")\n",
    "\n",
    "on_region_radius = Angle(\"0.11 deg\")\n",
    "\n",
    "center = pointing_position.directional_offset_by(\n",
    "    position_angle=0 * u.deg, separation=offset\n",
    ")\n",
    "on_region = CircleSkyRegion(center=center, radius=on_region_radius)\n",
    "\n",
    "# Define spectral model - a simple Power Law in this case\n",
    "model_simu = PowerLawSpectralModel(\n",
    "    index=3.0,\n",
    "    amplitude=2.5e-12 * u.Unit(\"cm-2 s-1 TeV-1\"),\n",
    "    reference=1 * u.TeV,\n",
    ")\n",
    "print(model_simu)\n",
    "# we set the sky model used in the dataset\n",
    "model = SkyModel(spectral_model=model_simu, name=\"source\")"
   ]
  },
  {
   "cell_type": "markdown",
   "metadata": {},
   "source": [
    "Load the IRFs\n",
    "In this simulation, we use the CTA-1DC IRFs shipped with Gammapy.\n",
    "\n"
>>>>>>> 33063223db20f9cdd32518b84a0b9f8df0b48b89
   ]
  },
  {
   "cell_type": "code",
   "execution_count": null,
   "metadata": {},
   "outputs": [],
   "source": [
<<<<<<< HEAD
=======
    "irfs = load_irf_dict_from_file(\n",
    "    \"$GAMMAPY_DATA/cta-1dc/caldb/data/cta/1dc/bcf/South_z20_50h/irf_file.fits\"\n",
    ")\n",
    "\n",
    "location = observatory_locations[\"cta_south\"]\n",
>>>>>>> 33063223db20f9cdd32518b84a0b9f8df0b48b89
    "obs = Observation.create(\n",
    "    pointing=pointing,\n",
    "    livetime=livetime,\n",
    "    irfs=irfs,\n",
    "    location=location,\n",
    ")\n",
    "print(obs)"
   ]
  },
  {
<<<<<<< HEAD
   "cell_type": "code",
   "execution_count": null,
   "metadata": {},
   "outputs": [],
   "source": []
  },
  {
   "cell_type": "markdown",
   "metadata": {},
   "source": [
    "<a id='step6'></a>\n",
    "🔝 [Back to Top](#intro)<br>\n",
    "## Step 6: Simulating the Spectrum\n",
    "### Defines the geometry"
   ]
  },
  {
   "cell_type": "code",
   "execution_count": null,
   "metadata": {},
   "outputs": [],
   "source": [
    "# Reconstructed energy axis\n",
    "energy_axis = MapAxis.from_energy_bounds(\n",
    "    e_edges_min, \n",
    "    e_edges_max, \n",
    "    nbin=5, \n",
    "    per_decade=True, \n",
    "    name=\"energy\"\n",
    ")\n",
    "print(energy_axis)"
   ]
  },
  {
   "cell_type": "code",
   "execution_count": null,
   "metadata": {},
   "outputs": [],
   "source": [
    "on_region_radius = Angle(\"0.11 deg\") # radius of the ON region\n",
    "center = source_pos # observation center"
   ]
  },
  {
   "cell_type": "code",
   "execution_count": null,
   "metadata": {},
   "outputs": [],
   "source": [
    "on_region = CircleSkyRegion(center=center, radius=on_region_radius)\n",
    "print(on_region)"
   ]
  },
  {
   "cell_type": "code",
   "execution_count": null,
   "metadata": {},
   "outputs": [],
   "source": [
    "geom = RegionGeom.create(region=on_region, axes=[energy_axis])\n",
    "print(geom)"
   ]
  },
  {
   "cell_type": "code",
   "execution_count": null,
   "metadata": {},
   "outputs": [],
   "source": []
  },
  {
   "cell_type": "markdown",
   "metadata": {},
   "source": [
    "🔝 [Back to Top](#intro)<br>\n",
    "\n",
    "### Set the Model on the Dataset"
=======
   "cell_type": "markdown",
   "metadata": {},
   "source": [
    "Simulate a spectra\n",
    "\n",
    "\n"
>>>>>>> 33063223db20f9cdd32518b84a0b9f8df0b48b89
   ]
  },
  {
   "cell_type": "code",
   "execution_count": null,
   "metadata": {},
   "outputs": [],
   "source": [
<<<<<<< HEAD
    "# Defines the true energy axis:\n",
    "# true energy axis should be wider than reco energy axis\n",
    "energy_axis_true = MapAxis.from_energy_bounds(\n",
    "    0.3*e_edges_min, \n",
    "    3*e_edges_max, \n",
    "    nbin=8, \n",
    "    per_decade=True, \n",
    "    name=\"energy_true\"\n",
    ")\n",
    "print(energy_axis_true)"
   ]
  },
  {
   "cell_type": "code",
   "execution_count": null,
   "metadata": {},
   "outputs": [],
   "source": [
    "# Creates a SpectrumDataset object with zero filled maps.\n",
    "dataset_empty = SpectrumDataset.create(\n",
    "    geom=geom, energy_axis_true=energy_axis_true, name=\"obs-0\"\n",
    ")"
   ]
  },
  {
   "cell_type": "code",
   "execution_count": null,
   "metadata": {},
   "outputs": [],
   "source": [
    "print(dataset_empty)"
   ]
  },
  {
   "cell_type": "code",
   "execution_count": null,
   "metadata": {},
   "outputs": [],
   "source": [
    "# Make spectrum for a single IACT observation:\n",
    "maker = SpectrumDatasetMaker(selection=[\"exposure\", \"edisp\", \"background\"]) # Selecting which maps to make\n",
    "\n",
    "dataset = maker.run(dataset_empty, obs) "
   ]
  },
  {
   "cell_type": "code",
   "execution_count": null,
   "metadata": {},
   "outputs": [],
   "source": [
    "# Set the model on the dataset, and fake\n",
    "dataset.models = model\n",
    "dataset.fake(random_state=42)\n",
    "print(dataset) # Make safe data range mask for a given observation"
=======
    "# Make the SpectrumDataset\n",
    "geom = RegionGeom.create(region=on_region, axes=[energy_axis])\n",
    "\n",
    "dataset_empty = SpectrumDataset.create(\n",
    "    geom=geom, energy_axis_true=energy_axis_true, name=\"obs-0\"\n",
    ")\n",
    "maker = SpectrumDatasetMaker(selection=[\"exposure\", \"edisp\", \"background\"])\n",
    "\n",
    "dataset = maker.run(dataset_empty, obs)\n",
    "\n",
    "# Set the model on the dataset, and fake\n",
    "dataset.models = model\n",
    "dataset.fake(random_state=42)\n",
    "print(dataset)"
>>>>>>> 33063223db20f9cdd32518b84a0b9f8df0b48b89
   ]
  },
  {
   "cell_type": "markdown",
   "metadata": {},
   "source": [
<<<<<<< HEAD
    "You can see that background counts are now simulated."
=======
    "You can see that background counts are now simulated\n",
    "\n",
    "\n"
>>>>>>> 33063223db20f9cdd32518b84a0b9f8df0b48b89
   ]
  },
  {
   "cell_type": "markdown",
   "metadata": {},
   "source": [
<<<<<<< HEAD
    "<a id='step7'></a>\n",
    "🔝 [Back to Top](#intro)<br>\n",
    "## Step 7: On-Off analysis\n",
=======
    "### On-Off analysis\n",
>>>>>>> 33063223db20f9cdd32518b84a0b9f8df0b48b89
    "\n",
    "To do an on off spectral analysis, which is the usual science case, the\n",
    "standard would be to use `SpectrumDatasetOnOff`, which uses the\n",
    "acceptance to fake off-counts. Please also refer to the `Dataset simulations`\n",
    "section in the :doc:`/tutorials/analysis-1d/spectral_analysis_rad_max` tutorial,\n",
    "dealing with simulations based on observations of real off counts.\n",
    "\n",
    "\n"
   ]
  },
  {
   "cell_type": "code",
   "execution_count": null,
   "metadata": {},
   "outputs": [],
   "source": [
    "dataset_on_off = SpectrumDatasetOnOff.from_spectrum_dataset(\n",
    "    dataset=dataset, acceptance=1, acceptance_off=5\n",
    ")\n",
<<<<<<< HEAD
    "dataset_on_off.fake(npred_background=dataset.npred_background())"
   ]
  },
  {
   "cell_type": "code",
   "execution_count": null,
   "metadata": {},
   "outputs": [],
   "source": [
=======
    "dataset_on_off.fake(npred_background=dataset.npred_background())\n",
>>>>>>> 33063223db20f9cdd32518b84a0b9f8df0b48b89
    "print(dataset_on_off)"
   ]
  },
  {
   "cell_type": "markdown",
   "metadata": {},
   "source": [
    "You can see that off counts are now simulated as well. We now simulate\n",
    "several spectra using the same set of observation conditions.\n",
    "\n",
    "\n"
   ]
  },
  {
   "cell_type": "code",
   "execution_count": null,
   "metadata": {},
   "outputs": [],
   "source": [
<<<<<<< HEAD
    "n_obs = 30\n",
=======
    "n_obs = 100\n",
>>>>>>> 33063223db20f9cdd32518b84a0b9f8df0b48b89
    "datasets = Datasets()\n",
    "\n",
    "for idx in range(n_obs):\n",
    "    dataset_on_off.fake(random_state=idx, npred_background=dataset.npred_background())\n",
    "    dataset_fake = dataset_on_off.copy(name=f\"obs-{idx}\")\n",
    "    dataset_fake.meta_table[\"OBS_ID\"] = [idx]\n",
    "    datasets.append(dataset_fake)\n",
    "\n",
    "table = datasets.info_table()\n",
    "display(table)"
   ]
  },
  {
   "cell_type": "markdown",
   "metadata": {},
   "source": [
    "Before moving on to the fit let’s have a look at the simulated\n",
    "observations.\n",
    "\n",
    "\n"
   ]
  },
  {
   "cell_type": "code",
   "execution_count": null,
   "metadata": {},
   "outputs": [],
   "source": [
    "fix, axes = plt.subplots(1, 3, figsize=(12, 4))\n",
    "axes[0].hist(table[\"counts\"])\n",
    "axes[0].set_xlabel(\"Counts\")\n",
    "axes[1].hist(table[\"counts_off\"])\n",
    "axes[1].set_xlabel(\"Counts Off\")\n",
    "axes[2].hist(table[\"excess\"])\n",
    "axes[2].set_xlabel(\"excess\")\n",
    "plt.show()"
   ]
  },
  {
   "cell_type": "markdown",
   "metadata": {},
   "source": [
    "Now, we fit each simulated spectrum individually\n",
    "\n",
    "\n"
   ]
  },
  {
   "cell_type": "code",
   "execution_count": null,
   "metadata": {},
   "outputs": [],
   "source": [
<<<<<<< HEAD
    "%%time\n",
    "\n",
=======
>>>>>>> 33063223db20f9cdd32518b84a0b9f8df0b48b89
    "results = []\n",
    "\n",
    "fit = Fit()\n",
    "\n",
    "for dataset in datasets:\n",
    "    dataset.models = model.copy()\n",
    "    result = fit.optimize(dataset)\n",
<<<<<<< HEAD
    "    \n",
    "    if result.success:\n",
    "        par_dict = {}\n",
    "        for par in result.parameters.free_parameters:\n",
    "            par_dict[par.name] = par.quantity\n",
    "        results.append(par_dict)"
=======
    "    results.append(\n",
    "        {\n",
    "            \"index\": result.parameters[\"index\"].value,\n",
    "            \"amplitude\": result.parameters[\"amplitude\"].value,\n",
    "        }\n",
    "    )"
>>>>>>> 33063223db20f9cdd32518b84a0b9f8df0b48b89
   ]
  },
  {
   "cell_type": "markdown",
   "metadata": {},
   "source": [
    "We take a look at the distribution of the fitted indices. This matches\n",
    "very well with the spectrum that we initially injected.\n",
    "\n",
    "\n"
   ]
  },
  {
   "cell_type": "code",
   "execution_count": null,
   "metadata": {},
   "outputs": [],
   "source": [
    "fig, ax = plt.subplots()\n",
    "index = np.array([_[\"index\"] for _ in results])\n",
    "ax.hist(index, bins=10, alpha=0.5)\n",
    "ax.axvline(x=model_simu.parameters[\"index\"].value, color=\"red\")\n",
    "ax.set_xlabel(\"Reconstructed spectral index\")\n",
    "print(f\"index: {index.mean()} += {index.std()}\")\n",
    "plt.show()"
   ]
  },
  {
<<<<<<< HEAD
   "cell_type": "code",
   "execution_count": null,
   "metadata": {},
   "outputs": [],
   "source": [
    "# fig, ax = plt.subplots()\n",
    "# lambda_ = np.array([_[\"lambda_\"] for _ in results])\n",
    "# ax.hist(index, bins=10, alpha=0.5)\n",
    "# ax.axvline(x=model_simu.parameters[\"lambda_\"].value, color=\"red\")\n",
    "# ax.set_xlabel(\"Reconstructed lambda parameter\")\n",
    "# print(f\"lambda_: {lambda_.mean()} += {lambda_.std()}\")\n",
    "# plt.show()"
   ]
  },
  {
   "cell_type": "code",
   "execution_count": null,
   "metadata": {},
   "outputs": [],
   "source": [
    "fitted_params = Table(results).to_pandas()"
   ]
  },
  {
   "cell_type": "code",
   "execution_count": null,
   "metadata": {},
   "outputs": [],
   "source": [
    "mean = fitted_params.mean()\n",
    "uncertainty = fitted_params.std()"
   ]
  },
  {
   "cell_type": "code",
   "execution_count": null,
   "metadata": {},
   "outputs": [],
   "source": [
    "for name in ['amplitude', 'index', 'lambda_']:\n",
    "    print(f\"{name} :\\t {mean[name]:.2e} -+ {uncertainty[name]:.2e}\")"
   ]
  },
  {
   "cell_type": "code",
   "execution_count": null,
   "metadata": {},
   "outputs": [],
   "source": [
    "import corner\n",
    "\n",
    "fitted_params['amplitude'] *= 1e11\n",
    "\n",
    "figure = corner.corner(fitted_params,quantiles=[0.16, 0.5, 0.84],\n",
    "              show_titles=True, title_kwargs={\"fontsize\": 12})"
   ]
  },
  {
   "cell_type": "code",
   "execution_count": null,
   "metadata": {},
   "outputs": [],
   "source": []
  },
  {
   "cell_type": "markdown",
   "metadata": {},
   "source": [
    "<a id='step8'></a>\n",
    "🔝 [Back to Top](#intro)<br>\n",
    "## Step 8: Computing the Flux Points\n",
    "We can now compute some flux points using the `~gammapy.estimators.FluxPointsEstimator`.\n",
    "\n",
    "Besides the list of datasets to use, we must provide it the energy intervals on which to compute flux points as well as the model component name."
   ]
  },
  {
   "cell_type": "code",
   "execution_count": null,
   "metadata": {},
   "outputs": [],
   "source": [
    "#Compute flux points\n",
    "datasets.models = [model]\n",
    "\n",
    "# fit_joint = Fit(backend='sherpa')\n",
    "fit_joint = Fit()\n",
    "result_joint = fit_joint.run(datasets=datasets)\n",
    "print(result_joint)"
   ]
  },
  {
   "cell_type": "code",
   "execution_count": null,
   "metadata": {},
   "outputs": [],
   "source": [
    "energy_edges = MapAxis.from_energy_bounds(\n",
    "    e_edges_min,\n",
    "    e_edges_max, \n",
    "    nbin=12).edges\n",
    "print(energy_edges)"
   ]
  },
  {
   "cell_type": "code",
   "execution_count": null,
   "metadata": {},
   "outputs": [],
   "source": [
    "print(energy_edges)"
   ]
  },
  {
   "cell_type": "code",
   "execution_count": null,
   "metadata": {},
   "outputs": [],
   "source": [
    "fpe = FluxPointsEstimator(\n",
    "    energy_edges=energy_edges, \n",
    "    source=model.name, \n",
    "    selection_optional=\"all\"\n",
    ")\n",
    "flux_points = fpe.run(datasets=datasets)"
   ]
  },
  {
   "cell_type": "code",
   "execution_count": null,
   "metadata": {},
   "outputs": [],
   "source": [
    "dataset = FluxPointsDataset(data=flux_points, models=model, name=model.name)"
   ]
  },
  {
   "cell_type": "code",
   "execution_count": null,
   "metadata": {},
   "outputs": [],
   "source": [
    "ax = plt.subplot()\n",
    "ax.yaxis.set_units(u.Unit(\"erg cm-2 s-1\"))\n",
    "\n",
    "kwargs = {\"ax\": ax, \"sed_type\": \"e2dnde\"}\n",
    "\n",
    "dataset.data.plot(label=dataset.name, **kwargs)\n",
    "energy_bounds = [4e-2, 2e2] * u.TeV\n",
    "model.spectral_model.plot(energy_bounds,label=\"model-simu\",**kwargs)\n",
    "\n",
    "ax.set_ylim(1e-15, 1e-9)\n",
    "ax.set_xlim(energy_bounds)\n",
    "ax.legend(fontsize=9, bbox_to_anchor=(1, 1))\n",
    "plt.show()"
   ]
  },
  {
   "cell_type": "code",
   "execution_count": null,
   "metadata": {},
   "outputs": [],
   "source": []
  },
  {
   "cell_type": "code",
   "execution_count": null,
   "metadata": {},
   "outputs": [],
   "source": []
  },
  {
   "cell_type": "code",
   "execution_count": null,
   "metadata": {},
   "outputs": [],
   "source": []
=======
   "cell_type": "markdown",
   "metadata": {},
   "source": [
    "## Exercises\n",
    "\n",
    "-  Change the observation time to something longer or shorter. Does the\n",
    "   observation and spectrum results change as you expected?\n",
    "-  Change the spectral model, e.g. add a cutoff at 5 TeV, or put a\n",
    "   steep-spectrum source with spectral index of 4.0\n",
    "-  Simulate spectra with the spectral model we just defined. How much\n",
    "   observation duration do you need to get back the injected parameters?\n",
    "\n",
    "\n"
   ]
>>>>>>> 33063223db20f9cdd32518b84a0b9f8df0b48b89
  }
 ],
 "metadata": {
  "kernelspec": {
   "display_name": "Python 3 (ipykernel)",
   "language": "python",
   "name": "python3"
  },
  "language_info": {
   "codemirror_mode": {
    "name": "ipython",
    "version": 3
   },
   "file_extension": ".py",
   "mimetype": "text/x-python",
   "name": "python",
   "nbconvert_exporter": "python",
   "pygments_lexer": "ipython3",
   "version": "3.9.18"
  }
 },
 "nbformat": 4,
 "nbformat_minor": 1
}
