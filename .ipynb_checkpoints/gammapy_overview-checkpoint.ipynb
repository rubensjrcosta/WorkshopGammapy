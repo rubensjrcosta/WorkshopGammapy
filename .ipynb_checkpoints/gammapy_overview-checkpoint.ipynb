{
 "cells": [
  {
   "cell_type": "markdown",
   "id": "ec35692b",
   "metadata": {
    "id": "ec35692b"
   },
   "source": [
    "[![gammapy](https://img.shields.io/badge/powered%20by-gammapy-orange.svg?style=flat)](https://gammapy.org/)\n",
    "\n",
    "# Gammapy Part I: Overview\n",
    "**Tutors:** Rubens Costa Jr and M Felipe Sousa.\n",
    "\n",
    "This hands-on tutorial gives an introduction and overview of [Gammapy](https://gammapy.org/).\n",
    "In the first part of the this tutorial we will learn about the basic data structures in Gammapy using [Third Fermi-LAT Catalog of High-Energy Sources (3FHL) catalog](http://fermi.gsfc.nasa.gov/ssc/data/access/lat/3FHL/), in the second part we will perform an analysis of the Galactic center using simulated CTA data.\n",
    "\n",
    "## Preface\n",
    "We recommend to follow this tutorial by **executing the code cells on your local machine**, along with the tutor. The estimated time for this part of the tutorial is ~60 minutes.\n",
    "\n",
    "We're happy to receive any **feedback or questions** on the tutorial via mail to *rubensjrcosta@gmail.com* or *manoelfelipesousa@gmail.com*.\n"
   ]
  },
  {
   "cell_type": "markdown",
   "id": "0ee3eea2",
   "metadata": {
    "id": "0ee3eea2"
   },
   "source": [
    "<a id='intro'></a>\n",
    "## Indice\n",
    "* [**1. What is Gammapy?**](#gammapy)\n",
    "\n",
    "* [**2. Setup**](#setup)\n",
    "\n",
    "* [**3. Event lists**](#elists)\n",
    "  * We will learn how to handle event lists with Gammapy. Important for this are the following classes:\n",
    "    - `~gammapy.data.EventList`\n",
    "    - [astropy.table.Table](http://docs.astropy.org/en/stable/api/astropy.table.Table.html)\n",
    "    \n",
    "* [**4. Sky maps**](#smaps)\n",
    "  * We will learn how to handle image based data with gammapy using a Fermi-LAT 3FHL example image. We will work with the following classes:\n",
    "    - `~gammapy.maps.WcsNDMap`\n",
    "    - [astropy.coordinates.SkyCoord](http://astropy.readthedocs.io/en/latest/coordinates/index.html)\n",
    "    - [numpy.ndarray](https://docs.scipy.org/doc/numpy/reference/generated/numpy.ndarray.html)\n",
    "\n",
    "* [**5. Source catalogs**](#scatalogs)\n",
    "  * We will show how to load source catalogs with Gammapy and explore the data using the following classes:\n",
    "    - `~gammapy.catalog.SourceCatalog`, specifically `~gammapy.catalog.SourceCatalog3FHL`\n",
    "    - [astropy.table.Table](http://docs.astropy.org/en/stable/api/astropy.table.Table.html)\n",
    "\n",
    "\n"
   ]
  },
  {
   "cell_type": "markdown",
   "id": "e4e470a2",
   "metadata": {
    "id": "e4e470a2"
   },
   "source": [
    "<a id='gammapy'></a>\n",
    "## 1. What is Gammapy?\n",
    "\n",
    "\n",
    "[![Gammapy](https://docs.gammapy.org/0.20.1/_images/gammapy_banner.png)](https://gammapy.org/)\n",
    "\n",
    "\n",
    "Gammapy is an open-source Python package for gamma-ray astronomy built on [Numpy](http://www.numpy.org/), [Scipy](http://www.scipy.org/) and [Astropy](http://www.astropy.org/). It is base library for the future Science Tools of the [Cherenkov Telescope Array](http://cta-observatory.org/) (CTA). It is already used for the analysis of [High Energy Stereoscopic System](https://www.mpi-hd.mpg.de/hfm/HESS/) (H.E.S.S.), [The Magic Telescopes](https://magic.mpp.mpg.de) (Magic), [Very Energetic Radiation Imaging Telescope Array System](https://veritas.sao.arizona.edu) (VERITAS),\n",
    "[High-Altitude Water Cherenkov Observatory](https://www.hawc-observatory.org) (HAWC)\n",
    "and [Fermi Gamma-ray Space Telescope](https://fermi.gsfc.nasa.gov) (Fermi-LAT) data.\n",
    "\n",
    "The **Gammapy package is structured into sub-packages**, check [documentation](https://docs.gammapy.org/0.18.2)."
   ]
  },
  {
   "cell_type": "markdown",
   "id": "aafb5772",
   "metadata": {
    "id": "aafb5772"
   },
   "source": [
    "___"
   ]
  },
  {
   "cell_type": "markdown",
   "id": "2851fa1a",
   "metadata": {
    "id": "2851fa1a"
   },
   "source": [
    "<a id='setup'></a>\n",
    "🔝 [Back to Top](#intro)<br>\n",
    "## 2. Setup"
   ]
  },
  {
   "cell_type": "code",
   "execution_count": 1,
   "id": "ucpwEmZHaebP",
   "metadata": {
    "id": "ucpwEmZHaebP"
   },
   "outputs": [],
   "source": [
    "# !pip install gammapy"
   ]
  },
  {
   "cell_type": "code",
   "execution_count": 2,
   "id": "-M_-dBigbAhc",
   "metadata": {
    "id": "-M_-dBigbAhc"
   },
   "outputs": [
    {
     "name": "stdout",
     "output_type": "stream",
     "text": [
      "\n",
      "System:\n",
      "\n",
      "\tpython_executable      : /home/born-again/anaconda3/envs/gammapy-1.1/bin/python \n",
      "\tpython_version         : 3.9.18     \n",
      "\tmachine                : x86_64     \n",
      "\tsystem                 : Linux      \n",
      "\n",
      "\n",
      "Gammapy package:\n",
      "\n",
      "\tversion                : 1.1        \n",
      "\tpath                   : /home/born-again/anaconda3/envs/gammapy-1.1/lib/python3.9/site-packages/gammapy \n",
      "\n",
      "\n",
      "Other packages:\n",
      "\n",
      "\tnumpy                  : 1.24.4     \n",
      "\tscipy                  : 1.10.1     \n",
      "\tastropy                : 5.3.4      \n",
      "\tregions                : 0.7        \n",
      "\tclick                  : 8.1.3      \n",
      "\tyaml                   : 6.0.1      \n",
      "\tIPython                : 8.7.0      \n",
      "\tjupyterlab             : 3.5.3      \n",
      "\tmatplotlib             : 3.7.3      \n",
      "\tpandas                 : 1.5.2      \n",
      "\thealpy                 : 1.16.6     \n",
      "\timinuit                : 2.21.3     \n",
      "\tsherpa                 : 4.15.1     \n",
      "\tnaima                  : 0.10.0     \n",
      "\temcee                  : 3.1.3      \n",
      "\tcorner                 : 2.2.1      \n",
      "\tray                    : not installed \n",
      "\n",
      "\n",
      "Gammapy environment variables:\n",
      "\n",
      "\tGAMMAPY_DATA           : /home/born-again/Documents/GitHub/gammapy-my_notebooks/gammapy-datasets/1.1 \n",
      "\n"
     ]
    }
   ],
   "source": [
    "from gammapy.utils.check import check_tutorials_setup\n",
    "\n",
    "check_tutorials_setup()"
   ]
  },
  {
   "cell_type": "markdown",
   "id": "4_rs2RcVa7oS",
   "metadata": {
    "id": "4_rs2RcVa7oS"
   },
   "source": [
    "**Important**: to run this tutorial the environment variable `GAMMAPY_DATA` must be defined and point to the directory on your machine where the datasets needed are placed. To check whether your setup is correct you can execute the following cell:"
   ]
  },
  {
   "cell_type": "code",
   "execution_count": 3,
   "id": "d5eadd25",
   "metadata": {
    "id": "d5eadd25"
   },
   "outputs": [],
   "source": [
    "# import os # Miscellaneous operating system interfaces\n",
    "# os.environ['GAMMAPY_DATA'] = os.path.join(os.getcwd(), '/content/gammapy-data/1.2')"
   ]
  },
  {
   "cell_type": "code",
   "execution_count": 4,
   "id": "7FfghA1TbrlX",
   "metadata": {
    "id": "7FfghA1TbrlX"
   },
   "outputs": [],
   "source": [
    "# try:\n",
    "#   from gammapy.data import DataStore\n",
    "#   DataStore.from_dir(\"$GAMMAPY_DATA/hess-dl3-dr1\")\n",
    "#   print(\"Check setup: OK\")\n",
    "# except: print(\"Error\")"
   ]
  },
  {
   "cell_type": "markdown",
   "id": "626a72ee",
   "metadata": {
    "id": "626a72ee"
   },
   "source": [
    "Tell us about any errors you come across!"
   ]
  },
  {
   "cell_type": "markdown",
   "id": "2855d156",
   "metadata": {
    "id": "2855d156"
   },
   "source": [
    "Now we can continue with the usual IPython notebooks and Python imports:"
   ]
  },
  {
   "cell_type": "code",
   "execution_count": 5,
   "id": "c7415f60",
   "metadata": {
    "id": "c7415f60"
   },
   "outputs": [],
   "source": [
    "# Display figures directly inline\n",
    "%matplotlib inline\n",
    "\n",
    "import matplotlib.pyplot as plt # A collection of command style functions"
   ]
  },
  {
   "cell_type": "code",
   "execution_count": 6,
   "id": "81c7bae7",
   "metadata": {
    "id": "81c7bae7"
   },
   "outputs": [],
   "source": [
    "# I'd like to ignore some deprecation warnings by matplotlib\n",
    "# This in general not advised, but for this specific notebook\n",
    "from matplotlib import MatplotlibDeprecationWarning # A class for issuing deprecation warnings\n",
    "\n",
    "import warnings # Warning control\n",
    "warnings.filterwarnings(\n",
    "    \"ignore\", category=MatplotlibDeprecationWarning\n",
    ")"
   ]
  },
  {
   "cell_type": "code",
   "execution_count": 7,
   "id": "c24c4b28",
   "metadata": {
    "id": "c24c4b28"
   },
   "outputs": [],
   "source": [
    "import astropy.units as u # Defines, converts between, and performs arithmetic with physical quantities (meters, seconds, Hz, etc) and logarithmic units (magnitude and decibel)\n",
    "from astropy.coordinates import SkyCoord # Representation, manipulation, and transformation between systems of celestial coordinates"
   ]
  },
  {
   "cell_type": "markdown",
   "id": "583f98d8",
   "metadata": {
    "id": "583f98d8"
   },
   "source": [
    "___"
   ]
  },
  {
   "cell_type": "markdown",
   "id": "c584062c",
   "metadata": {
    "id": "c584062c"
   },
   "source": [
    "<a id='elists'></a>\n",
    "🔝 [Back to Top](#intro)<br>\n",
    "## 3. Event lists\n",
    "\n",
    "Almost any high level gamma-ray data analysis starts with the raw measured counts data, which is stored in event lists. In Gammapy event lists are represented by the `~gammapy.data.EventList` class.\n",
    "\n",
    "In this section we will learn how to:\n",
    "\n",
    "* Read event lists from FITS files\n",
    "* Access and work with the `EventList` attributes such as `.table` and `.energy`\n",
    "* Filter events lists using convenience methods\n",
    "\n",
    "You will find the documentation of the EventList  class in [gammapy.data.EventList](https://docs.gammapy.org/1.2/api/gammapy.data.EventList.html) or by typing in the command line `help(EventList)`.\n",
    "\n",
    "Let's start with the import from the `~gammapy.data` submodule:"
   ]
  },
  {
   "cell_type": "code",
   "execution_count": 8,
   "id": "d3024730",
   "metadata": {
    "id": "d3024730"
   },
   "outputs": [],
   "source": [
    "from gammapy.data import EventList"
   ]
  },
  {
   "cell_type": "code",
   "execution_count": 9,
   "id": "4748749c",
   "metadata": {
    "id": "4748749c"
   },
   "outputs": [
    {
     "name": "stdout",
     "output_type": "stream",
     "text": [
      "Help on class EventList in module gammapy.data.event_list:\n",
      "\n",
      "class EventList(builtins.object)\n",
      " |  EventList(table)\n",
      " |  \n",
      " |  Event list.\n",
      " |  \n",
      " |  Event list data is stored as ``table`` (`~astropy.table.Table`) data member.\n",
      " |  \n",
      " |  The most important reconstructed event parameters\n",
      " |  are available as the following columns:\n",
      " |  \n",
      " |  - ``TIME`` - Mission elapsed time (sec)\n",
      " |  - ``RA``, ``DEC`` - ICRS system position (deg)\n",
      " |  - ``ENERGY`` - Energy (usually MeV for Fermi and TeV for IACTs)\n",
      " |  \n",
      " |  Note that ``TIME`` is usually sorted, but sometimes it is not.\n",
      " |  E.g. when simulating data, or processing it in certain ways.\n",
      " |  So generally any analysis code should assume ``TIME`` is not sorted.\n",
      " |  \n",
      " |  Other optional (columns) that are sometimes useful for high level analysis:\n",
      " |  \n",
      " |  - ``GLON``, ``GLAT`` - Galactic coordinates (deg)\n",
      " |  - ``DETX``, ``DETY`` - Field of view coordinates (deg)\n",
      " |  \n",
      " |  Note that when reading data for analysis you shouldn't use those\n",
      " |  values directly, but access them via properties which create objects\n",
      " |  of the appropriate class:\n",
      " |  \n",
      " |  - `time` for ``TIME``\n",
      " |  - `radec` for ``RA``, ``DEC``\n",
      " |  - `energy` for ``ENERGY``\n",
      " |  - `galactic` for ``GLON``, ``GLAT``\n",
      " |  \n",
      " |  Parameters\n",
      " |  ----------\n",
      " |  table : `~astropy.table.Table`\n",
      " |      Event list table\n",
      " |  \n",
      " |  Examples\n",
      " |  --------\n",
      " |  >>> from gammapy.data import EventList\n",
      " |  >>> events = EventList.read(\"$GAMMAPY_DATA/cta-1dc/data/baseline/gps/gps_baseline_110380.fits\")\n",
      " |  >>> print(events)\n",
      " |  EventList\n",
      " |  ---------\n",
      " |  <BLANKLINE>\n",
      " |    Instrument       : None\n",
      " |    Telescope        : CTA\n",
      " |    Obs. ID          : 110380\n",
      " |  <BLANKLINE>\n",
      " |    Number of events : 106217\n",
      " |    Event rate       : 59.273 1 / s\n",
      " |  <BLANKLINE>\n",
      " |    Time start       : 59235.5\n",
      " |    Time stop        : 59235.52074074074\n",
      " |  <BLANKLINE>\n",
      " |    Min. energy      : 3.00e-02 TeV\n",
      " |    Max. energy      : 1.46e+02 TeV\n",
      " |    Median energy    : 1.02e-01 TeV\n",
      " |  <BLANKLINE>\n",
      " |    Max. offset      : 5.0 deg\n",
      " |  <BLANKLINE>\n",
      " |  \n",
      " |  Methods defined here:\n",
      " |  \n",
      " |  __init__(self, table)\n",
      " |      Initialize self.  See help(type(self)) for accurate signature.\n",
      " |  \n",
      " |  __str__(self)\n",
      " |      Return str(self).\n",
      " |  \n",
      " |  check(self, checks='all')\n",
      " |      Run checks.\n",
      " |      \n",
      " |      This is a generator that yields a list of dicts.\n",
      " |  \n",
      " |  copy(self)\n",
      " |      Copy event list (`EventList`)\n",
      " |  \n",
      " |  map_coord(self, geom)\n",
      " |      Event map coordinates for a given geometry.\n",
      " |      \n",
      " |      Parameters\n",
      " |      ----------\n",
      " |      geom : `~gammapy.maps.Geom`\n",
      " |          Geometry\n",
      " |      \n",
      " |      Returns\n",
      " |      -------\n",
      " |      coord : `~gammapy.maps.MapCoord`\n",
      " |          Coordinates\n",
      " |  \n",
      " |  peek(self, allsky=False)\n",
      " |      Quick look plots.\n",
      " |      \n",
      " |      Parameters\n",
      " |      ----------\n",
      " |      allsky : bool\n",
      " |          Whether to look at the events allsky\n",
      " |  \n",
      " |  plot_energy(self, ax=None, **kwargs)\n",
      " |      Plot counts as a function of energy.\n",
      " |      \n",
      " |      Parameters\n",
      " |      ----------\n",
      " |      ax : `~matplotlib.axes.Axes` or None\n",
      " |          Axes\n",
      " |      **kwargs : dict\n",
      " |          Keyword arguments passed to `~matplotlib.pyplot.hist`\n",
      " |      \n",
      " |      Returns\n",
      " |      -------\n",
      " |      ax : `~matplotlib.axes.Axes` or None\n",
      " |          Axes\n",
      " |  \n",
      " |  plot_energy_offset(self, ax=None, center=None, **kwargs)\n",
      " |      Plot counts histogram with energy and offset axes\n",
      " |      \n",
      " |      Parameters\n",
      " |      ----------\n",
      " |      ax : `~matplotlib.pyplot.Axis`\n",
      " |          Plot axis\n",
      " |      center : `~astropy.coordinates.SkyCoord`\n",
      " |          Sky coord from which offset is computed\n",
      " |      **kwargs : dict\n",
      " |          Keyword arguments forwarded to `~matplotlib.pyplot.pcolormesh`\n",
      " |      \n",
      " |      Returns\n",
      " |      -------\n",
      " |      ax : `~matplotlib.pyplot.Axis`\n",
      " |          Plot axis\n",
      " |  \n",
      " |  plot_image(self, ax=None, allsky=False)\n",
      " |      Quick look counts map sky plot.\n",
      " |      \n",
      " |      Parameters\n",
      " |      ----------\n",
      " |      ax : `~matplotlib.pyplot.Axes`\n",
      " |          Axes to plot on.\n",
      " |      allsky :  bool,\n",
      " |          Whether to plot on an all sky geom\n",
      " |  \n",
      " |  plot_offset2_distribution(self, ax=None, center=None, max_percentile=98, **kwargs)\n",
      " |      Plot offset^2 distribution of the events.\n",
      " |      \n",
      " |      The distribution shown in this plot is for this quantity::\n",
      " |      \n",
      " |          offset = center.separation(events.radec).deg\n",
      " |          offset2 = offset ** 2\n",
      " |      \n",
      " |      Note that this method is just for a quicklook plot.\n",
      " |      \n",
      " |      If you want to do computations with the offset or offset^2 values, you can\n",
      " |      use the line above. As an example, here's how to compute the 68% event\n",
      " |      containment radius using `numpy.percentile`::\n",
      " |      \n",
      " |          import numpy as np\n",
      " |          r68 = np.percentile(offset, q=68)\n",
      " |      \n",
      " |      Parameters\n",
      " |      ----------\n",
      " |      ax : `~matplotlib.axes.Axes` (optional)\n",
      " |          Axes\n",
      " |      center : `astropy.coordinates.SkyCoord`\n",
      " |          Center position for the offset^2 distribution.\n",
      " |          Default is the observation pointing position.\n",
      " |      max_percentile : float\n",
      " |          Define the percentile of the offset^2 distribution used to define the maximum offset^2 value.\n",
      " |      **kwargs :\n",
      " |          Extra keyword arguments are passed to `~matplotlib.pyplot.hist`.\n",
      " |      \n",
      " |      Returns\n",
      " |      -------\n",
      " |      ax : `~matplotlib.axes.Axes`\n",
      " |          Axes\n",
      " |      \n",
      " |      Examples\n",
      " |      --------\n",
      " |      Load an example event list:\n",
      " |      \n",
      " |      >>> from gammapy.data import EventList\n",
      " |      >>> from astropy import units as u\n",
      " |      >>> filename = \"$GAMMAPY_DATA/hess-dl3-dr1/data/hess_dl3_dr1_obs_id_023523.fits.gz\"\n",
      " |      >>> events = EventList.read(filename)\n",
      " |      \n",
      " |      >>> #Plot the offset^2 distribution wrt. the observation pointing position\n",
      " |      >>> #(this is a commonly used plot to check the background spatial distribution):\n",
      " |      >>> events.plot_offset2_distribution() # doctest: +SKIP\n",
      " |      Plot the offset^2 distribution wrt. the Crab pulsar position (this is\n",
      " |      commonly used to check both the gamma-ray signal and the background\n",
      " |      spatial distribution):\n",
      " |      \n",
      " |      >>> import numpy as np\n",
      " |      >>> from astropy.coordinates import SkyCoord\n",
      " |      >>> center = SkyCoord(83.63307, 22.01449, unit='deg')\n",
      " |      >>> bins = np.linspace(start=0, stop=0.3 ** 2, num=30) * u.deg ** 2\n",
      " |      >>> events.plot_offset2_distribution(center=center, bins=bins) # doctest: +SKIP\n",
      " |      \n",
      " |      Note how we passed the ``bins`` option of `matplotlib.pyplot.hist` to control\n",
      " |      the histogram binning, in this case 30 bins ranging from 0 to (0.3 deg)^2.\n",
      " |  \n",
      " |  plot_time(self, ax=None, **kwargs)\n",
      " |      Plots an event rate time curve.\n",
      " |      \n",
      " |      Parameters\n",
      " |      ----------\n",
      " |      ax : `~matplotlib.axes.Axes` or None\n",
      " |          Axes\n",
      " |      **kwargs : dict\n",
      " |          Keyword arguments passed to `~matplotlib.pyplot.errorbar`\n",
      " |      \n",
      " |      Returns\n",
      " |      -------\n",
      " |      ax : `~matplotlib.axes.Axes`\n",
      " |          Axes\n",
      " |  \n",
      " |  select_energy(self, energy_range)\n",
      " |      Select events in energy band.\n",
      " |      \n",
      " |      Parameters\n",
      " |      ----------\n",
      " |      energy_range : `~astropy.units.Quantity`\n",
      " |          Energy range ``[energy_min, energy_max)``\n",
      " |      \n",
      " |      Returns\n",
      " |      -------\n",
      " |      event_list : `EventList`\n",
      " |          Copy of event list with selection applied.\n",
      " |      \n",
      " |      Examples\n",
      " |      --------\n",
      " |      >>> from astropy import units as u\n",
      " |      >>> from gammapy.data import EventList\n",
      " |      >>> filename = \"$GAMMAPY_DATA/fermi_3fhl/fermi_3fhl_events_selected.fits.gz\"\n",
      " |      >>> event_list = EventList.read(filename)\n",
      " |      >>> energy_range =[1, 20] * u.TeV\n",
      " |      >>> event_list = event_list.select_energy(energy_range=energy_range)\n",
      " |  \n",
      " |  select_mask(self, mask)\n",
      " |      Select events inside a mask (`EventList`).\n",
      " |      \n",
      " |      Parameters\n",
      " |      ----------\n",
      " |      mask : `~gammapy.maps.Map`\n",
      " |          Mask\n",
      " |      \n",
      " |      Returns\n",
      " |      -------\n",
      " |      event_list : `EventList`\n",
      " |          Copy of event list with selection applied.\n",
      " |      \n",
      " |      Examples\n",
      " |      --------\n",
      " |      >>> from gammapy.data import EventList\n",
      " |      >>> from gammapy.maps import WcsGeom, Map\n",
      " |      >>> geom = WcsGeom.create(skydir=(0,0), width=(4, 4), frame=\"galactic\")\n",
      " |      >>> mask = geom.region_mask(\"galactic;circle(0, 0, 0.5)\")\n",
      " |      >>> filename = \"$GAMMAPY_DATA/cta-1dc/data/baseline/gps/gps_baseline_110380.fits\"\n",
      " |      >>> events = EventList.read(filename)\n",
      " |      >>> masked_event = events.select_mask(mask)\n",
      " |      >>> len(masked_event.table)\n",
      " |      5594\n",
      " |  \n",
      " |  select_offset(self, offset_band)\n",
      " |      Select events in offset band.\n",
      " |      \n",
      " |      Parameters\n",
      " |      ----------\n",
      " |      offset_band : `~astropy.coordinates.Angle`\n",
      " |          offset band ``[offset_min, offset_max)``\n",
      " |      \n",
      " |      Returns\n",
      " |      -------\n",
      " |      event_list : `EventList`\n",
      " |          Copy of event list with selection applied.\n",
      " |      \n",
      " |      Examples\n",
      " |      --------\n",
      " |      >>> from gammapy.data import EventList\n",
      " |      >>> import astropy.units as u\n",
      " |      >>> filename = \"$GAMMAPY_DATA/cta-1dc/data/baseline/gps/gps_baseline_110380.fits\"\n",
      " |      >>> events = EventList.read(filename)\n",
      " |      >>> selected_events = events.select_offset([0.3, 0.9]*u.deg)\n",
      " |      >>> len(selected_events.table)\n",
      " |      12688\n",
      " |  \n",
      " |  select_parameter(self, parameter, band)\n",
      " |      Select events with respect to a specified parameter.\n",
      " |      \n",
      " |      Parameters\n",
      " |      ----------\n",
      " |      parameter : str\n",
      " |          Parameter used for the selection. Must be present in `self.table`.\n",
      " |      band : tuple or `astropy.units.Quantity`\n",
      " |          Min and max value for the parameter to be selected (min <= parameter < max).\n",
      " |          If parameter is not dimensionless you have to provide a Quantity.\n",
      " |      \n",
      " |      Returns\n",
      " |      -------\n",
      " |      event_list : `EventList`\n",
      " |          Copy of event list with selection applied.\n",
      " |      \n",
      " |      Examples\n",
      " |      --------\n",
      " |      >>> from astropy import units as u\n",
      " |      >>> from gammapy.data import EventList\n",
      " |      >>> filename = \"$GAMMAPY_DATA/fermi_3fhl/fermi_3fhl_events_selected.fits.gz\"\n",
      " |      >>> event_list = EventList.read(filename)\n",
      " |      >>> zd = (0, 30) * u.deg\n",
      " |      >>> event_list = event_list.select_parameter(parameter='ZENITH_ANGLE', band=zd)\n",
      " |      >>> print(len(event_list.table))\n",
      " |      123944\n",
      " |  \n",
      " |  select_rad_max(self, rad_max, position=None)\n",
      " |      Select energy dependent offset\n",
      " |      \n",
      " |      Parameters\n",
      " |      ----------\n",
      " |      rad_max : `~gamapy.irf.RadMax2D`\n",
      " |          Rad max definition\n",
      " |      position : `~astropy.coordinates.SkyCoord`\n",
      " |          Center position. By default the pointing position is used.\n",
      " |      \n",
      " |      Returns\n",
      " |      -------\n",
      " |      event_list : `EventList`\n",
      " |          Copy of event list with selection applied.\n",
      " |  \n",
      " |  select_region(self, regions, wcs=None)\n",
      " |      Select events in given region.\n",
      " |      \n",
      " |      Parameters\n",
      " |      ----------\n",
      " |      regions : str, `~regions.Region` or list of `~regions.Region`\n",
      " |          Region or list of regions (pixel or sky regions accepted).\n",
      " |          A region can be defined as a string ind DS9 format as well.\n",
      " |          See http://ds9.si.edu/doc/ref/region.html for details.\n",
      " |      wcs : `~astropy.wcs.WCS`\n",
      " |          World coordinate system transformation\n",
      " |      \n",
      " |      Returns\n",
      " |      -------\n",
      " |      event_list : `EventList`\n",
      " |          Copy of event list with selection applied.\n",
      " |  \n",
      " |  select_row_subset(self, row_specifier)\n",
      " |      Select table row subset.\n",
      " |      \n",
      " |      Parameters\n",
      " |      ----------\n",
      " |      row_specifier : slice, int, or array of ints\n",
      " |          Specification for rows to select,\n",
      " |          passed on to ``self.table[row_specifier]``.\n",
      " |      \n",
      " |      Returns\n",
      " |      -------\n",
      " |      event_list : `EventList`\n",
      " |          New event list with table row subset selected\n",
      " |      \n",
      " |      Examples\n",
      " |      --------\n",
      " |      \n",
      " |      >>> from gammapy.data import EventList\n",
      " |      >>> import numpy as np\n",
      " |      >>> filename = \"$GAMMAPY_DATA/cta-1dc/data/baseline/gps/gps_baseline_110380.fits\"\n",
      " |      >>> events = EventList.read(filename)\n",
      " |      >>> #Use a boolean mask as ``row_specifier``:\n",
      " |      >>> mask = events.table['MC_ID'] == 1\n",
      " |      >>> events2 = events.select_row_subset(mask)\n",
      " |      >>> print(len(events2.table))\n",
      " |      97978\n",
      " |      >>> #Use row index array as ``row_specifier``:\n",
      " |      >>> idx = np.where(events.table['MC_ID'] == 1)[0]\n",
      " |      >>> events2 = events.select_row_subset(idx)\n",
      " |      >>> print(len(events2.table))\n",
      " |      97978\n",
      " |  \n",
      " |  select_time(self, time_interval)\n",
      " |      Select events in time interval.\n",
      " |      \n",
      " |      Parameters\n",
      " |      ----------\n",
      " |      time_interval : `astropy.time.Time`\n",
      " |          Start time (inclusive) and stop time (exclusive) for the selection.\n",
      " |      \n",
      " |      Returns\n",
      " |      -------\n",
      " |      events : `EventList`\n",
      " |          Copy of event list with selection applied.\n",
      " |  \n",
      " |  stack(self, other)\n",
      " |      Stack with another EventList in place.\n",
      " |      \n",
      " |      Calls `~astropy.table.vstack`.\n",
      " |      \n",
      " |      Parameters\n",
      " |      ----------\n",
      " |      other : `~gammapy.data.EventList`\n",
      " |          Event list to stack to self\n",
      " |  \n",
      " |  to_table_hdu(self, format='gadf')\n",
      " |      Convert event list to a `~astropy.io.fits.BinTableHDU`\n",
      " |      \n",
      " |      Parameters\n",
      " |      ----------\n",
      " |      format: str\n",
      " |          Output format, currently only \"gadf\" is supported\n",
      " |      \n",
      " |      Returns\n",
      " |      -------\n",
      " |      hdu: `astropy.io.fits.BinTableHDU`\n",
      " |          EventList converted to FITS representation\n",
      " |  \n",
      " |  write(self, filename, gti=None, overwrite=False, format='gadf')\n",
      " |      Write the event list to a FITS file.\n",
      " |      \n",
      " |      If a GTI object is provided, it is saved into\n",
      " |      a second extension in the file.\n",
      " |      \n",
      " |      Parameters\n",
      " |      ----------\n",
      " |      filename : `pathlib.Path`, str\n",
      " |          Filename\n",
      " |      gti : `~gammapy.data.GTI`\n",
      " |          Good Time Intervals object to save to the same file.\n",
      " |          Default is None.\n",
      " |      overwrite : bool\n",
      " |          Overwrite existing file?\n",
      " |      format : str, optional\n",
      " |          FITS format convention.  By default files will be written\n",
      " |          to the gamma-astro-data-formats (GADF) format.\n",
      " |  \n",
      " |  ----------------------------------------------------------------------\n",
      " |  Class methods defined here:\n",
      " |  \n",
      " |  from_stack(event_lists, **kwargs) from builtins.type\n",
      " |      Stack (concatenate) list of event lists.\n",
      " |      \n",
      " |      Calls `~astropy.table.vstack`.\n",
      " |      \n",
      " |      Parameters\n",
      " |      ----------\n",
      " |      event_lists : list\n",
      " |          list of `~gammapy.data.EventList` to stack\n",
      " |  \n",
      " |  read(filename, **kwargs) from builtins.type\n",
      " |      Read from FITS file.\n",
      " |      \n",
      " |      Format specification: :ref:`gadf:iact-events`\n",
      " |      \n",
      " |      Parameters\n",
      " |      ----------\n",
      " |      filename : `pathlib.Path`, str\n",
      " |          Filename\n",
      " |  \n",
      " |  ----------------------------------------------------------------------\n",
      " |  Readonly properties defined here:\n",
      " |  \n",
      " |  altaz\n",
      " |      ALT / AZ position computed from RA / DEC (`~astropy.coordinates.SkyCoord`).\n",
      " |  \n",
      " |  altaz_frame\n",
      " |      ALT / AZ frame (`~astropy.coordinates.AltAz`).\n",
      " |  \n",
      " |  altaz_from_table\n",
      " |      ALT / AZ position from table (`~astropy.coordinates.SkyCoord`).\n",
      " |  \n",
      " |  energy\n",
      " |      Event energies (`~astropy.units.Quantity`).\n",
      " |  \n",
      " |  galactic\n",
      " |      Event Galactic sky coordinates (`~astropy.coordinates.SkyCoord`).\n",
      " |      \n",
      " |      Always computed from RA / DEC using Astropy.\n",
      " |  \n",
      " |  galactic_median\n",
      " |      Median position in radec\n",
      " |  \n",
      " |  is_pointed_observation\n",
      " |      Whether observation is pointed\n",
      " |  \n",
      " |  observation_dead_time_fraction\n",
      " |      Dead-time fraction (float).\n",
      " |      \n",
      " |      This is a keyword related to IACTs\n",
      " |      Defined as dead-time over observation time.\n",
      " |      \n",
      " |      Dead-time is defined as the time during the observation\n",
      " |      where the detector didn't record events:\n",
      " |      http://en.wikipedia.org/wiki/Dead_time\n",
      " |      https://ui.adsabs.harvard.edu/abs/2004APh....22..285F\n",
      " |      \n",
      " |      The dead-time fraction is used in the live-time computation,\n",
      " |      which in turn is used in the exposure and flux computation.\n",
      " |  \n",
      " |  observation_live_time_duration\n",
      " |      Live-time duration in seconds (`~astropy.units.Quantity`).\n",
      " |      \n",
      " |      The dead-time-corrected observation time.\n",
      " |      \n",
      " |      - In Fermi-LAT it is automatically provided in the header of the event list.\n",
      " |      - In IACTs is computed as ``t_live = t_observation * (1 - f_dead)``\n",
      " |      \n",
      " |      where ``f_dead`` is the dead-time fraction.\n",
      " |  \n",
      " |  observation_time_duration\n",
      " |      Observation time duration in seconds (`~astropy.units.Quantity`).\n",
      " |      \n",
      " |      This is a keyword related to IACTs\n",
      " |      The wall time, including dead-time.\n",
      " |  \n",
      " |  observation_time_start\n",
      " |      Observation start time (`~astropy.time.Time`).\n",
      " |  \n",
      " |  observation_time_stop\n",
      " |      Observation stop time (`~astropy.time.Time`).\n",
      " |  \n",
      " |  observatory_earth_location\n",
      " |      Observatory location (`~astropy.coordinates.EarthLocation`).\n",
      " |  \n",
      " |  offset\n",
      " |      Event offset from the array pointing position (`~astropy.coordinates.Angle`).\n",
      " |  \n",
      " |  offset_from_median\n",
      " |      Event offset from the median position (`~astropy.coordinates.Angle`).\n",
      " |  \n",
      " |  pointing_radec\n",
      " |      Pointing RA / DEC sky coordinates (`~astropy.coordinates.SkyCoord`).\n",
      " |  \n",
      " |  radec\n",
      " |      Event RA / DEC sky coordinates (`~astropy.coordinates.SkyCoord`).\n",
      " |  \n",
      " |  time\n",
      " |      Event times (`~astropy.time.Time`).\n",
      " |      \n",
      " |      Notes\n",
      " |      -----\n",
      " |      Times are automatically converted to 64-bit floats.\n",
      " |      With 32-bit floats times will be incorrect by a few seconds\n",
      " |      when e.g. adding them to the reference time.\n",
      " |  \n",
      " |  time_ref\n",
      " |      Time reference (`~astropy.time.Time`).\n",
      " |  \n",
      " |  ----------------------------------------------------------------------\n",
      " |  Data descriptors defined here:\n",
      " |  \n",
      " |  __dict__\n",
      " |      dictionary for instance variables (if defined)\n",
      " |  \n",
      " |  __weakref__\n",
      " |      list of weak references to the object (if defined)\n",
      "\n"
     ]
    }
   ],
   "source": [
    "help(EventList)"
   ]
  },
  {
   "cell_type": "markdown",
   "id": "7d5788f3",
   "metadata": {
    "id": "7d5788f3"
   },
   "source": [
    "An event list can be created, by passing a filename to the `~gammapy.data.EventList.read()` method. Let's created one by reading the Fermi-LAT 3FHL event list:"
   ]
  },
  {
   "cell_type": "code",
   "execution_count": 10,
   "id": "83d6570a",
   "metadata": {
    "id": "83d6570a"
   },
   "outputs": [],
   "source": [
    "events_3fhl = EventList.read(\n",
    "    \"$GAMMAPY_DATA/fermi-3fhl-gc/fermi-3fhl-gc-events.fits.gz\"\n",
    ")"
   ]
  },
  {
   "cell_type": "code",
   "execution_count": 11,
   "id": "8b9e6b9a",
   "metadata": {
    "id": "8b9e6b9a",
    "scrolled": true
   },
   "outputs": [
    {
     "name": "stdout",
     "output_type": "stream",
     "text": [
      "EventList\n",
      "---------\n",
      "\n",
      "  Instrument       : LAT\n",
      "  Telescope        : GLAST\n",
      "  Obs. ID          : \n",
      "\n",
      "  Number of events : 32843\n",
      "  Event rate       : 0.000 1 / s\n",
      "\n",
      "  Time start       : 54682.65603222222\n",
      "  Time stop        : 57236.96833546296\n",
      "\n",
      "  Min. energy      : 1.00e+04 MeV\n",
      "  Max. energy      : 1.92e+06 MeV\n",
      "  Median energy    : 1.58e+04 MeV\n",
      "\n",
      "\n"
     ]
    }
   ],
   "source": [
    "print(events_3fhl)"
   ]
  },
  {
   "cell_type": "markdown",
   "id": "f69e7d68",
   "metadata": {
    "id": "f69e7d68"
   },
   "source": [
    "This time the actual data is stored as an [astropy.table.Table](http://docs.astropy.org/en/stable/api/astropy.table.Table.html) object. It can be accessed with `.table` attribute:"
   ]
  },
  {
   "cell_type": "markdown",
   "id": "de63a6f2",
   "metadata": {
    "id": "de63a6f2"
   },
   "source": [
    "<a id='table1'></a>"
   ]
  },
  {
   "cell_type": "code",
   "execution_count": 12,
   "id": "9c697581",
   "metadata": {
    "id": "9c697581"
   },
   "outputs": [
    {
     "data": {
      "text/html": [
       "<div><i>Table length=32843</i>\n",
       "<table id=\"table140028204600912\" class=\"table-striped table-bordered table-condensed\">\n",
       "<thead><tr><th>ENERGY</th><th>RA</th><th>DEC</th><th>L</th><th>B</th><th>THETA</th><th>PHI</th><th>ZENITH_ANGLE</th><th>EARTH_AZIMUTH_ANGLE</th><th>TIME</th><th>EVENT_ID</th><th>RUN_ID</th><th>RECON_VERSION</th><th>CALIB_VERSION</th><th>EVENT_CLASS</th><th>EVENT_TYPE</th><th>CONVERSION_TYPE</th><th>LIVETIME</th><th>DIFRSP0</th><th>DIFRSP1</th><th>DIFRSP2</th><th>DIFRSP3</th><th>DIFRSP4</th></tr></thead>\n",
       "<thead><tr><th>MeV</th><th>deg</th><th>deg</th><th>deg</th><th>deg</th><th>deg</th><th>deg</th><th>deg</th><th>deg</th><th>s</th><th></th><th></th><th></th><th></th><th></th><th></th><th></th><th>s</th><th></th><th></th><th></th><th></th><th></th></tr></thead>\n",
       "<thead><tr><th>float32</th><th>float32</th><th>float32</th><th>float32</th><th>float32</th><th>float32</th><th>float32</th><th>float32</th><th>float32</th><th>float64</th><th>int32</th><th>int32</th><th>int16</th><th>int16[3]</th><th>bool[32]</th><th>bool[32]</th><th>int16</th><th>float64</th><th>float32</th><th>float32</th><th>float32</th><th>float32</th><th>float32</th></tr></thead>\n",
       "<tr><td>12186.642</td><td>260.45935</td><td>-33.553337</td><td>353.36273</td><td>1.7538676</td><td>71.977325</td><td>125.50694</td><td>59.22307</td><td>231.79672</td><td>239572401.29222104</td><td>1823040</td><td>239571670</td><td>0</td><td>0 .. 0</td><td>False .. True</td><td>False .. True</td><td>0</td><td>238.57837238907814</td><td>0.0</td><td>0.0</td><td>0.0</td><td>0.0</td><td>0.0</td></tr>\n",
       "<tr><td>25496.598</td><td>261.37506</td><td>-34.395004</td><td>353.09607</td><td>0.6520652</td><td>42.49406</td><td>278.49347</td><td>41.092773</td><td>227.89838</td><td>239577842.16217342</td><td>550833</td><td>239577663</td><td>0</td><td>0 .. 0</td><td>False .. True</td><td>False .. False</td><td>1</td><td>176.16850754618645</td><td>0.0</td><td>0.0</td><td>0.0</td><td>0.0</td><td>0.0</td></tr>\n",
       "<tr><td>15621.498</td><td>259.56973</td><td>-33.409416</td><td>353.05673</td><td>2.4450684</td><td>64.32412</td><td>234.22194</td><td>66.526794</td><td>232.75734</td><td>239578244.7997108</td><td>1353175</td><td>239577663</td><td>0</td><td>0 .. 0</td><td>False .. True</td><td>False .. False</td><td>1</td><td>9.392075657844543</td><td>0.0</td><td>0.0</td><td>0.0</td><td>0.0</td><td>0.0</td></tr>\n",
       "<tr><td>12816.32</td><td>273.95883</td><td>-25.340391</td><td>6.45856</td><td>-4.0548873</td><td>43.292503</td><td>142.87392</td><td>13.232716</td><td>108.02273</td><td>239605914.66160735</td><td>9636241</td><td>239601276</td><td>0</td><td>0 .. 0</td><td>False .. True</td><td>False .. False</td><td>1</td><td>4.034786552190781</td><td>0.0</td><td>0.0</td><td>0.0</td><td>0.0</td><td>0.0</td></tr>\n",
       "<tr><td>18988.387</td><td>260.8568</td><td>-36.355804</td><td>351.23734</td><td>-0.101912394</td><td>26.916113</td><td>290.39337</td><td>23.8726</td><td>212.91147</td><td>239611913.14460415</td><td>11233188</td><td>239606871</td><td>0</td><td>0 .. 0</td><td>False .. True</td><td>False .. True</td><td>0</td><td>131.60132896900177</td><td>0.0</td><td>0.0</td><td>0.0</td><td>0.0</td><td>0.0</td></tr>\n",
       "<tr><td>11610.23</td><td>266.15518</td><td>-26.224436</td><td>2.1986027</td><td>1.6034819</td><td>35.77363</td><td>274.53387</td><td>23.537594</td><td>232.64166</td><td>239623554.55414733</td><td>14156811</td><td>239618329</td><td>0</td><td>0 .. 0</td><td>False .. True</td><td>False .. False</td><td>1</td><td>74.98110938072205</td><td>0.0</td><td>0.0</td><td>0.0</td><td>0.0</td><td>0.0</td></tr>\n",
       "<tr><td>...</td><td>...</td><td>...</td><td>...</td><td>...</td><td>...</td><td>...</td><td>...</td><td>...</td><td>...</td><td>...</td><td>...</td><td>...</td><td>...</td><td>...</td><td>...</td><td>...</td><td>...</td><td>...</td><td>...</td><td>...</td><td>...</td><td>...</td></tr>\n",
       "<tr><td>13226.425</td><td>265.16287</td><td>-27.344238</td><td>0.7796942</td><td>1.7680178</td><td>59.38332</td><td>126.7019</td><td>32.12299</td><td>246.97205</td><td>460203215.10816145</td><td>11716888</td><td>460198235</td><td>0</td><td>0 .. 0</td><td>False .. True</td><td>False .. False</td><td>1</td><td>3.733097553253174</td><td>0.0</td><td>0.0</td><td>0.0</td><td>0.0</td><td>0.0</td></tr>\n",
       "<tr><td>17445.463</td><td>266.63342</td><td>-28.807201</td><td>0.21464892</td><td>-0.1039705</td><td>55.48627</td><td>135.59155</td><td>14.227151</td><td>106.7812</td><td>460225372.9842249</td><td>1679082</td><td>460224933</td><td>0</td><td>0 .. 0</td><td>False .. True</td><td>False .. False</td><td>1</td><td>80.52235281467438</td><td>0.0</td><td>0.0</td><td>0.0</td><td>0.0</td><td>0.0</td></tr>\n",
       "<tr><td>13133.864</td><td>270.42474</td><td>-22.651058</td><td>7.251185</td><td>0.071358204</td><td>48.704975</td><td>134.73102</td><td>2.489122</td><td>294.48605</td><td>460225688.52486295</td><td>2879335</td><td>460224933</td><td>0</td><td>0 .. 0</td><td>False .. True</td><td>False .. False</td><td>1</td><td>117.88173341751099</td><td>0.0</td><td>0.0</td><td>0.0</td><td>0.0</td><td>0.0</td></tr>\n",
       "<tr><td>32095.705</td><td>266.0002</td><td>-29.77206</td><td>359.1034</td><td>-0.13615231</td><td>45.013103</td><td>236.72498</td><td>6.92107</td><td>212.86594</td><td>460231367.1387127</td><td>1113706</td><td>460231084</td><td>0</td><td>0 .. 0</td><td>False .. True</td><td>False .. True</td><td>0</td><td>108.92976492643356</td><td>0.0</td><td>0.0</td><td>0.0</td><td>0.0</td><td>0.0</td></tr>\n",
       "<tr><td>18465.783</td><td>266.39728</td><td>-29.105953</td><td>359.85202</td><td>-0.08294058</td><td>55.97552</td><td>135.87787</td><td>18.909636</td><td>112.137924</td><td>459939497.057684</td><td>7689831</td><td>459935572</td><td>0</td><td>0 .. 0</td><td>False .. True</td><td>False .. True</td><td>0</td><td>70.72638684511185</td><td>0.0</td><td>0.0</td><td>0.0</td><td>0.0</td><td>0.0</td></tr>\n",
       "<tr><td>14457.25</td><td>262.72217</td><td>-34.388405</td><td>353.7184</td><td>-0.26906812</td><td>45.683174</td><td>237.74162</td><td>25.728264</td><td>240.87035</td><td>459945845.4798405</td><td>10049680</td><td>459941302</td><td>0</td><td>0 .. 0</td><td>False .. True</td><td>False .. True</td><td>0</td><td>147.4274787902832</td><td>0.0</td><td>0.0</td><td>0.0</td><td>0.0</td><td>0.0</td></tr>\n",
       "</table></div>"
      ],
      "text/plain": [
       "<Table length=32843>\n",
       "  ENERGY      RA       DEC         L      ... DIFRSP1 DIFRSP2 DIFRSP3 DIFRSP4\n",
       "   MeV       deg       deg        deg     ...                                \n",
       " float32   float32   float32    float32   ... float32 float32 float32 float32\n",
       "--------- --------- ---------- ---------- ... ------- ------- ------- -------\n",
       "12186.642 260.45935 -33.553337  353.36273 ...     0.0     0.0     0.0     0.0\n",
       "25496.598 261.37506 -34.395004  353.09607 ...     0.0     0.0     0.0     0.0\n",
       "15621.498 259.56973 -33.409416  353.05673 ...     0.0     0.0     0.0     0.0\n",
       " 12816.32 273.95883 -25.340391    6.45856 ...     0.0     0.0     0.0     0.0\n",
       "18988.387  260.8568 -36.355804  351.23734 ...     0.0     0.0     0.0     0.0\n",
       " 11610.23 266.15518 -26.224436  2.1986027 ...     0.0     0.0     0.0     0.0\n",
       "      ...       ...        ...        ... ...     ...     ...     ...     ...\n",
       "13226.425 265.16287 -27.344238  0.7796942 ...     0.0     0.0     0.0     0.0\n",
       "17445.463 266.63342 -28.807201 0.21464892 ...     0.0     0.0     0.0     0.0\n",
       "13133.864 270.42474 -22.651058   7.251185 ...     0.0     0.0     0.0     0.0\n",
       "32095.705  266.0002  -29.77206   359.1034 ...     0.0     0.0     0.0     0.0\n",
       "18465.783 266.39728 -29.105953  359.85202 ...     0.0     0.0     0.0     0.0\n",
       " 14457.25 262.72217 -34.388405   353.7184 ...     0.0     0.0     0.0     0.0"
      ]
     },
     "execution_count": 12,
     "metadata": {},
     "output_type": "execute_result"
    }
   ],
   "source": [
    "events_3fhl.table"
   ]
  },
  {
   "cell_type": "markdown",
   "id": "e0643cee",
   "metadata": {
    "id": "e0643cee"
   },
   "source": [
    "[Click here](#table1d) to see the descriptions of the reconstructed parameters."
   ]
  },
  {
   "cell_type": "markdown",
   "id": "014286a4",
   "metadata": {
    "id": "014286a4"
   },
   "source": [
    "<b>TIP</b><br>Get help on the available readers for `Table` using the``help()`` method:\n",
    "```python\n",
    "Table.read.help()  # Get help reading Table and list supported formats\n",
    "Table.read.help('fits')  # Get detailed help on Table FITS reader\n",
    "Table.read.list_formats()  # Print list of available formats\n",
    "```"
   ]
  },
  {
   "cell_type": "code",
   "execution_count": 13,
   "id": "9ce09d55",
   "metadata": {
    "id": "9ce09d55"
   },
   "outputs": [],
   "source": [
    "# Table.read.help('fits')"
   ]
  },
  {
   "cell_type": "code",
   "execution_count": 14,
   "id": "ZEMCXEEyeAqX",
   "metadata": {
    "id": "ZEMCXEEyeAqX"
   },
   "outputs": [],
   "source": [
    "# type(events_3fhl.table)\n",
    "# from astropy.table import Table\n",
    "# help(Table)"
   ]
  },
  {
   "cell_type": "markdown",
   "id": "5c954363",
   "metadata": {
    "id": "5c954363"
   },
   "source": [
    "You can do *len* over event_3fhl.table to find the total number of events."
   ]
  },
  {
   "cell_type": "code",
   "execution_count": 15,
   "id": "ef8914c4",
   "metadata": {
    "id": "ef8914c4"
   },
   "outputs": [
    {
     "name": "stdout",
     "output_type": "stream",
     "text": [
      "The total number of events: 32843\n"
     ]
    }
   ],
   "source": [
    "print(f\"The total number of events: {len(events_3fhl.table):.0f}\")"
   ]
  },
  {
   "cell_type": "code",
   "execution_count": 16,
   "id": "9682873c",
   "metadata": {
    "id": "9682873c"
   },
   "outputs": [],
   "source": [
    "# events_3fhl.peek()"
   ]
  },
  {
   "cell_type": "code",
   "execution_count": 17,
   "id": "df3ff2d0",
   "metadata": {
    "id": "df3ff2d0"
   },
   "outputs": [
    {
     "data": {
      "text/plain": [
       "<Table length=32843>\n",
       "        name         dtype  shape unit\n",
       "------------------- ------- ----- ----\n",
       "             ENERGY float32        MeV\n",
       "                 RA float32        deg\n",
       "                DEC float32        deg\n",
       "                  L float32        deg\n",
       "                  B float32        deg\n",
       "              THETA float32        deg\n",
       "                PHI float32        deg\n",
       "       ZENITH_ANGLE float32        deg\n",
       "EARTH_AZIMUTH_ANGLE float32        deg\n",
       "               TIME float64          s\n",
       "           EVENT_ID   int32           \n",
       "             RUN_ID   int32           \n",
       "      RECON_VERSION   int16           \n",
       "      CALIB_VERSION   int16  (3,)     \n",
       "        EVENT_CLASS    bool (32,)     \n",
       "         EVENT_TYPE    bool (32,)     \n",
       "    CONVERSION_TYPE   int16           \n",
       "           LIVETIME float64          s\n",
       "            DIFRSP0 float32           \n",
       "            DIFRSP1 float32           \n",
       "            DIFRSP2 float32           \n",
       "            DIFRSP3 float32           \n",
       "            DIFRSP4 float32           "
      ]
     },
     "execution_count": 17,
     "metadata": {},
     "output_type": "execute_result"
    }
   ],
   "source": [
    "events_3fhl.table.info"
   ]
  },
  {
   "cell_type": "markdown",
   "id": "f52161b6",
   "metadata": {
    "id": "f52161b6"
   },
   "source": [
    "And we can access any other attribute of the `Table` object as well:"
   ]
  },
  {
   "cell_type": "code",
   "execution_count": 18,
   "id": "d619480c",
   "metadata": {
    "id": "d619480c"
   },
   "outputs": [
    {
     "data": {
      "text/plain": [
       "['ENERGY',\n",
       " 'RA',\n",
       " 'DEC',\n",
       " 'L',\n",
       " 'B',\n",
       " 'THETA',\n",
       " 'PHI',\n",
       " 'ZENITH_ANGLE',\n",
       " 'EARTH_AZIMUTH_ANGLE',\n",
       " 'TIME',\n",
       " 'EVENT_ID',\n",
       " 'RUN_ID',\n",
       " 'RECON_VERSION',\n",
       " 'CALIB_VERSION',\n",
       " 'EVENT_CLASS',\n",
       " 'EVENT_TYPE',\n",
       " 'CONVERSION_TYPE',\n",
       " 'LIVETIME',\n",
       " 'DIFRSP0',\n",
       " 'DIFRSP1',\n",
       " 'DIFRSP2',\n",
       " 'DIFRSP3',\n",
       " 'DIFRSP4']"
      ]
     },
     "execution_count": 18,
     "metadata": {},
     "output_type": "execute_result"
    }
   ],
   "source": [
    "events_3fhl.table.colnames"
   ]
  },
  {
   "cell_type": "code",
   "execution_count": 19,
   "id": "fccdd1fc",
   "metadata": {
    "id": "fccdd1fc"
   },
   "outputs": [
    {
     "data": {
      "text/plain": [
       "list"
      ]
     },
     "execution_count": 19,
     "metadata": {},
     "output_type": "execute_result"
    }
   ],
   "source": [
    "type(events_3fhl.table.colnames)"
   ]
  },
  {
   "cell_type": "code",
   "execution_count": 20,
   "id": "12af8bd8",
   "metadata": {
    "id": "12af8bd8"
   },
   "outputs": [
    {
     "data": {
      "text/html": [
       "&lt;Column name=&apos;ENERGY&apos; dtype=&apos;float32&apos; unit=&apos;MeV&apos; length=32843&gt;\n",
       "<table>\n",
       "<tr><td>12186.642</td></tr>\n",
       "<tr><td>25496.598</td></tr>\n",
       "<tr><td>15621.498</td></tr>\n",
       "<tr><td>12816.32</td></tr>\n",
       "<tr><td>18988.387</td></tr>\n",
       "<tr><td>11610.23</td></tr>\n",
       "<tr><td>13960.802</td></tr>\n",
       "<tr><td>10477.372</td></tr>\n",
       "<tr><td>13030.88</td></tr>\n",
       "<tr><td>...</td></tr>\n",
       "<tr><td>27209.146</td></tr>\n",
       "<tr><td>13911.061</td></tr>\n",
       "<tr><td>13226.425</td></tr>\n",
       "<tr><td>17445.463</td></tr>\n",
       "<tr><td>13133.864</td></tr>\n",
       "<tr><td>32095.705</td></tr>\n",
       "<tr><td>18465.783</td></tr>\n",
       "<tr><td>14457.25</td></tr>\n",
       "</table>"
      ],
      "text/plain": [
       "<Column name='ENERGY' dtype='float32' unit='MeV' length=32843>\n",
       "12186.642\n",
       "25496.598\n",
       "15621.498\n",
       " 12816.32\n",
       "18988.387\n",
       " 11610.23\n",
       "13960.802\n",
       "10477.372\n",
       " 13030.88\n",
       "      ...\n",
       "27209.146\n",
       "13911.061\n",
       "13226.425\n",
       "17445.463\n",
       "13133.864\n",
       "32095.705\n",
       "18465.783\n",
       " 14457.25"
      ]
     },
     "execution_count": 20,
     "metadata": {},
     "output_type": "execute_result"
    }
   ],
   "source": [
    "energy = events_3fhl.table.columns[0]\n",
    "energy"
   ]
  },
  {
   "cell_type": "code",
   "execution_count": 21,
   "id": "b1f4e7d7",
   "metadata": {
    "id": "b1f4e7d7"
   },
   "outputs": [
    {
     "data": {
      "text/html": [
       "&lt;Column name=&apos;ENERGY&apos; dtype=&apos;float32&apos; unit=&apos;MeV&apos; length=32843&gt;\n",
       "<table>\n",
       "<tr><td>12186.642</td></tr>\n",
       "<tr><td>25496.598</td></tr>\n",
       "<tr><td>15621.498</td></tr>\n",
       "<tr><td>12816.32</td></tr>\n",
       "<tr><td>18988.387</td></tr>\n",
       "<tr><td>11610.23</td></tr>\n",
       "<tr><td>13960.802</td></tr>\n",
       "<tr><td>10477.372</td></tr>\n",
       "<tr><td>13030.88</td></tr>\n",
       "<tr><td>...</td></tr>\n",
       "<tr><td>27209.146</td></tr>\n",
       "<tr><td>13911.061</td></tr>\n",
       "<tr><td>13226.425</td></tr>\n",
       "<tr><td>17445.463</td></tr>\n",
       "<tr><td>13133.864</td></tr>\n",
       "<tr><td>32095.705</td></tr>\n",
       "<tr><td>18465.783</td></tr>\n",
       "<tr><td>14457.25</td></tr>\n",
       "</table>"
      ],
      "text/plain": [
       "<Column name='ENERGY' dtype='float32' unit='MeV' length=32843>\n",
       "12186.642\n",
       "25496.598\n",
       "15621.498\n",
       " 12816.32\n",
       "18988.387\n",
       " 11610.23\n",
       "13960.802\n",
       "10477.372\n",
       " 13030.88\n",
       "      ...\n",
       "27209.146\n",
       "13911.061\n",
       "13226.425\n",
       "17445.463\n",
       "13133.864\n",
       "32095.705\n",
       "18465.783\n",
       " 14457.25"
      ]
     },
     "execution_count": 21,
     "metadata": {},
     "output_type": "execute_result"
    }
   ],
   "source": [
    "events_3fhl.table[\"ENERGY\"]"
   ]
  },
  {
   "cell_type": "markdown",
   "id": "70d2f625",
   "metadata": {
    "id": "70d2f625"
   },
   "source": [
    "For convenience we can access the most important event parameters as properties on the `EventList` objects. The attributes will return corresponding Astropy objects to represent the data, such as [astropy.units.Quantity](http://docs.astropy.org/en/stable/api/astropy.units.Quantity.html), [astropy.coordinates.SkyCoord](http://docs.astropy.org/en/stable/api/astropy.coordinates.SkyCoord.html) or [astropy.time.Time](http://docs.astropy.org/en/stable/api/astropy.time.Time.html#astropy.time.Time) objects:"
   ]
  },
  {
   "cell_type": "code",
   "execution_count": 22,
   "id": "24f19728",
   "metadata": {
    "id": "24f19728"
   },
   "outputs": [
    {
     "data": {
      "text/latex": [
       "$[12186.642,~25496.598,~15621.498,~\\dots,~32095.705,~18465.783,~14457.25] \\; \\mathrm{MeV}$"
      ],
      "text/plain": [
       "<Quantity [12186.642, 25496.598, 15621.498, ..., 32095.705, 18465.783,\n",
       "           14457.25 ] MeV>"
      ]
     },
     "execution_count": 22,
     "metadata": {},
     "output_type": "execute_result"
    }
   ],
   "source": [
    "events_3fhl.energy"
   ]
  },
  {
   "cell_type": "code",
   "execution_count": 23,
   "id": "85530abd",
   "metadata": {
    "id": "85530abd"
   },
   "outputs": [
    {
     "data": {
      "text/plain": [
       "astropy.units.quantity.Quantity"
      ]
     },
     "execution_count": 23,
     "metadata": {},
     "output_type": "execute_result"
    }
   ],
   "source": [
    "type(events_3fhl.energy)"
   ]
  },
  {
   "cell_type": "code",
   "execution_count": 24,
   "id": "b4f3a8f8",
   "metadata": {
    "id": "b4f3a8f8"
   },
   "outputs": [
    {
     "data": {
      "text/latex": [
       "$\\mathrm{MeV}$"
      ],
      "text/plain": [
       "Unit(\"MeV\")"
      ]
     },
     "execution_count": 24,
     "metadata": {},
     "output_type": "execute_result"
    }
   ],
   "source": [
    "events_3fhl.energy.unit"
   ]
  },
  {
   "cell_type": "code",
   "execution_count": 25,
   "id": "bd75d340",
   "metadata": {
    "id": "bd75d340"
   },
   "outputs": [
    {
     "data": {
      "text/latex": [
       "$[12.186643,~25.496599,~15.621499,~\\dots,~32.095707,~18.465784,~14.457251] \\; \\mathrm{GeV}$"
      ],
      "text/plain": [
       "<Quantity [12.186643, 25.4966  , 15.621499, ..., 32.095707, 18.465784,\n",
       "           14.457251] GeV>"
      ]
     },
     "execution_count": 25,
     "metadata": {},
     "output_type": "execute_result"
    }
   ],
   "source": [
    "events_3fhl.energy.to(\"GeV\")"
   ]
  },
  {
   "cell_type": "code",
   "execution_count": 26,
   "id": "3c1a4d14",
   "metadata": {
    "id": "3c1a4d14",
    "scrolled": true
   },
   "outputs": [
    {
     "data": {
      "text/latex": [
       "$\\mathrm{MeV}$"
      ],
      "text/plain": [
       "Unit(\"MeV\")"
      ]
     },
     "execution_count": 26,
     "metadata": {},
     "output_type": "execute_result"
    }
   ],
   "source": [
    "events_3fhl.energy.unit"
   ]
  },
  {
   "cell_type": "markdown",
   "id": "a86d5bb5",
   "metadata": {
    "id": "a86d5bb5"
   },
   "source": [
    "<b>TIP</b><br>To transform the column units in the table:\n",
    "```python\n",
    "print(events_3fhl.energy.unit) # Print the ENERGY unit\n",
    "events_3fhl.table[\"ENERGY\"] = events_3fhl.energy.to(\"GeV\")  # Transform the ENERGY to the GeV units\n",
    "print(events_3fhl.energy.unit) # Print the new ENERGY unit\n",
    "```"
   ]
  },
  {
   "cell_type": "code",
   "execution_count": 27,
   "id": "e29011bb",
   "metadata": {
    "id": "e29011bb"
   },
   "outputs": [
    {
     "name": "stdout",
     "output_type": "stream",
     "text": [
      "MeV\n",
      "GeV\n"
     ]
    }
   ],
   "source": [
    "print(events_3fhl.energy.unit)\n",
    "events_3fhl.table[\"ENERGY\"] = events_3fhl.energy.to(\"GeV\")\n",
    "print(events_3fhl.energy.unit)"
   ]
  },
  {
   "cell_type": "code",
   "execution_count": 28,
   "id": "44123e4a",
   "metadata": {
    "id": "44123e4a"
   },
   "outputs": [
    {
     "data": {
      "text/plain": [
       "<SkyCoord (Galactic): (l, b) in deg\n",
       "    [(353.36228879,  1.75408483), (353.09562941,  0.6522806 ),\n",
       "     (353.05628243,  2.44528685), ..., (359.10295505, -0.1359316 ),\n",
       "     (359.85157506, -0.08269984), (353.71795506, -0.26883694)]>"
      ]
     },
     "execution_count": 28,
     "metadata": {},
     "output_type": "execute_result"
    }
   ],
   "source": [
    "events_3fhl.galactic"
   ]
  },
  {
   "cell_type": "code",
   "execution_count": 29,
   "id": "a64047d5",
   "metadata": {
    "id": "a64047d5"
   },
   "outputs": [
    {
     "data": {
      "text/plain": [
       "<SkyCoord (ICRS): (ra, dec) in deg\n",
       "    [(260.45935, -33.553337), (261.37506, -34.395004),\n",
       "     (259.56973, -33.409416), ..., (266.0002 , -29.77206 ),\n",
       "     (266.39728, -29.105953), (262.72217, -34.388405)]>"
      ]
     },
     "execution_count": 29,
     "metadata": {},
     "output_type": "execute_result"
    }
   ],
   "source": [
    "events_3fhl.radec"
   ]
  },
  {
   "cell_type": "code",
   "execution_count": 30,
   "id": "9b36a319",
   "metadata": {
    "id": "9b36a319",
    "scrolled": true
   },
   "outputs": [
    {
     "data": {
      "text/plain": [
       "<Time object: scale='tt' format='mjd' value=[54682.82946153 54682.89243456 54682.89709472 ... 57236.75267735\n",
       " 57233.37455141 57233.44802852]>"
      ]
     },
     "execution_count": 30,
     "metadata": {},
     "output_type": "execute_result"
    }
   ],
   "source": [
    "events_3fhl.time"
   ]
  },
  {
   "cell_type": "markdown",
   "id": "41c38ef9",
   "metadata": {
    "id": "41c38ef9"
   },
   "source": [
    "There is also some convenience to plot the events:"
   ]
  },
  {
   "cell_type": "code",
   "execution_count": 31,
   "id": "66f8d556",
   "metadata": {
    "id": "66f8d556",
    "scrolled": false
   },
   "outputs": [
    {
     "data": {
      "image/png": "[encoded data removed]",
      "text/plain": [
       "<Figure size 640x480 with 1 Axes>"
      ]
     },
     "metadata": {},
     "output_type": "display_data"
    }
   ],
   "source": [
    "events_3fhl.plot_image()"
   ]
  },
  {
   "cell_type": "markdown",
   "id": "785c1ee8",
   "metadata": {
    "id": "785c1ee8"
   },
   "source": [
    "In addition `EventList` provides convenience methods to filter the event lists.\n",
    "\n",
    "One possible use case is to find the highest energy event within a radius of 0.5 deg around the vela position:"
   ]
  },
  {
   "cell_type": "code",
   "execution_count": 32,
   "id": "9dc5c287",
   "metadata": {
    "id": "9dc5c287"
   },
   "outputs": [],
   "source": [
    "from gammapy.utils.regions import SphericalCircleSkyRegion"
   ]
  },
  {
   "cell_type": "code",
   "execution_count": 33,
   "id": "0bf7f5d0",
   "metadata": {
    "id": "0bf7f5d0"
   },
   "outputs": [
    {
     "name": "stdout",
     "output_type": "stream",
     "text": [
      "<SkyCoord (Galactic): (l, b) in deg\n",
      "    (0., 0.)>\n"
     ]
    }
   ],
   "source": [
    "# defines the center (vela position)\n",
    "vel_pos_lat = \"0d\"\n",
    "vel_pos_lon = \"0d\"\n",
    "frame=\"galactic\"\n",
    "center = SkyCoord(vel_pos_lat, vel_pos_lon, frame=frame)\n",
    "print(center)"
   ]
  },
  {
   "cell_type": "code",
   "execution_count": 34,
   "id": "e7d93c49",
   "metadata": {
    "id": "e7d93c49"
   },
   "outputs": [],
   "source": [
    "# defines the center (vela position)\n",
    "radius = 0.5 * u.deg # defines the radius of the region\n",
    "region = SphericalCircleSkyRegion(center, radius) # defines the region"
   ]
  },
  {
   "cell_type": "code",
   "execution_count": 35,
   "id": "b453e0b4",
   "metadata": {
    "id": "b453e0b4"
   },
   "outputs": [],
   "source": [
    "# help(SphericalCircleSkyRegion)"
   ]
  },
  {
   "cell_type": "code",
   "execution_count": 36,
   "id": "9e3fe834",
   "metadata": {
    "id": "9e3fe834"
   },
   "outputs": [],
   "source": [
    "# select all events within a radius of 0.5 deg around center\n",
    "events_gc_3fhl = events_3fhl.select_region(region)"
   ]
  },
  {
   "cell_type": "code",
   "execution_count": 37,
   "id": "87e5205b",
   "metadata": {
    "id": "87e5205b",
    "scrolled": true
   },
   "outputs": [
    {
     "data": {
      "text/html": [
       "<div><i>Table length=1072</i>\n",
       "<table id=\"table140028202557744\" class=\"table-striped table-bordered table-condensed\">\n",
       "<thead><tr><th>ENERGY</th><th>RA</th><th>DEC</th><th>L</th><th>B</th><th>THETA</th><th>PHI</th><th>ZENITH_ANGLE</th><th>EARTH_AZIMUTH_ANGLE</th><th>TIME</th><th>EVENT_ID</th><th>RUN_ID</th><th>RECON_VERSION</th><th>CALIB_VERSION</th><th>EVENT_CLASS</th><th>EVENT_TYPE</th><th>CONVERSION_TYPE</th><th>LIVETIME</th><th>DIFRSP0</th><th>DIFRSP1</th><th>DIFRSP2</th><th>DIFRSP3</th><th>DIFRSP4</th></tr></thead>\n",
       "<thead><tr><th>GeV</th><th>deg</th><th>deg</th><th>deg</th><th>deg</th><th>deg</th><th>deg</th><th>deg</th><th>deg</th><th>s</th><th></th><th></th><th></th><th></th><th></th><th></th><th></th><th>s</th><th></th><th></th><th></th><th></th><th></th></tr></thead>\n",
       "<thead><tr><th>float32</th><th>float32</th><th>float32</th><th>float32</th><th>float32</th><th>float32</th><th>float32</th><th>float32</th><th>float32</th><th>float64</th><th>int32</th><th>int32</th><th>int16</th><th>int16[3]</th><th>bool[32]</th><th>bool[32]</th><th>int16</th><th>float64</th><th>float32</th><th>float32</th><th>float32</th><th>float32</th><th>float32</th></tr></thead>\n",
       "<tr><td>10.477372</td><td>266.3981</td><td>-28.96814</td><td>359.97003</td><td>-0.011748177</td><td>39.091587</td><td>275.5457</td><td>33.02354</td><td>229.59308</td><td>239635161.87982982</td><td>15688393</td><td>239629788</td><td>0</td><td>0 .. 0</td><td>False .. True</td><td>False .. True</td><td>0</td><td>214.62817406654358</td><td>0.0</td><td>0.0</td><td>0.0</td><td>0.0</td><td>0.0</td></tr>\n",
       "<tr><td>11.052406</td><td>266.24634</td><td>-28.93647</td><td>359.92776</td><td>0.1180845</td><td>56.084255</td><td>247.4965</td><td>57.81274</td><td>225.36261</td><td>240002597.98965886</td><td>1889952</td><td>240001674</td><td>0</td><td>0 .. 0</td><td>False .. True</td><td>False .. True</td><td>0</td><td>67.0843448638916</td><td>0.0</td><td>0.0</td><td>0.0</td><td>0.0</td><td>0.0</td></tr>\n",
       "<tr><td>10.79703</td><td>266.51337</td><td>-28.826479</td><td>0.1435136</td><td>-0.024153557</td><td>45.365997</td><td>218.8635</td><td>53.700718</td><td>109.1376</td><td>240144287.0987418</td><td>4446898</td><td>240143100</td><td>0</td><td>0 .. 0</td><td>False .. True</td><td>False .. False</td><td>1</td><td>105.46754723787308</td><td>0.0</td><td>0.0</td><td>0.0</td><td>0.0</td><td>0.0</td></tr>\n",
       "<tr><td>21.187159</td><td>266.4434</td><td>-28.95121</td><td>0.005110056</td><td>-0.03674154</td><td>61.505917</td><td>142.26233</td><td>29.38491</td><td>125.147705</td><td>240202165.43058077</td><td>11503469</td><td>240196811</td><td>0</td><td>0 .. 0</td><td>False .. True</td><td>False .. False</td><td>1</td><td>278.2089963257313</td><td>0.0</td><td>0.0</td><td>0.0</td><td>0.0</td><td>0.0</td></tr>\n",
       "<tr><td>15.433842</td><td>266.477</td><td>-29.037224</td><td>359.947</td><td>-0.10662507</td><td>17.080511</td><td>84.14524</td><td>50.828632</td><td>175.4593</td><td>241022926.11783114</td><td>2361614</td><td>241021695</td><td>0</td><td>0 .. 0</td><td>False .. True</td><td>False .. False</td><td>1</td><td>94.36425140500069</td><td>0.0</td><td>0.0</td><td>0.0</td><td>0.0</td><td>0.0</td></tr>\n",
       "<tr><td>14.190258</td><td>266.40958</td><td>-29.003975</td><td>359.94467</td><td>-0.038981616</td><td>41.68157</td><td>35.754562</td><td>68.799904</td><td>222.40038</td><td>241115428.74955294</td><td>3464661</td><td>241113668</td><td>0</td><td>0 .. 0</td><td>False .. True</td><td>False .. True</td><td>0</td><td>77.93258342146873</td><td>0.0</td><td>0.0</td><td>0.0</td><td>0.0</td><td>0.0</td></tr>\n",
       "<tr><td>...</td><td>...</td><td>...</td><td>...</td><td>...</td><td>...</td><td>...</td><td>...</td><td>...</td><td>...</td><td>...</td><td>...</td><td>...</td><td>...</td><td>...</td><td>...</td><td>...</td><td>...</td><td>...</td><td>...</td><td>...</td><td>...</td><td>...</td></tr>\n",
       "<tr><td>16.852297</td><td>266.1792</td><td>-28.609344</td><td>0.17596634</td><td>0.3391501</td><td>61.02091</td><td>195.68883</td><td>56.58519</td><td>127.10879</td><td>459430191.9090179</td><td>5002449</td><td>459427480</td><td>0</td><td>0 .. 0</td><td>False .. True</td><td>False .. False</td><td>1</td><td>279.63025492429733</td><td>0.0</td><td>0.0</td><td>0.0</td><td>0.0</td><td>0.0</td></tr>\n",
       "<tr><td>20.076075</td><td>266.5943</td><td>-28.506405</td><td>0.4538313</td><td>0.081632875</td><td>48.951244</td><td>225.70422</td><td>25.571493</td><td>257.01413</td><td>459625816.4069827</td><td>11491398</td><td>459621563</td><td>0</td><td>0 .. 0</td><td>False .. True</td><td>False .. True</td><td>0</td><td>72.6295308470726</td><td>0.0</td><td>0.0</td><td>0.0</td><td>0.0</td><td>0.0</td></tr>\n",
       "<tr><td>10.9416</td><td>265.99457</td><td>-28.765705</td><td>359.95795</td><td>0.3953491</td><td>53.88634</td><td>132.83992</td><td>9.849958</td><td>115.579315</td><td>459962501.8056821</td><td>10834966</td><td>459958431</td><td>0</td><td>0 .. 0</td><td>False .. True</td><td>False .. True</td><td>0</td><td>170.03486621379852</td><td>0.0</td><td>0.0</td><td>0.0</td><td>0.0</td><td>0.0</td></tr>\n",
       "<tr><td>10.021135</td><td>266.58603</td><td>-29.006046</td><td>0.023192262</td><td>-0.17183326</td><td>58.983257</td><td>139.42741</td><td>29.243576</td><td>109.29137</td><td>460042219.35562307</td><td>9552550</td><td>460038366</td><td>0</td><td>0 .. 0</td><td>False .. True</td><td>False .. True</td><td>0</td><td>115.27116513252258</td><td>0.0</td><td>0.0</td><td>0.0</td><td>0.0</td><td>0.0</td></tr>\n",
       "<tr><td>17.445463</td><td>266.63342</td><td>-28.807201</td><td>0.21464892</td><td>-0.1039705</td><td>55.48627</td><td>135.59155</td><td>14.227151</td><td>106.7812</td><td>460225372.9842249</td><td>1679082</td><td>460224933</td><td>0</td><td>0 .. 0</td><td>False .. True</td><td>False .. False</td><td>1</td><td>80.52235281467438</td><td>0.0</td><td>0.0</td><td>0.0</td><td>0.0</td><td>0.0</td></tr>\n",
       "<tr><td>18.465784</td><td>266.39728</td><td>-29.105953</td><td>359.85202</td><td>-0.08294058</td><td>55.97552</td><td>135.87787</td><td>18.909636</td><td>112.137924</td><td>459939497.057684</td><td>7689831</td><td>459935572</td><td>0</td><td>0 .. 0</td><td>False .. True</td><td>False .. True</td><td>0</td><td>70.72638684511185</td><td>0.0</td><td>0.0</td><td>0.0</td><td>0.0</td><td>0.0</td></tr>\n",
       "</table></div>"
      ],
      "text/plain": [
       "<Table length=1072>\n",
       "  ENERGY      RA       DEC          L      ... DIFRSP1 DIFRSP2 DIFRSP3 DIFRSP4\n",
       "   GeV       deg       deg         deg     ...                                \n",
       " float32   float32   float32     float32   ... float32 float32 float32 float32\n",
       "--------- --------- ---------- ----------- ... ------- ------- ------- -------\n",
       "10.477372  266.3981  -28.96814   359.97003 ...     0.0     0.0     0.0     0.0\n",
       "11.052406 266.24634  -28.93647   359.92776 ...     0.0     0.0     0.0     0.0\n",
       " 10.79703 266.51337 -28.826479   0.1435136 ...     0.0     0.0     0.0     0.0\n",
       "21.187159  266.4434  -28.95121 0.005110056 ...     0.0     0.0     0.0     0.0\n",
       "15.433842   266.477 -29.037224     359.947 ...     0.0     0.0     0.0     0.0\n",
       "14.190258 266.40958 -29.003975   359.94467 ...     0.0     0.0     0.0     0.0\n",
       "      ...       ...        ...         ... ...     ...     ...     ...     ...\n",
       "16.852297  266.1792 -28.609344  0.17596634 ...     0.0     0.0     0.0     0.0\n",
       "20.076075  266.5943 -28.506405   0.4538313 ...     0.0     0.0     0.0     0.0\n",
       "  10.9416 265.99457 -28.765705   359.95795 ...     0.0     0.0     0.0     0.0\n",
       "10.021135 266.58603 -29.006046 0.023192262 ...     0.0     0.0     0.0     0.0\n",
       "17.445463 266.63342 -28.807201  0.21464892 ...     0.0     0.0     0.0     0.0\n",
       "18.465784 266.39728 -29.105953   359.85202 ...     0.0     0.0     0.0     0.0"
      ]
     },
     "execution_count": 37,
     "metadata": {},
     "output_type": "execute_result"
    }
   ],
   "source": [
    "events_gc_3fhl.table"
   ]
  },
  {
   "cell_type": "code",
   "execution_count": 38,
   "id": "b3b27f9c",
   "metadata": {
    "id": "b3b27f9c"
   },
   "outputs": [
    {
     "name": "stdout",
     "output_type": "stream",
     "text": [
      "Total number of counts in the region: 1072\n"
     ]
    }
   ],
   "source": [
    "print(f\"Total number of counts in the region: {len(events_gc_3fhl.table):.0f}\")"
   ]
  },
  {
   "cell_type": "code",
   "execution_count": 39,
   "id": "fe68af8d",
   "metadata": {
    "id": "fe68af8d"
   },
   "outputs": [],
   "source": [
    "# sort events by energy\n",
    "events_gc_3fhl.table.sort(\"ENERGY\")"
   ]
  },
  {
   "cell_type": "code",
   "execution_count": 40,
   "id": "ccd3dfb1",
   "metadata": {
    "id": "ccd3dfb1"
   },
   "outputs": [
    {
     "data": {
      "text/html": [
       "<div><i>Table length=1072</i>\n",
       "<table id=\"table140028202557744\" class=\"table-striped table-bordered table-condensed\">\n",
       "<thead><tr><th>ENERGY</th><th>RA</th><th>DEC</th><th>L</th><th>B</th><th>THETA</th><th>PHI</th><th>ZENITH_ANGLE</th><th>EARTH_AZIMUTH_ANGLE</th><th>TIME</th><th>EVENT_ID</th><th>RUN_ID</th><th>RECON_VERSION</th><th>CALIB_VERSION</th><th>EVENT_CLASS</th><th>EVENT_TYPE</th><th>CONVERSION_TYPE</th><th>LIVETIME</th><th>DIFRSP0</th><th>DIFRSP1</th><th>DIFRSP2</th><th>DIFRSP3</th><th>DIFRSP4</th></tr></thead>\n",
       "<thead><tr><th>GeV</th><th>deg</th><th>deg</th><th>deg</th><th>deg</th><th>deg</th><th>deg</th><th>deg</th><th>deg</th><th>s</th><th></th><th></th><th></th><th></th><th></th><th></th><th></th><th>s</th><th></th><th></th><th></th><th></th><th></th></tr></thead>\n",
       "<thead><tr><th>float32</th><th>float32</th><th>float32</th><th>float32</th><th>float32</th><th>float32</th><th>float32</th><th>float32</th><th>float32</th><th>float64</th><th>int32</th><th>int32</th><th>int16</th><th>int16[3]</th><th>bool[32]</th><th>bool[32]</th><th>int16</th><th>float64</th><th>float32</th><th>float32</th><th>float32</th><th>float32</th><th>float32</th></tr></thead>\n",
       "<tr><td>10.003531</td><td>266.24414</td><td>-28.83849</td><td>0.010325086</td><td>0.17088301</td><td>56.01811</td><td>359.39285</td><td>52.783993</td><td>252.0706</td><td>408862687.2605102</td><td>9595362</td><td>408858352</td><td>0</td><td>0 .. 0</td><td>False .. True</td><td>False .. False</td><td>1</td><td>99.88818883895874</td><td>0.0</td><td>0.0</td><td>0.0</td><td>0.0</td><td>0.0</td></tr>\n",
       "<tr><td>10.010073</td><td>266.84854</td><td>-28.998936</td><td>0.14838642</td><td>-0.3644364</td><td>27.529398</td><td>47.85409</td><td>45.164097</td><td>117.6439</td><td>258902212.5020761</td><td>12712598</td><td>258897012</td><td>0</td><td>0 .. 0</td><td>False .. True</td><td>False .. True</td><td>0</td><td>42.838157922029495</td><td>0.0</td><td>0.0</td><td>0.0</td><td>0.0</td><td>0.0</td></tr>\n",
       "<tr><td>10.011088</td><td>266.4349</td><td>-28.661726</td><td>0.24836566</td><td>0.12036377</td><td>16.401566</td><td>243.1471</td><td>51.347694</td><td>218.0228</td><td>448968683.5617294</td><td>6527500</td><td>448966265</td><td>0</td><td>0 .. 0</td><td>False .. True</td><td>False .. True</td><td>0</td><td>179.4182030558586</td><td>0.0</td><td>0.0</td><td>0.0</td><td>0.0</td><td>0.0</td></tr>\n",
       "<tr><td>10.011463</td><td>266.42505</td><td>-28.829922</td><td>0.1002903</td><td>0.04012669</td><td>60.272713</td><td>345.70172</td><td>53.67087</td><td>121.51838</td><td>443328588.2041066</td><td>1405105</td><td>443328013</td><td>0</td><td>0 .. 0</td><td>False .. True</td><td>False .. False</td><td>1</td><td>224.62129080295563</td><td>0.0</td><td>0.0</td><td>0.0</td><td>0.0</td><td>0.0</td></tr>\n",
       "<tr><td>10.0145035</td><td>266.02267</td><td>-29.05043</td><td>359.72833</td><td>0.22521517</td><td>18.859262</td><td>196.3364</td><td>58.963047</td><td>204.5481</td><td>361113263.43622214</td><td>5912431</td><td>361110499</td><td>0</td><td>0 .. 0</td><td>False .. True</td><td>False .. False</td><td>1</td><td>90.59744256734848</td><td>0.0</td><td>0.0</td><td>0.0</td><td>0.0</td><td>0.0</td></tr>\n",
       "<tr><td>10.016446</td><td>266.6723</td><td>-28.76767</td><td>0.26613808</td><td>-0.11258274</td><td>55.849735</td><td>130.65848</td><td>16.346556</td><td>141.07446</td><td>272204823.9665944</td><td>4619793</td><td>272203601</td><td>0</td><td>0 .. 0</td><td>False .. True</td><td>False .. True</td><td>0</td><td>233.58866828680038</td><td>0.0</td><td>0.0</td><td>0.0</td><td>0.0</td><td>0.0</td></tr>\n",
       "<tr><td>...</td><td>...</td><td>...</td><td>...</td><td>...</td><td>...</td><td>...</td><td>...</td><td>...</td><td>...</td><td>...</td><td>...</td><td>...</td><td>...</td><td>...</td><td>...</td><td>...</td><td>...</td><td>...</td><td>...</td><td>...</td><td>...</td><td>...</td></tr>\n",
       "<tr><td>268.54333</td><td>266.41626</td><td>-29.032673</td><td>359.92322</td><td>-0.058921605</td><td>14.884031</td><td>50.23125</td><td>48.578518</td><td>138.4687</td><td>443449007.56964797</td><td>513123</td><td>443448779</td><td>0</td><td>0 .. 0</td><td>False .. True</td><td>False .. False</td><td>1</td><td>224.92849135398865</td><td>0.0</td><td>0.0</td><td>0.0</td><td>0.0</td><td>0.0</td></tr>\n",
       "<tr><td>297.04715</td><td>266.4721</td><td>-28.875668</td><td>0.082698785</td><td>-0.0188821</td><td>43.106876</td><td>63.949097</td><td>53.575146</td><td>242.72258</td><td>398869546.70564127</td><td>5579252</td><td>398866460</td><td>0</td><td>0 .. 0</td><td>False .. True</td><td>False .. True</td><td>0</td><td>250.65298783779144</td><td>0.0</td><td>0.0</td><td>0.0</td><td>0.0</td><td>0.0</td></tr>\n",
       "<tr><td>405.10287</td><td>266.35294</td><td>-29.03063</td><td>359.89612</td><td>-0.010612772</td><td>21.252243</td><td>142.10706</td><td>56.58542</td><td>199.0962</td><td>443564234.1196975</td><td>9211891</td><td>443560666</td><td>0</td><td>0 .. 0</td><td>False .. True</td><td>False .. False</td><td>1</td><td>24.133277237415314</td><td>0.0</td><td>0.0</td><td>0.0</td><td>0.0</td><td>0.0</td></tr>\n",
       "<tr><td>894.36786</td><td>266.48962</td><td>-28.986887</td><td>359.9957</td><td>-0.08985605</td><td>47.01152</td><td>4.969352</td><td>16.113997</td><td>237.47993</td><td>377662426.43522584</td><td>1246981</td><td>377662069</td><td>0</td><td>0 .. 0</td><td>False .. True</td><td>False .. False</td><td>1</td><td>166.71027266979218</td><td>0.0</td><td>0.0</td><td>0.0</td><td>0.0</td><td>0.0</td></tr>\n",
       "<tr><td>1501.3817</td><td>266.64957</td><td>-29.326126</td><td>359.77853</td><td>-0.38553828</td><td>36.644608</td><td>164.2077</td><td>73.664536</td><td>231.71347</td><td>416356916.23749113</td><td>5199399</td><td>416354158</td><td>0</td><td>0 .. 0</td><td>False .. True</td><td>False .. True</td><td>0</td><td>20.610958456993103</td><td>0.0</td><td>0.0</td><td>0.0</td><td>0.0</td><td>0.0</td></tr>\n",
       "<tr><td>1917.8594</td><td>266.30075</td><td>-28.72313</td><td>0.1346273</td><td>0.18876854</td><td>36.374397</td><td>165.53502</td><td>71.93175</td><td>228.05795</td><td>351851531.11496377</td><td>4069993</td><td>351849574</td><td>0</td><td>0 .. 0</td><td>False .. True</td><td>False .. True</td><td>0</td><td>228.53409498929977</td><td>0.0</td><td>0.0</td><td>0.0</td><td>0.0</td><td>0.0</td></tr>\n",
       "</table></div>"
      ],
      "text/plain": [
       "<Table length=1072>\n",
       "  ENERGY       RA       DEC          L      ... DIFRSP1 DIFRSP2 DIFRSP3 DIFRSP4\n",
       "   GeV        deg       deg         deg     ...                                \n",
       " float32    float32   float32     float32   ... float32 float32 float32 float32\n",
       "---------- --------- ---------- ----------- ... ------- ------- ------- -------\n",
       " 10.003531 266.24414  -28.83849 0.010325086 ...     0.0     0.0     0.0     0.0\n",
       " 10.010073 266.84854 -28.998936  0.14838642 ...     0.0     0.0     0.0     0.0\n",
       " 10.011088  266.4349 -28.661726  0.24836566 ...     0.0     0.0     0.0     0.0\n",
       " 10.011463 266.42505 -28.829922   0.1002903 ...     0.0     0.0     0.0     0.0\n",
       "10.0145035 266.02267  -29.05043   359.72833 ...     0.0     0.0     0.0     0.0\n",
       " 10.016446  266.6723  -28.76767  0.26613808 ...     0.0     0.0     0.0     0.0\n",
       "       ...       ...        ...         ... ...     ...     ...     ...     ...\n",
       " 268.54333 266.41626 -29.032673   359.92322 ...     0.0     0.0     0.0     0.0\n",
       " 297.04715  266.4721 -28.875668 0.082698785 ...     0.0     0.0     0.0     0.0\n",
       " 405.10287 266.35294  -29.03063   359.89612 ...     0.0     0.0     0.0     0.0\n",
       " 894.36786 266.48962 -28.986887    359.9957 ...     0.0     0.0     0.0     0.0\n",
       " 1501.3817 266.64957 -29.326126   359.77853 ...     0.0     0.0     0.0     0.0\n",
       " 1917.8594 266.30075  -28.72313   0.1346273 ...     0.0     0.0     0.0     0.0"
      ]
     },
     "execution_count": 40,
     "metadata": {},
     "output_type": "execute_result"
    }
   ],
   "source": [
    "events_gc_3fhl.table"
   ]
  },
  {
   "cell_type": "code",
   "execution_count": 41,
   "id": "979fe111",
   "metadata": {
    "id": "979fe111"
   },
   "outputs": [
    {
     "data": {
      "text/latex": [
       "$1.9178594 \\; \\mathrm{TeV}$"
      ],
      "text/plain": [
       "<Quantity 1.91785938 TeV>"
      ]
     },
     "execution_count": 41,
     "metadata": {},
     "output_type": "execute_result"
    }
   ],
   "source": [
    "# and show highest energy photon\n",
    "events_gc_3fhl.energy[-1].to(\"TeV\")"
   ]
  },
  {
   "cell_type": "code",
   "execution_count": null,
   "id": "512da48e",
   "metadata": {
    "id": "512da48e"
   },
   "outputs": [],
   "source": []
  },
  {
   "cell_type": "markdown",
   "id": "8315ad52",
   "metadata": {
    "id": "8315ad52"
   },
   "source": [
    "🔝 [Back to Top](#intro)<br>"
   ]
  },
  {
   "cell_type": "markdown",
   "id": "38469ed3",
   "metadata": {
    "id": "38469ed3"
   },
   "source": [
    "<a id='smaps'></a>\n",
    "## 4. Sky Maps\n",
    "\n",
    "The `~gammapy.maps` package contains classes to work with sky images and cubes.\n",
    "\n",
    "In this section, we will use a simple 2D sky image and will learn how to:\n",
    "\n",
    "* Read sky images from FITS files\n",
    "* Smooth images\n",
    "* Plot images\n",
    "* Cutout parts from images"
   ]
  },
  {
   "cell_type": "code",
   "execution_count": 42,
   "id": "4b548756",
   "metadata": {
    "id": "4b548756"
   },
   "outputs": [],
   "source": [
    "from gammapy.maps import Map"
   ]
  },
  {
   "cell_type": "code",
   "execution_count": 43,
   "id": "41cfbc80",
   "metadata": {
    "id": "41cfbc80"
   },
   "outputs": [
    {
     "name": "stdout",
     "output_type": "stream",
     "text": [
      "Help on class Map in module gammapy.maps.core:\n",
      "\n",
      "class Map(abc.ABC)\n",
      " |  Map(geom, data, meta=None, unit='')\n",
      " |  \n",
      " |  Abstract map class.\n",
      " |  \n",
      " |  This can represent WCS- or HEALPIX-based maps\n",
      " |  with 2 spatial dimensions and N non-spatial dimensions.\n",
      " |  \n",
      " |  Parameters\n",
      " |  ----------\n",
      " |  geom : `~gammapy.maps.Geom`\n",
      " |      Geometry\n",
      " |  data : `~numpy.ndarray` or `~astropy.units.Quantity`\n",
      " |      Data array\n",
      " |  meta : `dict`\n",
      " |      Dictionary to store meta data\n",
      " |  unit : str or `~astropy.units.Unit`\n",
      " |      Data unit, ignored if data is a Quantity.\n",
      " |  \n",
      " |  Method resolution order:\n",
      " |      Map\n",
      " |      abc.ABC\n",
      " |      builtins.object\n",
      " |  \n",
      " |  Methods defined here:\n",
      " |  \n",
      " |  __add__(self, other)\n",
      " |  \n",
      " |  __and__(self, other)\n",
      " |  \n",
      " |  __array__(self)\n",
      " |  \n",
      " |  __eq__(self, other)\n",
      " |      Return self==value.\n",
      " |  \n",
      " |  __ge__(self, other)\n",
      " |      Return self>=value.\n",
      " |  \n",
      " |  __gt__(self, other)\n",
      " |      Return self>value.\n",
      " |  \n",
      " |  __iadd__(self, other)\n",
      " |  \n",
      " |  __iand__(self, other)\n",
      " |  \n",
      " |  __imul__(self, other)\n",
      " |  \n",
      " |  __init__(self, geom, data, meta=None, unit='')\n",
      " |      Initialize self.  See help(type(self)) for accurate signature.\n",
      " |  \n",
      " |  __invert__(self)\n",
      " |  \n",
      " |  __ior__(self, other)\n",
      " |  \n",
      " |  __isub__(self, other)\n",
      " |  \n",
      " |  __itruediv__(self, other)\n",
      " |  \n",
      " |  __ixor__(self, other)\n",
      " |  \n",
      " |  __le__(self, other)\n",
      " |      Return self<=value.\n",
      " |  \n",
      " |  __lt__(self, other)\n",
      " |      Return self<value.\n",
      " |  \n",
      " |  __matmul__(self, other)\n",
      " |      Apply dot product with the input map.\n",
      " |      \n",
      " |      The input Map has to share a single MapAxis with the current Map.\n",
      " |      Because it has no spatial dimension, it must be a `~gammapy.maps.RegionNDMap`.\n",
      " |  \n",
      " |  __mul__(self, other)\n",
      " |  \n",
      " |  __ne__(self, other)\n",
      " |      Return self!=value.\n",
      " |  \n",
      " |  __or__(self, other)\n",
      " |  \n",
      " |  __repr__(self)\n",
      " |      Return repr(self).\n",
      " |  \n",
      " |  __sub__(self, other)\n",
      " |  \n",
      " |  __truediv__(self, other)\n",
      " |  \n",
      " |  __xor__(self, other)\n",
      " |  \n",
      " |  apply_edisp(self, edisp)\n",
      " |      .. deprecated:: v1.1\n",
      " |          The apply_edisp function is deprecated and may be removed in a future version.\n",
      " |              Use gammapy.datasets.apply_edisp instead.\n",
      " |      \n",
      " |      Apply energy dispersion to map. Requires energy axis.\n",
      " |      \n",
      " |              Parameters\n",
      " |              ----------\n",
      " |              edisp : `gammapy.irf.EDispKernel`\n",
      " |                  Energy dispersion matrix\n",
      " |      \n",
      " |              Returns\n",
      " |              -------\n",
      " |              map : `WcsNDMap`\n",
      " |                  Map with energy dispersion applied.\n",
      " |  \n",
      " |  coadd(self, map_in, weights=None)\n",
      " |      Add the contents of ``map_in`` to this map.\n",
      " |      \n",
      " |      This method can be used to combine maps containing integral quantities (e.g. counts)\n",
      " |      or differential quantities if the maps have the same binning.\n",
      " |      \n",
      " |      Parameters\n",
      " |      ----------\n",
      " |      map_in : `Map`\n",
      " |          Input map.\n",
      " |      weights: `Map` or `~numpy.ndarray`\n",
      " |          The weight factors while adding\n",
      " |  \n",
      " |  copy(self, **kwargs)\n",
      " |      Copy map instance and overwrite given attributes, except for geometry.\n",
      " |      \n",
      " |      Parameters\n",
      " |      ----------\n",
      " |      **kwargs : dict\n",
      " |          Keyword arguments to overwrite in the map constructor.\n",
      " |      \n",
      " |      Returns\n",
      " |      -------\n",
      " |      copy : `Map`\n",
      " |          Copied Map.\n",
      " |  \n",
      " |  crop(self, crop_width)\n",
      " |      Crop the spatial dimensions of the map.\n",
      " |      \n",
      " |      Parameters\n",
      " |      ----------\n",
      " |      crop_width : {sequence, array_like, int}\n",
      " |          Number of pixels cropped from the edges of each axis.\n",
      " |          Defined analogously to ``pad_with`` from `numpy.pad`.\n",
      " |      \n",
      " |      Returns\n",
      " |      -------\n",
      " |      map : `Map`\n",
      " |          Cropped map.\n",
      " |  \n",
      " |  cumsum(self, axis_name)\n",
      " |      Compute cumulative sum along a given axis\n",
      " |      \n",
      " |      Parameters\n",
      " |      ----------\n",
      " |      axis_name : str\n",
      " |          Along which axis to integrate.\n",
      " |      \n",
      " |      Returns\n",
      " |      -------\n",
      " |      cumsum : `Map`\n",
      " |          Map with cumulative sum\n",
      " |  \n",
      " |  dot(self, other)\n",
      " |      Apply dot product with the input map.\n",
      " |      \n",
      " |      The input Map has to share a single MapAxis with the current Map.\n",
      " |      Because it has no spatial dimension, it must be a `~gammapy.maps.RegionNDMap`.\n",
      " |      \n",
      " |      Parameters\n",
      " |      ----------\n",
      " |      other : `~gammapy.maps.RegionNDMap`\n",
      " |          Map to apply the dot product to.\n",
      " |          It must share a unique non-spatial MapAxis with the current Map.\n",
      " |      \n",
      " |      Returns\n",
      " |      -------\n",
      " |      map : `~gammapy.maps.Map`\n",
      " |          Map with dot product applied.\n",
      " |  \n",
      " |  downsample(self, factor, preserve_counts=True, axis_name=None)\n",
      " |      Downsample the spatial dimension by a given factor.\n",
      " |      \n",
      " |      Parameters\n",
      " |      ----------\n",
      " |      factor : int\n",
      " |          Downsampling factor.\n",
      " |      preserve_counts : bool\n",
      " |          Preserve the integral over each bin.  This should be true\n",
      " |          if the map is an integral quantity (e.g. counts) and false if\n",
      " |          the map is a differential quantity (e.g. intensity).\n",
      " |      axis_name : str\n",
      " |          Which axis to downsample. By default spatial axes are downsampled.\n",
      " |      \n",
      " |      Returns\n",
      " |      -------\n",
      " |      map : `Map`\n",
      " |          Downsampled map.\n",
      " |  \n",
      " |  fill_by_coord(self, coords, weights=None)\n",
      " |      Fill pixels at ``coords`` with given ``weights``.\n",
      " |      \n",
      " |      Parameters\n",
      " |      ----------\n",
      " |      coords : tuple or `~gammapy.maps.MapCoord`\n",
      " |          Coordinate arrays for each dimension of the map.  Tuple\n",
      " |          should be ordered as (lon, lat, x_0, ..., x_n) where x_i\n",
      " |          are coordinates for non-spatial dimensions of the map.\n",
      " |      weights : `~numpy.ndarray`\n",
      " |          Weights vector. Default is weight of one.\n",
      " |  \n",
      " |  fill_by_idx(self, idx, weights=None)\n",
      " |      Fill pixels at ``idx`` with given ``weights``.\n",
      " |      \n",
      " |      Parameters\n",
      " |      ----------\n",
      " |      idx : tuple\n",
      " |          Tuple of pixel index arrays for each dimension of the map.\n",
      " |          Tuple should be ordered as (I_lon, I_lat, I_0, ..., I_n)\n",
      " |          for WCS maps and (I_hpx, I_0, ..., I_n) for HEALPix maps.\n",
      " |      weights : `~numpy.ndarray`\n",
      " |          Weights vector. Default is weight of one.\n",
      " |  \n",
      " |  fill_by_pix(self, pix, weights=None)\n",
      " |      Fill pixels at ``pix`` with given ``weights``.\n",
      " |      \n",
      " |      Parameters\n",
      " |      ----------\n",
      " |      pix : tuple\n",
      " |          Tuple of pixel index arrays for each dimension of the map.\n",
      " |          Tuple should be ordered as (I_lon, I_lat, I_0, ..., I_n)\n",
      " |          for WCS maps and (I_hpx, I_0, ..., I_n) for HEALPix maps.\n",
      " |          Pixel indices can be either float or integer type.  Float\n",
      " |          indices will be rounded to the nearest integer.\n",
      " |      weights : `~numpy.ndarray`\n",
      " |          Weights vector. Default is weight of one.\n",
      " |  \n",
      " |  fill_events(self, events, weights=None)\n",
      " |      Fill event coordinates (`~gammapy.data.EventList`).\n",
      " |      \n",
      " |      Parameters\n",
      " |      ----------\n",
      " |      events : `~gammapy.data.EventList`\n",
      " |          Events to be fill in the map.\n",
      " |      weights : `~numpy.ndarray`\n",
      " |          Weights vector. Default is weight of one. The weights vector must be of the same length\n",
      " |          as the events column length.\n",
      " |  \n",
      " |  get_by_coord(self, coords, fill_value=nan)\n",
      " |      Return map values at the given map coordinates.\n",
      " |      \n",
      " |      Parameters\n",
      " |      ----------\n",
      " |      coords : tuple or `~gammapy.maps.MapCoord`\n",
      " |          Coordinate arrays for each dimension of the map.  Tuple\n",
      " |          should be ordered as (lon, lat, x_0, ..., x_n) where x_i\n",
      " |          are coordinates for non-spatial dimensions of the map.\n",
      " |      fill_value : float\n",
      " |          Value which is returned if the position is outside of the projection\n",
      " |          footprint\n",
      " |      \n",
      " |      Returns\n",
      " |      -------\n",
      " |      vals : `~numpy.ndarray`\n",
      " |         Values of pixels in the map.  np.nan used to flag coords\n",
      " |         outside of map.\n",
      " |  \n",
      " |  get_by_idx(self, idx)\n",
      " |      Return map values at the given pixel indices.\n",
      " |      \n",
      " |      Parameters\n",
      " |      ----------\n",
      " |      idx : tuple\n",
      " |          Tuple of pixel index arrays for each dimension of the map.\n",
      " |          Tuple should be ordered as (I_lon, I_lat, I_0, ..., I_n)\n",
      " |          for WCS maps and (I_hpx, I_0, ..., I_n) for HEALPix maps.\n",
      " |      \n",
      " |      Returns\n",
      " |      -------\n",
      " |      vals : `~numpy.ndarray`\n",
      " |         Array of pixel values.\n",
      " |         np.nan used to flag coordinate outside of map\n",
      " |  \n",
      " |  get_by_pix(self, pix, fill_value=nan)\n",
      " |      Return map values at the given pixel coordinates.\n",
      " |      \n",
      " |      Parameters\n",
      " |      ----------\n",
      " |      pix : tuple\n",
      " |          Tuple of pixel index arrays for each dimension of the map.\n",
      " |          Tuple should be ordered as (I_lon, I_lat, I_0, ..., I_n)\n",
      " |          for WCS maps and (I_hpx, I_0, ..., I_n) for HEALPix maps.\n",
      " |          Pixel indices can be either float or integer type.\n",
      " |      fill_value : float\n",
      " |          Value which is returned if the position is outside of the projection\n",
      " |          footprint\n",
      " |      \n",
      " |      Returns\n",
      " |      -------\n",
      " |      vals : `~numpy.ndarray`\n",
      " |         Array of pixel values.  np.nan used to flag coordinates\n",
      " |         outside of map\n",
      " |  \n",
      " |  get_image_by_coord(self, coords)\n",
      " |      Return spatial map at the given axis coordinates.\n",
      " |      \n",
      " |      Parameters\n",
      " |      ----------\n",
      " |      coords : tuple or dict\n",
      " |          Tuple should be ordered as (x_0, ..., x_n) where x_i are coordinates\n",
      " |          for non-spatial dimensions of the map. Dict should specify the axis\n",
      " |          names of the non-spatial axes such as {'axes0': x_0, ..., 'axesn': x_n}.\n",
      " |      \n",
      " |      Returns\n",
      " |      -------\n",
      " |      map_out : `Map`\n",
      " |          Map with spatial dimensions only.\n",
      " |      \n",
      " |      See Also\n",
      " |      --------\n",
      " |      get_image_by_idx, get_image_by_pix\n",
      " |      \n",
      " |      Examples\n",
      " |      --------\n",
      " |      ::\n",
      " |      \n",
      " |          import numpy as np\n",
      " |          from gammapy.maps import Map, MapAxis\n",
      " |          from astropy.coordinates import SkyCoord\n",
      " |          from astropy import units as u\n",
      " |      \n",
      " |          # Define map axes\n",
      " |          energy_axis = MapAxis.from_edges(\n",
      " |              np.logspace(-1., 1., 4), unit='TeV', name='energy',\n",
      " |          )\n",
      " |      \n",
      " |          time_axis = MapAxis.from_edges(\n",
      " |              np.linspace(0., 10, 20), unit='h', name='time',\n",
      " |          )\n",
      " |      \n",
      " |          # Define map center\n",
      " |          skydir = SkyCoord(0, 0, frame='galactic', unit='deg')\n",
      " |      \n",
      " |          # Create map\n",
      " |          m_wcs = Map.create(\n",
      " |              map_type='wcs',\n",
      " |              binsz=0.02,\n",
      " |              skydir=skydir,\n",
      " |              width=10.0,\n",
      " |              axes=[energy_axis, time_axis],\n",
      " |          )\n",
      " |      \n",
      " |          # Get image by coord tuple\n",
      " |          image = m_wcs.get_image_by_coord(('500 GeV', '1 h'))\n",
      " |      \n",
      " |          # Get image by coord dict with strings\n",
      " |          image = m_wcs.get_image_by_coord({'energy': '500 GeV', 'time': '1 h'})\n",
      " |      \n",
      " |          # Get image by coord dict with quantities\n",
      " |          image = m_wcs.get_image_by_coord({'energy': 0.5 * u.TeV, 'time': 1 * u.h})\n",
      " |  \n",
      " |  get_image_by_idx(self, idx)\n",
      " |      Return spatial map at the given axis pixel indices.\n",
      " |      \n",
      " |      Parameters\n",
      " |      ----------\n",
      " |      idx : tuple\n",
      " |          Tuple of scalar indices for each non spatial dimension of the map.\n",
      " |          Tuple should be ordered as (I_0, ..., I_n).\n",
      " |      \n",
      " |      See Also\n",
      " |      --------\n",
      " |      get_image_by_coord, get_image_by_pix\n",
      " |      \n",
      " |      Returns\n",
      " |      -------\n",
      " |      map_out : `Map`\n",
      " |          Map with spatial dimensions only.\n",
      " |  \n",
      " |  get_image_by_pix(self, pix)\n",
      " |      Return spatial map at the given axis pixel coordinates\n",
      " |      \n",
      " |      Parameters\n",
      " |      ----------\n",
      " |      pix : tuple\n",
      " |          Tuple of scalar pixel coordinates for each non-spatial dimension of\n",
      " |          the map. Tuple should be ordered as (I_0, ..., I_n). Pixel coordinates\n",
      " |          can be either float or integer type.\n",
      " |      \n",
      " |      See Also\n",
      " |      --------\n",
      " |      get_image_by_coord, get_image_by_idx\n",
      " |      \n",
      " |      Returns\n",
      " |      -------\n",
      " |      map_out : `Map`\n",
      " |          Map with spatial dimensions only.\n",
      " |  \n",
      " |  get_spectrum(self, region=None, func=<function nansum at 0x7f5b3003fe50>, weights=None)\n",
      " |      Extract spectrum in a given region.\n",
      " |      \n",
      " |      The spectrum can be computed by summing (or, more generally, applying ``func``)\n",
      " |      along the spatial axes in each energy bin. This occurs only inside the ``region``,\n",
      " |      which by default is assumed to be the whole spatial extension of the map.\n",
      " |      \n",
      " |      Parameters\n",
      " |      ----------\n",
      " |      region: `~regions.Region`\n",
      " |           Region (pixel or sky regions accepted).\n",
      " |      func : numpy.func\n",
      " |          Function to reduce the data. Default is np.nansum.\n",
      " |          For a boolean Map, use np.any or np.all.\n",
      " |      weights : `WcsNDMap`\n",
      " |          Array to be used as weights. The geometry must be equivalent.\n",
      " |      \n",
      " |      Returns\n",
      " |      -------\n",
      " |      spectrum : `~gammapy.maps.RegionNDMap`\n",
      " |          Spectrum in the given region.\n",
      " |  \n",
      " |  integral(self, axis_name, coords, **kwargs)\n",
      " |      Compute integral along a given axis\n",
      " |      \n",
      " |      This method uses interpolation of the cumulative sum.\n",
      " |      \n",
      " |      Parameters\n",
      " |      ----------\n",
      " |      axis_name : str\n",
      " |          Along which axis to integrate.\n",
      " |      coords : dict or `MapCoord`\n",
      " |          Map coordinates\n",
      " |      \n",
      " |      **kwargs : dict\n",
      " |          Coordinates at which to evaluate the IRF\n",
      " |      \n",
      " |      Returns\n",
      " |      -------\n",
      " |      array : `~astropy.units.Quantity`\n",
      " |          Returns 2D array with axes offset\n",
      " |  \n",
      " |  interp_by_coord(self, coords, method='linear', fill_value=None)\n",
      " |      Interpolate map values at the given map coordinates.\n",
      " |      \n",
      " |      Parameters\n",
      " |      ----------\n",
      " |      coords : tuple or `~gammapy.maps.MapCoord`\n",
      " |          Coordinate arrays for each dimension of the map.  Tuple\n",
      " |          should be ordered as (lon, lat, x_0, ..., x_n) where x_i\n",
      " |          are coordinates for non-spatial dimensions of the map.\n",
      " |      method : {\"linear\", \"nearest\"}\n",
      " |          Method to interpolate data values. By default linear\n",
      " |          interpolation is performed.\n",
      " |      fill_value : None or float value\n",
      " |          The value to use for points outside of the interpolation domain.\n",
      " |          If None, values outside the domain are extrapolated.\n",
      " |      \n",
      " |      Returns\n",
      " |      -------\n",
      " |      vals : `~numpy.ndarray`\n",
      " |          Interpolated pixel values.\n",
      " |  \n",
      " |  interp_by_pix(self, pix, method='linear', fill_value=None)\n",
      " |      Interpolate map values at the given pixel coordinates.\n",
      " |      \n",
      " |      Parameters\n",
      " |      ----------\n",
      " |      pix : tuple\n",
      " |          Tuple of pixel coordinate arrays for each dimension of the\n",
      " |          map.  Tuple should be ordered as (p_lon, p_lat, p_0, ...,\n",
      " |          p_n) where p_i are pixel coordinates for non-spatial\n",
      " |          dimensions of the map.\n",
      " |      method : {\"linear\", \"nearest\"}\n",
      " |          Method to interpolate data values. By default linear\n",
      " |          interpolation is performed.\n",
      " |      fill_value : None or float value\n",
      " |          The value to use for points outside of the interpolation domain.\n",
      " |          If None, values outside the domain are extrapolated.\n",
      " |      \n",
      " |      Returns\n",
      " |      -------\n",
      " |      vals : `~numpy.ndarray`\n",
      " |          Interpolated pixel values.\n",
      " |  \n",
      " |  interp_to_geom(self, geom, preserve_counts=False, fill_value=0, **kwargs)\n",
      " |      Interpolate map to input geometry.\n",
      " |      \n",
      " |      Parameters\n",
      " |      ----------\n",
      " |      geom : `~gammapy.maps.Geom`\n",
      " |          Target Map geometry\n",
      " |      preserve_counts : bool\n",
      " |          Preserve the integral over each bin.  This should be true\n",
      " |          if the map is an integral quantity (e.g. counts) and false if\n",
      " |          the map is a differential quantity (e.g. intensity)\n",
      " |      **kwargs : dict\n",
      " |          Keyword arguments passed to `Map.interp_by_coord`\n",
      " |      \n",
      " |      Returns\n",
      " |      -------\n",
      " |      interp_map : `Map`\n",
      " |          Interpolated Map\n",
      " |  \n",
      " |  is_allclose(self, other, rtol_axes=0.001, atol_axes=1e-06, **kwargs)\n",
      " |      Compare two Maps for close equivalency\n",
      " |      \n",
      " |      Parameters\n",
      " |      ----------\n",
      " |      other : `gammapy.maps.Map`\n",
      " |          The Map to compare against\n",
      " |      rtol_axes : float\n",
      " |          Relative tolerance for the axes comparison.\n",
      " |      atol_axes : float\n",
      " |          Relative tolerance for the axes comparison.\n",
      " |      **kwargs : dict\n",
      " |              keywords passed to `numpy.allclose`\n",
      " |      \n",
      " |      Returns\n",
      " |      -------\n",
      " |      is_allclose : bool\n",
      " |          Whether the Map is all close.\n",
      " |  \n",
      " |  iter_by_axis(self, axis_name, keepdims=False)\n",
      " |      \"Iterate over a given axis\n",
      " |      \n",
      " |      Yields\n",
      " |      ------\n",
      " |      map : `Map`\n",
      " |          Map iteration.\n",
      " |      \n",
      " |      See also\n",
      " |      --------\n",
      " |      iter_by_image : iterate by image returning a map\n",
      " |  \n",
      " |  iter_by_image(self, keepdims=False)\n",
      " |      Iterate over image planes of a map.\n",
      " |      \n",
      " |      Parameters\n",
      " |      ----------\n",
      " |      keepdims : bool\n",
      " |          Keep dimensions.\n",
      " |      \n",
      " |      Yields\n",
      " |      ------\n",
      " |      map : `Map`\n",
      " |          Map iteration.\n",
      " |      \n",
      " |      See also\n",
      " |      --------\n",
      " |      iter_by_image_data : iterate by image returning data and index\n",
      " |  \n",
      " |  iter_by_image_data(self)\n",
      " |      Iterate over image planes of the map.\n",
      " |      \n",
      " |      The image plane index is in data order, so that the data array can be\n",
      " |      indexed directly.\n",
      " |      \n",
      " |      Yields\n",
      " |      ------\n",
      " |      (data, idx) : tuple\n",
      " |          Where ``data`` is a `numpy.ndarray` view of the image plane data,\n",
      " |          and ``idx`` is a tuple of int, the index of the image plane.\n",
      " |      \n",
      " |      See also\n",
      " |      --------\n",
      " |      iter_by_image : iterate by image returning a map\n",
      " |  \n",
      " |  mask_nearest_position(self, position)\n",
      " |      Given a sky coordinate return nearest valid position in the mask\n",
      " |      \n",
      " |      If the mask contains additional axes, the mask is reduced over those.\n",
      " |      \n",
      " |      Parameters\n",
      " |      ----------\n",
      " |      position : `~astropy.coordinates.SkyCoord`\n",
      " |          Test position\n",
      " |      \n",
      " |      Returns\n",
      " |      -------\n",
      " |      position : `~astropy.coordinates.SkyCoord`\n",
      " |          Nearest position in the mask\n",
      " |  \n",
      " |  normalize(self, axis_name=None)\n",
      " |      Normalise data in place along a given axis.\n",
      " |      \n",
      " |      Parameters\n",
      " |      ----------\n",
      " |      axis_name : str\n",
      " |          Along which axis to normalize.\n",
      " |  \n",
      " |  pad(self, pad_width, axis_name=None, mode='constant', cval=0, method='linear')\n",
      " |      Pad the spatial dimensions of the map.\n",
      " |      \n",
      " |      Parameters\n",
      " |      ----------\n",
      " |      pad_width : {sequence, array_like, int}\n",
      " |          Number of pixels padded to the edges of each axis.\n",
      " |      axis_name : str\n",
      " |          Which axis to downsample. By default spatial axes are padded.\n",
      " |      mode : {'edge', 'constant', 'interp'}\n",
      " |          Padding mode.  'edge' pads with the closest edge value.\n",
      " |          'constant' pads with a constant value. 'interp' pads with\n",
      " |          an extrapolated value.\n",
      " |      cval : float\n",
      " |          Padding value when mode='consant'.\n",
      " |      \n",
      " |      Returns\n",
      " |      -------\n",
      " |      map : `Map`\n",
      " |          Padded map.\n",
      " |  \n",
      " |  plot_grid(self, figsize=None, ncols=3, **kwargs)\n",
      " |      Plot map as a grid of subplots for non-spatial axes\n",
      " |      \n",
      " |      Parameters\n",
      " |      ----------\n",
      " |      figsize : tuple of int\n",
      " |          Figsize to plot on\n",
      " |      ncols : int\n",
      " |          Number of columns to plot\n",
      " |      **kwargs : dict\n",
      " |          Keyword arguments passed to `WcsNDMap.plot`.\n",
      " |      \n",
      " |      Returns\n",
      " |      -------\n",
      " |      axes : `~numpy.ndarray` of `~matplotlib.pyplot.Axes`\n",
      " |          Axes grid\n",
      " |  \n",
      " |  plot_interactive(self, rc_params=None, **kwargs)\n",
      " |      Plot map with interactive widgets to explore the non spatial axes.\n",
      " |      \n",
      " |      Parameters\n",
      " |      ----------\n",
      " |      rc_params : dict\n",
      " |          Passed to ``matplotlib.rc_context(rc=rc_params)`` to style the plot.\n",
      " |      **kwargs : dict\n",
      " |          Keyword arguments passed to `WcsNDMap.plot`.\n",
      " |      \n",
      " |      Examples\n",
      " |      --------\n",
      " |      You can try this out e.g. using a Fermi-LAT diffuse model cube with an energy axis::\n",
      " |      \n",
      " |          from gammapy.maps import Map\n",
      " |      \n",
      " |          m = Map.read(\"$GAMMAPY_DATA/fermi_3fhl/gll_iem_v06_cutout.fits\")\n",
      " |          m.plot_interactive(add_cbar=True, stretch=\"sqrt\")\n",
      " |      \n",
      " |      If you would like to adjust the figure size you can use the ``rc_params`` argument::\n",
      " |      \n",
      " |          rc_params = {'figure.figsize': (12, 6), 'font.size': 12}\n",
      " |          m.plot_interactive(rc_params=rc_params)\n",
      " |  \n",
      " |  reduce(self, axis_name, func=<ufunc 'add'>, keepdims=False, weights=None)\n",
      " |      Reduce map over a single non-spatial axis\n",
      " |      \n",
      " |      Parameters\n",
      " |      ----------\n",
      " |      axis_name: str\n",
      " |          The name of the axis to reduce over\n",
      " |      func : `~numpy.ufunc`\n",
      " |          Function to use for reducing the data.\n",
      " |      keepdims : bool, optional\n",
      " |          If this is set to true, the axes which are summed over are left in\n",
      " |          the map with a single bin\n",
      " |      weights : `Map`\n",
      " |          Weights to be applied.\n",
      " |      \n",
      " |      Returns\n",
      " |      -------\n",
      " |      map_out : `~Map`\n",
      " |          Map with the given non-spatial axes reduced\n",
      " |  \n",
      " |  reduce_over_axes(self, func=<ufunc 'add'>, keepdims=False, axes_names=None, weights=None)\n",
      " |      Reduce map over non-spatial axes\n",
      " |      \n",
      " |      Parameters\n",
      " |      ----------\n",
      " |      func : `~numpy.ufunc`\n",
      " |          Function to use for reducing the data.\n",
      " |      keepdims : bool, optional\n",
      " |          If this is set to true, the axes which are summed over are left in\n",
      " |          the map with a single bin\n",
      " |      axes_names: list\n",
      " |          Names of MapAxis to reduce over\n",
      " |          If None, all will reduced\n",
      " |      weights : `Map`\n",
      " |          Weights to be applied.\n",
      " |      \n",
      " |      Returns\n",
      " |      -------\n",
      " |      map_out : `~Map`\n",
      " |          Map with non-spatial axes reduced\n",
      " |  \n",
      " |  rename_axes(self, names, new_names)\n",
      " |      Rename the Map axes.\n",
      " |      \n",
      " |      Parameters\n",
      " |      ----------\n",
      " |      names : list or str\n",
      " |          Names of the axes.\n",
      " |      new_names : list or str\n",
      " |          New names of the axes (list must be of same length than `names`).\n",
      " |      \n",
      " |      Returns\n",
      " |      -------\n",
      " |      geom : `~Map`\n",
      " |          Renamed Map.\n",
      " |  \n",
      " |  reorder_axes(self, axes_names)\n",
      " |      Return a new map re-ordering the non-spatial axes order.\n",
      " |      \n",
      " |      Parameters\n",
      " |      ----------\n",
      " |      axes_names : list of str\n",
      " |          the list of axes names in the required order\n",
      " |      \n",
      " |      Returns\n",
      " |      -------\n",
      " |      map : `~gammapy.maps.Map`\n",
      " |          the map with axes re-ordered\n",
      " |  \n",
      " |  reproject_to_geom(self, geom, preserve_counts=False, precision_factor=10)\n",
      " |      Reproject map to input geometry.\n",
      " |      \n",
      " |      Parameters\n",
      " |      ----------\n",
      " |      geom : `~gammapy.maps.Geom`\n",
      " |          Target Map geometry\n",
      " |      preserve_counts : bool\n",
      " |          Preserve the integral over each bin.  This should be true\n",
      " |          if the map is an integral quantity (e.g. counts) and false if\n",
      " |          the map is a differential quantity (e.g. intensity)\n",
      " |      precision_factor : int\n",
      " |         Minimal factor between the bin size of the output map and the oversampled base map.\n",
      " |         Used only for the oversampling method.\n",
      " |      \n",
      " |      Returns\n",
      " |      -------\n",
      " |      output_map : `Map`\n",
      " |          Reprojected Map\n",
      " |  \n",
      " |  resample(self, geom, weights=None, preserve_counts=True)\n",
      " |      Resample pixels to ``geom`` with given ``weights``.\n",
      " |      \n",
      " |      Parameters\n",
      " |      ----------\n",
      " |      geom : `~gammapy.maps.Geom`\n",
      " |          Target Map geometry\n",
      " |      weights : `~numpy.ndarray`\n",
      " |          Weights vector. Default is weight of one. Must have same shape as\n",
      " |          the data of the map.\n",
      " |      preserve_counts : bool\n",
      " |          Preserve the integral over each bin.  This should be true\n",
      " |          if the map is an integral quantity (e.g. counts) and false if\n",
      " |          the map is a differential quantity (e.g. intensity)\n",
      " |      \n",
      " |      Returns\n",
      " |      -------\n",
      " |      resampled_map : `Map`\n",
      " |          Resampled map\n",
      " |  \n",
      " |  resample_axis(self, axis, weights=None, ufunc=<ufunc 'add'>)\n",
      " |      Resample map to a new axis by grouping and reducing smaller bins by a given ufunc\n",
      " |      \n",
      " |      By default, the map content are summed over the smaller bins. Other numpy ufunc can be\n",
      " |      used, e.g. `numpy.logical_and` or `numpy.logical_or`.\n",
      " |      \n",
      " |      Parameters\n",
      " |      ----------\n",
      " |      axis : `MapAxis`\n",
      " |          New map axis.\n",
      " |      weights : `Map`\n",
      " |          Array to be used as weights. The spatial geometry must be equivalent\n",
      " |          to `other` and additional axes must be broadcastable.\n",
      " |      ufunc : `~numpy.ufunc`\n",
      " |          ufunc to use to resample the axis. Default is numpy.add.\n",
      " |      \n",
      " |      \n",
      " |      Returns\n",
      " |      -------\n",
      " |      map : `Map`\n",
      " |          Map with resampled axis.\n",
      " |  \n",
      " |  sample_coord(self, n_events, random_state=0)\n",
      " |      Sample position and energy of events.\n",
      " |      \n",
      " |      Parameters\n",
      " |      ----------\n",
      " |      n_events : int\n",
      " |          Number of events to sample.\n",
      " |      random_state : {int, 'random-seed', 'global-rng', `~numpy.random.RandomState`}\n",
      " |          Defines random number generator initialisation.\n",
      " |          Passed to `~gammapy.utils.random.get_random_state`.\n",
      " |      \n",
      " |      Returns\n",
      " |      -------\n",
      " |      coords : `~gammapy.maps.MapCoord` object.\n",
      " |          Sequence of coordinates and energies of the sampled events.\n",
      " |  \n",
      " |  set_by_coord(self, coords, vals)\n",
      " |      Set pixels at ``coords`` with given ``vals``.\n",
      " |      \n",
      " |      Parameters\n",
      " |      ----------\n",
      " |      coords : tuple or `~gammapy.maps.MapCoord`\n",
      " |          Coordinate arrays for each dimension of the map.  Tuple\n",
      " |          should be ordered as (lon, lat, x_0, ..., x_n) where x_i\n",
      " |          are coordinates for non-spatial dimensions of the map.\n",
      " |      vals : `~numpy.ndarray`\n",
      " |          Values vector.\n",
      " |  \n",
      " |  set_by_idx(self, idx, vals)\n",
      " |      Set pixels at ``idx`` with given ``vals``.\n",
      " |      \n",
      " |      Parameters\n",
      " |      ----------\n",
      " |      idx : tuple\n",
      " |          Tuple of pixel index arrays for each dimension of the map.\n",
      " |          Tuple should be ordered as (I_lon, I_lat, I_0, ..., I_n)\n",
      " |          for WCS maps and (I_hpx, I_0, ..., I_n) for HEALPix maps.\n",
      " |      vals : `~numpy.ndarray`\n",
      " |          Values vector.\n",
      " |  \n",
      " |  set_by_pix(self, pix, vals)\n",
      " |      Set pixels at ``pix`` with given ``vals``.\n",
      " |      \n",
      " |      Parameters\n",
      " |      ----------\n",
      " |      pix : tuple\n",
      " |          Tuple of pixel index arrays for each dimension of the map.\n",
      " |          Tuple should be ordered as (I_lon, I_lat, I_0, ..., I_n)\n",
      " |          for WCS maps and (I_hpx, I_0, ..., I_n) for HEALPix maps.\n",
      " |          Pixel indices can be either float or integer type.  Float\n",
      " |          indices will be rounded to the nearest integer.\n",
      " |      vals : `~numpy.ndarray`\n",
      " |          Values vector.\n",
      " |  \n",
      " |  slice_by_idx(self, slices)\n",
      " |      Slice sub map from map object.\n",
      " |      \n",
      " |      Parameters\n",
      " |      ----------\n",
      " |      slices : dict\n",
      " |          Dict of axes names and integers or `slice` object pairs. Contains one\n",
      " |          element for each non-spatial dimension. For integer indexing the\n",
      " |          corresponding axes is dropped from the map. Axes not specified in the\n",
      " |          dict are kept unchanged.\n",
      " |      \n",
      " |      Returns\n",
      " |      -------\n",
      " |      map_out : `Map`\n",
      " |          Sliced map object.\n",
      " |  \n",
      " |  split_by_axis(self, axis_name)\n",
      " |      Split a Map along an axis into multiple maps.\n",
      " |      \n",
      " |      Parameters\n",
      " |      ----------\n",
      " |      axis_name : str\n",
      " |          Name of the axis to split\n",
      " |      \n",
      " |      Returns\n",
      " |      -------\n",
      " |      maps : list\n",
      " |          A list of `~gammapy.maps.Map`\n",
      " |  \n",
      " |  sum_over_axes(self, axes_names=None, keepdims=True, weights=None)\n",
      " |      To sum map values over all non-spatial axes.\n",
      " |      \n",
      " |      Parameters\n",
      " |      ----------\n",
      " |      keepdims : bool, optional\n",
      " |          If this is set to true, the axes which are summed over are left in\n",
      " |          the map with a single bin\n",
      " |      axes_names: list of str\n",
      " |          Names of MapAxis to reduce over. If None, all will summed over\n",
      " |      weights : `Map`\n",
      " |          Weights to be applied. The Map should have the same geometry.\n",
      " |      \n",
      " |      Returns\n",
      " |      -------\n",
      " |      map_out : `~Map`\n",
      " |          Map with non-spatial axes summed over\n",
      " |  \n",
      " |  to_cube(self, axes)\n",
      " |      Append non-spatial axes to create a higher-dimensional Map.\n",
      " |      \n",
      " |      This will result in a Map with a new geometry with\n",
      " |      N+M dimensions where N is the number of current dimensions and\n",
      " |      M is the number of axes in the list. The data is reshaped onto the\n",
      " |      new geometry\n",
      " |      \n",
      " |      Parameters\n",
      " |      ----------\n",
      " |      axes : list\n",
      " |          Axes that will be appended to this Map.\n",
      " |          The axes should have only one bin\n",
      " |      \n",
      " |      Returns\n",
      " |      -------\n",
      " |      map : `~gammapy.maps.WcsNDMap`\n",
      " |          new map\n",
      " |  \n",
      " |  to_unit(self, unit)\n",
      " |      Convert map to different unit\n",
      " |      \n",
      " |      Parameters\n",
      " |      ----------\n",
      " |      unit : `~astropy.unit.Unit` or str\n",
      " |          New unit\n",
      " |      \n",
      " |      Returns\n",
      " |      -------\n",
      " |      map : `Map`\n",
      " |          Map with new unit and converted data\n",
      " |  \n",
      " |  upsample(self, factor, order=0, preserve_counts=True, axis_name=None)\n",
      " |      Upsample the spatial dimension by a given factor.\n",
      " |      \n",
      " |      Parameters\n",
      " |      ----------\n",
      " |      factor : int\n",
      " |          Upsampling factor.\n",
      " |      order : int\n",
      " |          Order of the interpolation used for upsampling.\n",
      " |      preserve_counts : bool\n",
      " |          Preserve the integral over each bin.  This should be true\n",
      " |          if the map is an integral quantity (e.g. counts) and false if\n",
      " |          the map is a differential quantity (e.g. intensity).\n",
      " |      axis_name : str\n",
      " |          Which axis to upsample. By default spatial axes are upsampled.\n",
      " |      \n",
      " |      \n",
      " |      Returns\n",
      " |      -------\n",
      " |      map : `Map`\n",
      " |          Upsampled map.\n",
      " |  \n",
      " |  write(self, filename, overwrite=False, **kwargs)\n",
      " |      Write to a FITS file.\n",
      " |      \n",
      " |      Parameters\n",
      " |      ----------\n",
      " |      filename : str\n",
      " |          Output file name.\n",
      " |      overwrite : bool\n",
      " |          Overwrite existing file?\n",
      " |      hdu : str\n",
      " |          Set the name of the image extension.  By default this will\n",
      " |          be set to SKYMAP (for BINTABLE HDU) or PRIMARY (for IMAGE\n",
      " |          HDU).\n",
      " |      hdu_bands : str\n",
      " |          Set the name of the bands table extension.  By default this will\n",
      " |          be set to BANDS.\n",
      " |      format : str, optional\n",
      " |          FITS format convention.  By default files will be written\n",
      " |          to the gamma-astro-data-formats (GADF) format.  This\n",
      " |          option can be used to write files that are compliant with\n",
      " |          format conventions required by specific software (e.g. the\n",
      " |          Fermi Science Tools). The following formats are supported:\n",
      " |      \n",
      " |              - \"gadf\" (default)\n",
      " |              - \"fgst-ccube\"\n",
      " |              - \"fgst-ltcube\"\n",
      " |              - \"fgst-bexpcube\"\n",
      " |              - \"fgst-srcmap\"\n",
      " |              - \"fgst-template\"\n",
      " |              - \"fgst-srcmap-sparse\"\n",
      " |              - \"galprop\"\n",
      " |              - \"galprop2\"\n",
      " |      \n",
      " |      sparse : bool\n",
      " |          Sparsify the map by dropping pixels with zero amplitude.\n",
      " |          This option is only compatible with the 'gadf' format.\n",
      " |  \n",
      " |  ----------------------------------------------------------------------\n",
      " |  Class methods defined here:\n",
      " |  \n",
      " |  from_stack(maps, axis=None, axis_name=None) from abc.ABCMeta\n",
      " |      Create Map from list of images and a non-spatial axis.\n",
      " |      \n",
      " |      The image geometries must be aligned, except for the axis that is stacked.\n",
      " |      \n",
      " |      Parameters\n",
      " |      ----------\n",
      " |      maps : list of `Map` objects\n",
      " |          List of maps\n",
      " |      axis : `MapAxis`\n",
      " |          If a `MapAxis` is provided the maps are stacked along the last data\n",
      " |          axis and the new axis is introduced.\n",
      " |      axis_name : str\n",
      " |          If an axis name is as string the given the maps are stacked along\n",
      " |          the given axis name.\n",
      " |      \n",
      " |      Returns\n",
      " |      -------\n",
      " |      map : `Map`\n",
      " |          Map with additional non-spatial axis.\n",
      " |  \n",
      " |  ----------------------------------------------------------------------\n",
      " |  Static methods defined here:\n",
      " |  \n",
      " |  create(**kwargs)\n",
      " |      Create an empty map object.\n",
      " |      \n",
      " |      This method accepts generic options listed below, as well as options\n",
      " |      for `HpxMap` and `WcsMap` objects. For WCS-specific options, see\n",
      " |      `WcsMap.create` and for HPX-specific options, see `HpxMap.create`.\n",
      " |      \n",
      " |      Parameters\n",
      " |      ----------\n",
      " |      frame : str\n",
      " |          Coordinate system, either Galactic (\"galactic\") or Equatorial\n",
      " |          (\"icrs\").\n",
      " |      map_type : {'wcs', 'wcs-sparse', 'hpx', 'hpx-sparse', 'region'}\n",
      " |          Map type.  Selects the class that will be used to\n",
      " |          instantiate the map.\n",
      " |      binsz : float or `~numpy.ndarray`\n",
      " |          Pixel size in degrees.\n",
      " |      skydir : `~astropy.coordinates.SkyCoord`\n",
      " |          Coordinate of map center.\n",
      " |      axes : list\n",
      " |          List of `~MapAxis` objects for each non-spatial dimension.\n",
      " |          If None then the map will be a 2D image.\n",
      " |      dtype : str\n",
      " |          Data type, default is 'float32'\n",
      " |      unit : str or `~astropy.units.Unit`\n",
      " |          Data unit.\n",
      " |      meta : `dict`\n",
      " |          Dictionary to store meta data.\n",
      " |      region : `~regions.SkyRegion`\n",
      " |          Sky region used for the region map.\n",
      " |      \n",
      " |      Returns\n",
      " |      -------\n",
      " |      map : `Map`\n",
      " |          Empty map object.\n",
      " |  \n",
      " |  from_geom(geom, meta=None, data=None, unit='', dtype='float32')\n",
      " |      Generate an empty map from a `Geom` instance.\n",
      " |      \n",
      " |      Parameters\n",
      " |      ----------\n",
      " |      geom : `Geom`\n",
      " |          Map geometry.\n",
      " |      data : `numpy.ndarray`\n",
      " |          data array\n",
      " |      meta : `dict`\n",
      " |          Dictionary to store meta data.\n",
      " |      unit : str or `~astropy.units.Unit`\n",
      " |          Data unit.\n",
      " |      \n",
      " |      Returns\n",
      " |      -------\n",
      " |      map_out : `Map`\n",
      " |          Map object\n",
      " |  \n",
      " |  from_hdulist(hdulist, hdu=None, hdu_bands=None, map_type='auto', format=None, colname=None)\n",
      " |      Create from `astropy.io.fits.HDUList`.\n",
      " |      \n",
      " |      Parameters\n",
      " |      ----------\n",
      " |      hdulist :  `~astropy.io.fits.HDUList`\n",
      " |          HDU list containing HDUs for map data and bands.\n",
      " |      hdu : str\n",
      " |          Name or index of the HDU with the map data.\n",
      " |      hdu_bands : str\n",
      " |          Name or index of the HDU with the BANDS table.\n",
      " |      map_type : {\"auto\", \"wcs\", \"hpx\", \"region\"}\n",
      " |          Map type.\n",
      " |      format : {'gadf', 'fgst-ccube', 'fgst-template'}\n",
      " |          FITS format convention.\n",
      " |      colname : str, optional\n",
      " |          Data column name to be used for the HEALPix map.\n",
      " |      \n",
      " |      Returns\n",
      " |      -------\n",
      " |      map_out : `Map`\n",
      " |          Map object\n",
      " |  \n",
      " |  read(filename, hdu=None, hdu_bands=None, map_type='auto', format=None, colname=None)\n",
      " |      Read a map from a FITS file.\n",
      " |      \n",
      " |      Parameters\n",
      " |      ----------\n",
      " |      filename : str or `~pathlib.Path`\n",
      " |          Name of the FITS file.\n",
      " |      hdu : str\n",
      " |          Name or index of the HDU with the map data.\n",
      " |      hdu_bands : str\n",
      " |          Name or index of the HDU with the BANDS table.  If not\n",
      " |          defined this will be inferred from the FITS header of the\n",
      " |          map HDU.\n",
      " |      map_type : {'wcs', 'wcs-sparse', 'hpx', 'hpx-sparse', 'auto', 'region'}\n",
      " |          Map type.  Selects the class that will be used to\n",
      " |          instantiate the map.  The map type should be consistent\n",
      " |          with the format of the input file.  If map_type is 'auto'\n",
      " |          then an appropriate map type will be inferred from the\n",
      " |          input file.\n",
      " |      colname : str, optional\n",
      " |          data column name to be used of healix map.\n",
      " |      \n",
      " |      Returns\n",
      " |      -------\n",
      " |      map_out : `Map`\n",
      " |          Map object\n",
      " |  \n",
      " |  ----------------------------------------------------------------------\n",
      " |  Readonly properties defined here:\n",
      " |  \n",
      " |  geom\n",
      " |      Map geometry (`~gammapy.maps.Geom`)\n",
      " |  \n",
      " |  is_mask\n",
      " |      Whether map is mask with bool dtype\n",
      " |  \n",
      " |  unit\n",
      " |      Map unit (`~astropy.units.Unit`)\n",
      " |  \n",
      " |  ----------------------------------------------------------------------\n",
      " |  Data descriptors defined here:\n",
      " |  \n",
      " |  __dict__\n",
      " |      dictionary for instance variables (if defined)\n",
      " |  \n",
      " |  __weakref__\n",
      " |      list of weak references to the object (if defined)\n",
      " |  \n",
      " |  data\n",
      " |      Data array (`~numpy.ndarray`)\n",
      " |  \n",
      " |  meta\n",
      " |      Map meta (`dict`)\n",
      " |  \n",
      " |  quantity\n",
      " |      Map data times unit (`~astropy.units.Quantity`)\n",
      " |  \n",
      " |  ----------------------------------------------------------------------\n",
      " |  Data and other attributes defined here:\n",
      " |  \n",
      " |  __abstractmethods__ = frozenset({'_pad_spatial', '_resample_by_idx', '...\n",
      " |  \n",
      " |  __hash__ = None\n",
      " |  \n",
      " |  tag = 'map'\n",
      "\n"
     ]
    }
   ],
   "source": [
    "help(Map)"
   ]
  },
  {
   "cell_type": "code",
   "execution_count": null,
   "id": "sMUy4MAoqsl0",
   "metadata": {
    "id": "sMUy4MAoqsl0"
   },
   "outputs": [],
   "source": []
  },
  {
   "cell_type": "code",
   "execution_count": 44,
   "id": "199c0892",
   "metadata": {
    "id": "199c0892"
   },
   "outputs": [
    {
     "data": {
      "text/plain": [
       "WcsNDMap\n",
       "\n",
       "\tgeom  : WcsGeom \n",
       " \taxes  : ['lon', 'lat']\n",
       "\tshape : (400, 200)\n",
       "\tndim  : 2\n",
       "\tunit  : \n",
       "\tdtype : >i8"
      ]
     },
     "execution_count": 44,
     "metadata": {},
     "output_type": "execute_result"
    }
   ],
   "source": [
    "gc_3fhl = Map.read(\"$GAMMAPY_DATA/fermi-3fhl-gc/fermi-3fhl-gc-counts.fits.gz\")\n",
    "gc_3fhl"
   ]
  },
  {
   "cell_type": "code",
   "execution_count": 45,
   "id": "237fc3a8",
   "metadata": {
    "id": "237fc3a8"
   },
   "outputs": [],
   "source": [
    "gc_3fhl = Map.create(\n",
    "    width=(20 * u.deg, 10 * u.deg),\n",
    "    skydir=center, # Coordinate of map center\n",
    "    proj=\"CAR\",\n",
    "    binsz=0.05 *u.deg, # Pixel size in degrees\n",
    "    map_type=\"wcs\", # {'wcs', 'wcs-sparse', 'hpx', 'hpx-sparse', 'region'}\n",
    "    frame=\"galactic\" # Galactic (\"galactic\") or Equatorial (\"icrs\")\n",
    ")"
   ]
  },
  {
   "cell_type": "code",
   "execution_count": 46,
   "id": "f7380372",
   "metadata": {
    "id": "f7380372"
   },
   "outputs": [],
   "source": [
    "# help(Map.create)"
   ]
  },
  {
   "cell_type": "markdown",
   "id": "93bdc1fd",
   "metadata": {
    "id": "93bdc1fd"
   },
   "source": [
    "The image is a `~gammapy.maps.WcsNDMap` object:"
   ]
  },
  {
   "cell_type": "code",
   "execution_count": 47,
   "id": "a4f02e12",
   "metadata": {
    "id": "a4f02e12"
   },
   "outputs": [
    {
     "data": {
      "text/plain": [
       "WcsNDMap\n",
       "\n",
       "\tgeom  : WcsGeom \n",
       " \taxes  : ['lon', 'lat']\n",
       "\tshape : (400, 200)\n",
       "\tndim  : 2\n",
       "\tunit  : \n",
       "\tdtype : float32"
      ]
     },
     "execution_count": 47,
     "metadata": {},
     "output_type": "execute_result"
    }
   ],
   "source": [
    "gc_3fhl"
   ]
  },
  {
   "cell_type": "markdown",
   "id": "de75d2c5",
   "metadata": {
    "id": "de75d2c5"
   },
   "source": [
    "The shape of the image is 400 x 200 pixel and it is defined using a cartesian projection in galactic coordinates.\n",
    "\n",
    "The ``geom`` attribute is a `~gammapy.maps.WcsGeom` object:"
   ]
  },
  {
   "cell_type": "code",
   "execution_count": 48,
   "id": "044373b6",
   "metadata": {
    "id": "044373b6",
    "scrolled": true
   },
   "outputs": [
    {
     "name": "stdout",
     "output_type": "stream",
     "text": [
      "WcsGeom\n",
      "\n",
      "\taxes       : ['lon', 'lat']\n",
      "\tshape      : (400, 200)\n",
      "\tndim       : 2\n",
      "\tframe      : galactic\n",
      "\tprojection : CAR\n",
      "\tcenter     : 0.0 deg, 0.0 deg\n",
      "\twidth      : 20.0 deg x 10.0 deg\n",
      "\twcs ref    : 0.0 deg, 0.0 deg\n",
      "\n"
     ]
    }
   ],
   "source": [
    "print(gc_3fhl.geom)"
   ]
  },
  {
   "cell_type": "markdown",
   "id": "07b5c5ca",
   "metadata": {
    "id": "07b5c5ca"
   },
   "source": [
    "Let's take a closer look a the `.data` attribute:"
   ]
  },
  {
   "cell_type": "code",
   "execution_count": 49,
   "id": "2e0a8560",
   "metadata": {
    "id": "2e0a8560",
    "scrolled": false
   },
   "outputs": [
    {
     "data": {
      "text/plain": [
       "array([[0., 0., 0., ..., 0., 0., 0.],\n",
       "       [0., 0., 0., ..., 0., 0., 0.],\n",
       "       [0., 0., 0., ..., 0., 0., 0.],\n",
       "       ...,\n",
       "       [0., 0., 0., ..., 0., 0., 0.],\n",
       "       [0., 0., 0., ..., 0., 0., 0.],\n",
       "       [0., 0., 0., ..., 0., 0., 0.]], dtype=float32)"
      ]
     },
     "execution_count": 49,
     "metadata": {},
     "output_type": "execute_result"
    }
   ],
   "source": [
    "gc_3fhl.data"
   ]
  },
  {
   "cell_type": "markdown",
   "id": "2dee0f72",
   "metadata": {
    "id": "2dee0f72"
   },
   "source": [
    "That looks familiar! It just an *ordinary* 2 dimensional numpy array,  which means you can apply any known numpy method to it:"
   ]
  },
  {
   "cell_type": "code",
   "execution_count": 50,
   "id": "cf66c6e4",
   "metadata": {
    "id": "cf66c6e4"
   },
   "outputs": [
    {
     "name": "stdout",
     "output_type": "stream",
     "text": [
      "Total number of counts in the image: 0\n"
     ]
    }
   ],
   "source": [
    "print(f\"Total number of counts in the image: {gc_3fhl.data.sum():.0f}\")"
   ]
  },
  {
   "cell_type": "markdown",
   "id": "bbd51d4d",
   "metadata": {
    "id": "bbd51d4d"
   },
   "source": [
    "To show the image on the screen we can use the ``plot`` method."
   ]
  },
  {
   "cell_type": "markdown",
   "id": "593d0b6c",
   "metadata": {
    "id": "593d0b6c"
   },
   "source": [
    "Now we can fill the events in the map and plot it:"
   ]
  },
  {
   "cell_type": "code",
   "execution_count": 51,
   "id": "3e58c84f",
   "metadata": {
    "id": "3e58c84f",
    "scrolled": true
   },
   "outputs": [],
   "source": [
    "gc_3fhl.fill_events(events_3fhl)"
   ]
  },
  {
   "cell_type": "code",
   "execution_count": 52,
   "id": "G5iEv7QSq-gP",
   "metadata": {
    "id": "G5iEv7QSq-gP"
   },
   "outputs": [
    {
     "name": "stdout",
     "output_type": "stream",
     "text": [
      "Total number of counts in the image: 32843\n"
     ]
    }
   ],
   "source": [
    "print(f\"Total number of counts in the image: {gc_3fhl.data.sum():.0f}\")"
   ]
  },
  {
   "cell_type": "code",
   "execution_count": 53,
   "id": "c973fb46",
   "metadata": {
    "id": "c973fb46"
   },
   "outputs": [
    {
     "data": {
      "image/png": "[encoded data removed]",
      "text/plain": [
       "<Figure size 640x480 with 1 Axes>"
      ]
     },
     "metadata": {},
     "output_type": "display_data"
    }
   ],
   "source": [
    "gc_3fhl.plot(stretch=\"log\", cmap=\"inferno\"); # stretch=\"sqrt\", stretch=\"linear\" and stretch=\"log\""
   ]
  },
  {
   "cell_type": "markdown",
   "id": "f7a372eb",
   "metadata": {
    "id": "f7a372eb"
   },
   "source": [
    "The ``plot`` method basically calls [plt.imshow](https://matplotlib.org/stable/api/_as_gen/matplotlib.pyplot.imshow.html), passing the `gc_3fhl.data` attribute but in addition handles axis with world coordinates using [astropy.visualization.wcsaxes](https://docs.astropy.org/en/stable/visualization/wcsaxes/) and defines some defaults for nicer plots (e.g. the colormap 'afmhot'):"
   ]
  },
  {
   "cell_type": "code",
   "execution_count": 54,
   "id": "42b8ed6f",
   "metadata": {
    "id": "42b8ed6f"
   },
   "outputs": [
    {
     "data": {
      "image/png": "[encoded data removed]",
      "text/plain": [
       "<Figure size 640x480 with 1 Axes>"
      ]
     },
     "metadata": {},
     "output_type": "display_data"
    }
   ],
   "source": [
    "ax = gc_3fhl.plot(stretch=\"sqrt\");\n",
    "ax.grid(color='white', ls='solid')\n",
    "ax.set_xlabel('Galactic Longitude (deg)')\n",
    "ax.set_ylabel('Galactic Latitude (deg)')\n",
    "# ax.scatter(359.94423568, -0.04616002, transform=ax.get_transform('galactic'), s=150,\n",
    "#            edgecolor='blue', facecolor='none') # Marker at Sag A*"
   ]
  },
  {
   "cell_type": "markdown",
   "id": "d5e28526",
   "metadata": {
    "id": "d5e28526"
   },
   "source": [
    "To make the structures in the image more visible, we will smooth the data using a Gaussian kernel."
   ]
  },
  {
   "cell_type": "code",
   "execution_count": 55,
   "id": "26f11ba6",
   "metadata": {
    "id": "26f11ba6"
   },
   "outputs": [],
   "source": [
    "gc_3fhl_smoothed = gc_3fhl.smooth(kernel=\"gauss\", width=0.2 * u.deg)"
   ]
  },
  {
   "cell_type": "code",
   "execution_count": 56,
   "id": "813124a1",
   "metadata": {
    "id": "813124a1"
   },
   "outputs": [
    {
     "data": {
      "image/png": "[encoded data removed]",
      "text/plain": [
       "<Figure size 640x480 with 1 Axes>"
      ]
     },
     "metadata": {},
     "output_type": "display_data"
    }
   ],
   "source": [
    "gc_3fhl_smoothed.plot(stretch=\"sqrt\");"
   ]
  },
  {
   "cell_type": "markdown",
   "id": "a34705b3",
   "metadata": {
    "id": "a34705b3"
   },
   "source": [
    "The smoothed plot already looks much nicer, but still the image is rather large. As we are mostly interested in the inner part of the image, we will cut out a quadratic region of the size 9 deg x 9 deg around Vela. Therefore we use `~gammapy.maps.Map.cutout` to make a cutout map:"
   ]
  },
  {
   "cell_type": "code",
   "execution_count": 57,
   "id": "b63fcc5d",
   "metadata": {
    "id": "b63fcc5d",
    "nbsphinx-thumbnail": {
     "tooltip": "Introduction to basic data structures handling."
    }
   },
   "outputs": [
    {
     "data": {
      "image/png": "[encoded data removed]",
      "text/plain": [
       "<Figure size 640x480 with 1 Axes>"
      ]
     },
     "metadata": {},
     "output_type": "display_data"
    }
   ],
   "source": [
    "# define center and size of the cutout region\n",
    "center = SkyCoord(0, 0, unit=\"deg\", frame=\"galactic\")\n",
    "gc_3fhl_cutout = gc_3fhl_smoothed.cutout(center, 9 * u.deg)\n",
    "gc_3fhl_cutout.plot(stretch=\"sqrt\");"
   ]
  },
  {
   "cell_type": "markdown",
   "id": "ce035837",
   "metadata": {
    "id": "ce035837"
   },
   "source": [
    "For a more detailed introduction to `~gammapy.maps`, take a look a the [maps.ipynb](../api/maps.ipynb) notebook."
   ]
  },
  {
   "cell_type": "markdown",
   "id": "fe34e0de",
   "metadata": {
    "id": "fe34e0de"
   },
   "source": [
    "Let's check how the data change with the energy."
   ]
  },
  {
   "cell_type": "code",
   "execution_count": 58,
   "id": "50ae93ce",
   "metadata": {
    "id": "50ae93ce"
   },
   "outputs": [],
   "source": [
    "from gammapy.maps import MapAxis"
   ]
  },
  {
   "cell_type": "code",
   "execution_count": 59,
   "id": "6dd93fe8",
   "metadata": {
    "id": "6dd93fe8"
   },
   "outputs": [],
   "source": [
    "# help(MapAxis)"
   ]
  },
  {
   "cell_type": "code",
   "execution_count": 60,
   "id": "15b9f85c",
   "metadata": {
    "id": "15b9f85c"
   },
   "outputs": [],
   "source": [
    "# Creates an axis: 10 GeV-2 TeV with 5 bins in energy\n",
    "energy_axis = MapAxis.from_energy_bounds(\n",
    "    energy_min=\"10 GeV\",\n",
    "    energy_max=\"2 TeV\",\n",
    "    nbin=5\n",
    ")"
   ]
  },
  {
   "cell_type": "code",
   "execution_count": 61,
   "id": "283d6f82",
   "metadata": {
    "id": "283d6f82"
   },
   "outputs": [
    {
     "name": "stdout",
     "output_type": "stream",
     "text": [
      "MapAxis\n",
      "\n",
      "\tname       : energy    \n",
      "\tunit       : 'TeV'     \n",
      "\tnbins      : 5         \n",
      "\tnode type  : edges     \n",
      "\tedges min  : 1.0e-02 TeV\n",
      "\tedges max  : 2.0e+00 TeV\n",
      "\tinterp     : log       \n",
      "\n"
     ]
    }
   ],
   "source": [
    "print(energy_axis)"
   ]
  },
  {
   "cell_type": "code",
   "execution_count": 62,
   "id": "5aa7cb0f",
   "metadata": {
    "id": "5aa7cb0f"
   },
   "outputs": [],
   "source": [
    "# Creates an WcsNDMap:\n",
    "gc_3fhl_cube = Map.create(\n",
    "    width=(20 * u.deg, 10 * u.deg),\n",
    "    skydir=center,\n",
    "    proj=\"CAR\",\n",
    "    binsz=0.05 *u.deg,\n",
    "    map_type=\"wcs\",\n",
    "    frame=\"galactic\",\n",
    "    axes=[energy_axis]\n",
    ")"
   ]
  },
  {
   "cell_type": "code",
   "execution_count": 63,
   "id": "47b0251f",
   "metadata": {
    "id": "47b0251f"
   },
   "outputs": [
    {
     "name": "stdout",
     "output_type": "stream",
     "text": [
      "WcsNDMap\n",
      "\n",
      "\tgeom  : WcsGeom \n",
      " \taxes  : ['lon', 'lat', 'energy']\n",
      "\tshape : (400, 200, 5)\n",
      "\tndim  : 3\n",
      "\tunit  : \n",
      "\tdtype : float32\n",
      "\n"
     ]
    }
   ],
   "source": [
    "print(gc_3fhl_cube)"
   ]
  },
  {
   "cell_type": "code",
   "execution_count": 64,
   "id": "84023615",
   "metadata": {
    "id": "84023615"
   },
   "outputs": [],
   "source": [
    "# print(gc_3fhl)"
   ]
  },
  {
   "cell_type": "code",
   "execution_count": 65,
   "id": "e41bf9a6",
   "metadata": {
    "id": "e41bf9a6"
   },
   "outputs": [],
   "source": [
    "# Again, fill in the events on the map and plot them.\n",
    "gc_3fhl_cube.fill_events(events_3fhl)"
   ]
  },
  {
   "cell_type": "markdown",
   "id": "e95e0f36",
   "metadata": {
    "id": "e95e0f36"
   },
   "source": [
    "To make the structures in the image more visible we will smooth the data using a Gaussian kernel."
   ]
  },
  {
   "cell_type": "code",
   "execution_count": 66,
   "id": "4143b7bd",
   "metadata": {
    "id": "4143b7bd"
   },
   "outputs": [],
   "source": [
    "gc_3fhl_cube_smoothed = gc_3fhl_cube.smooth(\n",
    "    kernel=\"gauss\", width=0.1 * u.deg\n",
    ")"
   ]
  },
  {
   "cell_type": "markdown",
   "id": "b6306885",
   "metadata": {
    "id": "b6306885"
   },
   "source": [
    "To visualise the data cube we can use interactive plotting:"
   ]
  },
  {
   "cell_type": "code",
   "execution_count": 67,
   "id": "c2862cc6",
   "metadata": {
    "id": "c2862cc6"
   },
   "outputs": [
    {
     "data": {
      "application/vnd.jupyter.widget-view+json": {
       "model_id": "ff7e458295884241b3ee6dfb6cc36ecf",
       "version_major": 2,
       "version_minor": 0
      },
      "text/plain": [
       "interactive(children=(SelectionSlider(continuous_update=False, description='Select energy:', layout=Layout(wid…"
      ]
     },
     "metadata": {},
     "output_type": "display_data"
    }
   ],
   "source": [
    "gc_3fhl_cube_smoothed.plot_interactive(cmap=\"inferno\")"
   ]
  },
  {
   "cell_type": "markdown",
   "id": "2570c1ff",
   "metadata": {
    "id": "2570c1ff"
   },
   "source": [
    "Or plot the image in energy bands as a grid:"
   ]
  },
  {
   "cell_type": "code",
   "execution_count": null,
   "id": "8db49357",
   "metadata": {
    "id": "8db49357"
   },
   "outputs": [],
   "source": [
    "gc_3fhl_cube_smoothed.plot_grid(\n",
    "    ncols=3, figsize=(12, 5), cmap=\"inferno\", stretch=\"sqrt\"\n",
    ");"
   ]
  },
  {
   "cell_type": "markdown",
   "id": "6e7d47ea",
   "metadata": {
    "id": "6e7d47ea"
   },
   "source": [
    "Why are there five plots in all?"
   ]
  },
  {
   "cell_type": "code",
   "execution_count": null,
   "id": "9848d8ea",
   "metadata": {
    "id": "9848d8ea"
   },
   "outputs": [],
   "source": [
    "energy_axis = MapAxis.from_energy_bounds(\n",
    "    energy_min=\"10 GeV\",\n",
    "    energy_max=\"2 TeV\",\n",
    "    nbin=3\n",
    ")\n",
    "gc_3fhl_cube = Map.create(\n",
    "    width=(20 * u.deg, 10 * u.deg),\n",
    "    skydir=center,\n",
    "    proj=\"CAR\",\n",
    "    binsz=0.05 *u.deg,\n",
    "    map_type=\"wcs\",\n",
    "    frame=\"galactic\",\n",
    "    axes=[energy_axis]\n",
    ")\n",
    "gc_3fhl_cube.fill_events(events_3fhl)\n",
    "gc_3fhl_cube_smoothed = gc_3fhl_cube.smooth(\n",
    "    kernel=\"gauss\", width=0.1 * u.deg\n",
    ")\n",
    "gc_3fhl_cube_smoothed.plot_grid(\n",
    "    ncols=3, figsize=(12, 5), cmap=\"inferno\", stretch=\"sqrt\"\n",
    ");"
   ]
  },
  {
   "cell_type": "code",
   "execution_count": null,
   "id": "a1044d1c",
   "metadata": {
    "id": "a1044d1c"
   },
   "outputs": [],
   "source": []
  },
  {
   "cell_type": "markdown",
   "id": "ba1fa9b8",
   "metadata": {
    "id": "ba1fa9b8"
   },
   "source": [
    "You can also do a rectangular cutout of a certain region in the image:"
   ]
  },
  {
   "cell_type": "code",
   "execution_count": null,
   "id": "2846d77a",
   "metadata": {
    "id": "2846d77a"
   },
   "outputs": [],
   "source": [
    "# define center and size of the cutout region\n",
    "center = SkyCoord(0, 0, unit=\"deg\", frame=\"galactic\")\n",
    "gc_3fhl_cutout = gc_3fhl_cube_smoothed.cutout(center, 9 * u.deg)\n",
    "gc_3fhl_cutout.plot_interactive(stretch=\"sqrt\", cmap=\"inferno\");"
   ]
  },
  {
   "cell_type": "markdown",
   "id": "9ef7acb8",
   "metadata": {
    "id": "9ef7acb8"
   },
   "source": [
    "For a more detailed introduction to `gammapy.maps`, take a look a the [maps.ipynb](https://docs.gammapy.org/0.18.2/tutorials/maps.html) notebook."
   ]
  },
  {
   "cell_type": "markdown",
   "id": "24434d32",
   "metadata": {
    "id": "24434d32"
   },
   "source": [
    "___"
   ]
  },
  {
   "cell_type": "markdown",
   "id": "1edcd27c",
   "metadata": {
    "id": "1edcd27c"
   },
   "source": [
    "<a id='scatalogs'></a>\n",
    "🔝 [Back to Top](#intro)<br>\n",
    "## 5. Source catalogs\n",
    "\n",
    "Gammapy provides a convenient interface to access and work with catalog based data.\n",
    "\n",
    "In this section we will learn how to:\n",
    "\n",
    "* Load builtins catalogs from `~gammapy.catalog`\n",
    "* Sort and index the underlying Astropy tables\n",
    "* Access data from individual sources\n",
    "\n",
    "Let's start with importing the 3FHL catalog object from the `~gammapy.catalog` submodule:"
   ]
  },
  {
   "cell_type": "code",
   "execution_count": null,
   "id": "7245ebeb",
   "metadata": {
    "id": "7245ebeb"
   },
   "outputs": [],
   "source": [
    "from gammapy.catalog import SourceCatalog3FHL"
   ]
  },
  {
   "cell_type": "markdown",
   "id": "abca0f2e",
   "metadata": {
    "id": "abca0f2e"
   },
   "source": [
    "First we initialize the Fermi-LAT 3FHL catalog and directly take a look at the `.table` attribute:"
   ]
  },
  {
   "cell_type": "markdown",
   "id": "6880fd59",
   "metadata": {
    "id": "6880fd59"
   },
   "source": [
    "<a id='table2'></a>"
   ]
  },
  {
   "cell_type": "code",
   "execution_count": null,
   "id": "d49e9150",
   "metadata": {
    "id": "d49e9150"
   },
   "outputs": [],
   "source": [
    "# fermi_3fhl = SourceCatalog3FHL(\"$GAMMAPY_DATA/catalogs/fermi/gll_psch_v13.fit.gz\")\n",
    "fermi_3fhl = SourceCatalog3FHL()\n",
    "fermi_3fhl.table"
   ]
  },
  {
   "cell_type": "code",
   "execution_count": null,
   "id": "ad9120f1",
   "metadata": {
    "id": "ad9120f1"
   },
   "outputs": [],
   "source": [
    "# fermi_3fhl.table.colnames"
   ]
  },
  {
   "cell_type": "markdown",
   "id": "5679da77",
   "metadata": {
    "id": "5679da77"
   },
   "source": [
    "Now we can plot the sources on the image created above:"
   ]
  },
  {
   "cell_type": "code",
   "execution_count": null,
   "id": "d5867e42",
   "metadata": {
    "id": "d5867e42"
   },
   "outputs": [],
   "source": [
    "ax =gc_3fhl.smooth(\"0.1 deg\").plot(\n",
    "    stretch=\"sqrt\", cmap=\"inferno\"\n",
    ")\n",
    "\n",
    "positions = fermi_3fhl.positions\n",
    "ax.scatter(\n",
    "    positions.data.lon.deg,\n",
    "    positions.data.lat.deg,\n",
    "    transform=ax.get_transform(\"icrs\"),\n",
    "    color=\"w\",\n",
    "    marker=\"x\"\n",
    ")"
   ]
  },
  {
   "cell_type": "markdown",
   "id": "81e6b703",
   "metadata": {
    "id": "81e6b703"
   },
   "source": [
    "This looks very familiar again. The data is just stored as an [astropy.table.Table](http://docs.astropy.org/en/stable/api/astropy.table.Table.html#astropy.table.Table) object. We have all the methods and attributes of the `Table` object available. E.g. we can sort the underlying table by `Signif_Avg` to find the top 5 most significant sources:\n",
    "\n"
   ]
  },
  {
   "cell_type": "code",
   "execution_count": null,
   "id": "700cfe5f",
   "metadata": {
    "id": "700cfe5f",
    "scrolled": true
   },
   "outputs": [],
   "source": [
    "# sort table by significance of the source\n",
    "fermi_3fhl.table.sort(\"Signif_Avg\")\n",
    "\n",
    "# invert the order to find the highest values and take the top 5\n",
    "top_five_TS_3fhl = fermi_3fhl.table[::-1][:5]\n",
    "\n",
    "# print the top five significant sources with association and source class\n",
    "top_five_TS_3fhl[[\"Source_Name\", \"ASSOC1\", \"ASSOC2\", \"CLASS\", \"Signif_Avg\"]]"
   ]
  },
  {
   "cell_type": "markdown",
   "id": "1fceef82",
   "metadata": {
    "id": "1fceef82"
   },
   "source": [
    "If you are interested in the data of an individual source you can access the information from catalog using the name of the source or any alias source name that is defined in the catalog:"
   ]
  },
  {
   "cell_type": "code",
   "execution_count": null,
   "id": "36ad41a4",
   "metadata": {
    "id": "36ad41a4"
   },
   "outputs": [],
   "source": [
    "mkn_421_3fhl = fermi_3fhl[\"3FHL J1104.4+3812\"]\n",
    "\n",
    "# or use any alias source name that is defined in the catalog\n",
    "# mkn_421_3fhl = fermi_3fhl[\"Mkn 421\"]"
   ]
  },
  {
   "cell_type": "code",
   "execution_count": null,
   "id": "16f73bf9",
   "metadata": {
    "id": "16f73bf9"
   },
   "outputs": [],
   "source": [
    "# type(mkn_421_3fhl)"
   ]
  },
  {
   "cell_type": "code",
   "execution_count": null,
   "id": "ad1b5684",
   "metadata": {
    "id": "ad1b5684",
    "scrolled": true
   },
   "outputs": [],
   "source": [
    "print(mkn_421_3fhl)"
   ]
  },
  {
   "cell_type": "code",
   "execution_count": null,
   "id": "49219c3b",
   "metadata": {
    "id": "49219c3b"
   },
   "outputs": [],
   "source": [
    "print(mkn_421_3fhl.data[\"Signif_Avg\"])"
   ]
  },
  {
   "cell_type": "markdown",
   "id": "4d5625eb",
   "metadata": {
    "id": "4d5625eb"
   },
   "source": [
    "___"
   ]
  },
  {
   "cell_type": "markdown",
   "id": "2a43104f",
   "metadata": {
    "id": "2a43104f"
   },
   "source": [
    "<a id='smodels'></a>\n",
    "🔝 [Back to Top](#intro)<br>"
   ]
  },
  {
   "cell_type": "markdown",
   "id": "0a2cad55",
   "metadata": {
    "id": "0a2cad55"
   },
   "source": [
    "<a id='table1d'></a>\n",
    "\n",
    "The description of the reconstructed parameters in the event list<a name=\"cite_ref-1\"></a>[<sup>[1]</sup>](#cite_note-1):\n",
    "\n",
    "## Table 1\n",
    "\n",
    "|Index| Event Parameter (units) |Description |\n",
    "|:-|  :-|:- |\n",
    "|0|ENERGY (MeV) | Reconstructed energy of the event |\n",
    "|1|RA (degrees) | Reconstructed direction of the event in Right Ascension |\n",
    "|2|DEC (degrees) | Reconstructed direction of the event in Declination|\n",
    "|3|L (degrees) | Reconstructed direction of the event in Galactic Longitude|\n",
    "|4|B (degrees) | Reconstructed direction of the event in Galactic Latitude|\n",
    "|5|THETA (degrees) | Reconstructed angle of incidence of the event with respect to the LAT boresight (+Z axis of the spacecraft - the line normal to the top surface of the LAT)|\n",
    "|6|PHI (degrees) | Reconstructed angle of incidence of the event with respect to the +X axis (the line normal to the sun-facing side of the spacecraft)|\n",
    "|7|ZENITH_ANGLE (degrees) | Angle between the reconstructed event direction and the zenith line (originates at the center of the Earth and passes through the center of mass of the spacecraft)|\n",
    "|8|EARTH_AZIMUTH_ANGLE (degrees) | Angle of the reconstructed event direction with respect to North (line from spacecraft origin to north celestial pole) as projected onto a plane normal to the zenith. The angle is measured in degrees east of north, such that 90 degrees indicates that the event originated from the west|\n",
    "|9|TIME (seconds) | Mission elapsed time when the event was detected (MET is the total number of seconds since 00:00:00 on January 1, 2001 UTC)|\n",
    "|10|EVENT_ID | Sequence number for the event in the LAT data acquisition period|\n",
    "|11|RUN_ID | Unique identifier for each LAT data acquisition period|\n",
    "|12|RECON_VERSION | Version of event reconstruction software in use at the time the event was detected|\n",
    "|13|CALIB_VERSION (3-element array) | Version of the calibration tables for the ACD, CAL, and TKR (in that order) in use at the time the event was detected. (This column is currently unused)|\n",
    "|14|EVENT_CLASS | A bitfield indicating which event class selections a given event has passed. In Pass 8 the internal FITS format of this column has been changed from a 32-bit integer (TFORMn=J) to a 32-bit bit column (TFORMn=32X) and supports bitwise selections with the fselect FTOOL. Pass 8 populates a much larger number of bit values than Pass 7. Bits for the recommended event classes are bit 4 (P8R2_TRANSIENT020), bit 7 (P8R2_SOURCE), and bit 10 (P8R2_ULTRACLEANVETO)|\n",
    "|15|EVENT_TYPE | A bitfield indicating which event type selections a given event has passed. This column is a 32-bit bit column (TFORMn=32X) and supports bitwise selections with fselect.\n",
    "|16|CONVERSION_TYPE | Indicates whether the event induced pair production in the front (thin) layers or the back (thick) layers of the tracker (front=0, back=1)|\n",
    "|17|LIVETIME (seconds) | A short-term measure of accumulated livetime of the LAT. This value can have gaps and it resets every few seconds. For large time intervals, the LIVETIME documented in the spacecraft file is correct. However, for short time intervals, this LIVETIME value can be compared between two events to gauge the fraction of dead time|\n",
    "|18|DIFRSP0 | Diffuse response for an additional component (currently unused)|\n",
    "|19|DIFRSP1 | Diffuse response for an additional component (currently unused)|\n",
    "|20|DIFRSP2 | Diffuse response for an additional component (currently unused)|\n",
    "|21|DIFRSP3 | Diffuse response for an additional component (currently unused)|\n",
    "|22|DIFRSP4 | Diffuse response for an additional component (currently unused)|\n",
    "\n"
   ]
  },
  {
   "cell_type": "markdown",
   "id": "d5952d13",
   "metadata": {
    "id": "d5952d13"
   },
   "source": [
    "🔝 [Back to Table 1](#table1)<br>"
   ]
  },
  {
   "cell_type": "markdown",
   "id": "0db3a577",
   "metadata": {
    "id": "0db3a577"
   },
   "source": [
    "### Other Resources\n",
    "Gammapy already includes a variety of [tutorial notebooks](https://docs.gammapy.org/0.18.2/tutorials/index.html) covering many analysis scenarios for gamma-ray data including computation of images, spectra and \"cubes\", spectro-morphological modelling of sources, combined analyses of multiple instruments etc."
   ]
  },
  {
   "cell_type": "markdown",
   "id": "bc717d72",
   "metadata": {
    "id": "bc717d72"
   },
   "source": [
    "🔝 [Back to Top](#intro)<br>"
   ]
  },
  {
   "cell_type": "code",
   "execution_count": null,
   "id": "5dfae850",
   "metadata": {
    "id": "5dfae850"
   },
   "outputs": [],
   "source": []
  },
  {
   "cell_type": "markdown",
   "id": "29c3eae2",
   "metadata": {
    "id": "29c3eae2"
   },
   "source": [
    "## References\n",
    "<a name=\"cite_note-1\"></a>1. [](#cite_ref-1) Cicerone: Data — LAT Data Files - Column Descriptions. Retrieved [November 5, 2022] from https://fermi.gsfc.nasa.gov/ssc/data/analysis/documentation/Cicerone/Cicerone_Data/LAT_Data_Columns.html.\n",
    "\n",
    "<a name=\"cite_note-2\"></a>2. [](#cite_ref-2)M. Ajello et al. [Fermi-LAT Collaboration], TFHL:\n",
    "The third catalog of hard Fermi-LAT sources, Astrophys.\n",
    "J. Suppl. 232, no. 2, 18 (2017) doi:10.3847/1538-4365/aa8221\n",
    "[arXiv:1702.00664v3 [astro-ph.HE]]."
   ]
  }
 ],
 "metadata": {
  "colab": {
   "provenance": []
  },
  "file_extension": ".py",
  "kernelspec": {
   "display_name": "Python 3 (ipykernel)",
   "language": "python",
   "name": "python3"
  },
  "language_info": {
   "codemirror_mode": {
    "name": "ipython",
    "version": 3
   },
   "file_extension": ".py",
   "mimetype": "text/x-python",
   "name": "python",
   "nbconvert_exporter": "python",
   "pygments_lexer": "ipython3",
   "version": "3.9.18"
  },
  "mimetype": "text/x-python",
  "name": "python",
  "npconvert_exporter": "python",
  "pygments_lexer": "ipython3",
  "version": 3
 },
 "nbformat": 4,
 "nbformat_minor": 5
}
