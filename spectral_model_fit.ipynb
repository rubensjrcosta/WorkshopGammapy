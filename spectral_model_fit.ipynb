{
 "cells": [
  {
   "cell_type": "markdown",
   "metadata": {
    "id": "2lLYoXp7TRlH"
   },
   "source": [
    "[![gammapy](https://img.shields.io/badge/powered%20by-gammapy-orange.svg?style=flat)](https://gammapy.org/)\n",
    "\n",
    "\n",
    "# Gammapy Part II: Spectral Model Fit\n",
    "**Tutors:** M Felipe Sousa and Rubens Costa Jr.\n",
    "\n",
    "This hands-on tutorial aims to illustrate model management in Gammapy, specially how to distribute multiple models across multiple datasets. We also show some convenience functions built in gammapy for handling multiple model components and fit spectral models to combined Fermi-LAT and IACT flux points tables of the Crab Nebula.\n",
    "\n",
    "\n",
    "## Preface\n",
    "We recommend to follow this tutorial by **executing the code cells on your local machine**, along with the tutor.\n",
    "\n",
    "We're happy to receive any **feedback or questions** on the tutorial via mail to *manoelfelipesousa@gmail.com* or *rubensjrcosta@gmail.com*.\n"
   ]
  },
  {
   "cell_type": "markdown",
   "metadata": {
    "id": "AuZ2pGaOTRlI"
   },
   "source": [
    "<a id='intro'></a>\n",
    "## Indice\n",
    "* [**1. Modelling**](#Modelling)\n",
    "   * Adding spectral models for each dataset\n",
    "   * Sharing a model between multiple datasets\n",
    "   * Adding and removing models\n",
    "   * freezing and thawing multiple model parameters together\n",
    "\n",
    "* [**2. Flux point fitting**](#fpfitting)\n",
    "   * Fitting the spectral points with various spectral models\n",
    "   * Estimating the signifiance of the source.\n",
    "\n",
    "\n",
    "\n",
    "\n",
    "\n",
    "## Setup"
   ]
  },
  {
   "cell_type": "code",
   "execution_count": null,
   "metadata": {
    "executionInfo": {
     "elapsed": 2,
     "status": "ok",
     "timestamp": 1709687618608,
     "user": {
      "displayName": "Felipe Sousa",
      "userId": "12817278144525562131"
     },
     "user_tz": 180
    },
    "id": "SBPB-bCrTorh"
   },
   "outputs": [],
   "source": [
    "# !pip install gammapy"
   ]
  },
  {
   "cell_type": "code",
   "execution_count": 1,
   "metadata": {
    "executionInfo": {
     "elapsed": 387,
     "status": "ok",
     "timestamp": 1709687640684,
     "user": {
      "displayName": "Felipe Sousa",
      "userId": "12817278144525562131"
     },
     "user_tz": 180
    },
    "id": "TaV--E-UTRlJ"
   },
   "outputs": [],
   "source": [
    "from astropy import units as u\n",
    "from astropy.coordinates import SkyCoord\n",
    "from astropy.time import Time\n",
    "from regions import CircleSkyRegion\n",
    "from scipy.stats import chi2, norm\n",
    "import matplotlib.pyplot as plt\n",
    "import numpy as np\n",
    "\n",
    "# %matplotlib inline\n",
    "from IPython.display import display\n",
    "from gammapy.datasets import Datasets, MapDataset\n",
    "from gammapy.modeling import Fit\n",
    "from gammapy.maps import Map\n",
    "from gammapy.stats.utils import ts_to_sigma\n",
    "from gammapy.modeling.models import (\n",
    "    Models,\n",
    "    ExpCutoffPowerLawSpectralModel,\n",
    "    PowerLawSpectralModel,\n",
    "    PowerLawNormSpectralModel,\n",
    "    LogParabolaSpectralModel,\n",
    "    SkyModel,\n",
    ")\n",
    "\n"
   ]
  },
  {
   "cell_type": "markdown",
   "metadata": {
    "id": "6wjDyQ3RTRlJ"
   },
   "source": [
    "## Check setup\n",
    "\n"
   ]
  },
  {
   "cell_type": "code",
   "execution_count": 2,
   "metadata": {
    "colab": {
     "base_uri": "https://localhost:8080/"
    },
    "executionInfo": {
     "elapsed": 12877,
     "status": "ok",
     "timestamp": 1709687659147,
     "user": {
      "displayName": "Felipe Sousa",
      "userId": "12817278144525562131"
     },
     "user_tz": 180
    },
    "id": "4OSIZxKvTRlJ",
    "outputId": "d183fdbc-560e-4854-b731-0487d7d405e3"
   },
   "outputs": [
    {
     "name": "stdout",
     "output_type": "stream",
     "text": [
      "\n",
      "System:\n",
      "\n",
      "\tpython_executable      : /home/felipe/miniconda3/envs/gammapy-1.1/bin/python \n",
      "\tpython_version         : 3.9.18     \n",
      "\tmachine                : x86_64     \n",
      "\tsystem                 : Linux      \n",
      "\n",
      "\n",
      "Gammapy package:\n",
      "\n",
      "\tversion                : 1.1        \n",
      "\tpath                   : /home/felipe/miniconda3/envs/gammapy-1.1/lib/python3.9/site-packages/gammapy \n",
      "\n",
      "\n",
      "Other packages:\n",
      "\n",
      "\tnumpy                  : 1.24.4     \n",
      "\tscipy                  : 1.10.1     \n",
      "\tastropy                : 5.3.3      \n",
      "\tregions                : 0.7        \n",
      "\tclick                  : 8.1.3      \n",
      "\tyaml                   : 6.0.1      \n",
      "\tIPython                : 8.7.0      \n",
      "\tjupyterlab             : 3.5.3      \n",
      "\tmatplotlib             : 3.7.2      \n",
      "\tpandas                 : 1.5.2      \n",
      "\thealpy                 : 1.16.5     \n",
      "\timinuit                : 2.21.3     \n",
      "\tsherpa                 : 4.15.1     \n",
      "\tnaima                  : 0.10.0     \n",
      "\temcee                  : 3.1.3      \n",
      "\tcorner                 : 2.2.1      \n",
      "\tray                    : not installed \n",
      "\n",
      "\n",
      "Gammapy environment variables:\n",
      "\n",
      "\tGAMMAPY_DATA           : /home/felipe/Github/GammaPy/gammapy-datasets/1.1 \n",
      "\n"
     ]
    }
   ],
   "source": [
    "from gammapy.utils.check import check_tutorials_setup\n",
    "\n",
    "check_tutorials_setup()"
   ]
  },
  {
   "cell_type": "markdown",
   "metadata": {
    "id": "GvFnOBpSTRlK"
   },
   "source": [
    "<a id='gammapy'></a>\n",
    "## 1. Modelling\n",
    "\n",
    "To show how datasets interact with models, we use two pre-computed datasets from the Crab nebula.\n",
    "\n",
    "\n",
    "### Read the datasets\n",
    "\n",
    "First, we read some precomputed datasets\n"
   ]
  },
  {
   "cell_type": "code",
   "execution_count": null,
   "metadata": {
    "colab": {
     "base_uri": "https://localhost:8080/"
    },
    "executionInfo": {
     "elapsed": 25147,
     "status": "ok",
     "timestamp": 1709687706328,
     "user": {
      "displayName": "Felipe Sousa",
      "userId": "12817278144525562131"
     },
     "user_tz": 180
    },
    "id": "rWNpVLh1T2eD",
    "outputId": "c982e19e-fb27-4da8-acba-e02c0ab8975e"
   },
   "outputs": [],
   "source": [
    "# from google.colab import drive\n",
    "# drive.mount('/content/drive')"
   ]
  },
  {
   "cell_type": "code",
   "execution_count": 3,
   "metadata": {
    "executionInfo": {
     "elapsed": 313,
     "status": "ok",
     "timestamp": 1709687734007,
     "user": {
      "displayName": "Felipe Sousa",
      "userId": "12817278144525562131"
     },
     "user_tz": 180
    },
    "id": "VqySWShoT4Gy"
   },
   "outputs": [],
   "source": [
    "DATA_PATH = \"/home/felipe/Github/Gammapy_introduction/WorkshopIntroducaoAoGammapy/data\"\n"
   ]
  },
  {
   "cell_type": "code",
   "execution_count": 4,
   "metadata": {
    "colab": {
     "base_uri": "https://localhost:8080/"
    },
    "executionInfo": {
     "elapsed": 3114,
     "status": "ok",
     "timestamp": 1709687741476,
     "user": {
      "displayName": "Felipe Sousa",
      "userId": "12817278144525562131"
     },
     "user_tz": 180
    },
    "id": "-Mv6x7E9TRlK",
    "outputId": "ec6c590a-ff64-4b0f-8412-297be1dc8f73"
   },
   "outputs": [
    {
     "name": "stderr",
     "output_type": "stream",
     "text": [
      "No reference model set for FluxMaps. Assuming point source with E^-2 spectrum.\n",
      "No reference model set for FluxMaps. Assuming point source with E^-2 spectrum.\n",
      "No reference model set for FluxMaps. Assuming point source with E^-2 spectrum.\n",
      "No reference model set for FluxMaps. Assuming point source with E^-2 spectrum.\n"
     ]
    }
   ],
   "source": [
    "datasets_all = Datasets.read(f\"{DATA_PATH}/gammapy_spectral/datasets-crab.yaml\")\n"
   ]
  },
  {
   "cell_type": "code",
   "execution_count": 8,
   "metadata": {
    "executionInfo": {
     "elapsed": 2,
     "status": "ok",
     "timestamp": 1709687820786,
     "user": {
      "displayName": "Felipe Sousa",
      "userId": "12817278144525562131"
     },
     "user_tz": 180
    },
    "id": "t95xgYV2VPeh"
   },
   "outputs": [
    {
     "name": "stdout",
     "output_type": "stream",
     "text": [
      "Datasets\n",
      "--------\n",
      "\n",
      "Dataset 0: \n",
      "\n",
      "  Type       : FluxPointsDataset\n",
      "  Name       : Crab nebula: gamma-cat\n",
      "  Instrument : \n",
      "  Models     : \n",
      "\n",
      "Dataset 1: \n",
      "\n",
      "  Type       : FluxPointsDataset\n",
      "  Name       : 4FGL J0534.5+2200\n",
      "  Instrument : \n",
      "  Models     : \n",
      "\n",
      "Dataset 2: \n",
      "\n",
      "  Type       : FluxPointsDataset\n",
      "  Name       : 2FHL J0534.5+2201\n",
      "  Instrument : \n",
      "  Models     : \n",
      "\n",
      "Dataset 3: \n",
      "\n",
      "  Type       : FluxPointsDataset\n",
      "  Name       : 3FHL J0534.5+2201\n",
      "  Instrument : \n",
      "  Models     : \n",
      "\n",
      "\n"
     ]
    }
   ],
   "source": [
    "print(datasets_all)"
   ]
  },
  {
   "cell_type": "markdown",
   "metadata": {
    "id": "y5S7fo_5TRlL"
   },
   "source": [
    "and create a `Datasets` object containing two datasets.\n"
   ]
  },
  {
   "cell_type": "code",
   "execution_count": 9,
   "metadata": {
    "colab": {
     "base_uri": "https://localhost:8080/"
    },
    "executionInfo": {
     "elapsed": 382,
     "status": "ok",
     "timestamp": 1709687848633,
     "user": {
      "displayName": "Felipe Sousa",
      "userId": "12817278144525562131"
     },
     "user_tz": 180
    },
    "id": "xd7eWfb9TRlL",
    "outputId": "f8973566-749b-492f-fcc4-0b859367bf6f"
   },
   "outputs": [
    {
     "name": "stdout",
     "output_type": "stream",
     "text": [
      "Datasets\n",
      "--------\n",
      "\n",
      "Dataset 0: \n",
      "\n",
      "  Type       : FluxPointsDataset\n",
      "  Name       : Crab nebula: gamma-cat\n",
      "  Instrument : \n",
      "  Models     : \n",
      "\n",
      "Dataset 1: \n",
      "\n",
      "  Type       : FluxPointsDataset\n",
      "  Name       : 3FHL J0534.5+2201\n",
      "  Instrument : \n",
      "  Models     : \n",
      "\n",
      "\n"
     ]
    }
   ],
   "source": [
    "datasets_c2 = Datasets([datasets_all[0], datasets_all[3]])\n",
    "\n",
    "print(datasets_c2)"
   ]
  },
  {
   "cell_type": "code",
   "execution_count": null,
   "metadata": {
    "executionInfo": {
     "elapsed": 2,
     "status": "ok",
     "timestamp": 1709687880764,
     "user": {
      "displayName": "Felipe Sousa",
      "userId": "12817278144525562131"
     },
     "user_tz": 180
    },
    "id": "eZaQVZ1vTRlM"
   },
   "outputs": [],
   "source": [
    "# print(datasets_c2[0])"
   ]
  },
  {
   "cell_type": "markdown",
   "metadata": {
    "id": "at6S5Rt0TRlM"
   },
   "source": [
    "The table with the corresponding flux points data can be accessed with `.data.to_table` attribute"
   ]
  },
  {
   "cell_type": "code",
   "execution_count": 13,
   "metadata": {
    "colab": {
     "base_uri": "https://localhost:8080/",
     "height": 204
    },
    "executionInfo": {
     "elapsed": 340,
     "status": "ok",
     "timestamp": 1709687894047,
     "user": {
      "displayName": "Felipe Sousa",
      "userId": "12817278144525562131"
     },
     "user_tz": 180
    },
    "id": "9C5Gfj6MTRlM",
    "outputId": "82cf6119-5cd8-443e-f14d-6eae730683a7"
   },
   "outputs": [
    {
     "data": {
      "text/html": [
       "<div><i>Table length=12</i>\n",
       "<table id=\"table140402705716944\" class=\"table-striped table-bordered table-condensed\">\n",
       "<thead><tr><th>e_ref</th><th>dnde</th><th>dnde_errp</th><th>dnde_errn</th><th>is_ul</th></tr></thead>\n",
       "<thead><tr><th>TeV</th><th>1 / (TeV s cm2)</th><th>1 / (TeV s cm2)</th><th>1 / (TeV s cm2)</th><th></th></tr></thead>\n",
       "<thead><tr><th>float64</th><th>float64</th><th>float64</th><th>float64</th><th>bool</th></tr></thead>\n",
       "<tr><td>0.519</td><td>1.810e-10</td><td>6.000e-12</td><td>6.000e-12</td><td>False</td></tr>\n",
       "<tr><td>0.729</td><td>7.270e-11</td><td>2.000e-12</td><td>1.900e-12</td><td>False</td></tr>\n",
       "<tr><td>1.060</td><td>3.120e-11</td><td>9.000e-13</td><td>9.000e-13</td><td>False</td></tr>\n",
       "<tr><td>1.550</td><td>1.220e-11</td><td>4.000e-13</td><td>4.000e-13</td><td>False</td></tr>\n",
       "<tr><td>2.260</td><td>4.600e-12</td><td>1.800e-13</td><td>1.800e-13</td><td>False</td></tr>\n",
       "<tr><td>3.300</td><td>1.530e-12</td><td>8.000e-14</td><td>8.000e-14</td><td>False</td></tr>\n",
       "<tr><td>4.890</td><td>6.350e-13</td><td>3.900e-14</td><td>3.800e-14</td><td>False</td></tr>\n",
       "<tr><td>7.180</td><td>2.270e-13</td><td>1.800e-14</td><td>1.700e-14</td><td>False</td></tr>\n",
       "<tr><td>10.400</td><td>6.490e-14</td><td>7.700e-15</td><td>7.200e-15</td><td>False</td></tr>\n",
       "<tr><td>14.800</td><td>1.750e-14</td><td>3.300e-15</td><td>3.000e-15</td><td>False</td></tr>\n",
       "<tr><td>20.900</td><td>7.260e-15</td><td>1.700e-15</td><td>1.500e-15</td><td>False</td></tr>\n",
       "<tr><td>30.500</td><td>9.580e-16</td><td>5.600e-16</td><td>4.250e-16</td><td>False</td></tr>\n",
       "</table></div>"
      ],
      "text/plain": [
       "<Table length=12>\n",
       " e_ref        dnde         dnde_errp       dnde_errn    is_ul\n",
       "  TeV   1 / (TeV s cm2) 1 / (TeV s cm2) 1 / (TeV s cm2)      \n",
       "float64     float64         float64         float64      bool\n",
       "------- --------------- --------------- --------------- -----\n",
       "  0.519       1.810e-10       6.000e-12       6.000e-12 False\n",
       "  0.729       7.270e-11       2.000e-12       1.900e-12 False\n",
       "  1.060       3.120e-11       9.000e-13       9.000e-13 False\n",
       "  1.550       1.220e-11       4.000e-13       4.000e-13 False\n",
       "  2.260       4.600e-12       1.800e-13       1.800e-13 False\n",
       "  3.300       1.530e-12       8.000e-14       8.000e-14 False\n",
       "  4.890       6.350e-13       3.900e-14       3.800e-14 False\n",
       "  7.180       2.270e-13       1.800e-14       1.700e-14 False\n",
       " 10.400       6.490e-14       7.700e-15       7.200e-15 False\n",
       " 14.800       1.750e-14       3.300e-15       3.000e-15 False\n",
       " 20.900       7.260e-15       1.700e-15       1.500e-15 False\n",
       " 30.500       9.580e-16       5.600e-16       4.250e-16 False"
      ]
     },
     "execution_count": 13,
     "metadata": {},
     "output_type": "execute_result"
    }
   ],
   "source": [
    "datasets_c2[0].data.to_table(sed_type=\"dnde\", formatted=True )"
   ]
  },
  {
   "cell_type": "code",
   "execution_count": null,
   "metadata": {
    "id": "HwCu6Zf3TRlM"
   },
   "outputs": [],
   "source": [
    "\n"
   ]
  },
  {
   "cell_type": "markdown",
   "metadata": {
    "id": "Xwvy7T9MTRlM"
   },
   "source": [
    "### Assigning spectral models to datasets\n",
    "\n",
    "To attach a model on a particular dataset it is necessary to specify the\n",
    "`datasets_names`. Otherwise, by default, the model will be applied to\n",
    "all the datasets in `datasets`\n",
    "\n",
    "\n",
    "Examples of spectral models can be found here: https://docs.gammapy.org/1.1/user-guide/model-gallery/index.html\n"
   ]
  },
  {
   "cell_type": "code",
   "execution_count": 14,
   "metadata": {},
   "outputs": [
    {
     "data": {
      "text/plain": [
       "'Crab nebula: gamma-cat'"
      ]
     },
     "execution_count": 14,
     "metadata": {},
     "output_type": "execute_result"
    }
   ],
   "source": [
    "datasets_c2[0].name"
   ]
  },
  {
   "cell_type": "code",
   "execution_count": 15,
   "metadata": {
    "executionInfo": {
     "elapsed": 403,
     "status": "ok",
     "timestamp": 1709687951543,
     "user": {
      "displayName": "Felipe Sousa",
      "userId": "12817278144525562131"
     },
     "user_tz": 180
    },
    "id": "xUPp6M35TRlN"
   },
   "outputs": [],
   "source": [
    "models = Models()  # global models object\n",
    "\n",
    "\n",
    "# Create the spectral model for the first dataset\n",
    "\n",
    "model_ecpl = ExpCutoffPowerLawSpectralModel()\n",
    "\n",
    "crab_ecpl = SkyModel(spectral_model=model_ecpl,\n",
    "                     name=\"crab_ecpl\",\n",
    "                     datasets_names=[datasets_c2[0].name],  # specifying the dataset name\n",
    "                    )\n",
    "\n",
    "models.append(crab_ecpl)  # Add the ecpl_model to models()\n",
    "\n",
    "\n",
    "# Create the spectral model for the second dataset\n",
    "\n",
    "model_pl = PowerLawSpectralModel()\n",
    "\n",
    "crab_pl = SkyModel(spectral_model=model_pl,\n",
    "                   name=\"crab_pl\",\n",
    "                   datasets_names=[datasets_c2[1].name],  # specifying the dataset name\n",
    "                  )\n",
    "\n",
    "models.append(crab_pl)  # Add the fpl_model to models()\n"
   ]
  },
  {
   "cell_type": "code",
   "execution_count": 16,
   "metadata": {
    "colab": {
     "base_uri": "https://localhost:8080/"
    },
    "executionInfo": {
     "elapsed": 421,
     "status": "ok",
     "timestamp": 1709687955518,
     "user": {
      "displayName": "Felipe Sousa",
      "userId": "12817278144525562131"
     },
     "user_tz": 180
    },
    "id": "u0Msd9N-TRlN",
    "outputId": "7801d7cc-ec6c-4088-a650-f24abab75cd5"
   },
   "outputs": [
    {
     "name": "stdout",
     "output_type": "stream",
     "text": [
      "Models\n",
      "\n",
      "Component 0: SkyModel\n",
      "\n",
      "  Name                      : crab_ecpl\n",
      "  Datasets names            : ['Crab nebula: gamma-cat']\n",
      "  Spectral model type       : ExpCutoffPowerLawSpectralModel\n",
      "  Spatial  model type       : \n",
      "  Temporal model type       : \n",
      "  Parameters:\n",
      "    index                         :      1.500   +/-    0.00             \n",
      "    amplitude                     :   1.00e-12   +/- 0.0e+00 1 / (TeV s cm2)\n",
      "    reference             (frozen):      1.000       TeV         \n",
      "    lambda_                       :      0.100   +/-    0.00 1 / TeV     \n",
      "    alpha                 (frozen):      1.000                   \n",
      "\n",
      "Component 1: SkyModel\n",
      "\n",
      "  Name                      : crab_pl\n",
      "  Datasets names            : ['3FHL J0534.5+2201']\n",
      "  Spectral model type       : PowerLawSpectralModel\n",
      "  Spatial  model type       : \n",
      "  Temporal model type       : \n",
      "  Parameters:\n",
      "    index                         :      2.000   +/-    0.00             \n",
      "    amplitude                     :   1.00e-12   +/- 0.0e+00 1 / (TeV s cm2)\n",
      "    reference             (frozen):      1.000       TeV         \n",
      "\n",
      "\n"
     ]
    }
   ],
   "source": [
    "print(models)"
   ]
  },
  {
   "cell_type": "code",
   "execution_count": 19,
   "metadata": {
    "colab": {
     "base_uri": "https://localhost:8080/"
    },
    "executionInfo": {
     "elapsed": 509,
     "status": "ok",
     "timestamp": 1709687963208,
     "user": {
      "displayName": "Felipe Sousa",
      "userId": "12817278144525562131"
     },
     "user_tz": 180
    },
    "id": "m_89jNT4TRlN",
    "outputId": "320ca641-7d72-4dda-dcec-2c9c33601a13"
   },
   "outputs": [
    {
     "name": "stdout",
     "output_type": "stream",
     "text": [
      "Datasets\n",
      "--------\n",
      "\n",
      "Dataset 0: \n",
      "\n",
      "  Type       : FluxPointsDataset\n",
      "  Name       : Crab nebula: gamma-cat\n",
      "  Instrument : \n",
      "  Models     : ['crab_ecpl']\n",
      "\n",
      "Dataset 1: \n",
      "\n",
      "  Type       : FluxPointsDataset\n",
      "  Name       : 3FHL J0534.5+2201\n",
      "  Instrument : \n",
      "  Models     : ['crab_pl']\n",
      "\n",
      "\n"
     ]
    }
   ],
   "source": [
    "# Now, add the models to datasets\n",
    "datasets_c2.models = models\n",
    "\n",
    "# You can see that each dataset lists the correct associated models\n",
    "print(datasets_c2)"
   ]
  },
  {
   "cell_type": "markdown",
   "metadata": {
    "id": "cQvy7cJTTRlN"
   },
   "source": [
    "### Add a model on multiple datasets\n",
    "\n",
    "In this section, we show how to add a model to multiple datasets. For\n",
    "this, we specify a list of `datasets_names` to the model.\n",
    "Alternatively, not specifying any `datasets_names` will add it to all\n",
    "the datasets.\n",
    "\n"
   ]
  },
  {
   "cell_type": "code",
   "execution_count": 20,
   "metadata": {
    "colab": {
     "base_uri": "https://localhost:8080/"
    },
    "executionInfo": {
     "elapsed": 418,
     "status": "ok",
     "timestamp": 1709687976151,
     "user": {
      "displayName": "Felipe Sousa",
      "userId": "12817278144525562131"
     },
     "user_tz": 180
    },
    "id": "p-AmS1ysTRlN",
    "outputId": "5d4b38be-4075-4f59-ef80-8823d6c10dc9"
   },
   "outputs": [
    {
     "name": "stdout",
     "output_type": "stream",
     "text": [
      "Datasets\n",
      "--------\n",
      "\n",
      "Dataset 0: \n",
      "\n",
      "  Type       : FluxPointsDataset\n",
      "  Name       : Crab nebula: gamma-cat\n",
      "  Instrument : \n",
      "  Models     : ['crab_ecpl', 'crab_lp']\n",
      "\n",
      "Dataset 1: \n",
      "\n",
      "  Type       : FluxPointsDataset\n",
      "  Name       : 3FHL J0534.5+2201\n",
      "  Instrument : \n",
      "  Models     : ['crab_pl', 'crab_lp']\n",
      "\n",
      "\n"
     ]
    }
   ],
   "source": [
    "# Create another spectral model\n",
    "\n",
    "crab_lp = SkyModel(\n",
    "    spectral_model=LogParabolaSpectralModel(),\n",
    "    name=\"crab_lp\",\n",
    "#    datasets_names=[datasets_c2[0].name, datasets_c2[1].name],\n",
    ")\n",
    "\n",
    "# Now, add the Log Parabola model to the global models list\n",
    "models.append(crab_lp)\n",
    "\n",
    "# add it to the datasets, and inspect\n",
    "datasets_c2.models = models\n",
    "print(datasets_c2)"
   ]
  },
  {
   "cell_type": "code",
   "execution_count": 21,
   "metadata": {
    "id": "pmu2bWtxTRlN"
   },
   "outputs": [
    {
     "name": "stdout",
     "output_type": "stream",
     "text": [
      "FluxPointsDataset\n",
      "-----------------\n",
      "\n",
      "  Name                            : Crab nebula: gamma-cat \n",
      "\n",
      "  Number of total flux points     : 12 \n",
      "  Number of fit bins              : 12 \n",
      "\n",
      "  Fit statistic type              : chi2\n",
      "  Fit statistic value (-2 log(L)) : 52704.13\n",
      "\n",
      "  Number of models                : 2 \n",
      "  Number of parameters            : 9\n",
      "  Number of free parameters       : 6\n",
      "\n",
      "  Component 0: SkyModel\n",
      "  \n",
      "    Name                      : crab_ecpl\n",
      "    Datasets names            : ['Crab nebula: gamma-cat']\n",
      "    Spectral model type       : ExpCutoffPowerLawSpectralModel\n",
      "    Spatial  model type       : \n",
      "    Temporal model type       : \n",
      "    Parameters:\n",
      "      index                         :      1.500   +/-    0.00             \n",
      "      amplitude                     :   1.00e-12   +/- 0.0e+00 1 / (TeV s cm2)\n",
      "      reference             (frozen):      1.000       TeV         \n",
      "      lambda_                       :      0.100   +/-    0.00 1 / TeV     \n",
      "      alpha                 (frozen):      1.000                   \n",
      "  \n",
      "  Component 1: SkyModel\n",
      "  \n",
      "    Name                      : crab_lp\n",
      "    Datasets names            : None\n",
      "    Spectral model type       : LogParabolaSpectralModel\n",
      "    Spatial  model type       : \n",
      "    Temporal model type       : \n",
      "    Parameters:\n",
      "      amplitude                     :   1.00e-12   +/- 0.0e+00 1 / (TeV s cm2)\n",
      "      reference             (frozen):     10.000       TeV         \n",
      "      alpha                         :      2.000   +/-    0.00             \n",
      "      beta                          :      1.000   +/-    0.00             \n",
      "  \n",
      "  \n"
     ]
    }
   ],
   "source": [
    "print(datasets_c2[0])"
   ]
  },
  {
   "cell_type": "markdown",
   "metadata": {
    "id": "iiN989SRTRlO"
   },
   "source": [
    "The `Log Parabola` model is correctly present on both. Now, you can\n",
    "proceed with the fit. For computational purposes, we skip it in this\n",
    "notebook\n",
    "\n"
   ]
  },
  {
   "cell_type": "code",
   "execution_count": null,
   "metadata": {
    "executionInfo": {
     "elapsed": 265,
     "status": "ok",
     "timestamp": 1709688000832,
     "user": {
      "displayName": "Felipe Sousa",
      "userId": "12817278144525562131"
     },
     "user_tz": 180
    },
    "id": "dO-PcM-bTRlO"
   },
   "outputs": [],
   "source": [
    "\n"
   ]
  },
  {
   "cell_type": "markdown",
   "metadata": {
    "id": "C37nclb5TRlO"
   },
   "source": [
    "### Loading models from a catalog\n",
    "\n",
    "We now load the Fermi 3FHL catalog and demonstrate some convenience\n",
    "functions. For more details on using Gammapy catalog, see the\n",
    ":doc:`/tutorials/api/catalog` tutorial.\n",
    "\n",
    "\n"
   ]
  },
  {
   "cell_type": "code",
   "execution_count": null,
   "metadata": {
    "executionInfo": {
     "elapsed": 327,
     "status": "ok",
     "timestamp": 1709688169939,
     "user": {
      "displayName": "Felipe Sousa",
      "userId": "12817278144525562131"
     },
     "user_tz": 180
    },
    "id": "acl4gm70Wlr_"
   },
   "outputs": [],
   "source": [
    "import os # Miscellaneous operating system interfaces\n",
    "os.environ['GAMMAPY_DATA'] = os.path.join(os.getcwd(), '/content/gammapy-data/1.2')"
   ]
  },
  {
   "cell_type": "code",
   "execution_count": 23,
   "metadata": {
    "executionInfo": {
     "elapsed": 297,
     "status": "ok",
     "timestamp": 1709688204635,
     "user": {
      "displayName": "Felipe Sousa",
      "userId": "12817278144525562131"
     },
     "user_tz": 180
    },
    "id": "S-_61VXqTRlO"
   },
   "outputs": [],
   "source": [
    "from gammapy.catalog import SourceCatalog3FHL\n",
    "\n",
    "catalog = SourceCatalog3FHL()"
   ]
  },
  {
   "cell_type": "code",
   "execution_count": 24,
   "metadata": {
    "colab": {
     "base_uri": "https://localhost:8080/"
    },
    "executionInfo": {
     "elapsed": 3,
     "status": "ok",
     "timestamp": 1709688414000,
     "user": {
      "displayName": "Felipe Sousa",
      "userId": "12817278144525562131"
     },
     "user_tz": 180
    },
    "id": "qVEGQY8dXFWv",
    "outputId": "28a02f71-f689-4ff5-cd96-7307be7ddde6"
   },
   "outputs": [
    {
     "name": "stdout",
     "output_type": "stream",
     "text": [
      "SourceCatalog3FHL:\n",
      "    name: 3fhl\n",
      "    description: LAT third high-energy source catalog\n",
      "    sources: 1556\n",
      "\n"
     ]
    }
   ],
   "source": [
    "print(catalog)"
   ]
  },
  {
   "cell_type": "markdown",
   "metadata": {
    "id": "2ZRortAATRlO"
   },
   "source": [
    "We first choose some relevant models from the catalog and create a new\n",
    "`Models` object.\n",
    "\n",
    "\n"
   ]
  },
  {
   "cell_type": "code",
   "execution_count": 27,
   "metadata": {},
   "outputs": [
    {
     "data": {
      "text/latex": [
       "[$86^\\circ47{}^\\prime47.04711914{}^{\\prime\\prime}$\n",
       " $99^\\circ40{}^\\prime55.99365234{}^{\\prime\\prime}$\n",
       " $107^\\circ40{}^\\prime31.27441406{}^{\\prime\\prime}$ ...\n",
       " $71^\\circ59{}^\\prime47.80517578{}^{\\prime\\prime}$\n",
       " $96^\\circ03{}^\\prime56.78283691{}^{\\prime\\prime}$\n",
       " $92^\\circ16{}^\\prime37.91564941{}^{\\prime\\prime}$]"
      ],
      "text/plain": [
       "<Angle [ 86.7964  ,  99.68222 , 107.675354, ...,  71.99661 ,  96.06577 ,\n",
       "         92.2772  ] deg>"
      ]
     },
     "execution_count": 27,
     "metadata": {},
     "output_type": "execute_result"
    }
   ],
   "source": [
    "gc_sep"
   ]
  },
  {
   "cell_type": "code",
   "execution_count": 28,
   "metadata": {
    "colab": {
     "base_uri": "https://localhost:8080/"
    },
    "executionInfo": {
     "elapsed": 2756,
     "status": "ok",
     "timestamp": 1709688221676,
     "user": {
      "displayName": "Felipe Sousa",
      "userId": "12817278144525562131"
     },
     "user_tz": 180
    },
    "id": "E9vfROtQTRlO",
    "outputId": "bcdc978f-2c5e-4824-ec9e-b974ee7baf95"
   },
   "outputs": [
    {
     "name": "stdout",
     "output_type": "stream",
     "text": [
      "8\n"
     ]
    }
   ],
   "source": [
    "Crab_pos = SkyCoord(83.6333, 22.0133, unit=\"deg\", frame=\"icrs\")\n",
    "\n",
    "gc_sep = catalog.positions.separation(Crab_pos)\n",
    "models_3fhl = [_.sky_model() for k, _ in enumerate(catalog) if gc_sep[k].value < 8]\n",
    "models_3fhl = Models(models_3fhl)\n",
    "\n",
    "print(len(models_3fhl))"
   ]
  },
  {
   "cell_type": "code",
   "execution_count": null,
   "metadata": {
    "id": "zJs0jtgiXfJL"
   },
   "outputs": [],
   "source": [
    "# print(len(catalog.positions))"
   ]
  },
  {
   "cell_type": "code",
   "execution_count": 29,
   "metadata": {
    "executionInfo": {
     "elapsed": 326,
     "status": "ok",
     "timestamp": 1709688484640,
     "user": {
      "displayName": "Felipe Sousa",
      "userId": "12817278144525562131"
     },
     "user_tz": 180
    },
    "id": "SzKG1xsnTRlO"
   },
   "outputs": [
    {
     "name": "stdout",
     "output_type": "stream",
     "text": [
      "Models\n",
      "\n",
      "Component 0: SkyModel\n",
      "\n",
      "  Name                      : 3FHL J0510.0+1800\n",
      "  Datasets names            : None\n",
      "  Spectral model type       : PowerLawSpectralModel\n",
      "  Spatial  model type       : PointSpatialModel\n",
      "  Temporal model type       : \n",
      "  Parameters:\n",
      "    index                         :      3.069   +/-    0.31             \n",
      "    amplitude                     :   7.78e-12   +/- 1.2e-12 1 / (GeV s cm2)\n",
      "    reference             (frozen):     16.305       GeV         \n",
      "    lon_0                         :     77.521   +/-    0.01 deg         \n",
      "    lat_0                         :     18.009   +/-    0.01 deg         \n",
      "\n",
      "Component 1: SkyModel\n",
      "\n",
      "  Name                      : 3FHL J0515.8+1528\n",
      "  Datasets names            : None\n",
      "  Spectral model type       : PowerLawSpectralModel\n",
      "  Spatial  model type       : PointSpatialModel\n",
      "  Temporal model type       : \n",
      "  Parameters:\n",
      "    index                         :      2.321   +/-    0.20             \n",
      "    amplitude                     :   3.67e-12   +/- 5.7e-13 1 / (GeV s cm2)\n",
      "    reference             (frozen):     21.884       GeV         \n",
      "    lon_0                         :     78.955   +/-    0.01 deg         \n",
      "    lat_0                         :     15.467   +/-    0.01 deg         \n",
      "\n",
      "Component 2: SkyModel\n",
      "\n",
      "  Name                      : 3FHL J0521.7+2112\n",
      "  Datasets names            : None\n",
      "  Spectral model type       : LogParabolaSpectralModel\n",
      "  Spatial  model type       : PointSpatialModel\n",
      "  Temporal model type       : \n",
      "  Parameters:\n",
      "    amplitude                     :   4.06e-11   +/- 2.4e-12 1 / (GeV s cm2)\n",
      "    reference             (frozen):     18.441       GeV         \n",
      "    alpha                         :      1.753   +/-    0.13             \n",
      "    beta                          :      0.248   +/-    0.07             \n",
      "    lon_0                         :     80.442   +/-    0.00 deg         \n",
      "    lat_0                         :     21.213   +/-    0.00 deg         \n",
      "\n",
      "Component 3: SkyModel\n",
      "\n",
      "  Name                      : 3FHL J0524.5+2838\n",
      "  Datasets names            : None\n",
      "  Spectral model type       : PowerLawSpectralModel\n",
      "  Spatial  model type       : PointSpatialModel\n",
      "  Temporal model type       : \n",
      "  Parameters:\n",
      "    index                         :      2.120   +/-    0.31             \n",
      "    amplitude                     :   8.44e-13   +/- 2.4e-13 1 / (GeV s cm2)\n",
      "    reference             (frozen):     25.292       GeV         \n",
      "    lon_0                         :     81.137   +/-    0.02 deg         \n",
      "    lat_0                         :     28.640   +/-    0.02 deg         \n",
      "\n",
      "Component 4: SkyModel\n",
      "\n",
      "  Name                      : 3FHL J0534.5+2201\n",
      "  Datasets names            : None\n",
      "  Spectral model type       : PowerLawSpectralModel\n",
      "  Spatial  model type       : PointSpatialModel\n",
      "  Temporal model type       : \n",
      "  Parameters:\n",
      "    index                         :      2.220   +/-    0.02             \n",
      "    amplitude                     :   1.71e-10   +/- 3.4e-12 1 / (GeV s cm2)\n",
      "    reference             (frozen):     22.726       GeV         \n",
      "    lon_0                         :     83.635   +/-    0.00 deg         \n",
      "    lat_0                         :     22.019   +/-    0.00 deg         \n",
      "\n",
      "Component 5: SkyModel\n",
      "\n",
      "  Name                      : 3FHL J0536.2+1733\n",
      "  Datasets names            : None\n",
      "  Spectral model type       : PowerLawSpectralModel\n",
      "  Spatial  model type       : PointSpatialModel\n",
      "  Temporal model type       : \n",
      "  Parameters:\n",
      "    index                         :      2.767   +/-    0.53             \n",
      "    amplitude                     :   1.81e-12   +/- 5.7e-13 1 / (GeV s cm2)\n",
      "    reference             (frozen):     17.670       GeV         \n",
      "    lon_0                         :     84.069   +/-    0.02 deg         \n",
      "    lat_0                         :     17.566   +/-    0.02 deg         \n",
      "\n",
      "Component 6: SkyModel\n",
      "\n",
      "  Name                      : 3FHL J0537.6+2751e\n",
      "  Datasets names            : None\n",
      "  Spectral model type       : PowerLawSpectralModel\n",
      "  Spatial  model type       : DiskSpatialModel\n",
      "  Temporal model type       : \n",
      "  Parameters:\n",
      "    index                         :      2.203   +/-    0.19             \n",
      "    amplitude                     :   4.13e-12   +/- 7.7e-13 1 / (GeV s cm2)\n",
      "    reference             (frozen):     26.705       GeV         \n",
      "    lon_0                         :     84.410   +/-    0.00 deg         \n",
      "    lat_0                         :     27.860   +/-    0.00 deg         \n",
      "    r_0                           :      1.394   +/-    0.00 deg         \n",
      "    e                     (frozen):      0.000                   \n",
      "    phi                   (frozen):      0.000       deg         \n",
      "    edge_width            (frozen):      0.010                   \n",
      "\n",
      "Component 7: SkyModel\n",
      "\n",
      "  Name                      : 3FHL J0538.7+1643\n",
      "  Datasets names            : None\n",
      "  Spectral model type       : PowerLawSpectralModel\n",
      "  Spatial  model type       : PointSpatialModel\n",
      "  Temporal model type       : \n",
      "  Parameters:\n",
      "    index                         :      2.436   +/-    0.51             \n",
      "    amplitude                     :   7.56e-13   +/- 2.9e-13 1 / (GeV s cm2)\n",
      "    reference             (frozen):     21.478       GeV         \n",
      "    lon_0                         :     84.684   +/-    0.05 deg         \n",
      "    lat_0                         :     16.717   +/-    0.05 deg         \n",
      "\n",
      "\n"
     ]
    }
   ],
   "source": [
    "print(models_3fhl)"
   ]
  },
  {
   "cell_type": "markdown",
   "metadata": {
    "id": "P2SwVRIoTRlO"
   },
   "source": [
    "### Selecting models contributing to a given region\n",
    "\n",
    "We now use `Models.select_region()` to get a subset of models\n",
    "contributing to a particular region. You can also use\n",
    "`Models.select_mask()` to get models lying inside the `True` region\n",
    "of a mask map\\`\n",
    "\n",
    "\n"
   ]
  },
  {
   "cell_type": "code",
   "execution_count": 30,
   "metadata": {
    "colab": {
     "base_uri": "https://localhost:8080/"
    },
    "executionInfo": {
     "elapsed": 265,
     "status": "ok",
     "timestamp": 1709688528066,
     "user": {
      "displayName": "Felipe Sousa",
      "userId": "12817278144525562131"
     },
     "user_tz": 180
    },
    "id": "ORpkLg22TRlO",
    "outputId": "98de2423-88a3-414d-fca2-c70b694f9e05"
   },
   "outputs": [
    {
     "name": "stdout",
     "output_type": "stream",
     "text": [
      "1\n"
     ]
    }
   ],
   "source": [
    "region = CircleSkyRegion(\n",
    "    center=SkyCoord(83.6333, 22.0133, unit=\"deg\", frame=\"icrs\"), radius=3.0 * u.deg\n",
    ")\n",
    "\n",
    "models_selected = models_3fhl.select_region(region)\n",
    "print(len(models_selected))"
   ]
  },
  {
   "cell_type": "code",
   "execution_count": 31,
   "metadata": {
    "executionInfo": {
     "elapsed": 2,
     "status": "ok",
     "timestamp": 1709688557388,
     "user": {
      "displayName": "Felipe Sousa",
      "userId": "12817278144525562131"
     },
     "user_tz": 180
    },
    "id": "XQDFCYFtYMov"
   },
   "outputs": [
    {
     "name": "stdout",
     "output_type": "stream",
     "text": [
      "Models\n",
      "\n",
      "Component 0: SkyModel\n",
      "\n",
      "  Name                      : 3FHL J0534.5+2201\n",
      "  Datasets names            : None\n",
      "  Spectral model type       : PowerLawSpectralModel\n",
      "  Spatial  model type       : PointSpatialModel\n",
      "  Temporal model type       : \n",
      "  Parameters:\n",
      "    index                         :      2.220   +/-    0.02             \n",
      "    amplitude                     :   1.71e-10   +/- 3.4e-12 1 / (GeV s cm2)\n",
      "    reference             (frozen):     22.726       GeV         \n",
      "    lon_0                         :     83.635   +/-    0.00 deg         \n",
      "    lat_0                         :     22.019   +/-    0.00 deg         \n",
      "\n",
      "\n"
     ]
    }
   ],
   "source": [
    "print(models_selected)"
   ]
  },
  {
   "cell_type": "markdown",
   "metadata": {
    "id": "8N9gTtZeTRlP"
   },
   "source": [
    "We now want to assign `models_3fhl` to the first dataset, and\n",
    "`models_selected` to both datasets. For this, we\n",
    "explicitly mention the `datasets_names` to the former, and leave it\n",
    "`None` (default) for the latter.\n",
    "\n",
    "\n"
   ]
  },
  {
   "cell_type": "code",
   "execution_count": 32,
   "metadata": {},
   "outputs": [
    {
     "name": "stdout",
     "output_type": "stream",
     "text": [
      "Datasets\n",
      "--------\n",
      "\n",
      "Dataset 0: \n",
      "\n",
      "  Type       : FluxPointsDataset\n",
      "  Name       : Crab nebula: gamma-cat\n",
      "  Instrument : \n",
      "  Models     : ['crab_ecpl', 'crab_lp']\n",
      "\n",
      "Dataset 1: \n",
      "\n",
      "  Type       : FluxPointsDataset\n",
      "  Name       : 3FHL J0534.5+2201\n",
      "  Instrument : \n",
      "  Models     : ['crab_pl', 'crab_lp']\n",
      "\n",
      "\n"
     ]
    }
   ],
   "source": [
    "print(datasets_c2)"
   ]
  },
  {
   "cell_type": "code",
   "execution_count": 33,
   "metadata": {
    "executionInfo": {
     "elapsed": 302,
     "status": "ok",
     "timestamp": 1709688747307,
     "user": {
      "displayName": "Felipe Sousa",
      "userId": "12817278144525562131"
     },
     "user_tz": 180
    },
    "id": "q3S8SzlBTRlP"
   },
   "outputs": [],
   "source": [
    "for model in models_3fhl:\n",
    "    if model not in models_selected:\n",
    "        model.datasets_names = datasets_c2[0].name\n",
    "\n",
    "# assign the models to datasets\n",
    "datasets_c2.models = models_3fhl"
   ]
  },
  {
   "cell_type": "code",
   "execution_count": 34,
   "metadata": {},
   "outputs": [
    {
     "name": "stdout",
     "output_type": "stream",
     "text": [
      "Models\n",
      "\n",
      "Component 0: SkyModel\n",
      "\n",
      "  Name                      : 3FHL J0510.0+1800\n",
      "  Datasets names            : Crab nebula: gamma-cat\n",
      "  Spectral model type       : PowerLawSpectralModel\n",
      "  Spatial  model type       : PointSpatialModel\n",
      "  Temporal model type       : \n",
      "  Parameters:\n",
      "    index                         :      3.069   +/-    0.31             \n",
      "    amplitude                     :   7.78e-12   +/- 1.2e-12 1 / (GeV s cm2)\n",
      "    reference             (frozen):     16.305       GeV         \n",
      "    lon_0                         :     77.521   +/-    0.01 deg         \n",
      "    lat_0                         :     18.009   +/-    0.01 deg         \n",
      "\n",
      "Component 1: SkyModel\n",
      "\n",
      "  Name                      : 3FHL J0515.8+1528\n",
      "  Datasets names            : Crab nebula: gamma-cat\n",
      "  Spectral model type       : PowerLawSpectralModel\n",
      "  Spatial  model type       : PointSpatialModel\n",
      "  Temporal model type       : \n",
      "  Parameters:\n",
      "    index                         :      2.321   +/-    0.20             \n",
      "    amplitude                     :   3.67e-12   +/- 5.7e-13 1 / (GeV s cm2)\n",
      "    reference             (frozen):     21.884       GeV         \n",
      "    lon_0                         :     78.955   +/-    0.01 deg         \n",
      "    lat_0                         :     15.467   +/-    0.01 deg         \n",
      "\n",
      "Component 2: SkyModel\n",
      "\n",
      "  Name                      : 3FHL J0521.7+2112\n",
      "  Datasets names            : Crab nebula: gamma-cat\n",
      "  Spectral model type       : LogParabolaSpectralModel\n",
      "  Spatial  model type       : PointSpatialModel\n",
      "  Temporal model type       : \n",
      "  Parameters:\n",
      "    amplitude                     :   4.06e-11   +/- 2.4e-12 1 / (GeV s cm2)\n",
      "    reference             (frozen):     18.441       GeV         \n",
      "    alpha                         :      1.753   +/-    0.13             \n",
      "    beta                          :      0.248   +/-    0.07             \n",
      "    lon_0                         :     80.442   +/-    0.00 deg         \n",
      "    lat_0                         :     21.213   +/-    0.00 deg         \n",
      "\n",
      "Component 3: SkyModel\n",
      "\n",
      "  Name                      : 3FHL J0524.5+2838\n",
      "  Datasets names            : Crab nebula: gamma-cat\n",
      "  Spectral model type       : PowerLawSpectralModel\n",
      "  Spatial  model type       : PointSpatialModel\n",
      "  Temporal model type       : \n",
      "  Parameters:\n",
      "    index                         :      2.120   +/-    0.31             \n",
      "    amplitude                     :   8.44e-13   +/- 2.4e-13 1 / (GeV s cm2)\n",
      "    reference             (frozen):     25.292       GeV         \n",
      "    lon_0                         :     81.137   +/-    0.02 deg         \n",
      "    lat_0                         :     28.640   +/-    0.02 deg         \n",
      "\n",
      "Component 4: SkyModel\n",
      "\n",
      "  Name                      : 3FHL J0534.5+2201\n",
      "  Datasets names            : None\n",
      "  Spectral model type       : PowerLawSpectralModel\n",
      "  Spatial  model type       : PointSpatialModel\n",
      "  Temporal model type       : \n",
      "  Parameters:\n",
      "    index                         :      2.220   +/-    0.02             \n",
      "    amplitude                     :   1.71e-10   +/- 3.4e-12 1 / (GeV s cm2)\n",
      "    reference             (frozen):     22.726       GeV         \n",
      "    lon_0                         :     83.635   +/-    0.00 deg         \n",
      "    lat_0                         :     22.019   +/-    0.00 deg         \n",
      "\n",
      "Component 5: SkyModel\n",
      "\n",
      "  Name                      : 3FHL J0536.2+1733\n",
      "  Datasets names            : Crab nebula: gamma-cat\n",
      "  Spectral model type       : PowerLawSpectralModel\n",
      "  Spatial  model type       : PointSpatialModel\n",
      "  Temporal model type       : \n",
      "  Parameters:\n",
      "    index                         :      2.767   +/-    0.53             \n",
      "    amplitude                     :   1.81e-12   +/- 5.7e-13 1 / (GeV s cm2)\n",
      "    reference             (frozen):     17.670       GeV         \n",
      "    lon_0                         :     84.069   +/-    0.02 deg         \n",
      "    lat_0                         :     17.566   +/-    0.02 deg         \n",
      "\n",
      "Component 6: SkyModel\n",
      "\n",
      "  Name                      : 3FHL J0537.6+2751e\n",
      "  Datasets names            : Crab nebula: gamma-cat\n",
      "  Spectral model type       : PowerLawSpectralModel\n",
      "  Spatial  model type       : DiskSpatialModel\n",
      "  Temporal model type       : \n",
      "  Parameters:\n",
      "    index                         :      2.203   +/-    0.19             \n",
      "    amplitude                     :   4.13e-12   +/- 7.7e-13 1 / (GeV s cm2)\n",
      "    reference             (frozen):     26.705       GeV         \n",
      "    lon_0                         :     84.410   +/-    0.00 deg         \n",
      "    lat_0                         :     27.860   +/-    0.00 deg         \n",
      "    r_0                           :      1.394   +/-    0.00 deg         \n",
      "    e                     (frozen):      0.000                   \n",
      "    phi                   (frozen):      0.000       deg         \n",
      "    edge_width            (frozen):      0.010                   \n",
      "\n",
      "Component 7: SkyModel\n",
      "\n",
      "  Name                      : 3FHL J0538.7+1643\n",
      "  Datasets names            : Crab nebula: gamma-cat\n",
      "  Spectral model type       : PowerLawSpectralModel\n",
      "  Spatial  model type       : PointSpatialModel\n",
      "  Temporal model type       : \n",
      "  Parameters:\n",
      "    index                         :      2.436   +/-    0.51             \n",
      "    amplitude                     :   7.56e-13   +/- 2.9e-13 1 / (GeV s cm2)\n",
      "    reference             (frozen):     21.478       GeV         \n",
      "    lon_0                         :     84.684   +/-    0.05 deg         \n",
      "    lat_0                         :     16.717   +/-    0.05 deg         \n",
      "\n",
      "\n"
     ]
    }
   ],
   "source": [
    "print(models_3fhl)"
   ]
  },
  {
   "cell_type": "markdown",
   "metadata": {
    "id": "d1tDvfSdTRlP"
   },
   "source": [
    "To see the models on a particular dataset, you can simply see\n",
    "\n",
    "\n"
   ]
  },
  {
   "cell_type": "code",
   "execution_count": 35,
   "metadata": {
    "colab": {
     "base_uri": "https://localhost:8080/"
    },
    "executionInfo": {
     "elapsed": 377,
     "status": "ok",
     "timestamp": 1709688829507,
     "user": {
      "displayName": "Felipe Sousa",
      "userId": "12817278144525562131"
     },
     "user_tz": 180
    },
    "id": "uR6YyxyvTRlP",
    "outputId": "d9befc31-ce02-4b7c-edea-c3310943ec8f"
   },
   "outputs": [
    {
     "name": "stdout",
     "output_type": "stream",
     "text": [
      "First dataset models:  ['3FHL J0510.0+1800', '3FHL J0515.8+1528', '3FHL J0521.7+2112', '3FHL J0524.5+2838', '3FHL J0534.5+2201', '3FHL J0536.2+1733', '3FHL J0537.6+2751e', '3FHL J0538.7+1643']\n",
      "\n",
      "Second dataset models:  ['3FHL J0534.5+2201']\n"
     ]
    }
   ],
   "source": [
    "print(\"First dataset models: \", datasets_c2[0].models.names)\n",
    "print()\n",
    "print(\"Second dataset models: \", datasets_c2[1].models.names)"
   ]
  },
  {
   "cell_type": "code",
   "execution_count": 36,
   "metadata": {
    "executionInfo": {
     "elapsed": 2,
     "status": "ok",
     "timestamp": 1709688942030,
     "user": {
      "displayName": "Felipe Sousa",
      "userId": "12817278144525562131"
     },
     "user_tz": 180
    },
    "id": "QoXtDgzcTRlP"
   },
   "outputs": [
    {
     "name": "stdout",
     "output_type": "stream",
     "text": [
      "Datasets\n",
      "--------\n",
      "\n",
      "Dataset 0: \n",
      "\n",
      "  Type       : FluxPointsDataset\n",
      "  Name       : Crab nebula: gamma-cat\n",
      "  Instrument : \n",
      "  Models     : ['3FHL J0510.0+1800', '3FHL J0515.8+1528', '3FHL J0521.7+2112', '3FHL J0524.5+2838', '3FHL J0534.5+2201', '3FHL J0536.2+1733', '3FHL J0537.6+2751e', '3FHL J0538.7+1643']\n",
      "\n",
      "Dataset 1: \n",
      "\n",
      "  Type       : FluxPointsDataset\n",
      "  Name       : 3FHL J0534.5+2201\n",
      "  Instrument : \n",
      "  Models     : ['3FHL J0534.5+2201']\n",
      "\n",
      "\n"
     ]
    }
   ],
   "source": [
    "print(datasets_c2)"
   ]
  },
  {
   "cell_type": "markdown",
   "metadata": {
    "id": "yoT71DxVTRlP"
   },
   "source": [
    "### Combining two Models\n",
    "\n",
    "\n"
   ]
  },
  {
   "cell_type": "markdown",
   "metadata": {
    "id": "GBw8MNoxTRlP"
   },
   "source": [
    "`Models` can be extended simply as as python lists\n",
    "\n",
    "\n"
   ]
  },
  {
   "cell_type": "code",
   "execution_count": 37,
   "metadata": {},
   "outputs": [
    {
     "name": "stdout",
     "output_type": "stream",
     "text": [
      "Models\n",
      "\n",
      "Component 0: SkyModel\n",
      "\n",
      "  Name                      : crab_ecpl\n",
      "  Datasets names            : ['Crab nebula: gamma-cat']\n",
      "  Spectral model type       : ExpCutoffPowerLawSpectralModel\n",
      "  Spatial  model type       : \n",
      "  Temporal model type       : \n",
      "  Parameters:\n",
      "    index                         :      1.500   +/-    0.00             \n",
      "    amplitude                     :   1.00e-12   +/- 0.0e+00 1 / (TeV s cm2)\n",
      "    reference             (frozen):      1.000       TeV         \n",
      "    lambda_                       :      0.100   +/-    0.00 1 / TeV     \n",
      "    alpha                 (frozen):      1.000                   \n",
      "\n",
      "Component 1: SkyModel\n",
      "\n",
      "  Name                      : crab_pl\n",
      "  Datasets names            : ['3FHL J0534.5+2201']\n",
      "  Spectral model type       : PowerLawSpectralModel\n",
      "  Spatial  model type       : \n",
      "  Temporal model type       : \n",
      "  Parameters:\n",
      "    index                         :      2.000   +/-    0.00             \n",
      "    amplitude                     :   1.00e-12   +/- 0.0e+00 1 / (TeV s cm2)\n",
      "    reference             (frozen):      1.000       TeV         \n",
      "\n",
      "Component 2: SkyModel\n",
      "\n",
      "  Name                      : crab_lp\n",
      "  Datasets names            : None\n",
      "  Spectral model type       : LogParabolaSpectralModel\n",
      "  Spatial  model type       : \n",
      "  Temporal model type       : \n",
      "  Parameters:\n",
      "    amplitude                     :   1.00e-12   +/- 0.0e+00 1 / (TeV s cm2)\n",
      "    reference             (frozen):     10.000       TeV         \n",
      "    alpha                         :      2.000   +/-    0.00             \n",
      "    beta                          :      1.000   +/-    0.00             \n",
      "\n",
      "\n"
     ]
    }
   ],
   "source": [
    "print(models)"
   ]
  },
  {
   "cell_type": "code",
   "execution_count": 38,
   "metadata": {
    "colab": {
     "base_uri": "https://localhost:8080/"
    },
    "executionInfo": {
     "elapsed": 281,
     "status": "ok",
     "timestamp": 1709688964194,
     "user": {
      "displayName": "Felipe Sousa",
      "userId": "12817278144525562131"
     },
     "user_tz": 180
    },
    "id": "e9wud9wKTRlP",
    "outputId": "711a9add-7240-4ed6-b88a-023ecd2dbd27"
   },
   "outputs": [
    {
     "name": "stdout",
     "output_type": "stream",
     "text": [
      "4\n"
     ]
    }
   ],
   "source": [
    "models.extend(models_selected)\n",
    "print(len(models))"
   ]
  },
  {
   "cell_type": "markdown",
   "metadata": {
    "id": "h6ZGuqSWTRlP"
   },
   "source": [
    "### Selecting models from a list\n",
    "\n",
    "A `Model` can be selected from a list of `Models` by specifying its\n",
    "index or its name.\n",
    "\n",
    "\n"
   ]
  },
  {
   "cell_type": "code",
   "execution_count": 39,
   "metadata": {
    "colab": {
     "base_uri": "https://localhost:8080/"
    },
    "executionInfo": {
     "elapsed": 374,
     "status": "ok",
     "timestamp": 1709688982892,
     "user": {
      "displayName": "Felipe Sousa",
      "userId": "12817278144525562131"
     },
     "user_tz": 180
    },
    "id": "c6YmC1L3TRlP",
    "outputId": "f033c62d-6e26-457d-c45d-1d4e16feb401"
   },
   "outputs": [
    {
     "name": "stdout",
     "output_type": "stream",
     "text": [
      "SkyModel\n",
      "\n",
      "  Name                      : 3FHL J0510.0+1800\n",
      "  Datasets names            : Crab nebula: gamma-cat\n",
      "  Spectral model type       : PowerLawSpectralModel\n",
      "  Spatial  model type       : PointSpatialModel\n",
      "  Temporal model type       : \n",
      "  Parameters:\n",
      "    index                         :      3.069   +/-    0.31             \n",
      "    amplitude                     :   7.78e-12   +/- 1.2e-12 1 / (GeV s cm2)\n",
      "    reference             (frozen):     16.305       GeV         \n",
      "    lon_0                         :     77.521   +/-    0.01 deg         \n",
      "    lat_0                         :     18.009   +/-    0.01 deg         \n",
      "\n",
      "\n",
      "SkyModel\n",
      "\n",
      "  Name                      : 3FHL J0510.0+1800\n",
      "  Datasets names            : Crab nebula: gamma-cat\n",
      "  Spectral model type       : PowerLawSpectralModel\n",
      "  Spatial  model type       : PointSpatialModel\n",
      "  Temporal model type       : \n",
      "  Parameters:\n",
      "    index                         :      3.069   +/-    0.31             \n",
      "    amplitude                     :   7.78e-12   +/- 1.2e-12 1 / (GeV s cm2)\n",
      "    reference             (frozen):     16.305       GeV         \n",
      "    lon_0                         :     77.521   +/-    0.01 deg         \n",
      "    lat_0                         :     18.009   +/-    0.01 deg         \n",
      "\n",
      "\n"
     ]
    }
   ],
   "source": [
    "model = models_3fhl[0]\n",
    "print(model)\n",
    "\n",
    "# Alternatively\n",
    "model = models_3fhl[\"3FHL J0510.0+1800\"]\n",
    "print(model)"
   ]
  },
  {
   "cell_type": "markdown",
   "metadata": {
    "id": "GPmyT_mcTRlT"
   },
   "source": [
    "### Removing a model from a dataset\n",
    "\n",
    "\n"
   ]
  },
  {
   "cell_type": "markdown",
   "metadata": {
    "id": "P0TAt_FgTRlT"
   },
   "source": [
    "Any addition or removal of a model must happen through the global models\n",
    "object, which must then be re-applied on the dataset(s). Note that\n",
    "operations **cannot** be directly performed on `dataset.models()`.\n",
    "\n",
    "\n"
   ]
  },
  {
   "cell_type": "code",
   "execution_count": null,
   "metadata": {},
   "outputs": [],
   "source": []
  },
  {
   "cell_type": "code",
   "execution_count": 41,
   "metadata": {
    "executionInfo": {
     "elapsed": 376,
     "status": "ok",
     "timestamp": 1709689021393,
     "user": {
      "displayName": "Felipe Sousa",
      "userId": "12817278144525562131"
     },
     "user_tz": 180
    },
    "id": "21cVsX4lTRlT"
   },
   "outputs": [],
   "source": [
    "# datasets_c2.models.remove()\n",
    "# * this is forbidden *\n",
    "\n",
    "# Remove the model '3FHL J0510.0+1800'\n",
    "models_3fhl.remove(\"3FHL J0510.0+1800\")\n",
    "\n",
    "\n",
    "# After any operation on models, it must be re-applied on the datasets\n",
    "datasets_c2.models = models_3fhl"
   ]
  },
  {
   "cell_type": "markdown",
   "metadata": {
    "id": "hc0yVFjKTRlT"
   },
   "source": [
    "To see the models applied on a dataset, you can simply\n",
    "\n",
    "\n"
   ]
  },
  {
   "cell_type": "code",
   "execution_count": 42,
   "metadata": {
    "colab": {
     "base_uri": "https://localhost:8080/"
    },
    "executionInfo": {
     "elapsed": 430,
     "status": "ok",
     "timestamp": 1709689079460,
     "user": {
      "displayName": "Felipe Sousa",
      "userId": "12817278144525562131"
     },
     "user_tz": 180
    },
    "id": "RljEaeD3aOti",
    "outputId": "70a25332-5cd7-45ac-b40f-75ed5b5ac38b"
   },
   "outputs": [
    {
     "data": {
      "text/plain": [
       "7"
      ]
     },
     "execution_count": 42,
     "metadata": {},
     "output_type": "execute_result"
    }
   ],
   "source": [
    "len(models_3fhl)"
   ]
  },
  {
   "cell_type": "code",
   "execution_count": 43,
   "metadata": {
    "colab": {
     "base_uri": "https://localhost:8080/"
    },
    "executionInfo": {
     "elapsed": 488,
     "status": "ok",
     "timestamp": 1709689039530,
     "user": {
      "displayName": "Felipe Sousa",
      "userId": "12817278144525562131"
     },
     "user_tz": 180
    },
    "id": "uxlTMGZlTRlT",
    "outputId": "8d1f8469-8c74-4996-9866-686198b3f785"
   },
   "outputs": [
    {
     "name": "stdout",
     "output_type": "stream",
     "text": [
      "['3FHL J0515.8+1528', '3FHL J0521.7+2112', '3FHL J0524.5+2838', '3FHL J0534.5+2201', '3FHL J0536.2+1733', '3FHL J0537.6+2751e', '3FHL J0538.7+1643']\n"
     ]
    }
   ],
   "source": [
    "print(datasets_c2.models.names)"
   ]
  },
  {
   "cell_type": "markdown",
   "metadata": {
    "id": "8_uHjSbOTRlT"
   },
   "source": [
    "### Freezing and unfreezing model parameters\n",
    "\n",
    "For a given model, any parameter can be (un)frozen individually.\n",
    "Additionally, `model.freeze` and `model.unfreeze` can be used to\n",
    "freeze and unfreeze all parameters in one go.\n",
    "\n",
    "\n"
   ]
  },
  {
   "cell_type": "code",
   "execution_count": 52,
   "metadata": {
    "colab": {
     "base_uri": "https://localhost:8080/"
    },
    "executionInfo": {
     "elapsed": 4,
     "status": "ok",
     "timestamp": 1709689116731,
     "user": {
      "displayName": "Felipe Sousa",
      "userId": "12817278144525562131"
     },
     "user_tz": 180
    },
    "id": "yB_KgToCaYl7",
    "outputId": "1f473a63-209e-4047-8ffb-05d5b64d248e"
   },
   "outputs": [
    {
     "name": "stdout",
     "output_type": "stream",
     "text": [
      "SkyModel\n",
      "\n",
      "  Name                      : 3FHL J0515.8+1528\n",
      "  Datasets names            : Crab nebula: gamma-cat\n",
      "  Spectral model type       : PowerLawSpectralModel\n",
      "  Spatial  model type       : PointSpatialModel\n",
      "  Temporal model type       : \n",
      "  Parameters:\n",
      "    index                         :      2.321   +/-    0.20             \n",
      "    amplitude                     :   3.67e-12   +/- 5.7e-13 1 / (GeV s cm2)\n",
      "    reference             (frozen):     21.884       GeV         \n",
      "    lon_0                         :     78.955   +/-    0.01 deg         \n",
      "    lat_0                         :     15.467   +/-    0.01 deg         \n",
      "\n",
      "\n"
     ]
    }
   ],
   "source": [
    "model = models_3fhl[0]\n",
    "print(model)"
   ]
  },
  {
   "cell_type": "code",
   "execution_count": 50,
   "metadata": {},
   "outputs": [
    {
     "name": "stdout",
     "output_type": "stream",
     "text": [
      "SkyModel\n",
      "\n",
      "  Name                      : 3FHL J0515.8+1528\n",
      "  Datasets names            : Crab nebula: gamma-cat\n",
      "  Spectral model type       : PowerLawSpectralModel\n",
      "  Spatial  model type       : PointSpatialModel\n",
      "  Temporal model type       : \n",
      "  Parameters:\n",
      "    index                         :      2.321   +/-    0.20             \n",
      "    amplitude                     :   3.67e-12   +/- 5.7e-13 1 / (GeV s cm2)\n",
      "    reference                     :     21.884   +/-    0.00 GeV         \n",
      "    lon_0                         :     78.955   +/-    0.01 deg         \n",
      "    lat_0                         :     15.467   +/-    0.01 deg         \n",
      "\n",
      "\n"
     ]
    }
   ],
   "source": []
  },
  {
   "cell_type": "code",
   "execution_count": 53,
   "metadata": {
    "colab": {
     "base_uri": "https://localhost:8080/"
    },
    "executionInfo": {
     "elapsed": 267,
     "status": "ok",
     "timestamp": 1709689218831,
     "user": {
      "displayName": "Felipe Sousa",
      "userId": "12817278144525562131"
     },
     "user_tz": 180
    },
    "id": "akDV89y3TRlU",
    "outputId": "38646cc2-54bc-4350-ace7-7e30c7944233"
   },
   "outputs": [
    {
     "name": "stdout",
     "output_type": "stream",
     "text": [
      "SkyModel\n",
      "\n",
      "  Name                      : 3FHL J0515.8+1528\n",
      "  Datasets names            : Crab nebula: gamma-cat\n",
      "  Spectral model type       : PowerLawSpectralModel\n",
      "  Spatial  model type       : PointSpatialModel\n",
      "  Temporal model type       : \n",
      "  Parameters:\n",
      "    index                         :      2.321   +/-    0.20             \n",
      "    amplitude                     :   3.67e-12   +/- 5.7e-13 1 / (GeV s cm2)\n",
      "    reference             (frozen):     21.884       GeV         \n",
      "    lon_0                         :     78.955   +/-    0.01 deg         \n",
      "    lat_0                         :     15.467   +/-    0.01 deg         \n",
      "\n",
      "\n",
      "SkyModel\n",
      "\n",
      "  Name                      : 3FHL J0515.8+1528\n",
      "  Datasets names            : Crab nebula: gamma-cat\n",
      "  Spectral model type       : PowerLawSpectralModel\n",
      "  Spatial  model type       : PointSpatialModel\n",
      "  Temporal model type       : \n",
      "  Parameters:\n",
      "    index                 (frozen):      2.321                   \n",
      "    amplitude                     :   3.67e-12   +/- 5.7e-13 1 / (GeV s cm2)\n",
      "    reference             (frozen):     21.884       GeV         \n",
      "    lon_0                         :     78.955   +/-    0.01 deg         \n",
      "    lat_0                         :     15.467   +/-    0.01 deg         \n",
      "\n",
      "\n",
      "SkyModel\n",
      "\n",
      "  Name                      : 3FHL J0515.8+1528\n",
      "  Datasets names            : Crab nebula: gamma-cat\n",
      "  Spectral model type       : PowerLawSpectralModel\n",
      "  Spatial  model type       : PointSpatialModel\n",
      "  Temporal model type       : \n",
      "  Parameters:\n",
      "    index                 (frozen):      2.321                   \n",
      "    amplitude             (frozen):   3.67e-12       1 / (GeV s cm2)\n",
      "    reference             (frozen):     21.884       GeV         \n",
      "    lon_0                 (frozen):     78.955       deg         \n",
      "    lat_0                 (frozen):     15.467       deg         \n",
      "\n",
      "\n",
      "SkyModel\n",
      "\n",
      "  Name                      : 3FHL J0515.8+1528\n",
      "  Datasets names            : Crab nebula: gamma-cat\n",
      "  Spectral model type       : PowerLawSpectralModel\n",
      "  Spatial  model type       : PointSpatialModel\n",
      "  Temporal model type       : \n",
      "  Parameters:\n",
      "    index                         :      2.321   +/-    0.20             \n",
      "    amplitude                     :   3.67e-12   +/- 5.7e-13 1 / (GeV s cm2)\n",
      "    reference             (frozen):     21.884       GeV         \n",
      "    lon_0                         :     78.955   +/-    0.01 deg         \n",
      "    lat_0                         :     15.467   +/-    0.01 deg         \n",
      "\n",
      "\n"
     ]
    }
   ],
   "source": [
    "model = models_3fhl[0]\n",
    "print(model)\n",
    "\n",
    "# To freeze a single parameter\n",
    "model.spectral_model.index.frozen = True\n",
    "print(model)  # index is now frozen\n",
    "\n",
    "# To unfreeze a parameter\n",
    "model.spectral_model.index.frozen = False\n",
    "\n",
    "# To freeze all parameters of a model\n",
    "model.freeze()\n",
    "print(model)\n",
    "\n",
    "# To unfreeze all parameters (except parameters which must remain frozen)\n",
    "model.unfreeze()\n",
    "print(model)"
   ]
  },
  {
   "cell_type": "markdown",
   "metadata": {
    "id": "uFpTbFMhTRlU"
   },
   "source": [
    "Only spectral or spatial or temporal components of a model can also be\n",
    "frozen\n",
    "\n",
    "\n"
   ]
  },
  {
   "cell_type": "code",
   "execution_count": 54,
   "metadata": {
    "colab": {
     "base_uri": "https://localhost:8080/"
    },
    "executionInfo": {
     "elapsed": 281,
     "status": "ok",
     "timestamp": 1709689372374,
     "user": {
      "displayName": "Felipe Sousa",
      "userId": "12817278144525562131"
     },
     "user_tz": 180
    },
    "id": "YD_vrEkGTRlU",
    "outputId": "7ab7b4a7-a830-4e06-b20c-a343ad9ef3e4"
   },
   "outputs": [
    {
     "name": "stdout",
     "output_type": "stream",
     "text": [
      "SkyModel\n",
      "\n",
      "  Name                      : 3FHL J0515.8+1528\n",
      "  Datasets names            : Crab nebula: gamma-cat\n",
      "  Spectral model type       : PowerLawSpectralModel\n",
      "  Spatial  model type       : PointSpatialModel\n",
      "  Temporal model type       : \n",
      "  Parameters:\n",
      "    index                         :      2.321   +/-    0.20             \n",
      "    amplitude                     :   3.67e-12   +/- 5.7e-13 1 / (GeV s cm2)\n",
      "    reference             (frozen):     21.884       GeV         \n",
      "    lon_0                 (frozen):     78.955       deg         \n",
      "    lat_0                 (frozen):     15.467       deg         \n",
      "\n",
      "\n"
     ]
    }
   ],
   "source": [
    "# To freeze spatial components\n",
    "model.freeze(\"spatial\")\n",
    "print(model)"
   ]
  },
  {
   "cell_type": "markdown",
   "metadata": {
    "id": "Pok3FkxzTRlU"
   },
   "source": [
    "To check if all the parameters of a model are frozen,\n",
    "\n",
    "\n"
   ]
  },
  {
   "cell_type": "code",
   "execution_count": 55,
   "metadata": {
    "colab": {
     "base_uri": "https://localhost:8080/"
    },
    "executionInfo": {
     "elapsed": 291,
     "status": "ok",
     "timestamp": 1709689385131,
     "user": {
      "displayName": "Felipe Sousa",
      "userId": "12817278144525562131"
     },
     "user_tz": 180
    },
    "id": "WboANR_-TRlU",
    "outputId": "bfaeed25-b291-42a9-b504-8149f45306bd"
   },
   "outputs": [
    {
     "name": "stdout",
     "output_type": "stream",
     "text": [
      "False\n",
      "True\n"
     ]
    }
   ],
   "source": [
    "print(model.frozen)  # False because spectral components are not frozen\n",
    "\n",
    "print(model.spatial_model.frozen)  # all spatial components are frozen"
   ]
  },
  {
   "cell_type": "markdown",
   "metadata": {
    "id": "wQKgxqbNTRlU"
   },
   "source": [
    "The same operations can be performed on `Models` directly - to perform\n",
    "on a list of models at once, eg\n",
    "\n",
    "\n"
   ]
  },
  {
   "cell_type": "code",
   "execution_count": 56,
   "metadata": {
    "colab": {
     "base_uri": "https://localhost:8080/"
    },
    "executionInfo": {
     "elapsed": 321,
     "status": "ok",
     "timestamp": 1709689407137,
     "user": {
      "displayName": "Felipe Sousa",
      "userId": "12817278144525562131"
     },
     "user_tz": 180
    },
    "id": "UVCFTroVTRlU",
    "outputId": "74e63dab-1d41-4afe-dc2b-95afad44e87c"
   },
   "outputs": [
    {
     "name": "stdout",
     "output_type": "stream",
     "text": [
      "['index', 'amplitude', 'lon_0', 'lat_0']\n"
     ]
    }
   ],
   "source": [
    "models_selected.freeze()  # freeze all parameters of all models\n",
    "\n",
    "models_selected.unfreeze()  # unfreeze all parameters of all models\n",
    "\n",
    "# print the free parameters in the models\n",
    "print(models_selected.parameters.free_parameters.names)"
   ]
  },
  {
   "cell_type": "markdown",
   "metadata": {
    "id": "Pq6SaOj3TRlU"
   },
   "source": [
    "There are more functionalities which you can explore. In general, using\n",
    "`help()` on any function is a quick and useful way to access the\n",
    "documentation. For ex, `Models.unfreeze_all` will unfreeze all\n",
    "parameters, even those which are fixed by default. To see its usage, you\n",
    "can simply type\n",
    "\n",
    "\n"
   ]
  },
  {
   "cell_type": "code",
   "execution_count": 57,
   "metadata": {
    "colab": {
     "base_uri": "https://localhost:8080/"
    },
    "executionInfo": {
     "elapsed": 361,
     "status": "ok",
     "timestamp": 1709689435332,
     "user": {
      "displayName": "Felipe Sousa",
      "userId": "12817278144525562131"
     },
     "user_tz": 180
    },
    "id": "iDYDUwL4TRlV",
    "outputId": "1f150dac-8938-41b5-8f74-9dbeb49d1c48"
   },
   "outputs": [
    {
     "name": "stdout",
     "output_type": "stream",
     "text": [
      "Help on method unfreeze in module gammapy.modeling.models.core:\n",
      "\n",
      "unfreeze(model_type=None) method of gammapy.modeling.models.core.Models instance\n",
      "    Restore parameters frozen status to default depending on model type\n",
      "    \n",
      "    Parameters\n",
      "    ----------\n",
      "    model_type : {None, \"spatial\", \"spectral\"}\n",
      "       restore frozen status to default for all parameters or only spatial or only spectral\n",
      "\n"
     ]
    }
   ],
   "source": [
    "help(models_selected.unfreeze)"
   ]
  },
  {
   "cell_type": "code",
   "execution_count": null,
   "metadata": {
    "id": "BR9CFkf1TRlV"
   },
   "outputs": [],
   "source": []
  },
  {
   "cell_type": "markdown",
   "metadata": {
    "id": "PHpobCqETRlV"
   },
   "source": [
    "<a id='gammapy'></a>\n",
    "## 2. Flux point fitting\n",
    "\n",
    "Here we will load the spectral points of the Crab Nebula and fit them with various spectral models to find the best representation of the wide-band spectrum.\n",
    "\n",
    "\n"
   ]
  },
  {
   "cell_type": "markdown",
   "metadata": {
    "id": "h32R1dS-TRlV"
   },
   "source": [
    "We will use the previously loaded dataset (dataset_all) that contains the four datasets\n",
    "\n",
    "Let's plot the flow points"
   ]
  },
  {
   "cell_type": "code",
   "execution_count": null,
   "metadata": {},
   "outputs": [],
   "source": [
    "# print(datasets_all)"
   ]
  },
  {
   "cell_type": "code",
   "execution_count": 58,
   "metadata": {
    "colab": {
     "base_uri": "https://localhost:8080/",
     "height": 466
    },
    "executionInfo": {
     "elapsed": 1324,
     "status": "ok",
     "timestamp": 1709689444627,
     "user": {
      "displayName": "Felipe Sousa",
      "userId": "12817278144525562131"
     },
     "user_tz": 180
    },
    "id": "EG7FpA4uTRlV",
    "outputId": "566e3329-a476-4acb-9c5b-8420bf1e0d99"
   },
   "outputs": [
    {
     "data": {
      "image/png": "[encoded data removed]",
      "text/plain": [
       "<Figure size 640x480 with 1 Axes>"
      ]
     },
     "metadata": {},
     "output_type": "display_data"
    }
   ],
   "source": [
    "ax = plt.subplot()\n",
    "ax.yaxis.set_units(u.Unit(\"TeV cm-2 s-1\"))\n",
    "\n",
    "kwargs = {\"ax\": ax, \"sed_type\": \"e2dnde\"}\n",
    "\n",
    "for d in datasets_all:\n",
    "    d.data.plot(label=d.name, **kwargs)\n",
    "\n",
    "energy_bounds = [1e-5, 1e2] * u.TeV\n",
    "ax.set_ylim(1e-14, 1e-9)\n",
    "ax.set_xlim(energy_bounds)\n",
    "ax.legend()\n",
    "plt.show()"
   ]
  },
  {
   "cell_type": "code",
   "execution_count": null,
   "metadata": {
    "id": "BqRyyEGiTRlV"
   },
   "outputs": [],
   "source": []
  },
  {
   "cell_type": "markdown",
   "metadata": {
    "id": "AAVC_ZhaTRlV"
   },
   "source": [
    "### Power Law Fit\n",
    "\n",
    "\n",
    "First we start with fitting a simple `PowerLawSpectralModel`.\n"
   ]
  },
  {
   "cell_type": "code",
   "execution_count": 63,
   "metadata": {
    "executionInfo": {
     "elapsed": 290,
     "status": "ok",
     "timestamp": 1709689472575,
     "user": {
      "displayName": "Felipe Sousa",
      "userId": "12817278144525562131"
     },
     "user_tz": 180
    },
    "id": "NwMJYr6YTRlV"
   },
   "outputs": [],
   "source": [
    "pwl = PowerLawSpectralModel(\n",
    "    index=2, amplitude=\"1e-12 cm-2 s-1 TeV-1\", reference=\"1 TeV\"\n",
    ")\n",
    "\n",
    "# pwl.index.max = 3\n",
    "# pwl.index.min = 2\n",
    "\n",
    "model_pwl = SkyModel(spectral_model=pwl, name=\"crab-pl\")"
   ]
  },
  {
   "cell_type": "code",
   "execution_count": 64,
   "metadata": {
    "colab": {
     "base_uri": "https://localhost:8080/",
     "height": 141
    },
    "executionInfo": {
     "elapsed": 315,
     "status": "ok",
     "timestamp": 1709689491008,
     "user": {
      "displayName": "Felipe Sousa",
      "userId": "12817278144525562131"
     },
     "user_tz": 180
    },
    "id": "IohWr5qLTRlV",
    "outputId": "f7ce7c03-a494-44d3-f0d2-c77eedb9eefb"
   },
   "outputs": [
    {
     "data": {
      "text/html": [
       "<div><i>Table length=3</i>\n",
       "<table id=\"table140402696199376\" class=\"table-striped table-bordered table-condensed\">\n",
       "<thead><tr><th>type</th><th>name</th><th>value</th><th>unit</th><th>error</th><th>min</th><th>max</th><th>frozen</th><th>is_norm</th><th>link</th></tr></thead>\n",
       "<thead><tr><th>str8</th><th>str9</th><th>float64</th><th>str14</th><th>int64</th><th>float64</th><th>float64</th><th>bool</th><th>bool</th><th>str1</th></tr></thead>\n",
       "<tr><td>spectral</td><td>index</td><td>2.0000e+00</td><td></td><td>0.000e+00</td><td>nan</td><td>nan</td><td>False</td><td>False</td><td></td></tr>\n",
       "<tr><td>spectral</td><td>amplitude</td><td>1.0000e-12</td><td>TeV-1 s-1 cm-2</td><td>0.000e+00</td><td>nan</td><td>nan</td><td>False</td><td>True</td><td></td></tr>\n",
       "<tr><td>spectral</td><td>reference</td><td>1.0000e+00</td><td>TeV</td><td>0.000e+00</td><td>nan</td><td>nan</td><td>True</td><td>False</td><td></td></tr>\n",
       "</table></div>"
      ],
      "text/plain": [
       "<Table length=3>\n",
       "  type      name     value         unit      ...   max   frozen is_norm link\n",
       "  str8      str9    float64       str14      ... float64  bool    bool  str1\n",
       "-------- --------- ---------- -------------- ... ------- ------ ------- ----\n",
       "spectral     index 2.0000e+00                ...     nan  False   False     \n",
       "spectral amplitude 1.0000e-12 TeV-1 s-1 cm-2 ...     nan  False    True     \n",
       "spectral reference 1.0000e+00            TeV ...     nan   True   False     "
      ]
     },
     "execution_count": 64,
     "metadata": {},
     "output_type": "execute_result"
    }
   ],
   "source": [
    "model_pwl.parameters.to_table()"
   ]
  },
  {
   "cell_type": "markdown",
   "metadata": {
    "id": "jXgAl_1TTRlW"
   },
   "source": [
    "After creating the model we run the fit by passing the `flux_points` and `model` objects:\n"
   ]
  },
  {
   "cell_type": "code",
   "execution_count": 65,
   "metadata": {
    "colab": {
     "base_uri": "https://localhost:8080/"
    },
    "executionInfo": {
     "elapsed": 6712,
     "status": "ok",
     "timestamp": 1709689515996,
     "user": {
      "displayName": "Felipe Sousa",
      "userId": "12817278144525562131"
     },
     "user_tz": 180
    },
    "id": "YYBrnXOVTRlW",
    "outputId": "81ab76c1-eb81-4449-93e1-f275c7b778e8"
   },
   "outputs": [
    {
     "name": "stdout",
     "output_type": "stream",
     "text": [
      "OptimizeResult\n",
      "\n",
      "\tbackend    : minuit\n",
      "\tmethod     : migrad\n",
      "\tsuccess    : True\n",
      "\tmessage    : Optimization terminated successfully..\n",
      "\tnfev       : 156\n",
      "\ttotal stat : 1764.48\n",
      "\n",
      "CovarianceResult\n",
      "\n",
      "\tbackend    : minuit\n",
      "\tmethod     : hesse\n",
      "\tsuccess    : True\n",
      "\tmessage    : Hesse terminated successfully.\n",
      "\n"
     ]
    }
   ],
   "source": [
    "datasets_all.models = model_pwl\n",
    "\n",
    "\n",
    "fitter = Fit()\n",
    "result_pwl = fitter.run(datasets=datasets_all)\n",
    "print(result_pwl)"
   ]
  },
  {
   "cell_type": "code",
   "execution_count": 66,
   "metadata": {
    "colab": {
     "base_uri": "https://localhost:8080/",
     "height": 141
    },
    "executionInfo": {
     "elapsed": 349,
     "status": "ok",
     "timestamp": 1709689519686,
     "user": {
      "displayName": "Felipe Sousa",
      "userId": "12817278144525562131"
     },
     "user_tz": 180
    },
    "id": "jVdodNuUTRlW",
    "outputId": "637b6763-00d9-4cb4-edfd-0babfb094483"
   },
   "outputs": [
    {
     "data": {
      "text/html": [
       "<div><i>Table length=3</i>\n",
       "<table id=\"table140402696171040\" class=\"table-striped table-bordered table-condensed\">\n",
       "<thead><tr><th>model</th><th>type</th><th>name</th><th>value</th><th>unit</th><th>error</th><th>min</th><th>max</th><th>frozen</th><th>is_norm</th><th>link</th></tr></thead>\n",
       "<thead><tr><th>str7</th><th>str8</th><th>str9</th><th>float64</th><th>str14</th><th>float64</th><th>float64</th><th>float64</th><th>bool</th><th>bool</th><th>str1</th></tr></thead>\n",
       "<tr><td>crab-pl</td><td>spectral</td><td>index</td><td>2.2942e+00</td><td></td><td>1.569e-03</td><td>nan</td><td>nan</td><td>False</td><td>False</td><td></td></tr>\n",
       "<tr><td>crab-pl</td><td>spectral</td><td>amplitude</td><td>2.6437e-11</td><td>TeV-1 s-1 cm-2</td><td>2.749e-13</td><td>nan</td><td>nan</td><td>False</td><td>True</td><td></td></tr>\n",
       "<tr><td>crab-pl</td><td>spectral</td><td>reference</td><td>1.0000e+00</td><td>TeV</td><td>0.000e+00</td><td>nan</td><td>nan</td><td>True</td><td>False</td><td></td></tr>\n",
       "</table></div>"
      ],
      "text/plain": [
       "<Table length=3>\n",
       " model    type      name     value    ...   max   frozen is_norm link\n",
       "  str7    str8      str9    float64   ... float64  bool    bool  str1\n",
       "------- -------- --------- ---------- ... ------- ------ ------- ----\n",
       "crab-pl spectral     index 2.2942e+00 ...     nan  False   False     \n",
       "crab-pl spectral amplitude 2.6437e-11 ...     nan  False    True     \n",
       "crab-pl spectral reference 1.0000e+00 ...     nan   True   False     "
      ]
     },
     "execution_count": 66,
     "metadata": {},
     "output_type": "execute_result"
    }
   ],
   "source": [
    "result_pwl.models.to_parameters_table()"
   ]
  },
  {
   "cell_type": "code",
   "execution_count": null,
   "metadata": {
    "id": "PwLcjlg7TRlW"
   },
   "outputs": [],
   "source": [
    "\n"
   ]
  },
  {
   "cell_type": "markdown",
   "metadata": {
    "id": "lCHYfW6NTRlW"
   },
   "source": [
    "Finally we plot the data points and the best fit model:\n"
   ]
  },
  {
   "cell_type": "code",
   "execution_count": 67,
   "metadata": {
    "colab": {
     "base_uri": "https://localhost:8080/",
     "height": 466
    },
    "executionInfo": {
     "elapsed": 1592,
     "status": "ok",
     "timestamp": 1709689532478,
     "user": {
      "displayName": "Felipe Sousa",
      "userId": "12817278144525562131"
     },
     "user_tz": 180
    },
    "id": "tIc6ydb2TRlW",
    "outputId": "a28b851e-3754-43a9-805b-d111b8de6e9d"
   },
   "outputs": [
    {
     "data": {
      "image/png": "[encoded data removed]",
      "text/plain": [
       "<Figure size 640x480 with 1 Axes>"
      ]
     },
     "metadata": {},
     "output_type": "display_data"
    }
   ],
   "source": [
    "ax = plt.subplot()\n",
    "ax.yaxis.set_units(u.Unit(\"TeV cm-2 s-1\"))\n",
    "\n",
    "kwargs = {\"ax\": ax, \"sed_type\": \"e2dnde\"}\n",
    "\n",
    "for d in datasets_all:\n",
    "    d.data.plot(label=d.name, **kwargs)\n",
    "\n",
    "energy_bounds = [1e-5, 1e2] * u.TeV\n",
    "\n",
    "pwl.plot(energy_bounds=energy_bounds, color=\"k\", **kwargs)\n",
    "pwl.plot_error(energy_bounds=energy_bounds, **kwargs)\n",
    "\n",
    "ax.set_ylim(1e-14, 1e-9)\n",
    "ax.set_xlim(energy_bounds)\n",
    "ax.legend()\n",
    "plt.show()\n"
   ]
  },
  {
   "cell_type": "code",
   "execution_count": null,
   "metadata": {
    "id": "E8ckClR5TRlW"
   },
   "outputs": [],
   "source": []
  },
  {
   "cell_type": "markdown",
   "metadata": {
    "id": "UgEOcNeYTRlW"
   },
   "source": [
    "The value of the quantity $-2\\ln\\mathcal(L)$ for the Power Law model can be simply computed as"
   ]
  },
  {
   "cell_type": "code",
   "execution_count": 68,
   "metadata": {
    "colab": {
     "base_uri": "https://localhost:8080/"
    },
    "executionInfo": {
     "elapsed": 2,
     "status": "ok",
     "timestamp": 1709689544488,
     "user": {
      "displayName": "Felipe Sousa",
      "userId": "12817278144525562131"
     },
     "user_tz": 180
    },
    "id": "q1chJ_O_TRlW",
    "outputId": "7766bb24-498d-4c6d-905e-885820b8ccfa"
   },
   "outputs": [
    {
     "name": "stdout",
     "output_type": "stream",
     "text": [
      "1764.482937848233\n"
     ]
    }
   ],
   "source": [
    "Stat_0 = result_pwl.total_stat\n",
    "print(Stat_0)"
   ]
  },
  {
   "cell_type": "code",
   "execution_count": null,
   "metadata": {
    "id": "NjF_cpwrTRlW"
   },
   "outputs": [],
   "source": [
    "\n"
   ]
  },
  {
   "cell_type": "markdown",
   "metadata": {
    "id": "vXZEZELrTRlW"
   },
   "source": [
    "### Exponential Cut-Off Powerlaw Fit\n",
    "\n",
    "\n",
    "Next we fit an `ExpCutoffPowerLawSpectralModel` law to the data.\n"
   ]
  },
  {
   "cell_type": "code",
   "execution_count": 71,
   "metadata": {
    "executionInfo": {
     "elapsed": 2,
     "status": "ok",
     "timestamp": 1709689555786,
     "user": {
      "displayName": "Felipe Sousa",
      "userId": "12817278144525562131"
     },
     "user_tz": 180
    },
    "id": "z-fq5kqGTRlW"
   },
   "outputs": [],
   "source": [
    "ecpl = ExpCutoffPowerLawSpectralModel(\n",
    "    index=1.8,\n",
    "    amplitude=\"2e-12 cm-2 s-1 TeV-1\",\n",
    "    reference=\"1 TeV\",\n",
    "    lambda_=\"0.1 TeV-1\",\n",
    ")\n",
    "\n",
    "model_ecpl = SkyModel(spectral_model=ecpl, name=\"crab-ecpl\")\n"
   ]
  },
  {
   "cell_type": "markdown",
   "metadata": {
    "id": "DC59h2TDTRlX"
   },
   "source": [
    "We run the fitter again by passing the flux points and the model instance:\n",
    "\n"
   ]
  },
  {
   "cell_type": "code",
   "execution_count": 72,
   "metadata": {},
   "outputs": [
    {
     "name": "stdout",
     "output_type": "stream",
     "text": [
      "SkyModel\n",
      "\n",
      "  Name                      : crab-ecpl\n",
      "  Datasets names            : None\n",
      "  Spectral model type       : ExpCutoffPowerLawSpectralModel\n",
      "  Spatial  model type       : \n",
      "  Temporal model type       : \n",
      "  Parameters:\n",
      "    index                         :      1.800   +/-    0.00             \n",
      "    amplitude                     :   2.00e-12   +/- 0.0e+00 1 / (TeV s cm2)\n",
      "    reference             (frozen):      1.000       TeV         \n",
      "    lambda_                       :      0.100   +/-    0.00 1 / TeV     \n",
      "    alpha                 (frozen):      1.000                   \n",
      "\n",
      "\n"
     ]
    }
   ],
   "source": [
    "print(model_ecpl)"
   ]
  },
  {
   "cell_type": "code",
   "execution_count": 73,
   "metadata": {
    "colab": {
     "base_uri": "https://localhost:8080/"
    },
    "executionInfo": {
     "elapsed": 11781,
     "status": "ok",
     "timestamp": 1709689570167,
     "user": {
      "displayName": "Felipe Sousa",
      "userId": "12817278144525562131"
     },
     "user_tz": 180
    },
    "id": "qWVU0toWTRlX",
    "outputId": "16f0a286-6fcf-4160-b83e-6676078cf907"
   },
   "outputs": [
    {
     "name": "stdout",
     "output_type": "stream",
     "text": [
      "OptimizeResult\n",
      "\n",
      "\tbackend    : minuit\n",
      "\tmethod     : migrad\n",
      "\tsuccess    : True\n",
      "\tmessage    : Optimization terminated successfully..\n",
      "\tnfev       : 278\n",
      "\ttotal stat : 537.52\n",
      "\n",
      "CovarianceResult\n",
      "\n",
      "\tbackend    : minuit\n",
      "\tmethod     : hesse\n",
      "\tsuccess    : True\n",
      "\tmessage    : Hesse terminated successfully.\n",
      "\n",
      "SkyModel\n",
      "\n",
      "  Name                      : crab-ecpl\n",
      "  Datasets names            : None\n",
      "  Spectral model type       : ExpCutoffPowerLawSpectralModel\n",
      "  Spatial  model type       : \n",
      "  Temporal model type       : \n",
      "  Parameters:\n",
      "    index                         :      2.236   +/-    0.00             \n",
      "    amplitude                     :   3.94e-11   +/- 6.1e-13 1 / (TeV s cm2)\n",
      "    reference             (frozen):      1.000       TeV         \n",
      "    lambda_                       :      0.119   +/-    0.01 1 / TeV     \n",
      "    alpha                 (frozen):      1.000                   \n",
      "\n",
      "\n"
     ]
    }
   ],
   "source": [
    "datasets_all.models = model_ecpl\n",
    "fitter2 = Fit()\n",
    "result_ecpl = fitter2.run(datasets=datasets_all)\n",
    "\n",
    "print(result_ecpl)\n",
    "print(model_ecpl)"
   ]
  },
  {
   "cell_type": "markdown",
   "metadata": {
    "id": "fNX3nuXRTRlX"
   },
   "source": [
    "We plot the data and best fit model:\n",
    "\n"
   ]
  },
  {
   "cell_type": "code",
   "execution_count": 78,
   "metadata": {
    "colab": {
     "base_uri": "https://localhost:8080/",
     "height": 466
    },
    "executionInfo": {
     "elapsed": 1393,
     "status": "ok",
     "timestamp": 1709689575338,
     "user": {
      "displayName": "Felipe Sousa",
      "userId": "12817278144525562131"
     },
     "user_tz": 180
    },
    "id": "H7QPfJJPTRlX",
    "outputId": "a173f98a-49cd-40d3-af79-93737e75c1f8"
   },
   "outputs": [
    {
     "data": {
      "image/png": "[encoded data removed]",
      "text/plain": [
       "<Figure size 640x480 with 1 Axes>"
      ]
     },
     "metadata": {},
     "output_type": "display_data"
    }
   ],
   "source": [
    "ax = plt.subplot()\n",
    "ax.yaxis.set_units(u.Unit(\"TeV cm-2 s-1\"))\n",
    "\n",
    "kwargs = {\"ax\": ax, \"sed_type\": \"e2dnde\"}\n",
    "\n",
    "for d in datasets_all:\n",
    "    d.data.plot(label=d.name, **kwargs)\n",
    "\n",
    "energy_bounds = [1e-5, 1e2] * u.TeV\n",
    "\n",
    "ecpl.plot(energy_bounds=energy_bounds, color=\"k\", **kwargs)\n",
    "ecpl.plot_error(energy_bounds=energy_bounds, **kwargs)\n",
    "\n",
    "ax.set_ylim(1e-14, 1e-9)\n",
    "ax.set_xlim(energy_bounds)\n",
    "ax.legend()\n",
    "plt.show()\n"
   ]
  },
  {
   "cell_type": "code",
   "execution_count": null,
   "metadata": {
    "id": "r0UAoexcTRlX"
   },
   "outputs": [],
   "source": []
  },
  {
   "cell_type": "markdown",
   "metadata": {
    "id": "mrUmyOT_TRlX"
   },
   "source": [
    "The value of the quantity $-2\\ln\\mathcal(L)$ for the Exponential Cut-Off Powerlaw model can be simply computed as"
   ]
  },
  {
   "cell_type": "code",
   "execution_count": 79,
   "metadata": {
    "colab": {
     "base_uri": "https://localhost:8080/"
    },
    "executionInfo": {
     "elapsed": 280,
     "status": "ok",
     "timestamp": 1709689583066,
     "user": {
      "displayName": "Felipe Sousa",
      "userId": "12817278144525562131"
     },
     "user_tz": 180
    },
    "id": "SE4dGlT4TRlX",
    "outputId": "af74b845-140a-4c52-f6af-20224f2d30d3"
   },
   "outputs": [
    {
     "name": "stdout",
     "output_type": "stream",
     "text": [
      "537.519170615171\n"
     ]
    }
   ],
   "source": [
    "Stat_1 = result_ecpl.total_stat\n",
    "print(Stat_1)"
   ]
  },
  {
   "cell_type": "code",
   "execution_count": null,
   "metadata": {
    "id": "PxtTFE2jTRlX"
   },
   "outputs": [],
   "source": [
    "\n"
   ]
  },
  {
   "cell_type": "markdown",
   "metadata": {
    "id": "3_6_PN4JTRlX"
   },
   "source": [
    "### Test Statistics"
   ]
  },
  {
   "cell_type": "markdown",
   "metadata": {
    "id": "sUDCy6AVTRlX"
   },
   "source": [
    "**Test hypotheses: Likelihood-ratio test**\n",
    "\n",
    "* Null hypothesis: the log-likelihoods from one model is equal to the other (H0: log-likelihood model 1 - log-likelihood model 2 = 0)\n",
    "\n",
    "* Alt hypothesis: the log-likelihoods are not equal to one another (HA: log-likelihood model 1 - log-likelihood model 2 ≠ 0)\n",
    "\n",
    "Interpretation:\n",
    "\n",
    "If the p value for the test is < 'X', then we reject the null hypothesis and one model improves the fit of the model."
   ]
  },
  {
   "cell_type": "code",
   "execution_count": null,
   "metadata": {},
   "outputs": [],
   "source": [
    "# result_pwl.models.parameters.free_parameters.names"
   ]
  },
  {
   "cell_type": "code",
   "execution_count": null,
   "metadata": {},
   "outputs": [],
   "source": []
  },
  {
   "cell_type": "code",
   "execution_count": 84,
   "metadata": {
    "colab": {
     "base_uri": "https://localhost:8080/"
    },
    "executionInfo": {
     "elapsed": 260,
     "status": "ok",
     "timestamp": 1709689593306,
     "user": {
      "displayName": "Felipe Sousa",
      "userId": "12817278144525562131"
     },
     "user_tz": 180
    },
    "id": "X3YfKRdSTRlY",
    "outputId": "99202e69-b40d-4f12-f80f-0085aee3e60e"
   },
   "outputs": [
    {
     "name": "stdout",
     "output_type": "stream",
     "text": [
      "The delta_ts  of H1 vs H0: 1226.964, that gives a p-value of 8.421203258693439e-269\n",
      "Converting this to a significance gives: 35.028 σ\n"
     ]
    }
   ],
   "source": [
    "# standard formula is TS=-2(LogLike1-LogLike0) but default stat in gammapy is -2 log(L)\n",
    "delta_ts = Stat_0-Stat_1   # -(Stat_1-Stat_0)\n",
    "\n",
    "df = len(result_ecpl.models.parameters.free_parameters.names)-len(result_pwl.models.parameters.free_parameters.names)\n",
    "\n",
    "sigma = ts_to_sigma(delta_ts, df=df)\n",
    "\n",
    "print(f\"The delta_ts  of H1 vs H0: {delta_ts:.3f}, that gives a p-value of {chi2.sf(delta_ts, df)}\")\n",
    "print(f\"Converting this to a significance gives: {sigma:.3f} \\u03C3\")"
   ]
  },
  {
   "cell_type": "code",
   "execution_count": 86,
   "metadata": {},
   "outputs": [
    {
     "name": "stdout",
     "output_type": "stream",
     "text": [
      "1764.482937848233\n",
      "537.519170615171\n"
     ]
    }
   ],
   "source": [
    "print(Stat_0)\n",
    "print(Stat_1)"
   ]
  },
  {
   "cell_type": "code",
   "execution_count": null,
   "metadata": {
    "id": "65tFGeChTRlY"
   },
   "outputs": [],
   "source": []
  },
  {
   "cell_type": "markdown",
   "metadata": {
    "id": "evELxfU3TRlY"
   },
   "source": [
    "To check that the fit has coverged correctly, it is always a good idea to inspect the likelihood profile for the free model parameters."
   ]
  },
  {
   "cell_type": "code",
   "execution_count": 87,
   "metadata": {
    "colab": {
     "base_uri": "https://localhost:8080/",
     "height": 410
    },
    "executionInfo": {
     "elapsed": 3934,
     "status": "ok",
     "timestamp": 1709689604506,
     "user": {
      "displayName": "Felipe Sousa",
      "userId": "12817278144525562131"
     },
     "user_tz": 180
    },
    "id": "Pcut3dGMTRlY",
    "outputId": "ab69047c-eeb0-48ff-ebbb-ca9f3d9cdc9b"
   },
   "outputs": [
    {
     "data": {
      "image/png": "[encoded data removed]",
      "text/plain": [
       "<Figure size 1400x400 with 3 Axes>"
      ]
     },
     "metadata": {},
     "output_type": "display_data"
    }
   ],
   "source": [
    "total_stat = result_ecpl.total_stat\n",
    "\n",
    "fig, axes = plt.subplots(nrows=1, ncols=3, figsize=(14, 4))\n",
    "\n",
    "for ax, par in zip(axes, model_ecpl.parameters.free_parameters):\n",
    "    par.scan_n_values = 25\n",
    "\n",
    "    profile = fitter2.stat_profile(datasets=datasets_all, parameter=par)\n",
    "    ax.plot(profile[f\"{model_ecpl.name}.spectral.{par.name}_scan\"], profile[\"stat_scan\"] - total_stat)\n",
    "    ax.set_xlabel(f\"{par.unit}\")\n",
    "    ax.set_ylabel(\"Delta TS\")\n",
    "    ax.set_title(f\"{par.name}: {par.value:.1e} +- {par.error:.1e}\")"
   ]
  },
  {
   "cell_type": "code",
   "execution_count": null,
   "metadata": {
    "id": "FDvSv2SvTRlY"
   },
   "outputs": [],
   "source": []
  },
  {
   "cell_type": "markdown",
   "metadata": {
    "id": "X9d4NhUwTRlY"
   },
   "source": [
    "### Covariance\n",
    "\n",
    "After the fit the covariance matrix is attached to the models copy stored on the `FitResult` object and we can plot the total parameter correlation as well."
   ]
  },
  {
   "cell_type": "code",
   "execution_count": 88,
   "metadata": {
    "colab": {
     "base_uri": "https://localhost:8080/",
     "height": 351
    },
    "executionInfo": {
     "elapsed": 888,
     "status": "ok",
     "timestamp": 1709689614901,
     "user": {
      "displayName": "Felipe Sousa",
      "userId": "12817278144525562131"
     },
     "user_tz": 180
    },
    "id": "UnvpLZUbTRlY",
    "outputId": "d012e98c-7ccc-400a-8459-959686a8de7a"
   },
   "outputs": [
    {
     "data": {
      "image/png": "[encoded data removed]",
      "text/plain": [
       "<Figure size 400x325 with 2 Axes>"
      ]
     },
     "metadata": {},
     "output_type": "display_data"
    }
   ],
   "source": [
    "result_ecpl.models.covariance.plot_correlation()\n",
    "plt.show()"
   ]
  },
  {
   "cell_type": "code",
   "execution_count": null,
   "metadata": {
    "id": "i9_L6HNETRlY"
   },
   "outputs": [],
   "source": []
  },
  {
   "cell_type": "markdown",
   "metadata": {
    "id": "HJjkjXDgTRlY"
   },
   "source": [
    "### Confidence contours\n",
    "\n",
    "A confidence contour is a 2-dimensional generalization of a confidence interval, often represented as an ellipsoid around the best-fit value.\n",
    "\n",
    "Here, we will compute the confidence contours using the `stat_surface` function. It consists of a generalization of `stat_profile` to a 2-dimensional parameter space.\n",
    "\n",
    "We define the parameter space:"
   ]
  },
  {
   "cell_type": "code",
   "execution_count": 89,
   "metadata": {
    "executionInfo": {
     "elapsed": 416,
     "status": "ok",
     "timestamp": 1709689631724,
     "user": {
      "displayName": "Felipe Sousa",
      "userId": "12817278144525562131"
     },
     "user_tz": 180
    },
    "id": "cHk6irFoTRlY"
   },
   "outputs": [],
   "source": [
    "result = result_ecpl\n",
    "par_index = datasets_all[0].models.parameters[\"index\"]\n",
    "par_lambda = datasets_all[0].models.parameters[\"lambda_\"]\n",
    "\n",
    "par_index.scan_values = np.linspace(2.230, 2.242, 20)\n",
    "par_lambda.scan_values = np.linspace(0.105, 0.135, 20)\n"
   ]
  },
  {
   "cell_type": "markdown",
   "metadata": {
    "id": "3-kZA9shTRlY"
   },
   "source": [
    "We define a `Fit` object again and run `stat_surface`:\n"
   ]
  },
  {
   "cell_type": "code",
   "execution_count": 90,
   "metadata": {
    "executionInfo": {
     "elapsed": 15490,
     "status": "ok",
     "timestamp": 1709689649122,
     "user": {
      "displayName": "Felipe Sousa",
      "userId": "12817278144525562131"
     },
     "user_tz": 180
    },
    "id": "1tB7NksHTRlZ"
   },
   "outputs": [],
   "source": [
    "fit = Fit()\n",
    "stat_surface = fit.stat_surface(\n",
    "    datasets=datasets_all,\n",
    "    x=par_index,\n",
    "    y=par_lambda,\n",
    "    reoptimize=False,\n",
    ")"
   ]
  },
  {
   "cell_type": "markdown",
   "metadata": {
    "id": "tZR0ZqF1TRlZ"
   },
   "source": [
    "Now, we can compute the Test Statistics"
   ]
  },
  {
   "cell_type": "code",
   "execution_count": 91,
   "metadata": {
    "executionInfo": {
     "elapsed": 1,
     "status": "ok",
     "timestamp": 1709689653512,
     "user": {
      "displayName": "Felipe Sousa",
      "userId": "12817278144525562131"
     },
     "user_tz": 180
    },
    "id": "bYeYjNkqTRlZ"
   },
   "outputs": [],
   "source": [
    "# Compute TS\n",
    "TS = stat_surface[\"stat_scan\"] - result.total_stat\n",
    "\n",
    "# Compute the corresponding statistical significance surface\n",
    "stat_surface = np.sqrt(TS.T)"
   ]
  },
  {
   "cell_type": "code",
   "execution_count": null,
   "metadata": {
    "executionInfo": {
     "elapsed": 309,
     "status": "ok",
     "timestamp": 1709689734311,
     "user": {
      "displayName": "Felipe Sousa",
      "userId": "12817278144525562131"
     },
     "user_tz": 180
    },
    "id": "3BCbpKxOTRlZ"
   },
   "outputs": [],
   "source": [
    "# # Compute the corresponding statistical significance surface\n",
    "# p_value = 1 - chi2(df=1).cdf(TS)\n",
    "# gaussian_sigmas = norm.isf(p_value / 2).T\n"
   ]
  },
  {
   "cell_type": "markdown",
   "metadata": {
    "id": "XkactAu2TRlZ"
   },
   "source": [
    "Finally, we can plot the surface values together with contours:\n",
    "\n",
    "\n"
   ]
  },
  {
   "cell_type": "code",
   "execution_count": 93,
   "metadata": {
    "colab": {
     "base_uri": "https://localhost:8080/",
     "height": 542
    },
    "executionInfo": {
     "elapsed": 798,
     "status": "ok",
     "timestamp": 1709689758134,
     "user": {
      "displayName": "Felipe Sousa",
      "userId": "12817278144525562131"
     },
     "user_tz": 180
    },
    "id": "cW7Zh6kZTRlZ",
    "outputId": "a9a0769a-8703-413c-fae4-4ba10c30cb7a"
   },
   "outputs": [
    {
     "data": {
      "image/png": "[encoded data removed]",
      "text/plain": [
       "<Figure size 800x600 with 2 Axes>"
      ]
     },
     "metadata": {},
     "output_type": "display_data"
    }
   ],
   "source": [
    "fig, ax = plt.subplots(figsize=(8, 6))\n",
    "x_values = par_index.scan_values\n",
    "y_values = par_lambda.scan_values\n",
    "\n",
    "# plot surface\n",
    "im = ax.pcolormesh(x_values, y_values, stat_surface, shading=\"auto\")\n",
    "fig.colorbar(im, label=\"sqrt(TS)\")\n",
    "ax.set_xlabel(f\"{par_index.name}\")\n",
    "ax.set_ylabel(f\"{par_lambda.name}\")\n",
    "\n",
    "# We choose to plot 1 and 2 sigma confidence contours\n",
    "levels = [1, 2, 3]\n",
    "contours = ax.contour(x_values, y_values, stat_surface, levels=levels, colors=\"white\")\n",
    "ax.clabel(contours, fmt=\"%.0f $\\\\sigma$\", inline=3, fontsize=15)\n",
    "\n",
    "plt.show()"
   ]
  },
  {
   "cell_type": "code",
   "execution_count": null,
   "metadata": {
    "id": "Rz-IspsKTRlZ"
   },
   "outputs": [],
   "source": []
  },
  {
   "cell_type": "code",
   "execution_count": null,
   "metadata": {
    "id": "1l46pdmUTRlZ"
   },
   "outputs": [],
   "source": []
  },
  {
   "cell_type": "markdown",
   "metadata": {
    "id": "mQscAUtGTRlZ"
   },
   "source": [
    "# Exercise:\n",
    "\n",
    "- Load the Crab Nebula spectral points again and fit them with the Exponential Cut-Off Powerlaw spectral model twice: one Fit with the `ExpCutoffPowerLawSpectralModel` and another Fit with `SuperExpCutoffPowerLaw3FGLSpectralModel`. See [Model gallery](https://docs.gammapy.org/dev/user-guide/model-gallery/index.html).\n",
    "\n",
    "- Calculate the value of the quantity $-2\\mathrm{ln}\\,\\mathcal{L}$ for the two models and perform the statistical test between the two models above using the Likelihood Ratio test ($TS = -2\\Delta\\mathrm{ln}(\\mathcal{L})$).\n",
    "\n",
    "- What is the best fit? Which model best describes the data?\n"
   ]
  },
  {
   "cell_type": "code",
   "execution_count": null,
   "metadata": {
    "id": "xh3hYP9dTRlZ"
   },
   "outputs": [],
   "source": []
  }
 ],
 "metadata": {
  "colab": {
   "provenance": []
  },
  "kernelspec": {
   "display_name": "Python 3 (ipykernel)",
   "language": "python",
   "name": "python3"
  },
  "language_info": {
   "codemirror_mode": {
    "name": "ipython",
    "version": 3
   },
   "file_extension": ".py",
   "mimetype": "text/x-python",
   "name": "python",
   "nbconvert_exporter": "python",
   "pygments_lexer": "ipython3",
   "version": "3.9.18"
  }
 },
 "nbformat": 4,
 "nbformat_minor": 1
}
