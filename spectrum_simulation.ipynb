{
 "cells": [
  {
   "cell_type": "markdown",
   "metadata": {},
   "source": [
    "[![gammapy](https://img.shields.io/badge/powered%20by-gammapy-orange.svg?style=flat)](https://gammapy.org/)\n",
    "\n",
    "# 1D spectrum simulation\n",
    "**Tutors:** Rubens Costa Jr and M Felipe Sousa.\n",
    "\n",
    "This hands-on tutorial gives an introduction of how to simulate a number of spectral on-off observations of a source with a exponential cutoff power law spectral model using the CTA 1DC response and fit them with the assumed spectral model.\n",
    "\n",
    "\n",
    "## Preface\n",
    "We recommend to follow this tutorial by **executing the code cells on your local machine**, along with the tutor. The estimated time for this part of the tutorial is ~60 minutes.\n",
    "\n",
    "We're happy to receive any **feedback or questions** on the tutorial via mail to *rubensjrcosta@gmail.com* or *manoelfelipesousa@gmail.com*."
   ]
  },
  {
   "cell_type": "markdown",
   "metadata": {},
   "source": [
    "<a id='intro'></a>\n",
    "## Indice\n",
    "* [**1. 1D spectrum simulation**](#simu)\n",
    "\n",
    "* [**2. Setup**](#setup)\n",
    "\n",
    "* [**3. Source Information**](#step3)\n",
    "    \n",
    "* [**4. Observational parameters**](#step4)\n",
    "\n",
    "* [**5. Creates the Observation**](#step5)\n",
    "\n",
    "* [**6. Simulating the Spectrum**](#step6)\n",
    "    * Defines the geometry\n",
    "    * Set the Model on the Dataset\n",
    "    \n",
    "* [**7. On-Off analysis**](#step7)\n",
    "\n",
    "* [**8. Computing the Flux Points**](#step8)"
   ]
  },
  {
   "cell_type": "code",
   "execution_count": null,
   "metadata": {},
   "outputs": [],
   "source": [
    "%matplotlib inline"
   ]
  },
  {
   "cell_type": "markdown",
   "metadata": {},
   "source": [
    "<a id='simu'></a>\n",
    "🔝 [Back to Top](#intro)<br>\n",
    "## 1.  1D spectrum simulation\n",
    "\n",
    "Simulate a number of spectral on-off observations of a source with a exponential cutoff power law spectral model using the CTA 1DC response and fit them with the assumed spectral model.\n",
    "\n",
    "## Prerequisites\n",
    "\n",
    "-  Knowledge of spectral extraction and datasets used in gammapy, see\n",
    "   for instance the :doc:`spectral analysis\n",
    "   tutorial </tutorials/analysis-1d/spectral_analysis>`\n",
    "\n",
    "## Context\n",
    "\n",
    "To simulate a specific observation, it is not always necessary to\n",
    "simulate the full photon list. For many uses cases, simulating directly\n",
    "a reduced binned dataset is enough: the IRFs reduced in the correct\n",
    "geometry are combined with a source model to predict an actual number of\n",
    "counts per bin. The latter is then used to simulate a reduced dataset\n",
    "using Poisson probability distribution.\n",
    "\n",
    "This can be done to check the feasibility of a measurement, to test\n",
    "whether fitted parameters really provide a good fit to the data etc.\n",
    "\n",
    "Here we will see how to perform a 1D spectral simulation of a CTA\n",
    "observation, in particular, we will generate OFF observations following\n",
    "the template background stored in the CTA IRFs.\n",
    "\n",
    "**Objective: simulate a number of spectral ON-OFF observations of a\n",
    "source with a power-law spectral model with CTA using the CTA 1DC\n",
    "response, fit them with the assumed spectral model and check that the\n",
    "distribution of fitted parameters is consistent with the input values.**\n",
    "\n",
    "## Proposed approach\n",
    "\n",
    "We will use the following classes and functions:\n",
    "\n",
    "-  `~gammapy.datasets.SpectrumDatasetOnOff`\n",
    "-  `~gammapy.datasets.SpectrumDataset`\n",
    "-  `~gammapy.irf.load_irf_dict_from_file`\n",
    "-  `~gammapy.modeling.models.ExpCutoffPowerLawSpectralModel`"
   ]
  },
  {
   "cell_type": "code",
   "execution_count": null,
   "metadata": {},
   "outputs": [],
   "source": []
  },
  {
   "cell_type": "markdown",
   "metadata": {},
   "source": [
    "<a id='setup'></a>\n",
    "🔝 [Back to Top](#intro)<br>\n",
    "## 2. Setup"
   ]
  },
  {
   "cell_type": "code",
   "execution_count": null,
   "metadata": {},
   "outputs": [],
   "source": [
    "!pip install gammapy"
   ]
  },
  {
   "cell_type": "code",
   "execution_count": null,
   "metadata": {},
   "outputs": [],
   "source": [
    "from gammapy.utils.check import check_tutorials_setup\n",
    "\n",
    "check_tutorials_setup()"
   ]
  },
  {
   "cell_type": "markdown",
   "metadata": {},
   "source": [
    "**Important**: to run this tutorial the environment variable `GAMMAPY_DATA` must be defined and point to the directory on your machine where the datasets needed are placed. To check whether your setup is correct you can execute the following cell:"
   ]
  },
  {
   "cell_type": "code",
   "execution_count": null,
   "metadata": {},
   "outputs": [],
   "source": [
    "import os # Miscellaneous operating system interfaces\n",
    "os.environ['GAMMAPY_DATA'] = os.path.join(os.getcwd(), '/content/gammapy-data/1.2')"
   ]
  },
  {
   "cell_type": "code",
   "execution_count": null,
   "metadata": {},
   "outputs": [],
   "source": [
    "try:\n",
    "    from gammapy.data import DataStore\n",
    "    DataStore.from_dir(\"$GAMMAPY_DATA/hess-dl3-dr1\")\n",
    "    print(\"Check setup: OK\")\n",
    "except: print(\"Error\")"
   ]
  },
  {
   "cell_type": "markdown",
   "metadata": {},
   "source": [
    "Tell us about any errors you come across!"
   ]
  },
  {
   "cell_type": "markdown",
   "metadata": {},
   "source": [
    "Now we can continue with the usual IPython notebooks and Python imports:"
   ]
  },
  {
   "cell_type": "code",
   "execution_count": 1,
   "metadata": {},
   "outputs": [],
   "source": [
    "# Display figures directly inline\n",
    "%matplotlib inline\n",
    "\n",
    "import matplotlib.pyplot as plt # A collection of command style functions\n",
    "from IPython.display import display"
   ]
  },
  {
   "cell_type": "code",
   "execution_count": 2,
   "metadata": {},
   "outputs": [],
   "source": [
    "import numpy as np\n",
    "import astropy.units as u\n",
    "from astropy.coordinates import Angle, SkyCoord\n",
    "from regions import CircleSkyRegion"
   ]
  },
  {
   "cell_type": "code",
   "execution_count": 3,
   "metadata": {},
   "outputs": [],
   "source": [
    "from IPython.display import display\n",
    "\n",
    "from astropy.table import Table\n",
    "\n",
    "from gammapy.data import FixedPointingInfo, Observation, observatory_locations\n",
    "from gammapy.datasets import Datasets, SpectrumDataset, SpectrumDatasetOnOff\n",
    "from gammapy.irf import load_irf_dict_from_file\n",
    "from gammapy.makers import SpectrumDatasetMaker\n",
    "from gammapy.maps import MapAxis, RegionGeom\n",
    "from gammapy.modeling import Fit\n",
    "from gammapy.modeling.models import PowerLawSpectralModel, SkyModel, ExpCutoffPowerLawSpectralModel\n",
    "from gammapy.data import Observation, observatory_locations, FixedPointingInfo, PointingMode\n",
    "\n",
    "\n",
    "from gammapy.estimators import FluxPointsEstimator\n",
    "from gammapy.estimators import FluxPoints\n",
    "from gammapy.datasets import FluxPointsDataset"
   ]
  },
  {
   "cell_type": "code",
   "execution_count": null,
   "metadata": {},
   "outputs": [],
   "source": []
  },
  {
   "cell_type": "markdown",
   "metadata": {},
   "source": [
    "<a id='step3'></a>\n",
    "🔝 [Back to Top](#intro)<br>\n",
    "## Step 3: Source Information"
   ]
  },
  {
   "cell_type": "code",
   "execution_count": 4,
   "metadata": {},
   "outputs": [
    {
     "name": "stdout",
     "output_type": "stream",
     "text": [
      "<SkyCoord (ICRS): (ra, dec) in deg\n",
      "    (266.40498829, -28.93617776)>\n"
     ]
    }
   ],
   "source": [
    "source_pos = SkyCoord(0, 0, unit=\"deg\", frame=\"galactic\").icrs # Target position\n",
    "print(source_pos)"
   ]
  },
  {
   "cell_type": "code",
   "execution_count": 5,
   "metadata": {},
   "outputs": [
    {
     "name": "stdout",
     "output_type": "stream",
     "text": [
      "ExpCutoffPowerLawSpectralModel\n",
      "\n",
      "  type      name     value         unit      ... max frozen is_norm link\n",
      "-------- --------- ---------- -------------- ... --- ------ ------- ----\n",
      "spectral     index 2.0000e+00                ... nan  False   False     \n",
      "spectral amplitude 1.0000e-12 TeV-1 s-1 cm-2 ... nan  False    True     \n",
      "spectral reference 1.0000e+00            TeV ... nan   True   False     \n",
      "spectral   lambda_ 1.0000e-01          TeV-1 ... nan  False   False     \n",
      "spectral     alpha 1.0000e+00                ... nan   True   False     \n"
     ]
    }
   ],
   "source": [
    "model_simu = ExpCutoffPowerLawSpectralModel(\n",
    "    amplitude=1e-12 * u.Unit(\"cm-2 s-1 TeV-1\"),\n",
    "    index=2,\n",
    "    lambda_=0.1 * u.Unit(\"TeV-1\"),\n",
    "    reference=1 * u.TeV,\n",
    ")\n",
    "\n",
    "print(model_simu)\n",
    "# we set the sky model used in the dataset\n",
    "model = SkyModel(spectral_model=model_simu, name=\"source\")"
   ]
  },
  {
   "cell_type": "code",
   "execution_count": null,
   "metadata": {},
   "outputs": [],
   "source": []
  },
  {
   "cell_type": "markdown",
   "metadata": {},
   "source": [
    "<a id='step4'></a>\n",
    "🔝 [Back to Top](#intro)<br>\n",
    "## Step 4: Observational parameters\n",
    "\n",
    "To do a simulation, we need to define the observational parameters like\n",
    "the livetime, the offset, the assumed integration radius, the energy\n",
    "range to perform the simulation for and the choice of spectral model. We\n",
    "then use an in-memory observation which is convolved with the IRFs to\n",
    "get the predicted number of counts. This is Poisson fluctuated using\n",
    "the `fake()` to get the simulated counts for each observation.\n",
    "\n",
    "\n"
   ]
  },
  {
   "cell_type": "code",
   "execution_count": 6,
   "metadata": {
    "scrolled": true
   },
   "outputs": [],
   "source": [
    "livetime = 1 * u.h # Time of the simulated observation"
   ]
  },
  {
   "cell_type": "code",
   "execution_count": 7,
   "metadata": {},
   "outputs": [],
   "source": [
    "offset = 1.0 * u.deg  # Pointing position offset"
   ]
  },
  {
   "cell_type": "code",
   "execution_count": 8,
   "metadata": {},
   "outputs": [],
   "source": [
    "e_edges_min = 0.1 * u.TeV  # Minimum energy\n",
    "e_edges_max = 100. * u.TeV # Maximum energy"
   ]
  },
  {
   "cell_type": "code",
   "execution_count": null,
   "metadata": {},
   "outputs": [],
   "source": []
  },
  {
   "cell_type": "markdown",
   "metadata": {},
   "source": [
    "<a id='step5'></a>\n",
    "🔝 [Back to Top](#intro)<br>\n",
    "## Step 5:  Creates the Observation"
   ]
  },
  {
   "cell_type": "markdown",
   "metadata": {},
   "source": [
    "In this simulation, we use the CTA-1DC IRFs shipped with Gammapy."
   ]
  },
  {
   "cell_type": "code",
   "execution_count": 9,
   "metadata": {},
   "outputs": [
    {
     "name": "stderr",
     "output_type": "stream",
     "text": [
      "WARNING: UnitsWarning: '1/s/MeV/sr' did not parse as fits unit: Numeric factor not supported by FITS If this is meant to be a custom unit, define it with 'u.def_unit'. To have it recognized inside a file reader or other code, enable it with 'u.add_enabled_units'. For details, see https://docs.astropy.org/en/latest/units/combining_and_defining.html [astropy.units.core]\n",
      "Invalid unit found in background table! Assuming (s-1 MeV-1 sr-1)\n"
     ]
    }
   ],
   "source": [
    "# Load the IRFs\n",
    "irfs = load_irf_dict_from_file(\n",
    "    \"$GAMMAPY_DATA/cta-1dc/caldb/data/cta/1dc/bcf/South_z20_50h/irf_file.fits\"\n",
    ")"
   ]
  },
  {
   "cell_type": "markdown",
   "metadata": {},
   "source": [
    "See: [CTAO Instrument Response Functions](https://zenodo.org/records/5499840).  This data repository provides access to performance evaluation and instrument response functions (IRFs) for CTA."
   ]
  },
  {
   "cell_type": "code",
   "execution_count": 10,
   "metadata": {},
   "outputs": [
    {
     "name": "stdout",
     "output_type": "stream",
     "text": [
      "<SkyCoord (ICRS): (ra, dec) in deg\n",
      "    (267.54760208, -28.93135344)>\n"
     ]
    }
   ],
   "source": [
    "# Defines the pointing position\n",
    "pointing_position = source_pos.directional_offset_by(position_angle=90*u.deg, separation=offset)\n",
    "print(pointing_position)"
   ]
  },
  {
   "cell_type": "code",
   "execution_count": 11,
   "metadata": {},
   "outputs": [
    {
     "name": "stdout",
     "output_type": "stream",
     "text": [
      "FixedPointingInfo:\n",
      "\n",
      "mode:        PointingMode.POINTING\n",
      "coordinates: <SkyCoord (ICRS): (ra, dec) in deg\n",
      "    (267.54760208, -28.93135344)>\n"
     ]
    }
   ],
   "source": [
    "# We want to simulate an observation pointing at a fixed position in the sky.\n",
    "# For this, we use the `FixedPointingInfo` class\n",
    "pointing = FixedPointingInfo(\n",
    "    mode=PointingMode.POINTING,\n",
    "    fixed_icrs=pointing_position,\n",
    ")\n",
    "print(pointing)"
   ]
  },
  {
   "cell_type": "code",
   "execution_count": 12,
   "metadata": {},
   "outputs": [],
   "source": [
    "location = observatory_locations[\"cta_south\"]"
   ]
  },
  {
   "cell_type": "code",
   "execution_count": 13,
   "metadata": {},
   "outputs": [
    {
     "name": "stdout",
     "output_type": "stream",
     "text": [
      "Observation\n",
      "\n",
      "\tobs id            : 0 \n",
      " \ttstart            : 51544.00\n",
      "\ttstop             : 51544.04\n",
      "\tduration          : 3600.00 s\n",
      "\tpointing (icrs)   : 267.5 deg, -28.9 deg\n",
      "\n",
      "\tdeadtime fraction : 0.0%\n",
      "\n"
     ]
    }
   ],
   "source": [
    "obs = Observation.create(\n",
    "    pointing=pointing,\n",
    "    livetime=livetime,\n",
    "    irfs=irfs,\n",
    "    location=location,\n",
    ")\n",
    "print(obs)"
   ]
  },
  {
   "cell_type": "code",
   "execution_count": null,
   "metadata": {},
   "outputs": [],
   "source": []
  },
  {
   "cell_type": "markdown",
   "metadata": {},
   "source": [
    "<a id='step6'></a>\n",
    "🔝 [Back to Top](#intro)<br>\n",
    "## Step 6: Simulating the Spectrum\n",
    "### Defines the geometry"
   ]
  },
  {
   "cell_type": "code",
   "execution_count": 14,
   "metadata": {},
   "outputs": [
    {
     "name": "stdout",
     "output_type": "stream",
     "text": [
      "MapAxis\n",
      "\n",
      "\tname       : energy    \n",
      "\tunit       : 'TeV'     \n",
      "\tnbins      : 15        \n",
      "\tnode type  : edges     \n",
      "\tedges min  : 1.0e-01 TeV\n",
      "\tedges max  : 1.0e+02 TeV\n",
      "\tinterp     : log       \n",
      "\n"
     ]
    }
   ],
   "source": [
    "# Reconstructed energy axis\n",
    "energy_axis = MapAxis.from_energy_bounds(\n",
    "    e_edges_min, \n",
    "    e_edges_max, \n",
    "    nbin=5, \n",
    "    per_decade=True, \n",
    "    name=\"energy\"\n",
    ")\n",
    "print(energy_axis)"
   ]
  },
  {
   "cell_type": "code",
   "execution_count": 15,
   "metadata": {},
   "outputs": [],
   "source": [
    "on_region_radius = Angle(\"0.11 deg\") # radius of the ON region\n",
    "center = source_pos # observation center"
   ]
  },
  {
   "cell_type": "code",
   "execution_count": 16,
   "metadata": {},
   "outputs": [
    {
     "name": "stdout",
     "output_type": "stream",
     "text": [
      "Region: CircleSkyRegion\n",
      "center: <SkyCoord (ICRS): (ra, dec) in deg\n",
      "    (266.40498829, -28.93617776)>\n",
      "radius: 0.11 deg\n"
     ]
    }
   ],
   "source": [
    "on_region = CircleSkyRegion(center=center, radius=on_region_radius)\n",
    "print(on_region)"
   ]
  },
  {
   "cell_type": "code",
   "execution_count": 17,
   "metadata": {},
   "outputs": [
    {
     "name": "stdout",
     "output_type": "stream",
     "text": [
      "RegionGeom\n",
      "\n",
      "\tregion     : CircleSkyRegion\n",
      "\taxes       : ['lon', 'lat', 'energy']\n",
      "\tshape      : (1, 1, 15)\n",
      "\tndim       : 3\n",
      "\tframe      : icrs\n",
      "\tcenter     : 266.4 deg, -28.9 deg\n",
      "\n"
     ]
    }
   ],
   "source": [
    "geom = RegionGeom.create(region=on_region, axes=[energy_axis])\n",
    "print(geom)"
   ]
  },
  {
   "cell_type": "code",
   "execution_count": null,
   "metadata": {},
   "outputs": [],
   "source": []
  },
  {
   "cell_type": "markdown",
   "metadata": {},
   "source": [
    "🔝 [Back to Top](#intro)<br>\n",
    "\n",
    "### Set the Model on the Dataset"
   ]
  },
  {
   "cell_type": "code",
   "execution_count": 18,
   "metadata": {},
   "outputs": [
    {
     "name": "stdout",
     "output_type": "stream",
     "text": [
      "MapAxis\n",
      "\n",
      "\tname       : energy_true\n",
      "\tunit       : 'TeV'     \n",
      "\tnbins      : 32        \n",
      "\tnode type  : edges     \n",
      "\tedges min  : 3.0e-02 TeV\n",
      "\tedges max  : 3.0e+02 TeV\n",
      "\tinterp     : log       \n",
      "\n"
     ]
    }
   ],
   "source": [
    "# Defines the true energy axis:\n",
    "# true energy axis should be wider than reco energy axis\n",
    "energy_axis_true = MapAxis.from_energy_bounds(\n",
    "    0.3*e_edges_min, \n",
    "    3*e_edges_max, \n",
    "    nbin=8, \n",
    "    per_decade=True, \n",
    "    name=\"energy_true\"\n",
    ")\n",
    "print(energy_axis_true)"
   ]
  },
  {
   "cell_type": "code",
   "execution_count": 19,
   "metadata": {},
   "outputs": [],
   "source": [
    "# Creates a SpectrumDataset object with zero filled maps.\n",
    "dataset_empty = SpectrumDataset.create(\n",
    "    geom=geom, energy_axis_true=energy_axis_true, name=\"obs-0\"\n",
    ")"
   ]
  },
  {
   "cell_type": "code",
   "execution_count": 20,
   "metadata": {},
   "outputs": [
    {
     "name": "stdout",
     "output_type": "stream",
     "text": [
      "SpectrumDataset\n",
      "---------------\n",
      "\n",
      "  Name                            : obs-0 \n",
      "\n",
      "  Total counts                    : 0 \n",
      "  Total background counts         : 0.00\n",
      "  Total excess counts             : 0.00\n",
      "\n",
      "  Predicted counts                : 0.00\n",
      "  Predicted background counts     : 0.00\n",
      "  Predicted excess counts         : nan\n",
      "\n",
      "  Exposure min                    : 0.00e+00 m2 s\n",
      "  Exposure max                    : 0.00e+00 m2 s\n",
      "\n",
      "  Number of total bins            : 15 \n",
      "  Number of fit bins              : 0 \n",
      "\n",
      "  Fit statistic type              : cash\n",
      "  Fit statistic value (-2 log(L)) : nan\n",
      "\n",
      "  Number of models                : 0 \n",
      "  Number of parameters            : 0\n",
      "  Number of free parameters       : 0\n",
      "\n",
      "\n"
     ]
    }
   ],
   "source": [
    "print(dataset_empty)"
   ]
  },
  {
   "cell_type": "code",
   "execution_count": 21,
   "metadata": {},
   "outputs": [],
   "source": [
    "# Make spectrum for a single IACT observation:\n",
    "maker = SpectrumDatasetMaker(selection=[\"exposure\", \"edisp\", \"background\"]) # Selecting which maps to make\n",
    "\n",
    "dataset = maker.run(dataset_empty, obs) "
   ]
  },
  {
   "cell_type": "code",
   "execution_count": 22,
   "metadata": {},
   "outputs": [
    {
     "name": "stdout",
     "output_type": "stream",
     "text": [
      "SpectrumDataset\n",
      "---------------\n",
      "\n",
      "  Name                            : obs-0 \n",
      "\n",
      "  Total counts                    : 242 \n",
      "  Total background counts         : 112.93\n",
      "  Total excess counts             : 129.07\n",
      "\n",
      "  Predicted counts                : 250.82\n",
      "  Predicted background counts     : 112.93\n",
      "  Predicted excess counts         : 137.89\n",
      "\n",
      "  Exposure min                    : 7.30e+07 m2 s\n",
      "  Exposure max                    : 1.88e+10 m2 s\n",
      "\n",
      "  Number of total bins            : 15 \n",
      "  Number of fit bins              : 15 \n",
      "\n",
      "  Fit statistic type              : cash\n",
      "  Fit statistic value (-2 log(L)) : -1196.19\n",
      "\n",
      "  Number of models                : 1 \n",
      "  Number of parameters            : 5\n",
      "  Number of free parameters       : 3\n",
      "\n",
      "  Component 0: SkyModel\n",
      "  \n",
      "    Name                      : source\n",
      "    Datasets names            : None\n",
      "    Spectral model type       : ExpCutoffPowerLawSpectralModel\n",
      "    Spatial  model type       : \n",
      "    Temporal model type       : \n",
      "    Parameters:\n",
      "      index                         :      2.000   +/-    0.00             \n",
      "      amplitude                     :   1.00e-12   +/- 0.0e+00 1 / (TeV s cm2)\n",
      "      reference             (frozen):      1.000       TeV         \n",
      "      lambda_                       :      0.100   +/-    0.00 1 / TeV     \n",
      "      alpha                 (frozen):      1.000                   \n",
      "  \n",
      "  \n"
     ]
    }
   ],
   "source": [
    "# Set the model on the dataset, and fake\n",
    "dataset.models = model\n",
    "dataset.fake(random_state=42)\n",
    "print(dataset) # Make safe data range mask for a given observation"
   ]
  },
  {
   "cell_type": "markdown",
   "metadata": {},
   "source": [
    "You can see that background counts are now simulated."
   ]
  },
  {
   "cell_type": "markdown",
   "metadata": {},
   "source": [
    "<a id='step7'></a>\n",
    "🔝 [Back to Top](#intro)<br>\n",
    "## Step 7: On-Off analysis\n",
    "\n",
    "To do an on off spectral analysis, which is the usual science case, the\n",
    "standard would be to use `SpectrumDatasetOnOff`, which uses the\n",
    "acceptance to fake off-counts. Please also refer to the `Dataset simulations`\n",
    "section in the :doc:`/tutorials/analysis-1d/spectral_analysis_rad_max` tutorial,\n",
    "dealing with simulations based on observations of real off counts.\n",
    "\n",
    "\n"
   ]
  },
  {
   "cell_type": "code",
   "execution_count": 23,
   "metadata": {},
   "outputs": [],
   "source": [
    "dataset_on_off = SpectrumDatasetOnOff.from_spectrum_dataset(\n",
    "    dataset=dataset, acceptance=1, acceptance_off=5\n",
    ")\n",
    "dataset_on_off.fake(npred_background=dataset.npred_background())"
   ]
  },
  {
   "cell_type": "code",
   "execution_count": 24,
   "metadata": {},
   "outputs": [
    {
     "name": "stdout",
     "output_type": "stream",
     "text": [
      "SpectrumDatasetOnOff\n",
      "--------------------\n",
      "\n",
      "  Name                            : 5sx5jAuG \n",
      "\n",
      "  Total counts                    : 259 \n",
      "  Total background counts         : 113.00\n",
      "  Total excess counts             : 146.00\n",
      "\n",
      "  Predicted counts                : 251.63\n",
      "  Predicted background counts     : 113.74\n",
      "  Predicted excess counts         : 137.89\n",
      "\n",
      "  Exposure min                    : 7.30e+07 m2 s\n",
      "  Exposure max                    : 1.88e+10 m2 s\n",
      "\n",
      "  Number of total bins            : 15 \n",
      "  Number of fit bins              : 15 \n",
      "\n",
      "  Fit statistic type              : wstat\n",
      "  Fit statistic value (-2 log(L)) : 12.86\n",
      "\n",
      "  Number of models                : 1 \n",
      "  Number of parameters            : 5\n",
      "  Number of free parameters       : 3\n",
      "\n",
      "  Component 0: SkyModel\n",
      "  \n",
      "    Name                      : source\n",
      "    Datasets names            : None\n",
      "    Spectral model type       : ExpCutoffPowerLawSpectralModel\n",
      "    Spatial  model type       : \n",
      "    Temporal model type       : \n",
      "    Parameters:\n",
      "      index                         :      2.000   +/-    0.00             \n",
      "      amplitude                     :   1.00e-12   +/- 0.0e+00 1 / (TeV s cm2)\n",
      "      reference             (frozen):      1.000       TeV         \n",
      "      lambda_                       :      0.100   +/-    0.00 1 / TeV     \n",
      "      alpha                 (frozen):      1.000                   \n",
      "  \n",
      "    Total counts_off                : 565 \n",
      "  Acceptance                      : 15 \n",
      "  Acceptance off                  : 75 \n",
      "\n"
     ]
    }
   ],
   "source": [
    "print(dataset_on_off)"
   ]
  },
  {
   "cell_type": "markdown",
   "metadata": {},
   "source": [
    "You can see that off counts are now simulated as well. We now simulate\n",
    "several spectra using the same set of observation conditions.\n",
    "\n",
    "\n"
   ]
  },
  {
   "cell_type": "code",
   "execution_count": 25,
   "metadata": {},
   "outputs": [
    {
     "data": {
      "text/html": [
       "<div><i>Table length=30</i>\n",
       "<table id=\"table140065960904016\" class=\"table-striped table-bordered table-condensed\">\n",
       "<thead><tr><th>name</th><th>counts</th><th>excess</th><th>sqrt_ts</th><th>background</th><th>npred</th><th>npred_background</th><th>npred_signal</th><th>exposure_min</th><th>exposure_max</th><th>livetime</th><th>ontime</th><th>counts_rate</th><th>background_rate</th><th>excess_rate</th><th>n_bins</th><th>n_fit_bins</th><th>stat_type</th><th>stat_sum</th><th>counts_off</th><th>acceptance</th><th>acceptance_off</th><th>alpha</th></tr></thead>\n",
       "<thead><tr><th></th><th></th><th></th><th></th><th></th><th></th><th></th><th></th><th>m2 s</th><th>m2 s</th><th>s</th><th>s</th><th>1 / s</th><th>1 / s</th><th>1 / s</th><th></th><th></th><th></th><th></th><th></th><th></th><th></th><th></th></tr></thead>\n",
       "<thead><tr><th>str6</th><th>int64</th><th>float64</th><th>float64</th><th>float64</th><th>float64</th><th>float64</th><th>float64</th><th>float64</th><th>float64</th><th>float64</th><th>float64</th><th>float64</th><th>float64</th><th>float64</th><th>int64</th><th>int64</th><th>str5</th><th>float64</th><th>int64</th><th>float64</th><th>float64</th><th>float64</th></tr></thead>\n",
       "<tr><td>obs-0</td><td>251</td><td>138.60000610351562</td><td>9.96942249923895</td><td>112.39998626708984</td><td>135.50000164119731</td><td>135.50000164119731</td><td>nan</td><td>72986008.0</td><td>18824503296.0</td><td>3600.000000000002</td><td>3600.000000000002</td><td>0.06972222222222219</td><td>0.03122221840752494</td><td>0.03850000169542099</td><td>15</td><td>15</td><td>wstat</td><td>173.90284235333723</td><td>562</td><td>15.0</td><td>75.00000762939453</td><td>0.19999997317790985</td></tr>\n",
       "<tr><td>obs-1</td><td>231</td><td>117.6</td><td>8.617692924800172</td><td>113.4</td><td>133.0</td><td>133.0</td><td>nan</td><td>72986008.18278918</td><td>18824503367.050323</td><td>3600.000000000002</td><td>3600.000000000002</td><td>0.06416666666666664</td><td>0.031499999999999986</td><td>0.03266666666666665</td><td>15</td><td>15</td><td>wstat</td><td>126.92091878415825</td><td>567</td><td>15.0</td><td>75.0</td><td>0.2</td></tr>\n",
       "<tr><td>obs-2</td><td>225</td><td>111.80000000000001</td><td>8.24960944244913</td><td>113.19999999999999</td><td>131.83333333333334</td><td>131.83333333333334</td><td>nan</td><td>72986008.18278918</td><td>18824503367.050323</td><td>3600.000000000002</td><td>3600.000000000002</td><td>0.062499999999999965</td><td>0.03144444444444443</td><td>0.031055555555555545</td><td>15</td><td>15</td><td>wstat</td><td>128.49550973534215</td><td>566</td><td>15.0</td><td>75.0</td><td>0.19999999999999998</td></tr>\n",
       "<tr><td>obs-3</td><td>239</td><td>119.0</td><td>8.524229764290844</td><td>120.0</td><td>139.83333333333334</td><td>139.83333333333334</td><td>nan</td><td>72986008.18278918</td><td>18824503367.050323</td><td>3600.000000000002</td><td>3600.000000000002</td><td>0.06638888888888886</td><td>0.03333333333333332</td><td>0.03305555555555554</td><td>15</td><td>15</td><td>wstat</td><td>156.37458158663995</td><td>600</td><td>15.0</td><td>75.0</td><td>0.2</td></tr>\n",
       "<tr><td>obs-4</td><td>292</td><td>172.8</td><td>11.785249502664652</td><td>119.2</td><td>148.00000000000006</td><td>148.00000000000006</td><td>nan</td><td>72986008.18278918</td><td>18824503367.050323</td><td>3600.000000000002</td><td>3600.000000000002</td><td>0.08111111111111106</td><td>0.0331111111111111</td><td>0.04799999999999998</td><td>15</td><td>15</td><td>wstat</td><td>214.0806932520341</td><td>596</td><td>15.0</td><td>75.0</td><td>0.2</td></tr>\n",
       "<tr><td>obs-5</td><td>243</td><td>133.79999999999998</td><td>9.77285888294649</td><td>109.20000000000002</td><td>131.50000000000003</td><td>131.50000000000003</td><td>nan</td><td>72986008.18278918</td><td>18824503367.050323</td><td>3600.000000000002</td><td>3600.000000000002</td><td>0.06749999999999996</td><td>0.030333333333333323</td><td>0.037166666666666646</td><td>15</td><td>15</td><td>wstat</td><td>166.22504516267963</td><td>546</td><td>15.0</td><td>74.99999999999999</td><td>0.20000000000000004</td></tr>\n",
       "<tr><td>...</td><td>...</td><td>...</td><td>...</td><td>...</td><td>...</td><td>...</td><td>...</td><td>...</td><td>...</td><td>...</td><td>...</td><td>...</td><td>...</td><td>...</td><td>...</td><td>...</td><td>...</td><td>...</td><td>...</td><td>...</td><td>...</td><td>...</td></tr>\n",
       "<tr><td>obs-24</td><td>269</td><td>154.39999999999998</td><td>10.859249887877557</td><td>114.60000000000001</td><td>140.33333333333331</td><td>140.33333333333331</td><td>nan</td><td>72986008.18278918</td><td>18824503367.050323</td><td>3600.000000000002</td><td>3600.000000000002</td><td>0.07472222222222219</td><td>0.03183333333333332</td><td>0.04288888888888886</td><td>15</td><td>15</td><td>wstat</td><td>233.1822077591969</td><td>573</td><td>15.0</td><td>75.0</td><td>0.2</td></tr>\n",
       "<tr><td>obs-25</td><td>270</td><td>164.20000000000002</td><td>11.75964063659476</td><td>105.79999999999998</td><td>133.16666666666666</td><td>133.16666666666666</td><td>nan</td><td>72986008.18278918</td><td>18824503367.050323</td><td>3600.000000000002</td><td>3600.000000000002</td><td>0.07499999999999996</td><td>0.02938888888888887</td><td>0.045611111111111095</td><td>15</td><td>15</td><td>wstat</td><td>209.3175049483696</td><td>529</td><td>15.0</td><td>75.00000000000001</td><td>0.19999999999999996</td></tr>\n",
       "<tr><td>obs-26</td><td>255</td><td>141.0</td><td>10.066338757194117</td><td>114.0</td><td>137.5</td><td>137.5</td><td>nan</td><td>72986008.18278918</td><td>18824503367.050323</td><td>3600.000000000002</td><td>3600.000000000002</td><td>0.0708333333333333</td><td>0.03166666666666665</td><td>0.03916666666666665</td><td>15</td><td>15</td><td>wstat</td><td>237.73242788988983</td><td>570</td><td>15.0</td><td>75.0</td><td>0.2</td></tr>\n",
       "<tr><td>obs-27</td><td>264</td><td>146.2</td><td>10.262902924500036</td><td>117.80000000000001</td><td>142.16666666666669</td><td>142.16666666666669</td><td>nan</td><td>72986008.18278918</td><td>18824503367.050323</td><td>3600.000000000002</td><td>3600.000000000002</td><td>0.07333333333333329</td><td>0.03272222222222221</td><td>0.04061111111111109</td><td>15</td><td>15</td><td>wstat</td><td>163.76230540372433</td><td>589</td><td>15.0</td><td>75.0</td><td>0.2</td></tr>\n",
       "<tr><td>obs-28</td><td>258</td><td>140.59999999999997</td><td>9.935833023048236</td><td>117.40000000000002</td><td>140.83333333333334</td><td>140.83333333333334</td><td>nan</td><td>72986008.18278918</td><td>18824503367.050323</td><td>3600.000000000002</td><td>3600.000000000002</td><td>0.07166666666666663</td><td>0.0326111111111111</td><td>0.039055555555555524</td><td>15</td><td>15</td><td>wstat</td><td>188.57741414470308</td><td>587</td><td>15.0</td><td>74.99999999999999</td><td>0.20000000000000004</td></tr>\n",
       "<tr><td>obs-29</td><td>244</td><td>134.0</td><td>9.759712956252336</td><td>110.0</td><td>132.33333333333331</td><td>132.33333333333331</td><td>nan</td><td>72986008.18278918</td><td>18824503367.050323</td><td>3600.000000000002</td><td>3600.000000000002</td><td>0.06777777777777774</td><td>0.03055555555555554</td><td>0.037222222222222205</td><td>15</td><td>15</td><td>wstat</td><td>160.14166521819288</td><td>550</td><td>15.0</td><td>75.0</td><td>0.2</td></tr>\n",
       "</table></div>"
      ],
      "text/plain": [
       "<Table length=30>\n",
       " name  counts       excess       ...   acceptance_off         alpha       \n",
       "                                 ...                                      \n",
       " str6  int64       float64       ...      float64            float64      \n",
       "------ ------ ------------------ ... ----------------- -------------------\n",
       " obs-0    251 138.60000610351562 ... 75.00000762939453 0.19999997317790985\n",
       " obs-1    231              117.6 ...              75.0                 0.2\n",
       " obs-2    225 111.80000000000001 ...              75.0 0.19999999999999998\n",
       " obs-3    239              119.0 ...              75.0                 0.2\n",
       " obs-4    292              172.8 ...              75.0                 0.2\n",
       " obs-5    243 133.79999999999998 ... 74.99999999999999 0.20000000000000004\n",
       "   ...    ...                ... ...               ...                 ...\n",
       "obs-24    269 154.39999999999998 ...              75.0                 0.2\n",
       "obs-25    270 164.20000000000002 ... 75.00000000000001 0.19999999999999996\n",
       "obs-26    255              141.0 ...              75.0                 0.2\n",
       "obs-27    264              146.2 ...              75.0                 0.2\n",
       "obs-28    258 140.59999999999997 ... 74.99999999999999 0.20000000000000004\n",
       "obs-29    244              134.0 ...              75.0                 0.2"
      ]
     },
     "metadata": {},
     "output_type": "display_data"
    }
   ],
   "source": [
    "n_obs = 30\n",
    "datasets = Datasets()\n",
    "\n",
    "for idx in range(n_obs):\n",
    "    dataset_on_off.fake(random_state=idx, npred_background=dataset.npred_background())\n",
    "    dataset_fake = dataset_on_off.copy(name=f\"obs-{idx}\")\n",
    "    dataset_fake.meta_table[\"OBS_ID\"] = [idx]\n",
    "    datasets.append(dataset_fake)\n",
    "\n",
    "table = datasets.info_table()\n",
    "display(table)"
   ]
  },
  {
   "cell_type": "markdown",
   "metadata": {},
   "source": [
    "Before moving on to the fit let’s have a look at the simulated\n",
    "observations.\n",
    "\n",
    "\n"
   ]
  },
  {
   "cell_type": "code",
   "execution_count": 26,
   "metadata": {},
   "outputs": [
    {
     "data": {
      "image/png": "[encoded data removed]",
      "text/plain": [
       "<Figure size 1200x400 with 3 Axes>"
      ]
     },
     "metadata": {},
     "output_type": "display_data"
    }
   ],
   "source": [
    "fix, axes = plt.subplots(1, 3, figsize=(12, 4))\n",
    "axes[0].hist(table[\"counts\"])\n",
    "axes[0].set_xlabel(\"Counts\")\n",
    "axes[1].hist(table[\"counts_off\"])\n",
    "axes[1].set_xlabel(\"Counts Off\")\n",
    "axes[2].hist(table[\"excess\"])\n",
    "axes[2].set_xlabel(\"excess\")\n",
    "plt.show()"
   ]
  },
  {
   "cell_type": "markdown",
   "metadata": {},
   "source": [
    "Now, we fit each simulated spectrum individually\n",
    "\n",
    "\n"
   ]
  },
  {
   "cell_type": "code",
   "execution_count": 27,
   "metadata": {},
   "outputs": [
    {
     "name": "stdout",
     "output_type": "stream",
     "text": [
      "CPU times: user 2 s, sys: 3.8 ms, total: 2.01 s\n",
      "Wall time: 2.01 s\n"
     ]
    }
   ],
   "source": [
    "%%time\n",
    "\n",
    "results = []\n",
    "\n",
    "fit = Fit()\n",
    "\n",
    "for dataset in datasets:\n",
    "    dataset.models = model.copy()\n",
    "    result = fit.optimize(dataset)\n",
    "    \n",
    "    if result.success:\n",
    "        par_dict = {}\n",
    "        for par in result.parameters.free_parameters:\n",
    "            par_dict[par.name] = par.quantity\n",
    "        results.append(par_dict)"
   ]
  },
  {
   "cell_type": "markdown",
   "metadata": {},
   "source": [
    "We take a look at the distribution of the fitted indices. This matches\n",
    "very well with the spectrum that we initially injected.\n",
    "\n",
    "\n"
   ]
  },
  {
   "cell_type": "code",
   "execution_count": 28,
   "metadata": {},
   "outputs": [
    {
     "name": "stdout",
     "output_type": "stream",
     "text": [
      "index: 1.9503703112413318 += 0.15067860988242954\n"
     ]
    },
    {
     "data": {
      "image/png": "[encoded data removed]",
      "text/plain": [
       "<Figure size 640x480 with 1 Axes>"
      ]
     },
     "metadata": {},
     "output_type": "display_data"
    }
   ],
   "source": [
    "fig, ax = plt.subplots()\n",
    "index = np.array([_[\"index\"] for _ in results])\n",
    "ax.hist(index, bins=10, alpha=0.5)\n",
    "ax.axvline(x=model_simu.parameters[\"index\"].value, color=\"red\")\n",
    "ax.set_xlabel(\"Reconstructed spectral index\")\n",
    "print(f\"index: {index.mean()} += {index.std()}\")\n",
    "plt.show()"
   ]
  },
  {
   "cell_type": "code",
   "execution_count": 29,
   "metadata": {},
   "outputs": [],
   "source": [
    "# fig, ax = plt.subplots()\n",
    "# lambda_ = np.array([_[\"lambda_\"] for _ in results])\n",
    "# ax.hist(index, bins=10, alpha=0.5)\n",
    "# ax.axvline(x=model_simu.parameters[\"lambda_\"].value, color=\"red\")\n",
    "# ax.set_xlabel(\"Reconstructed lambda parameter\")\n",
    "# print(f\"lambda_: {lambda_.mean()} += {lambda_.std()}\")\n",
    "# plt.show()"
   ]
  },
  {
   "cell_type": "code",
   "execution_count": 30,
   "metadata": {},
   "outputs": [],
   "source": [
    "fitted_params = Table(results).to_pandas()"
   ]
  },
  {
   "cell_type": "code",
   "execution_count": 31,
   "metadata": {},
   "outputs": [],
   "source": [
    "mean = fitted_params.mean()\n",
    "uncertainty = fitted_params.std()"
   ]
  },
  {
   "cell_type": "code",
   "execution_count": 32,
   "metadata": {},
   "outputs": [
    {
     "name": "stdout",
     "output_type": "stream",
     "text": [
      "amplitude :\t 1.05e-12 -+ 1.48e-13\n",
      "index :\t 1.95e+00 -+ 1.53e-01\n",
      "lambda_ :\t 1.24e-01 -+ 6.10e-02\n"
     ]
    }
   ],
   "source": [
    "for name in ['amplitude', 'index', 'lambda_']:\n",
    "    print(f\"{name} :\\t {mean[name]:.2e} -+ {uncertainty[name]:.2e}\")"
   ]
  },
  {
   "cell_type": "code",
   "execution_count": 33,
   "metadata": {},
   "outputs": [
    {
     "name": "stderr",
     "output_type": "stream",
     "text": [
      "WARNING:root:Pandas support in corner is deprecated; use ArviZ directly\n",
      "WARNING:root:Too few points to create valid contours\n",
      "WARNING:root:Too few points to create valid contours\n",
      "WARNING:root:Too few points to create valid contours\n"
     ]
    },
    {
     "data": {
      "image/png": "[encoded data removed]",
      "text/plain": [
       "<Figure size 760x760 with 9 Axes>"
      ]
     },
     "metadata": {},
     "output_type": "display_data"
    }
   ],
   "source": [
    "import corner\n",
    "\n",
    "fitted_params['amplitude'] *= 1e11\n",
    "\n",
    "figure = corner.corner(fitted_params,quantiles=[0.16, 0.5, 0.84],\n",
    "              show_titles=True, title_kwargs={\"fontsize\": 12})"
   ]
  },
  {
   "cell_type": "code",
   "execution_count": null,
   "metadata": {},
   "outputs": [],
   "source": []
  },
  {
   "cell_type": "markdown",
   "metadata": {},
   "source": [
    "<a id='step8'></a>\n",
    "🔝 [Back to Top](#intro)<br>\n",
    "## Step 8: Computing the Flux Points\n",
    "We can now compute some flux points using the `~gammapy.estimators.FluxPointsEstimator`.\n",
    "\n",
    "Besides the list of datasets to use, we must provide it the energy intervals on which to compute flux points as well as the model component name."
   ]
  },
  {
   "cell_type": "code",
   "execution_count": 34,
   "metadata": {},
   "outputs": [
    {
     "name": "stdout",
     "output_type": "stream",
     "text": [
      "OptimizeResult\n",
      "\n",
      "\tbackend    : minuit\n",
      "\tmethod     : migrad\n",
      "\tsuccess    : True\n",
      "\tmessage    : Optimization terminated successfully..\n",
      "\tnfev       : 54\n",
      "\ttotal stat : 367.20\n",
      "\n",
      "CovarianceResult\n",
      "\n",
      "\tbackend    : minuit\n",
      "\tmethod     : hesse\n",
      "\tsuccess    : True\n",
      "\tmessage    : Hesse terminated successfully.\n",
      "\n"
     ]
    }
   ],
   "source": [
    "#Compute flux points\n",
    "datasets.models = [model]\n",
    "\n",
    "# fit_joint = Fit(backend='sherpa')\n",
    "fit_joint = Fit()\n",
    "result_joint = fit_joint.run(datasets=datasets)\n",
    "print(result_joint)"
   ]
  },
  {
   "cell_type": "code",
   "execution_count": 35,
   "metadata": {},
   "outputs": [
    {
     "name": "stdout",
     "output_type": "stream",
     "text": [
      "[1.00000000e-01 1.77827941e-01 3.16227766e-01 5.62341325e-01\n",
      " 1.00000000e+00 1.77827941e+00 3.16227766e+00 5.62341325e+00\n",
      " 1.00000000e+01 1.77827941e+01 3.16227766e+01 5.62341325e+01\n",
      " 1.00000000e+02] TeV\n"
     ]
    }
   ],
   "source": [
    "energy_edges = MapAxis.from_energy_bounds(\n",
    "    e_edges_min,\n",
    "    e_edges_max, \n",
    "    nbin=12).edges\n",
    "print(energy_edges)"
   ]
  },
  {
   "cell_type": "code",
   "execution_count": 36,
   "metadata": {},
   "outputs": [
    {
     "name": "stdout",
     "output_type": "stream",
     "text": [
      "[1.00000000e-01 1.77827941e-01 3.16227766e-01 5.62341325e-01\n",
      " 1.00000000e+00 1.77827941e+00 3.16227766e+00 5.62341325e+00\n",
      " 1.00000000e+01 1.77827941e+01 3.16227766e+01 5.62341325e+01\n",
      " 1.00000000e+02] TeV\n"
     ]
    }
   ],
   "source": [
    "print(energy_edges)"
   ]
  },
  {
   "cell_type": "code",
   "execution_count": 37,
   "metadata": {},
   "outputs": [],
   "source": [
    "fpe = FluxPointsEstimator(\n",
    "    energy_edges=energy_edges, \n",
    "    source=model.name, \n",
    "    selection_optional=\"all\"\n",
    ")\n",
    "flux_points = fpe.run(datasets=datasets)"
   ]
  },
  {
   "cell_type": "code",
   "execution_count": 38,
   "metadata": {},
   "outputs": [],
   "source": [
    "dataset = FluxPointsDataset(data=flux_points, models=model, name=model.name)"
   ]
  },
  {
   "cell_type": "code",
   "execution_count": 39,
   "metadata": {},
   "outputs": [
    {
     "data": {
      "image/png": "[encoded data removed]",
      "text/plain": [
       "<Figure size 640x480 with 1 Axes>"
      ]
     },
     "metadata": {},
     "output_type": "display_data"
    }
   ],
   "source": [
    "ax = plt.subplot()\n",
    "ax.yaxis.set_units(u.Unit(\"erg cm-2 s-1\"))\n",
    "\n",
    "kwargs = {\"ax\": ax, \"sed_type\": \"e2dnde\"}\n",
    "\n",
    "dataset.data.plot(label=dataset.name, **kwargs)\n",
    "energy_bounds = [4e-2, 2e2] * u.TeV\n",
    "model.spectral_model.plot(energy_bounds,label=\"model-simu\",**kwargs)\n",
    "\n",
    "ax.set_ylim(1e-15, 1e-9)\n",
    "ax.set_xlim(energy_bounds)\n",
    "ax.legend(fontsize=9, bbox_to_anchor=(1, 1))\n",
    "plt.show()"
   ]
  },
  {
   "cell_type": "code",
   "execution_count": null,
   "metadata": {},
   "outputs": [],
   "source": []
  },
  {
   "cell_type": "code",
   "execution_count": null,
   "metadata": {},
   "outputs": [],
   "source": []
  },
  {
   "cell_type": "code",
   "execution_count": null,
   "metadata": {},
   "outputs": [],
   "source": []
  }
 ],
 "metadata": {
  "kernelspec": {
   "display_name": "Python 3 (ipykernel)",
   "language": "python",
   "name": "python3"
  },
  "language_info": {
   "codemirror_mode": {
    "name": "ipython",
    "version": 3
   },
   "file_extension": ".py",
   "mimetype": "text/x-python",
   "name": "python",
   "nbconvert_exporter": "python",
   "pygments_lexer": "ipython3",
   "version": "3.9.18"
  }
 },
 "nbformat": 4,
 "nbformat_minor": 1
}
