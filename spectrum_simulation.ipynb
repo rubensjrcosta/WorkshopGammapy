{
 "cells": [
  {
   "cell_type": "markdown",
   "metadata": {},
   "source": [
    "[![gammapy](https://img.shields.io/badge/powered%20by-gammapy-orange.svg?style=flat)](https://gammapy.org/)\n",
    "\n",
    "# 1D spectrum simulation\n",
    "**Tutors:** Rubens Costa Jr and M Felipe Sousa.\n",
    "\n",
    "This hands-on tutorial gives an introduction of how to simulate a number of spectral on-off observations of a source with a exponential cutoff power law spectral model using the CTA 1DC response and fit them with the assumed spectral model.\n",
    "\n",
    "\n",
    "## Preface\n",
    "We recommend to follow this tutorial by **executing the code cells on your local machine**, along with the tutor. The estimated time for this part of the tutorial is ~60 minutes.\n",
    "\n",
    "We're happy to receive any **feedback or questions** on the tutorial via mail to *rubensjrcosta@gmail.com* or *manoelfelipesousa@gmail.com*."
   ]
  },
  {
   "cell_type": "markdown",
   "metadata": {},
   "source": [
    "<a id='intro'></a>\n",
    "## Indice\n",
    "* [**1. 1D spectrum simulation**](#simu)\n",
    "\n",
    "* [**2. Setup**](#setup)\n",
    "\n",
    "* [**3. Source Information**](#step3)\n",
    "    \n",
    "* [**4. Observational parameters**](#step4)\n",
    "\n",
    "* [**5. Creates the Observation**](#step5)\n",
    "\n",
    "* [**6. Simulating the Spectrum**](#step6)\n",
    "    * Defines the geometry\n",
    "    * Set the Model on the Dataset\n",
    "    \n",
    "* [**7. On-Off analysis**](#step7)\n",
    "\n",
    "* [**8. Computing the Flux Points**](#step8)"
   ]
  },
  {
   "cell_type": "code",
<<<<<<< HEAD
   "execution_count": 1,
=======
   "execution_count": null,
>>>>>>> 33063223db20f9cdd32518b84a0b9f8df0b48b89
   "metadata": {},
   "outputs": [],
   "source": [
    "%matplotlib inline"
   ]
  },
  {
   "cell_type": "markdown",
   "metadata": {},
   "source": [
    "<a id='simu'></a>\n",
    "🔝 [Back to Top](#intro)<br>\n",
    "## 1.  1D spectrum simulation\n",
    "\n",
    "Simulate a number of spectral on-off observations of a source with a exponential cutoff power law spectral model using the CTA 1DC response and fit them with the assumed spectral model.\n",
    "\n",
    "## Prerequisites\n",
    "\n",
    "-  Knowledge of spectral extraction and datasets used in gammapy, see\n",
    "   for instance the :doc:`spectral analysis\n",
    "   tutorial </tutorials/analysis-1d/spectral_analysis>`\n",
    "\n",
    "## Context\n",
    "\n",
    "To simulate a specific observation, it is not always necessary to\n",
    "simulate the full photon list. For many uses cases, simulating directly\n",
    "a reduced binned dataset is enough: the IRFs reduced in the correct\n",
    "geometry are combined with a source model to predict an actual number of\n",
    "counts per bin. The latter is then used to simulate a reduced dataset\n",
    "using Poisson probability distribution.\n",
    "\n",
    "This can be done to check the feasibility of a measurement, to test\n",
    "whether fitted parameters really provide a good fit to the data etc.\n",
    "\n",
    "Here we will see how to perform a 1D spectral simulation of a CTA\n",
    "observation, in particular, we will generate OFF observations following\n",
    "the template background stored in the CTA IRFs.\n",
    "\n",
    "**Objective: simulate a number of spectral ON-OFF observations of a\n",
    "source with a power-law spectral model with CTA using the CTA 1DC\n",
    "response, fit them with the assumed spectral model and check that the\n",
    "distribution of fitted parameters is consistent with the input values.**\n",
    "\n",
    "## Proposed approach\n",
    "\n",
    "We will use the following classes and functions:\n",
    "\n",
    "-  `~gammapy.datasets.SpectrumDatasetOnOff`\n",
    "-  `~gammapy.datasets.SpectrumDataset`\n",
    "-  `~gammapy.irf.load_irf_dict_from_file`\n",
    "-  `~gammapy.modeling.models.ExpCutoffPowerLawSpectralModel`"
   ]
  },
  {
   "cell_type": "code",
   "execution_count": null,
   "metadata": {},
   "outputs": [],
   "source": []
  },
  {
   "cell_type": "markdown",
   "metadata": {},
   "source": [
    "<a id='setup'></a>\n",
    "🔝 [Back to Top](#intro)<br>\n",
    "## 2. Setup"
   ]
  },
  {
   "cell_type": "code",
   "execution_count": null,
   "metadata": {},
   "outputs": [],
   "source": [
    "!pip install gammapy"
   ]
  },
  {
   "cell_type": "code",
   "execution_count": null,
   "metadata": {},
   "outputs": [],
   "source": [
    "from gammapy.utils.check import check_tutorials_setup\n",
    "\n",
    "check_tutorials_setup()"
   ]
  },
  {
   "cell_type": "markdown",
   "metadata": {},
   "source": [
    "**Important**: to run this tutorial the environment variable `GAMMAPY_DATA` must be defined and point to the directory on your machine where the datasets needed are placed. To check whether your setup is correct you can execute the following cell:"
   ]
  },
  {
   "cell_type": "code",
   "execution_count": null,
   "metadata": {},
   "outputs": [],
   "source": [
    "import os # Miscellaneous operating system interfaces\n",
    "os.environ['GAMMAPY_DATA'] = os.path.join(os.getcwd(), '/content/gammapy-data/1.2')"
   ]
  },
  {
   "cell_type": "code",
   "execution_count": null,
   "metadata": {},
   "outputs": [],
   "source": [
    "try:\n",
    "    from gammapy.data import DataStore\n",
    "    DataStore.from_dir(\"$GAMMAPY_DATA/hess-dl3-dr1\")\n",
    "    print(\"Check setup: OK\")\n",
    "except: print(\"Error\")"
   ]
  },
  {
   "cell_type": "markdown",
   "metadata": {},
   "source": [
    "Tell us about any errors you come across!"
   ]
  },
  {
   "cell_type": "markdown",
   "metadata": {},
   "source": [
    "Now we can continue with the usual IPython notebooks and Python imports:"
   ]
  },
  {
   "cell_type": "code",
<<<<<<< HEAD
   "execution_count": 2,
=======
   "execution_count": 1,
>>>>>>> 33063223db20f9cdd32518b84a0b9f8df0b48b89
   "metadata": {},
   "outputs": [],
   "source": [
    "# Display figures directly inline\n",
    "%matplotlib inline\n",
    "\n",
    "import matplotlib.pyplot as plt # A collection of command style functions\n",
    "from IPython.display import display"
   ]
  },
  {
   "cell_type": "code",
<<<<<<< HEAD
   "execution_count": 3,
=======
   "execution_count": 2,
>>>>>>> 33063223db20f9cdd32518b84a0b9f8df0b48b89
   "metadata": {},
   "outputs": [],
   "source": [
    "import numpy as np\n",
<<<<<<< HEAD
    "\n",
    "import corner\n",
    "\n",
    "import astropy.units as u\n",
    "from astropy.coordinates import Angle, SkyCoord\n",
    "from astropy.table import Table\n",
    "\n",
    "from regions import CircleSkyRegion\n",
    "\n",
    "from gammapy.datasets import (\n",
    "    Datasets, \n",
    "    SpectrumDataset, \n",
    "    SpectrumDatasetOnOff\n",
    ")\n",
    "\n",
=======
    "import astropy.units as u\n",
    "from astropy.coordinates import Angle, SkyCoord\n",
    "from regions import CircleSkyRegion"
   ]
  },
  {
   "cell_type": "code",
   "execution_count": 3,
   "metadata": {},
   "outputs": [],
   "source": [
    "from IPython.display import display\n",
    "\n",
    "from astropy.table import Table\n",
    "\n",
    "from gammapy.data import FixedPointingInfo, Observation, observatory_locations\n",
    "from gammapy.datasets import Datasets, SpectrumDataset, SpectrumDatasetOnOff\n",
>>>>>>> 33063223db20f9cdd32518b84a0b9f8df0b48b89
    "from gammapy.irf import load_irf_dict_from_file\n",
    "from gammapy.makers import SpectrumDatasetMaker\n",
    "from gammapy.maps import MapAxis, RegionGeom\n",
    "from gammapy.modeling import Fit\n",
<<<<<<< HEAD
    "\n",
    "from gammapy.modeling.models import (\n",
    "    PowerLawSpectralModel, \n",
    "    SkyModel, \n",
    "    ExpCutoffPowerLawSpectralModel\n",
    ")\n",
    "\n",
    "from gammapy.data import (\n",
    "    Observation, \n",
    "    observatory_locations, \n",
    "    FixedPointingInfo, \n",
    "    PointingMode\n",
    ")\n",
    "\n",
    "from gammapy.estimators import FluxPointsEstimator, FluxPoints\n",
    "\n",
=======
    "from gammapy.modeling.models import PowerLawSpectralModel, SkyModel, ExpCutoffPowerLawSpectralModel\n",
    "from gammapy.data import Observation, observatory_locations, FixedPointingInfo, PointingMode\n",
    "\n",
    "\n",
    "from gammapy.estimators import FluxPointsEstimator\n",
    "from gammapy.estimators import FluxPoints\n",
>>>>>>> 33063223db20f9cdd32518b84a0b9f8df0b48b89
    "from gammapy.datasets import FluxPointsDataset"
   ]
  },
  {
   "cell_type": "code",
   "execution_count": null,
   "metadata": {},
   "outputs": [],
   "source": []
  },
  {
   "cell_type": "markdown",
   "metadata": {},
   "source": [
    "<a id='step3'></a>\n",
    "🔝 [Back to Top](#intro)<br>\n",
    "## Step 3: Source Information"
   ]
  },
  {
   "cell_type": "code",
   "execution_count": 4,
   "metadata": {},
   "outputs": [
    {
     "name": "stdout",
     "output_type": "stream",
     "text": [
      "<SkyCoord (ICRS): (ra, dec) in deg\n",
      "    (266.40498829, -28.93617776)>\n"
     ]
    }
   ],
   "source": [
    "source_pos = SkyCoord(0, 0, unit=\"deg\", frame=\"galactic\").icrs # Target position\n",
    "print(source_pos)"
   ]
  },
  {
   "cell_type": "code",
   "execution_count": 5,
   "metadata": {},
   "outputs": [
    {
     "name": "stdout",
     "output_type": "stream",
     "text": [
      "ExpCutoffPowerLawSpectralModel\n",
      "\n",
      "  type      name     value         unit      ... max frozen is_norm link\n",
      "-------- --------- ---------- -------------- ... --- ------ ------- ----\n",
      "spectral     index 2.0000e+00                ... nan  False   False     \n",
      "spectral amplitude 1.0000e-12 TeV-1 s-1 cm-2 ... nan  False    True     \n",
      "spectral reference 1.0000e+00            TeV ... nan   True   False     \n",
      "spectral   lambda_ 1.0000e-01          TeV-1 ... nan  False   False     \n",
      "spectral     alpha 1.0000e+00                ... nan   True   False     \n"
     ]
    }
   ],
   "source": [
    "model_simu = ExpCutoffPowerLawSpectralModel(\n",
    "    amplitude=1e-12 * u.Unit(\"cm-2 s-1 TeV-1\"),\n",
    "    index=2,\n",
    "    lambda_=0.1 * u.Unit(\"TeV-1\"),\n",
    "    reference=1 * u.TeV,\n",
    ")\n",
    "\n",
    "print(model_simu)\n",
    "# we set the sky model used in the dataset\n",
    "model = SkyModel(spectral_model=model_simu, name=\"source\")"
   ]
  },
  {
   "cell_type": "code",
   "execution_count": null,
   "metadata": {},
   "outputs": [],
   "source": []
  },
  {
   "cell_type": "markdown",
   "metadata": {},
   "source": [
    "<a id='step4'></a>\n",
    "🔝 [Back to Top](#intro)<br>\n",
    "## Step 4: Observational parameters\n",
    "\n",
    "To do a simulation, we need to define the observational parameters like\n",
    "the livetime, the offset, the assumed integration radius, the energy\n",
    "range to perform the simulation for and the choice of spectral model. We\n",
    "then use an in-memory observation which is convolved with the IRFs to\n",
    "get the predicted number of counts. This is Poisson fluctuated using\n",
    "the `fake()` to get the simulated counts for each observation.\n",
    "\n",
    "\n"
   ]
  },
  {
   "cell_type": "code",
   "execution_count": 6,
   "metadata": {
    "scrolled": true
   },
   "outputs": [],
   "source": [
    "livetime = 1 * u.h # Time of the simulated observation"
   ]
  },
  {
   "cell_type": "code",
   "execution_count": 7,
   "metadata": {},
   "outputs": [],
   "source": [
    "offset = 1.0 * u.deg  # Pointing position offset"
   ]
  },
  {
   "cell_type": "code",
   "execution_count": 8,
   "metadata": {},
   "outputs": [],
   "source": [
    "e_edges_min = 0.1 * u.TeV  # Minimum energy\n",
    "e_edges_max = 100. * u.TeV # Maximum energy"
   ]
  },
  {
   "cell_type": "code",
   "execution_count": null,
   "metadata": {},
   "outputs": [],
   "source": []
  },
  {
   "cell_type": "markdown",
   "metadata": {},
   "source": [
    "<a id='step5'></a>\n",
    "🔝 [Back to Top](#intro)<br>\n",
    "## Step 5:  Creates the Observation"
   ]
  },
  {
   "cell_type": "markdown",
   "metadata": {},
   "source": [
    "In this simulation, we use the CTA-1DC IRFs shipped with Gammapy."
   ]
  },
  {
   "cell_type": "code",
   "execution_count": 9,
   "metadata": {},
   "outputs": [
    {
     "name": "stderr",
     "output_type": "stream",
     "text": [
      "WARNING: UnitsWarning: '1/s/MeV/sr' did not parse as fits unit: Numeric factor not supported by FITS If this is meant to be a custom unit, define it with 'u.def_unit'. To have it recognized inside a file reader or other code, enable it with 'u.add_enabled_units'. For details, see https://docs.astropy.org/en/latest/units/combining_and_defining.html [astropy.units.core]\n",
      "Invalid unit found in background table! Assuming (s-1 MeV-1 sr-1)\n"
     ]
    }
   ],
   "source": [
    "# Load the IRFs\n",
    "irfs = load_irf_dict_from_file(\n",
    "    \"$GAMMAPY_DATA/cta-1dc/caldb/data/cta/1dc/bcf/South_z20_50h/irf_file.fits\"\n",
    ")"
   ]
  },
  {
<<<<<<< HEAD
   "cell_type": "code",
   "execution_count": 10,
   "metadata": {},
   "outputs": [
    {
     "data": {
      "text/plain": [
       "{'aeff': <gammapy.irf.effective_area.EffectiveAreaTable2D at 0x7f58020244c0>,\n",
       " 'psf': <gammapy.irf.psf.parametric.EnergyDependentMultiGaussPSF at 0x7f5802045400>,\n",
       " 'edisp': <gammapy.irf.edisp.core.EnergyDispersion2D at 0x7f5802050a60>,\n",
       " 'bkg': <gammapy.irf.background.Background3D at 0x7f582dbed880>}"
      ]
     },
     "execution_count": 10,
     "metadata": {},
     "output_type": "execute_result"
    }
   ],
   "source": [
    "irfs"
   ]
  },
  {
=======
>>>>>>> 33063223db20f9cdd32518b84a0b9f8df0b48b89
   "cell_type": "markdown",
   "metadata": {},
   "source": [
    "See: [CTAO Instrument Response Functions](https://zenodo.org/records/5499840).  This data repository provides access to performance evaluation and instrument response functions (IRFs) for CTA."
   ]
  },
  {
   "cell_type": "code",
<<<<<<< HEAD
   "execution_count": 11,
   "metadata": {},
   "outputs": [],
   "source": [
    "position_angle = 90*u.deg"
   ]
  },
  {
   "cell_type": "code",
   "execution_count": 12,
=======
   "execution_count": 10,
>>>>>>> 33063223db20f9cdd32518b84a0b9f8df0b48b89
   "metadata": {},
   "outputs": [
    {
     "name": "stdout",
     "output_type": "stream",
     "text": [
      "<SkyCoord (ICRS): (ra, dec) in deg\n",
      "    (267.54760208, -28.93135344)>\n"
     ]
    }
   ],
   "source": [
    "# Defines the pointing position\n",
<<<<<<< HEAD
    "pointing_position = source_pos.directional_offset_by(\n",
    "    position_angle, \n",
    "    separation=offset\n",
    ")\n",
=======
    "pointing_position = source_pos.directional_offset_by(position_angle=90*u.deg, separation=offset)\n",
>>>>>>> 33063223db20f9cdd32518b84a0b9f8df0b48b89
    "print(pointing_position)"
   ]
  },
  {
   "cell_type": "code",
<<<<<<< HEAD
   "execution_count": 13,
=======
   "execution_count": 11,
>>>>>>> 33063223db20f9cdd32518b84a0b9f8df0b48b89
   "metadata": {},
   "outputs": [
    {
     "name": "stdout",
     "output_type": "stream",
     "text": [
      "FixedPointingInfo:\n",
      "\n",
      "mode:        PointingMode.POINTING\n",
      "coordinates: <SkyCoord (ICRS): (ra, dec) in deg\n",
      "    (267.54760208, -28.93135344)>\n"
     ]
    }
   ],
   "source": [
    "# We want to simulate an observation pointing at a fixed position in the sky.\n",
    "# For this, we use the `FixedPointingInfo` class\n",
    "pointing = FixedPointingInfo(\n",
    "    mode=PointingMode.POINTING,\n",
    "    fixed_icrs=pointing_position,\n",
    ")\n",
    "print(pointing)"
   ]
  },
  {
   "cell_type": "code",
<<<<<<< HEAD
   "execution_count": 14,
=======
   "execution_count": 12,
>>>>>>> 33063223db20f9cdd32518b84a0b9f8df0b48b89
   "metadata": {},
   "outputs": [],
   "source": [
    "location = observatory_locations[\"cta_south\"]"
   ]
  },
  {
   "cell_type": "code",
<<<<<<< HEAD
   "execution_count": 15,
   "metadata": {},
   "outputs": [
    {
     "data": {
      "text/latex": [
       "$(1953830.4, -5461745.5, -2648150.2) \\; \\mathrm{m}$"
      ],
      "text/plain": [
       "<EarthLocation (1953830.40071076, -5461745.48215685, -2648150.15076259) m>"
      ]
     },
     "execution_count": 15,
     "metadata": {},
     "output_type": "execute_result"
    }
   ],
   "source": [
    "location"
   ]
  },
  {
   "cell_type": "code",
   "execution_count": 16,
=======
   "execution_count": 13,
>>>>>>> 33063223db20f9cdd32518b84a0b9f8df0b48b89
   "metadata": {},
   "outputs": [
    {
     "name": "stdout",
     "output_type": "stream",
     "text": [
      "Observation\n",
      "\n",
      "\tobs id            : 0 \n",
      " \ttstart            : 51544.00\n",
      "\ttstop             : 51544.04\n",
      "\tduration          : 3600.00 s\n",
      "\tpointing (icrs)   : 267.5 deg, -28.9 deg\n",
      "\n",
      "\tdeadtime fraction : 0.0%\n",
      "\n"
     ]
    }
   ],
   "source": [
    "obs = Observation.create(\n",
    "    pointing=pointing,\n",
    "    livetime=livetime,\n",
    "    irfs=irfs,\n",
    "    location=location,\n",
    ")\n",
    "print(obs)"
   ]
  },
  {
   "cell_type": "code",
   "execution_count": null,
   "metadata": {},
   "outputs": [],
   "source": []
  },
  {
   "cell_type": "markdown",
   "metadata": {},
   "source": [
    "<a id='step6'></a>\n",
    "🔝 [Back to Top](#intro)<br>\n",
    "## Step 6: Simulating the Spectrum\n",
    "### Defines the geometry"
   ]
  },
  {
   "cell_type": "code",
<<<<<<< HEAD
   "execution_count": 17,
=======
   "execution_count": 14,
>>>>>>> 33063223db20f9cdd32518b84a0b9f8df0b48b89
   "metadata": {},
   "outputs": [
    {
     "name": "stdout",
     "output_type": "stream",
     "text": [
      "MapAxis\n",
      "\n",
      "\tname       : energy    \n",
      "\tunit       : 'TeV'     \n",
      "\tnbins      : 15        \n",
      "\tnode type  : edges     \n",
      "\tedges min  : 1.0e-01 TeV\n",
      "\tedges max  : 1.0e+02 TeV\n",
      "\tinterp     : log       \n",
      "\n"
     ]
    }
   ],
   "source": [
    "# Reconstructed energy axis\n",
    "energy_axis = MapAxis.from_energy_bounds(\n",
    "    e_edges_min, \n",
    "    e_edges_max, \n",
    "    nbin=5, \n",
    "    per_decade=True, \n",
    "    name=\"energy\"\n",
    ")\n",
    "print(energy_axis)"
   ]
  },
  {
   "cell_type": "code",
<<<<<<< HEAD
   "execution_count": 18,
=======
   "execution_count": 15,
>>>>>>> 33063223db20f9cdd32518b84a0b9f8df0b48b89
   "metadata": {},
   "outputs": [],
   "source": [
    "on_region_radius = Angle(\"0.11 deg\") # radius of the ON region\n",
    "center = source_pos # observation center"
   ]
  },
  {
   "cell_type": "code",
<<<<<<< HEAD
   "execution_count": 19,
=======
   "execution_count": 16,
>>>>>>> 33063223db20f9cdd32518b84a0b9f8df0b48b89
   "metadata": {},
   "outputs": [
    {
     "name": "stdout",
     "output_type": "stream",
     "text": [
      "Region: CircleSkyRegion\n",
      "center: <SkyCoord (ICRS): (ra, dec) in deg\n",
      "    (266.40498829, -28.93617776)>\n",
      "radius: 0.11 deg\n"
     ]
    }
   ],
   "source": [
<<<<<<< HEAD
    "on_region = CircleSkyRegion(\n",
    "    center=center, \n",
    "    radius=on_region_radius\n",
    ")\n",
=======
    "on_region = CircleSkyRegion(center=center, radius=on_region_radius)\n",
>>>>>>> 33063223db20f9cdd32518b84a0b9f8df0b48b89
    "print(on_region)"
   ]
  },
  {
   "cell_type": "code",
<<<<<<< HEAD
   "execution_count": 20,
=======
   "execution_count": 17,
>>>>>>> 33063223db20f9cdd32518b84a0b9f8df0b48b89
   "metadata": {},
   "outputs": [
    {
     "name": "stdout",
     "output_type": "stream",
     "text": [
      "RegionGeom\n",
      "\n",
      "\tregion     : CircleSkyRegion\n",
      "\taxes       : ['lon', 'lat', 'energy']\n",
      "\tshape      : (1, 1, 15)\n",
      "\tndim       : 3\n",
      "\tframe      : icrs\n",
      "\tcenter     : 266.4 deg, -28.9 deg\n",
      "\n"
     ]
    }
   ],
   "source": [
<<<<<<< HEAD
    "geom = RegionGeom.create(\n",
    "    region=on_region, \n",
    "    axes=[energy_axis]\n",
    ")\n",
=======
    "geom = RegionGeom.create(region=on_region, axes=[energy_axis])\n",
>>>>>>> 33063223db20f9cdd32518b84a0b9f8df0b48b89
    "print(geom)"
   ]
  },
  {
   "cell_type": "code",
   "execution_count": null,
   "metadata": {},
   "outputs": [],
   "source": []
  },
  {
   "cell_type": "markdown",
   "metadata": {},
   "source": [
    "🔝 [Back to Top](#intro)<br>\n",
    "\n",
    "### Set the Model on the Dataset"
   ]
  },
  {
   "cell_type": "code",
<<<<<<< HEAD
   "execution_count": 21,
=======
   "execution_count": 18,
>>>>>>> 33063223db20f9cdd32518b84a0b9f8df0b48b89
   "metadata": {},
   "outputs": [
    {
     "name": "stdout",
     "output_type": "stream",
     "text": [
      "MapAxis\n",
      "\n",
      "\tname       : energy_true\n",
      "\tunit       : 'TeV'     \n",
      "\tnbins      : 32        \n",
      "\tnode type  : edges     \n",
      "\tedges min  : 3.0e-02 TeV\n",
      "\tedges max  : 3.0e+02 TeV\n",
      "\tinterp     : log       \n",
      "\n"
     ]
    }
   ],
   "source": [
    "# Defines the true energy axis:\n",
    "# true energy axis should be wider than reco energy axis\n",
    "energy_axis_true = MapAxis.from_energy_bounds(\n",
    "    0.3*e_edges_min, \n",
    "    3*e_edges_max, \n",
    "    nbin=8, \n",
    "    per_decade=True, \n",
    "    name=\"energy_true\"\n",
    ")\n",
    "print(energy_axis_true)"
   ]
  },
  {
   "cell_type": "code",
<<<<<<< HEAD
   "execution_count": 22,
=======
   "execution_count": 19,
   "metadata": {},
   "outputs": [],
   "source": [
    "# Creates a SpectrumDataset object with zero filled maps.\n",
    "dataset_empty = SpectrumDataset.create(\n",
    "    geom=geom, energy_axis_true=energy_axis_true, name=\"obs-0\"\n",
    ")"
   ]
  },
  {
   "cell_type": "code",
   "execution_count": 20,
>>>>>>> 33063223db20f9cdd32518b84a0b9f8df0b48b89
   "metadata": {},
   "outputs": [
    {
     "name": "stdout",
     "output_type": "stream",
     "text": [
      "SpectrumDataset\n",
      "---------------\n",
      "\n",
      "  Name                            : obs-0 \n",
      "\n",
      "  Total counts                    : 0 \n",
      "  Total background counts         : 0.00\n",
      "  Total excess counts             : 0.00\n",
      "\n",
      "  Predicted counts                : 0.00\n",
      "  Predicted background counts     : 0.00\n",
      "  Predicted excess counts         : nan\n",
      "\n",
      "  Exposure min                    : 0.00e+00 m2 s\n",
      "  Exposure max                    : 0.00e+00 m2 s\n",
      "\n",
      "  Number of total bins            : 15 \n",
      "  Number of fit bins              : 0 \n",
      "\n",
      "  Fit statistic type              : cash\n",
      "  Fit statistic value (-2 log(L)) : nan\n",
      "\n",
      "  Number of models                : 0 \n",
      "  Number of parameters            : 0\n",
      "  Number of free parameters       : 0\n",
      "\n",
      "\n"
     ]
    }
   ],
   "source": [
<<<<<<< HEAD
    "# Creates a SpectrumDataset object with zero filled maps.\n",
    "dataset_empty = SpectrumDataset.create(\n",
    "    geom=geom, \n",
    "    energy_axis_true=energy_axis_true, \n",
    "    name=\"obs-0\"\n",
    ")\n",
=======
>>>>>>> 33063223db20f9cdd32518b84a0b9f8df0b48b89
    "print(dataset_empty)"
   ]
  },
  {
   "cell_type": "code",
<<<<<<< HEAD
   "execution_count": 23,
   "metadata": {},
   "outputs": [
    {
     "name": "stdout",
     "output_type": "stream",
     "text": [
      "SpectrumDataset\n",
      "---------------\n",
      "\n",
      "  Name                            : obs-0 \n",
      "\n",
      "  Total counts                    : 0 \n",
      "  Total background counts         : 112.93\n",
      "  Total excess counts             : -112.93\n",
      "\n",
      "  Predicted counts                : 112.93\n",
      "  Predicted background counts     : 112.93\n",
      "  Predicted excess counts         : nan\n",
      "\n",
      "  Exposure min                    : 7.30e+07 m2 s\n",
      "  Exposure max                    : 1.88e+10 m2 s\n",
      "\n",
      "  Number of total bins            : 15 \n",
      "  Number of fit bins              : 15 \n",
      "\n",
      "  Fit statistic type              : cash\n",
      "  Fit statistic value (-2 log(L)) : nan\n",
      "\n",
      "  Number of models                : 0 \n",
      "  Number of parameters            : 0\n",
      "  Number of free parameters       : 0\n",
      "\n",
      "\n"
     ]
    }
   ],
   "source": [
    "# Make spectrum for a single IACT observation:\n",
    "maker = SpectrumDatasetMaker(\n",
    "    selection=\n",
    "    [\"exposure\", \n",
    "     \"edisp\", \n",
    "     \"background\"]\n",
    ") # Selecting which maps to make\n",
    "\n",
    "dataset = maker.run(dataset_empty, obs) \n",
    "print(dataset)"
=======
   "execution_count": 21,
   "metadata": {},
   "outputs": [],
   "source": [
    "# Make spectrum for a single IACT observation:\n",
    "maker = SpectrumDatasetMaker(selection=[\"exposure\", \"edisp\", \"background\"]) # Selecting which maps to make\n",
    "\n",
    "dataset = maker.run(dataset_empty, obs) "
>>>>>>> 33063223db20f9cdd32518b84a0b9f8df0b48b89
   ]
  },
  {
   "cell_type": "code",
<<<<<<< HEAD
   "execution_count": 24,
=======
   "execution_count": 22,
>>>>>>> 33063223db20f9cdd32518b84a0b9f8df0b48b89
   "metadata": {},
   "outputs": [
    {
     "name": "stdout",
     "output_type": "stream",
     "text": [
      "SpectrumDataset\n",
      "---------------\n",
      "\n",
      "  Name                            : obs-0 \n",
      "\n",
      "  Total counts                    : 242 \n",
      "  Total background counts         : 112.93\n",
      "  Total excess counts             : 129.07\n",
      "\n",
      "  Predicted counts                : 250.82\n",
      "  Predicted background counts     : 112.93\n",
      "  Predicted excess counts         : 137.89\n",
      "\n",
      "  Exposure min                    : 7.30e+07 m2 s\n",
      "  Exposure max                    : 1.88e+10 m2 s\n",
      "\n",
      "  Number of total bins            : 15 \n",
      "  Number of fit bins              : 15 \n",
      "\n",
      "  Fit statistic type              : cash\n",
      "  Fit statistic value (-2 log(L)) : -1196.19\n",
      "\n",
      "  Number of models                : 1 \n",
      "  Number of parameters            : 5\n",
      "  Number of free parameters       : 3\n",
      "\n",
      "  Component 0: SkyModel\n",
      "  \n",
      "    Name                      : source\n",
      "    Datasets names            : None\n",
      "    Spectral model type       : ExpCutoffPowerLawSpectralModel\n",
      "    Spatial  model type       : \n",
      "    Temporal model type       : \n",
      "    Parameters:\n",
      "      index                         :      2.000   +/-    0.00             \n",
      "      amplitude                     :   1.00e-12   +/- 0.0e+00 1 / (TeV s cm2)\n",
      "      reference             (frozen):      1.000       TeV         \n",
      "      lambda_                       :      0.100   +/-    0.00 1 / TeV     \n",
      "      alpha                 (frozen):      1.000                   \n",
      "  \n",
      "  \n"
     ]
    }
   ],
   "source": [
    "# Set the model on the dataset, and fake\n",
    "dataset.models = model\n",
    "dataset.fake(random_state=42)\n",
    "print(dataset) # Make safe data range mask for a given observation"
   ]
  },
  {
   "cell_type": "markdown",
   "metadata": {},
   "source": [
    "You can see that background counts are now simulated."
   ]
  },
  {
   "cell_type": "markdown",
   "metadata": {},
   "source": [
    "<a id='step7'></a>\n",
    "🔝 [Back to Top](#intro)<br>\n",
    "## Step 7: On-Off analysis\n",
    "\n",
    "To do an on off spectral analysis, which is the usual science case, the\n",
    "standard would be to use `SpectrumDatasetOnOff`, which uses the\n",
    "acceptance to fake off-counts. Please also refer to the `Dataset simulations`\n",
    "section in the :doc:`/tutorials/analysis-1d/spectral_analysis_rad_max` tutorial,\n",
    "dealing with simulations based on observations of real off counts.\n",
    "\n",
    "\n"
   ]
  },
  {
   "cell_type": "code",
<<<<<<< HEAD
   "execution_count": 25,
=======
   "execution_count": 23,
>>>>>>> 33063223db20f9cdd32518b84a0b9f8df0b48b89
   "metadata": {},
   "outputs": [],
   "source": [
    "dataset_on_off = SpectrumDatasetOnOff.from_spectrum_dataset(\n",
<<<<<<< HEAD
    "    dataset=dataset, \n",
    "    acceptance=1, \n",
    "    acceptance_off=5\n",
=======
    "    dataset=dataset, acceptance=1, acceptance_off=5\n",
>>>>>>> 33063223db20f9cdd32518b84a0b9f8df0b48b89
    ")\n",
    "dataset_on_off.fake(npred_background=dataset.npred_background())"
   ]
  },
  {
   "cell_type": "code",
<<<<<<< HEAD
   "execution_count": 26,
=======
   "execution_count": 24,
>>>>>>> 33063223db20f9cdd32518b84a0b9f8df0b48b89
   "metadata": {},
   "outputs": [
    {
     "name": "stdout",
     "output_type": "stream",
     "text": [
      "SpectrumDatasetOnOff\n",
      "--------------------\n",
      "\n",
<<<<<<< HEAD
      "  Name                            : r2rMnK4b \n",
      "\n",
      "  Total counts                    : 244 \n",
      "  Total background counts         : 106.20\n",
      "  Total excess counts             : 137.80\n",
      "\n",
      "  Predicted counts                : 244.40\n",
      "  Predicted background counts     : 106.51\n",
=======
      "  Name                            : 5sx5jAuG \n",
      "\n",
      "  Total counts                    : 259 \n",
      "  Total background counts         : 113.00\n",
      "  Total excess counts             : 146.00\n",
      "\n",
      "  Predicted counts                : 251.63\n",
      "  Predicted background counts     : 113.74\n",
>>>>>>> 33063223db20f9cdd32518b84a0b9f8df0b48b89
      "  Predicted excess counts         : 137.89\n",
      "\n",
      "  Exposure min                    : 7.30e+07 m2 s\n",
      "  Exposure max                    : 1.88e+10 m2 s\n",
      "\n",
      "  Number of total bins            : 15 \n",
      "  Number of fit bins              : 15 \n",
      "\n",
      "  Fit statistic type              : wstat\n",
<<<<<<< HEAD
      "  Fit statistic value (-2 log(L)) : 15.53\n",
=======
      "  Fit statistic value (-2 log(L)) : 12.86\n",
>>>>>>> 33063223db20f9cdd32518b84a0b9f8df0b48b89
      "\n",
      "  Number of models                : 1 \n",
      "  Number of parameters            : 5\n",
      "  Number of free parameters       : 3\n",
      "\n",
      "  Component 0: SkyModel\n",
      "  \n",
      "    Name                      : source\n",
      "    Datasets names            : None\n",
      "    Spectral model type       : ExpCutoffPowerLawSpectralModel\n",
      "    Spatial  model type       : \n",
      "    Temporal model type       : \n",
      "    Parameters:\n",
      "      index                         :      2.000   +/-    0.00             \n",
      "      amplitude                     :   1.00e-12   +/- 0.0e+00 1 / (TeV s cm2)\n",
      "      reference             (frozen):      1.000       TeV         \n",
      "      lambda_                       :      0.100   +/-    0.00 1 / TeV     \n",
      "      alpha                 (frozen):      1.000                   \n",
      "  \n",
<<<<<<< HEAD
      "    Total counts_off                : 531 \n",
=======
      "    Total counts_off                : 565 \n",
>>>>>>> 33063223db20f9cdd32518b84a0b9f8df0b48b89
      "  Acceptance                      : 15 \n",
      "  Acceptance off                  : 75 \n",
      "\n"
     ]
    }
   ],
   "source": [
    "print(dataset_on_off)"
   ]
  },
  {
   "cell_type": "markdown",
   "metadata": {},
   "source": [
    "You can see that off counts are now simulated as well. We now simulate\n",
    "several spectra using the same set of observation conditions.\n",
    "\n",
    "\n"
   ]
  },
  {
   "cell_type": "code",
<<<<<<< HEAD
   "execution_count": 27,
=======
   "execution_count": 25,
>>>>>>> 33063223db20f9cdd32518b84a0b9f8df0b48b89
   "metadata": {},
   "outputs": [
    {
     "data": {
      "text/html": [
<<<<<<< HEAD
       "<div><i>Table length=20</i>\n",
       "<table id=\"table140015962870160\" class=\"table-striped table-bordered table-condensed\">\n",
=======
       "<div><i>Table length=30</i>\n",
       "<table id=\"table140065960904016\" class=\"table-striped table-bordered table-condensed\">\n",
>>>>>>> 33063223db20f9cdd32518b84a0b9f8df0b48b89
       "<thead><tr><th>name</th><th>counts</th><th>excess</th><th>sqrt_ts</th><th>background</th><th>npred</th><th>npred_background</th><th>npred_signal</th><th>exposure_min</th><th>exposure_max</th><th>livetime</th><th>ontime</th><th>counts_rate</th><th>background_rate</th><th>excess_rate</th><th>n_bins</th><th>n_fit_bins</th><th>stat_type</th><th>stat_sum</th><th>counts_off</th><th>acceptance</th><th>acceptance_off</th><th>alpha</th></tr></thead>\n",
       "<thead><tr><th></th><th></th><th></th><th></th><th></th><th></th><th></th><th></th><th>m2 s</th><th>m2 s</th><th>s</th><th>s</th><th>1 / s</th><th>1 / s</th><th>1 / s</th><th></th><th></th><th></th><th></th><th></th><th></th><th></th><th></th></tr></thead>\n",
       "<thead><tr><th>str6</th><th>int64</th><th>float64</th><th>float64</th><th>float64</th><th>float64</th><th>float64</th><th>float64</th><th>float64</th><th>float64</th><th>float64</th><th>float64</th><th>float64</th><th>float64</th><th>float64</th><th>int64</th><th>int64</th><th>str5</th><th>float64</th><th>int64</th><th>float64</th><th>float64</th><th>float64</th></tr></thead>\n",
       "<tr><td>obs-0</td><td>251</td><td>138.60000610351562</td><td>9.96942249923895</td><td>112.39998626708984</td><td>135.50000164119731</td><td>135.50000164119731</td><td>nan</td><td>72986008.0</td><td>18824503296.0</td><td>3600.000000000002</td><td>3600.000000000002</td><td>0.06972222222222219</td><td>0.03122221840752494</td><td>0.03850000169542099</td><td>15</td><td>15</td><td>wstat</td><td>173.90284235333723</td><td>562</td><td>15.0</td><td>75.00000762939453</td><td>0.19999997317790985</td></tr>\n",
       "<tr><td>obs-1</td><td>231</td><td>117.6</td><td>8.617692924800172</td><td>113.4</td><td>133.0</td><td>133.0</td><td>nan</td><td>72986008.18278918</td><td>18824503367.050323</td><td>3600.000000000002</td><td>3600.000000000002</td><td>0.06416666666666664</td><td>0.031499999999999986</td><td>0.03266666666666665</td><td>15</td><td>15</td><td>wstat</td><td>126.92091878415825</td><td>567</td><td>15.0</td><td>75.0</td><td>0.2</td></tr>\n",
       "<tr><td>obs-2</td><td>225</td><td>111.80000000000001</td><td>8.24960944244913</td><td>113.19999999999999</td><td>131.83333333333334</td><td>131.83333333333334</td><td>nan</td><td>72986008.18278918</td><td>18824503367.050323</td><td>3600.000000000002</td><td>3600.000000000002</td><td>0.062499999999999965</td><td>0.03144444444444443</td><td>0.031055555555555545</td><td>15</td><td>15</td><td>wstat</td><td>128.49550973534215</td><td>566</td><td>15.0</td><td>75.0</td><td>0.19999999999999998</td></tr>\n",
       "<tr><td>obs-3</td><td>239</td><td>119.0</td><td>8.524229764290844</td><td>120.0</td><td>139.83333333333334</td><td>139.83333333333334</td><td>nan</td><td>72986008.18278918</td><td>18824503367.050323</td><td>3600.000000000002</td><td>3600.000000000002</td><td>0.06638888888888886</td><td>0.03333333333333332</td><td>0.03305555555555554</td><td>15</td><td>15</td><td>wstat</td><td>156.37458158663995</td><td>600</td><td>15.0</td><td>75.0</td><td>0.2</td></tr>\n",
       "<tr><td>obs-4</td><td>292</td><td>172.8</td><td>11.785249502664652</td><td>119.2</td><td>148.00000000000006</td><td>148.00000000000006</td><td>nan</td><td>72986008.18278918</td><td>18824503367.050323</td><td>3600.000000000002</td><td>3600.000000000002</td><td>0.08111111111111106</td><td>0.0331111111111111</td><td>0.04799999999999998</td><td>15</td><td>15</td><td>wstat</td><td>214.0806932520341</td><td>596</td><td>15.0</td><td>75.0</td><td>0.2</td></tr>\n",
       "<tr><td>obs-5</td><td>243</td><td>133.79999999999998</td><td>9.77285888294649</td><td>109.20000000000002</td><td>131.50000000000003</td><td>131.50000000000003</td><td>nan</td><td>72986008.18278918</td><td>18824503367.050323</td><td>3600.000000000002</td><td>3600.000000000002</td><td>0.06749999999999996</td><td>0.030333333333333323</td><td>0.037166666666666646</td><td>15</td><td>15</td><td>wstat</td><td>166.22504516267963</td><td>546</td><td>15.0</td><td>74.99999999999999</td><td>0.20000000000000004</td></tr>\n",
       "<tr><td>...</td><td>...</td><td>...</td><td>...</td><td>...</td><td>...</td><td>...</td><td>...</td><td>...</td><td>...</td><td>...</td><td>...</td><td>...</td><td>...</td><td>...</td><td>...</td><td>...</td><td>...</td><td>...</td><td>...</td><td>...</td><td>...</td><td>...</td></tr>\n",
<<<<<<< HEAD
       "<tr><td>obs-14</td><td>255</td><td>145.0</td><td>10.442676343530703</td><td>110.0</td><td>134.16666666666666</td><td>134.16666666666666</td><td>nan</td><td>72986008.18278918</td><td>18824503367.050323</td><td>3600.000000000002</td><td>3600.000000000002</td><td>0.0708333333333333</td><td>0.03055555555555554</td><td>0.04027777777777776</td><td>15</td><td>15</td><td>wstat</td><td>221.53856682224688</td><td>550</td><td>15.0</td><td>75.0</td><td>0.2</td></tr>\n",
       "<tr><td>obs-15</td><td>228</td><td>118.2</td><td>8.760752161608098</td><td>109.8</td><td>129.50000000000003</td><td>129.50000000000003</td><td>nan</td><td>72986008.18278918</td><td>18824503367.050323</td><td>3600.000000000002</td><td>3600.000000000002</td><td>0.0633333333333333</td><td>0.030499999999999985</td><td>0.03283333333333332</td><td>15</td><td>15</td><td>wstat</td><td>149.27361910507008</td><td>549</td><td>15.0</td><td>75.0</td><td>0.19999999999999998</td></tr>\n",
       "<tr><td>obs-16</td><td>242</td><td>128.79999999999998</td><td>9.333898157409102</td><td>113.20000000000002</td><td>134.66666666666666</td><td>134.66666666666666</td><td>nan</td><td>72986008.18278918</td><td>18824503367.050323</td><td>3600.000000000002</td><td>3600.000000000002</td><td>0.06722222222222218</td><td>0.031444444444444435</td><td>0.035777777777777756</td><td>15</td><td>15</td><td>wstat</td><td>161.07249186955704</td><td>566</td><td>15.0</td><td>74.99999999999999</td><td>0.20000000000000004</td></tr>\n",
       "<tr><td>obs-17</td><td>264</td><td>149.8</td><td>10.595699174599028</td><td>114.2</td><td>139.16666666666669</td><td>139.16666666666669</td><td>nan</td><td>72986008.18278918</td><td>18824503367.050323</td><td>3600.000000000002</td><td>3600.000000000002</td><td>0.07333333333333329</td><td>0.03172222222222221</td><td>0.04161111111111109</td><td>15</td><td>15</td><td>wstat</td><td>179.19683889780063</td><td>571</td><td>15.0</td><td>75.0</td><td>0.2</td></tr>\n",
       "<tr><td>obs-18</td><td>252</td><td>141.99999999999997</td><td>10.257711445606466</td><td>110.00000000000003</td><td>133.66666666666669</td><td>133.66666666666669</td><td>nan</td><td>72986008.18278918</td><td>18824503367.050323</td><td>3600.000000000002</td><td>3600.000000000002</td><td>0.06999999999999997</td><td>0.030555555555555548</td><td>0.039444444444444414</td><td>15</td><td>15</td><td>wstat</td><td>189.65925489135728</td><td>550</td><td>15.0</td><td>74.99999999999999</td><td>0.20000000000000004</td></tr>\n",
       "<tr><td>obs-19</td><td>243</td><td>138.6</td><td>10.235311660917098</td><td>104.4</td><td>127.50000000000001</td><td>127.50000000000001</td><td>nan</td><td>72986008.18278918</td><td>18824503367.050323</td><td>3600.000000000002</td><td>3600.000000000002</td><td>0.06749999999999996</td><td>0.028999999999999988</td><td>0.03849999999999998</td><td>15</td><td>15</td><td>wstat</td><td>177.08986689448736</td><td>522</td><td>15.0</td><td>75.0</td><td>0.2</td></tr>\n",
       "</table></div>"
      ],
      "text/plain": [
       "<Table length=20>\n",
=======
       "<tr><td>obs-24</td><td>269</td><td>154.39999999999998</td><td>10.859249887877557</td><td>114.60000000000001</td><td>140.33333333333331</td><td>140.33333333333331</td><td>nan</td><td>72986008.18278918</td><td>18824503367.050323</td><td>3600.000000000002</td><td>3600.000000000002</td><td>0.07472222222222219</td><td>0.03183333333333332</td><td>0.04288888888888886</td><td>15</td><td>15</td><td>wstat</td><td>233.1822077591969</td><td>573</td><td>15.0</td><td>75.0</td><td>0.2</td></tr>\n",
       "<tr><td>obs-25</td><td>270</td><td>164.20000000000002</td><td>11.75964063659476</td><td>105.79999999999998</td><td>133.16666666666666</td><td>133.16666666666666</td><td>nan</td><td>72986008.18278918</td><td>18824503367.050323</td><td>3600.000000000002</td><td>3600.000000000002</td><td>0.07499999999999996</td><td>0.02938888888888887</td><td>0.045611111111111095</td><td>15</td><td>15</td><td>wstat</td><td>209.3175049483696</td><td>529</td><td>15.0</td><td>75.00000000000001</td><td>0.19999999999999996</td></tr>\n",
       "<tr><td>obs-26</td><td>255</td><td>141.0</td><td>10.066338757194117</td><td>114.0</td><td>137.5</td><td>137.5</td><td>nan</td><td>72986008.18278918</td><td>18824503367.050323</td><td>3600.000000000002</td><td>3600.000000000002</td><td>0.0708333333333333</td><td>0.03166666666666665</td><td>0.03916666666666665</td><td>15</td><td>15</td><td>wstat</td><td>237.73242788988983</td><td>570</td><td>15.0</td><td>75.0</td><td>0.2</td></tr>\n",
       "<tr><td>obs-27</td><td>264</td><td>146.2</td><td>10.262902924500036</td><td>117.80000000000001</td><td>142.16666666666669</td><td>142.16666666666669</td><td>nan</td><td>72986008.18278918</td><td>18824503367.050323</td><td>3600.000000000002</td><td>3600.000000000002</td><td>0.07333333333333329</td><td>0.03272222222222221</td><td>0.04061111111111109</td><td>15</td><td>15</td><td>wstat</td><td>163.76230540372433</td><td>589</td><td>15.0</td><td>75.0</td><td>0.2</td></tr>\n",
       "<tr><td>obs-28</td><td>258</td><td>140.59999999999997</td><td>9.935833023048236</td><td>117.40000000000002</td><td>140.83333333333334</td><td>140.83333333333334</td><td>nan</td><td>72986008.18278918</td><td>18824503367.050323</td><td>3600.000000000002</td><td>3600.000000000002</td><td>0.07166666666666663</td><td>0.0326111111111111</td><td>0.039055555555555524</td><td>15</td><td>15</td><td>wstat</td><td>188.57741414470308</td><td>587</td><td>15.0</td><td>74.99999999999999</td><td>0.20000000000000004</td></tr>\n",
       "<tr><td>obs-29</td><td>244</td><td>134.0</td><td>9.759712956252336</td><td>110.0</td><td>132.33333333333331</td><td>132.33333333333331</td><td>nan</td><td>72986008.18278918</td><td>18824503367.050323</td><td>3600.000000000002</td><td>3600.000000000002</td><td>0.06777777777777774</td><td>0.03055555555555554</td><td>0.037222222222222205</td><td>15</td><td>15</td><td>wstat</td><td>160.14166521819288</td><td>550</td><td>15.0</td><td>75.0</td><td>0.2</td></tr>\n",
       "</table></div>"
      ],
      "text/plain": [
       "<Table length=30>\n",
>>>>>>> 33063223db20f9cdd32518b84a0b9f8df0b48b89
       " name  counts       excess       ...   acceptance_off         alpha       \n",
       "                                 ...                                      \n",
       " str6  int64       float64       ...      float64            float64      \n",
       "------ ------ ------------------ ... ----------------- -------------------\n",
       " obs-0    251 138.60000610351562 ... 75.00000762939453 0.19999997317790985\n",
       " obs-1    231              117.6 ...              75.0                 0.2\n",
       " obs-2    225 111.80000000000001 ...              75.0 0.19999999999999998\n",
       " obs-3    239              119.0 ...              75.0                 0.2\n",
       " obs-4    292              172.8 ...              75.0                 0.2\n",
       " obs-5    243 133.79999999999998 ... 74.99999999999999 0.20000000000000004\n",
       "   ...    ...                ... ...               ...                 ...\n",
<<<<<<< HEAD
       "obs-14    255              145.0 ...              75.0                 0.2\n",
       "obs-15    228              118.2 ...              75.0 0.19999999999999998\n",
       "obs-16    242 128.79999999999998 ... 74.99999999999999 0.20000000000000004\n",
       "obs-17    264              149.8 ...              75.0                 0.2\n",
       "obs-18    252 141.99999999999997 ... 74.99999999999999 0.20000000000000004\n",
       "obs-19    243              138.6 ...              75.0                 0.2"
=======
       "obs-24    269 154.39999999999998 ...              75.0                 0.2\n",
       "obs-25    270 164.20000000000002 ... 75.00000000000001 0.19999999999999996\n",
       "obs-26    255              141.0 ...              75.0                 0.2\n",
       "obs-27    264              146.2 ...              75.0                 0.2\n",
       "obs-28    258 140.59999999999997 ... 74.99999999999999 0.20000000000000004\n",
       "obs-29    244              134.0 ...              75.0                 0.2"
>>>>>>> 33063223db20f9cdd32518b84a0b9f8df0b48b89
      ]
     },
     "metadata": {},
     "output_type": "display_data"
    }
   ],
   "source": [
<<<<<<< HEAD
    "n_obs = 20\n",
=======
    "n_obs = 30\n",
>>>>>>> 33063223db20f9cdd32518b84a0b9f8df0b48b89
    "datasets = Datasets()\n",
    "\n",
    "for idx in range(n_obs):\n",
    "    dataset_on_off.fake(random_state=idx, npred_background=dataset.npred_background())\n",
    "    dataset_fake = dataset_on_off.copy(name=f\"obs-{idx}\")\n",
    "    dataset_fake.meta_table[\"OBS_ID\"] = [idx]\n",
    "    datasets.append(dataset_fake)\n",
    "\n",
    "table = datasets.info_table()\n",
    "display(table)"
   ]
  },
  {
   "cell_type": "markdown",
   "metadata": {},
   "source": [
    "Before moving on to the fit let’s have a look at the simulated\n",
    "observations.\n",
    "\n",
    "\n"
   ]
  },
  {
   "cell_type": "code",
<<<<<<< HEAD
   "execution_count": 28,
=======
   "execution_count": 26,
>>>>>>> 33063223db20f9cdd32518b84a0b9f8df0b48b89
   "metadata": {},
   "outputs": [
    {
     "data": {
<<<<<<< HEAD
      "image/png": "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\n",
=======
      "image/png": "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\n",
>>>>>>> 33063223db20f9cdd32518b84a0b9f8df0b48b89
      "text/plain": [
       "<Figure size 1200x400 with 3 Axes>"
      ]
     },
     "metadata": {},
     "output_type": "display_data"
    }
   ],
   "source": [
    "fix, axes = plt.subplots(1, 3, figsize=(12, 4))\n",
    "axes[0].hist(table[\"counts\"])\n",
    "axes[0].set_xlabel(\"Counts\")\n",
    "axes[1].hist(table[\"counts_off\"])\n",
    "axes[1].set_xlabel(\"Counts Off\")\n",
    "axes[2].hist(table[\"excess\"])\n",
    "axes[2].set_xlabel(\"excess\")\n",
    "plt.show()"
   ]
  },
  {
   "cell_type": "markdown",
   "metadata": {},
   "source": [
    "Now, we fit each simulated spectrum individually\n",
    "\n",
    "\n"
   ]
  },
  {
   "cell_type": "code",
<<<<<<< HEAD
   "execution_count": 29,
=======
   "execution_count": 27,
>>>>>>> 33063223db20f9cdd32518b84a0b9f8df0b48b89
   "metadata": {},
   "outputs": [
    {
     "name": "stdout",
     "output_type": "stream",
     "text": [
<<<<<<< HEAD
      "CPU times: user 5.13 s, sys: 19.3 ms, total: 5.15 s\n",
      "Wall time: 5.26 s\n"
=======
      "CPU times: user 2 s, sys: 3.8 ms, total: 2.01 s\n",
      "Wall time: 2.01 s\n"
>>>>>>> 33063223db20f9cdd32518b84a0b9f8df0b48b89
     ]
    }
   ],
   "source": [
    "%%time\n",
    "\n",
    "results = []\n",
    "\n",
    "fit = Fit()\n",
    "\n",
    "for dataset in datasets:\n",
    "    dataset.models = model.copy()\n",
    "    result = fit.optimize(dataset)\n",
    "    \n",
    "    if result.success:\n",
    "        par_dict = {}\n",
    "        for par in result.parameters.free_parameters:\n",
    "            par_dict[par.name] = par.quantity\n",
    "        results.append(par_dict)"
   ]
  },
  {
   "cell_type": "markdown",
   "metadata": {},
   "source": [
    "We take a look at the distribution of the fitted indices. This matches\n",
    "very well with the spectrum that we initially injected.\n",
    "\n",
    "\n"
   ]
  },
  {
   "cell_type": "code",
<<<<<<< HEAD
   "execution_count": 30,
=======
   "execution_count": 28,
>>>>>>> 33063223db20f9cdd32518b84a0b9f8df0b48b89
   "metadata": {},
   "outputs": [
    {
     "name": "stdout",
     "output_type": "stream",
     "text": [
<<<<<<< HEAD
      "index: 1.9281499869958032 += 0.14434689511047222\n"
=======
      "index: 1.9503703112413318 += 0.15067860988242954\n"
>>>>>>> 33063223db20f9cdd32518b84a0b9f8df0b48b89
     ]
    },
    {
     "data": {
<<<<<<< HEAD
      "image/png": "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\n",
=======
      "image/png": "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\n",
>>>>>>> 33063223db20f9cdd32518b84a0b9f8df0b48b89
      "text/plain": [
       "<Figure size 640x480 with 1 Axes>"
      ]
     },
     "metadata": {},
     "output_type": "display_data"
    }
   ],
   "source": [
    "fig, ax = plt.subplots()\n",
    "index = np.array([_[\"index\"] for _ in results])\n",
    "ax.hist(index, bins=10, alpha=0.5)\n",
    "ax.axvline(x=model_simu.parameters[\"index\"].value, color=\"red\")\n",
    "ax.set_xlabel(\"Reconstructed spectral index\")\n",
    "print(f\"index: {index.mean()} += {index.std()}\")\n",
    "plt.show()"
   ]
  },
  {
   "cell_type": "code",
<<<<<<< HEAD
   "execution_count": 31,
=======
   "execution_count": 29,
   "metadata": {},
   "outputs": [],
   "source": [
    "# fig, ax = plt.subplots()\n",
    "# lambda_ = np.array([_[\"lambda_\"] for _ in results])\n",
    "# ax.hist(index, bins=10, alpha=0.5)\n",
    "# ax.axvline(x=model_simu.parameters[\"lambda_\"].value, color=\"red\")\n",
    "# ax.set_xlabel(\"Reconstructed lambda parameter\")\n",
    "# print(f\"lambda_: {lambda_.mean()} += {lambda_.std()}\")\n",
    "# plt.show()"
   ]
  },
  {
   "cell_type": "code",
   "execution_count": 30,
>>>>>>> 33063223db20f9cdd32518b84a0b9f8df0b48b89
   "metadata": {},
   "outputs": [],
   "source": [
    "fitted_params = Table(results).to_pandas()"
   ]
  },
  {
   "cell_type": "code",
<<<<<<< HEAD
   "execution_count": 32,
=======
   "execution_count": 31,
>>>>>>> 33063223db20f9cdd32518b84a0b9f8df0b48b89
   "metadata": {},
   "outputs": [],
   "source": [
    "mean = fitted_params.mean()\n",
    "uncertainty = fitted_params.std()"
   ]
  },
  {
   "cell_type": "code",
<<<<<<< HEAD
   "execution_count": 33,
=======
   "execution_count": 32,
>>>>>>> 33063223db20f9cdd32518b84a0b9f8df0b48b89
   "metadata": {},
   "outputs": [
    {
     "name": "stdout",
     "output_type": "stream",
     "text": [
<<<<<<< HEAD
      "amplitude :\t 1.06e-12 -+ 1.31e-13\n",
      "index :\t 1.93e+00 -+ 1.48e-01\n",
      "lambda_ :\t 1.37e-01 -+ 6.17e-02\n"
=======
      "amplitude :\t 1.05e-12 -+ 1.48e-13\n",
      "index :\t 1.95e+00 -+ 1.53e-01\n",
      "lambda_ :\t 1.24e-01 -+ 6.10e-02\n"
>>>>>>> 33063223db20f9cdd32518b84a0b9f8df0b48b89
     ]
    }
   ],
   "source": [
    "for name in ['amplitude', 'index', 'lambda_']:\n",
    "    print(f\"{name} :\\t {mean[name]:.2e} -+ {uncertainty[name]:.2e}\")"
   ]
  },
  {
   "cell_type": "code",
<<<<<<< HEAD
   "execution_count": 34,
=======
   "execution_count": 33,
>>>>>>> 33063223db20f9cdd32518b84a0b9f8df0b48b89
   "metadata": {},
   "outputs": [
    {
     "name": "stderr",
     "output_type": "stream",
     "text": [
      "WARNING:root:Pandas support in corner is deprecated; use ArviZ directly\n",
      "WARNING:root:Too few points to create valid contours\n",
      "WARNING:root:Too few points to create valid contours\n",
      "WARNING:root:Too few points to create valid contours\n"
     ]
    },
    {
     "data": {
<<<<<<< HEAD
      "image/png": "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\n",
=======
      "image/png": "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\n",
>>>>>>> 33063223db20f9cdd32518b84a0b9f8df0b48b89
      "text/plain": [
       "<Figure size 760x760 with 9 Axes>"
      ]
     },
     "metadata": {},
     "output_type": "display_data"
    }
   ],
   "source": [
<<<<<<< HEAD
=======
    "import corner\n",
    "\n",
>>>>>>> 33063223db20f9cdd32518b84a0b9f8df0b48b89
    "fitted_params['amplitude'] *= 1e11\n",
    "\n",
    "figure = corner.corner(fitted_params,quantiles=[0.16, 0.5, 0.84],\n",
    "              show_titles=True, title_kwargs={\"fontsize\": 12})"
   ]
  },
  {
   "cell_type": "code",
   "execution_count": null,
   "metadata": {},
   "outputs": [],
   "source": []
  },
  {
   "cell_type": "markdown",
   "metadata": {},
   "source": [
    "<a id='step8'></a>\n",
    "🔝 [Back to Top](#intro)<br>\n",
    "## Step 8: Computing the Flux Points\n",
    "We can now compute some flux points using the `~gammapy.estimators.FluxPointsEstimator`.\n",
    "\n",
    "Besides the list of datasets to use, we must provide it the energy intervals on which to compute flux points as well as the model component name."
   ]
  },
  {
   "cell_type": "code",
<<<<<<< HEAD
   "execution_count": 35,
=======
   "execution_count": 34,
>>>>>>> 33063223db20f9cdd32518b84a0b9f8df0b48b89
   "metadata": {},
   "outputs": [
    {
     "name": "stdout",
     "output_type": "stream",
     "text": [
      "OptimizeResult\n",
      "\n",
      "\tbackend    : minuit\n",
      "\tmethod     : migrad\n",
      "\tsuccess    : True\n",
      "\tmessage    : Optimization terminated successfully..\n",
<<<<<<< HEAD
      "\tnfev       : 61\n",
      "\ttotal stat : 230.02\n",
=======
      "\tnfev       : 54\n",
      "\ttotal stat : 367.20\n",
>>>>>>> 33063223db20f9cdd32518b84a0b9f8df0b48b89
      "\n",
      "CovarianceResult\n",
      "\n",
      "\tbackend    : minuit\n",
      "\tmethod     : hesse\n",
      "\tsuccess    : True\n",
      "\tmessage    : Hesse terminated successfully.\n",
      "\n"
     ]
    }
   ],
   "source": [
    "#Compute flux points\n",
    "datasets.models = [model]\n",
    "\n",
    "# fit_joint = Fit(backend='sherpa')\n",
    "fit_joint = Fit()\n",
    "result_joint = fit_joint.run(datasets=datasets)\n",
    "print(result_joint)"
   ]
  },
  {
   "cell_type": "code",
<<<<<<< HEAD
   "execution_count": 36,
=======
   "execution_count": 35,
>>>>>>> 33063223db20f9cdd32518b84a0b9f8df0b48b89
   "metadata": {},
   "outputs": [
    {
     "name": "stdout",
     "output_type": "stream",
     "text": [
      "[1.00000000e-01 1.77827941e-01 3.16227766e-01 5.62341325e-01\n",
      " 1.00000000e+00 1.77827941e+00 3.16227766e+00 5.62341325e+00\n",
      " 1.00000000e+01 1.77827941e+01 3.16227766e+01 5.62341325e+01\n",
      " 1.00000000e+02] TeV\n"
     ]
    }
   ],
   "source": [
    "energy_edges = MapAxis.from_energy_bounds(\n",
    "    e_edges_min,\n",
    "    e_edges_max, \n",
    "    nbin=12).edges\n",
    "print(energy_edges)"
   ]
  },
  {
   "cell_type": "code",
<<<<<<< HEAD
=======
   "execution_count": 36,
   "metadata": {},
   "outputs": [
    {
     "name": "stdout",
     "output_type": "stream",
     "text": [
      "[1.00000000e-01 1.77827941e-01 3.16227766e-01 5.62341325e-01\n",
      " 1.00000000e+00 1.77827941e+00 3.16227766e+00 5.62341325e+00\n",
      " 1.00000000e+01 1.77827941e+01 3.16227766e+01 5.62341325e+01\n",
      " 1.00000000e+02] TeV\n"
     ]
    }
   ],
   "source": [
    "print(energy_edges)"
   ]
  },
  {
   "cell_type": "code",
>>>>>>> 33063223db20f9cdd32518b84a0b9f8df0b48b89
   "execution_count": 37,
   "metadata": {},
   "outputs": [],
   "source": [
    "fpe = FluxPointsEstimator(\n",
    "    energy_edges=energy_edges, \n",
    "    source=model.name, \n",
    "    selection_optional=\"all\"\n",
    ")\n",
    "flux_points = fpe.run(datasets=datasets)"
   ]
  },
  {
   "cell_type": "code",
   "execution_count": 38,
   "metadata": {},
   "outputs": [],
   "source": [
<<<<<<< HEAD
    "dataset = FluxPointsDataset(\n",
    "    data=flux_points, \n",
    "    models=model, \n",
    "    name=model.name\n",
    ")"
=======
    "dataset = FluxPointsDataset(data=flux_points, models=model, name=model.name)"
>>>>>>> 33063223db20f9cdd32518b84a0b9f8df0b48b89
   ]
  },
  {
   "cell_type": "code",
   "execution_count": 39,
   "metadata": {},
   "outputs": [
    {
<<<<<<< HEAD
     "name": "stdout",
     "output_type": "stream",
     "text": [
      "FluxPointsDataset\n",
      "-----------------\n",
      "\n",
      "  Name                            : source \n",
      "\n",
      "  Number of total flux points     : 12 \n",
      "  Number of fit bins              : 10 \n",
      "\n",
      "  Fit statistic type              : chi2\n",
      "  Fit statistic value (-2 log(L)) : 4.58\n",
      "\n",
      "  Number of models                : 1 \n",
      "  Number of parameters            : 5\n",
      "  Number of free parameters       : 3\n",
      "\n",
      "  Component 0: SkyModel\n",
      "  \n",
      "    Name                      : source\n",
      "    Datasets names            : None\n",
      "    Spectral model type       : ExpCutoffPowerLawSpectralModel\n",
      "    Spatial  model type       : \n",
      "    Temporal model type       : \n",
      "    Parameters:\n",
      "      index                         :      1.959   +/-    0.03             \n",
      "      amplitude                     :   1.03e-12   +/- 3.9e-14 1 / (TeV s cm2)\n",
      "      reference             (frozen):      1.000       TeV         \n",
      "      lambda_                       :      0.116   +/-    0.02 1 / TeV     \n",
      "      alpha                 (frozen):      1.000                   \n",
      "  \n",
      "  \n"
     ]
    }
   ],
   "source": [
    "print(dataset)"
   ]
  },
  {
   "cell_type": "code",
   "execution_count": 40,
   "metadata": {},
   "outputs": [
    {
     "data": {
      "image/png": "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\n",
=======
     "data": {
      "image/png": "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\n",
>>>>>>> 33063223db20f9cdd32518b84a0b9f8df0b48b89
      "text/plain": [
       "<Figure size 640x480 with 1 Axes>"
      ]
     },
     "metadata": {},
     "output_type": "display_data"
    }
   ],
   "source": [
    "ax = plt.subplot()\n",
    "ax.yaxis.set_units(u.Unit(\"erg cm-2 s-1\"))\n",
    "\n",
    "kwargs = {\"ax\": ax, \"sed_type\": \"e2dnde\"}\n",
    "\n",
    "dataset.data.plot(label=dataset.name, **kwargs)\n",
    "energy_bounds = [4e-2, 2e2] * u.TeV\n",
    "model.spectral_model.plot(energy_bounds,label=\"model-simu\",**kwargs)\n",
    "\n",
    "ax.set_ylim(1e-15, 1e-9)\n",
    "ax.set_xlim(energy_bounds)\n",
    "ax.legend(fontsize=9, bbox_to_anchor=(1, 1))\n",
    "plt.show()"
   ]
  },
  {
   "cell_type": "code",
   "execution_count": null,
   "metadata": {},
   "outputs": [],
   "source": []
  },
  {
   "cell_type": "code",
   "execution_count": null,
   "metadata": {},
   "outputs": [],
   "source": []
  },
  {
   "cell_type": "code",
   "execution_count": null,
   "metadata": {},
   "outputs": [],
   "source": []
  }
 ],
 "metadata": {
  "kernelspec": {
   "display_name": "Python 3 (ipykernel)",
   "language": "python",
   "name": "python3"
  },
  "language_info": {
   "codemirror_mode": {
    "name": "ipython",
    "version": 3
   },
   "file_extension": ".py",
   "mimetype": "text/x-python",
   "name": "python",
   "nbconvert_exporter": "python",
   "pygments_lexer": "ipython3",
   "version": "3.9.18"
  }
 },
 "nbformat": 4,
 "nbformat_minor": 1
}
